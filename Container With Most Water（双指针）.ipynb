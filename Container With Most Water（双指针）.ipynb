{
 "cells": [
  {
   "cell_type": "markdown",
   "metadata": {},
   "source": [
    "https://leetcode.com/problems/container-with-most-water/\n",
    "\n",
    "https://github.com/azl397985856/leetcode/blob/master/problems/11.container-with-most-water.md\n",
    "\n",
    "Given n non-negative integers a1, a2, ..., an , where each represents a point at coordinate (i, ai). n vertical lines are drawn such that the two endpoints of line i is at (i, ai) and (i, 0). Find two lines, which together with x-axis forms a container, such that the container contains the most water.\n",
    "\n",
    "Note: You may not slant the container and n is at least 2.\n",
    "\n",
    "Example:\n",
    "\n",
    "Input: [1,8,6,2,5,4,8,3,7]<br>\n",
    "Output: 49"
   ]
  },
  {
   "cell_type": "markdown",
   "metadata": {},
   "source": [
    "### Solution 1\n",
    ">双指针 移动短边\n",
    "\n",
    "Runtime: **104 ms**, faster than 68.71% of Python online submissions for Container With Most Water.<br>\n",
    "Memory Usage: **13.1 MB**, less than 57.63% of Python online submissions for Container With Most Water"
   ]
  },
  {
   "cell_type": "code",
   "execution_count": 2,
   "metadata": {
    "ExecuteTime": {
     "end_time": "2019-09-26T14:22:05.253072Z",
     "start_time": "2019-09-26T14:22:05.244847Z"
    }
   },
   "outputs": [],
   "source": [
    "def maxArea(height):\n",
    "    \"\"\"\n",
    "    :type height: List[int]\n",
    "    :rtype: int\n",
    "    author: chong\n",
    "    \"\"\"\n",
    "    head, tail = 0, len(height)-1,\n",
    "    res = min(height[head], height[tail])*(tail-head)\n",
    "    while head < tail:\n",
    "        if height[head] <= height[tail]:\n",
    "            head += 1\n",
    "            res = max(res, min(height[head], height[tail])*(tail-head))\n",
    "        else:\n",
    "            tail -= 1\n",
    "            res = max(res, min(height[head], height[tail])*(tail-head))\n",
    "    return res"
   ]
  },
  {
   "cell_type": "markdown",
   "metadata": {},
   "source": [
    "### Solution 2\n",
    ">双指针 改进\n",
    "\n",
    "Runtime: **96 ms**, faster than 94.41% of Python online submissions for Container With Most Water.<br>\n",
    "Memory Usage: **13.1 MB**, less than 27.73% of Python online submissions for Container With Most Water"
   ]
  },
  {
   "cell_type": "code",
   "execution_count": 4,
   "metadata": {
    "ExecuteTime": {
     "end_time": "2019-09-26T14:26:26.002129Z",
     "start_time": "2019-09-26T14:26:25.995744Z"
    }
   },
   "outputs": [],
   "source": [
    "def maxArea(height):\n",
    "    L, R, width, res = 0, len(height) - 1, len(height) - 1, 0\n",
    "    for w in range(width, 0, -1):\n",
    "        if height[L] < height[R]:\n",
    "            res, L = max(res, height[L] * w), L + 1\n",
    "        else:\n",
    "            res, R = max(res, height[R] * w), R - 1\n",
    "    return res"
   ]
  },
  {
   "cell_type": "code",
   "execution_count": 5,
   "metadata": {
    "ExecuteTime": {
     "end_time": "2019-09-26T14:26:26.739015Z",
     "start_time": "2019-09-26T14:26:26.731145Z"
    }
   },
   "outputs": [
    {
     "data": {
      "text/plain": [
       "49"
      ]
     },
     "execution_count": 5,
     "metadata": {},
     "output_type": "execute_result"
    }
   ],
   "source": [
    "height=[1,8,6,2,5,4,8,3,7]\n",
    "maxArea(height)"
   ]
  }
 ],
 "metadata": {
  "kernelspec": {
   "display_name": "Python 3",
   "language": "python",
   "name": "python3"
  },
  "language_info": {
   "codemirror_mode": {
    "name": "ipython",
    "version": 3
   },
   "file_extension": ".py",
   "mimetype": "text/x-python",
   "name": "python",
   "nbconvert_exporter": "python",
   "pygments_lexer": "ipython3",
   "version": "3.6.5"
  },
  "varInspector": {
   "cols": {
    "lenName": 16,
    "lenType": 16,
    "lenVar": 40
   },
   "kernels_config": {
    "python": {
     "delete_cmd_postfix": "",
     "delete_cmd_prefix": "del ",
     "library": "var_list.py",
     "varRefreshCmd": "print(var_dic_list())"
    },
    "r": {
     "delete_cmd_postfix": ") ",
     "delete_cmd_prefix": "rm(",
     "library": "var_list.r",
     "varRefreshCmd": "cat(var_dic_list()) "
    }
   },
   "types_to_exclude": [
    "module",
    "function",
    "builtin_function_or_method",
    "instance",
    "_Feature"
   ],
   "window_display": false
  }
 },
 "nbformat": 4,
 "nbformat_minor": 2
}
