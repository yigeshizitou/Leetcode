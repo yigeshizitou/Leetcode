{
 "cells": [
  {
   "cell_type": "markdown",
   "metadata": {},
   "source": [
    "https://leetcode.com/problems/binary-tree-right-side-view\n",
    "\n",
    "https://github.com/azl397985856/leetcode/blob/master/problems/199.binary-tree-right-side-view.md\n",
    "\n",
    "Given a binary tree, imagine yourself standing on the right side of it, return the values of the nodes you can see ordered from top to bottom.\n",
    "\n",
    "Example:\n",
    "\n",
    "Input: [1,2,3,null,5,null,4]<br>\n",
    "Output: [1, 3, 4]<br>\n",
    "Explanation:<br>\n",
    "\n",
    "   1            <---<br>\n",
    " /   \\\n",
    "2     3         <---<br>\n",
    " \\     \\\n",
    "  5     4       <---"
   ]
  },
  {
   "cell_type": "markdown",
   "metadata": {},
   "source": [
    "# Solution 1 堆栈+树的遍历\n",
    ">中+右+左遍历树<br>\n",
    "stack 存储 (node, level), ans 记录答案<br>\n",
    "当 level > len(ans), 找到新层\n",
    "\n",
    "\n",
    "Runtime: **12 ms**, faster than 96.58% of Python online submissions for Binary Tree Right Side View.<br>\n",
    "Memory Usage: **11.7 MB**, less than 67.86% of Python online submissions for Binary Tree Right Side View."
   ]
  },
  {
   "cell_type": "code",
   "execution_count": 1,
   "metadata": {
    "ExecuteTime": {
     "end_time": "2019-11-29T09:23:25.505289Z",
     "start_time": "2019-11-29T09:23:25.500701Z"
    }
   },
   "outputs": [],
   "source": [
    "class Solution(object):\n",
    "    def rightSideView(self, root):\n",
    "        \"\"\"\n",
    "        :type root: TreeNode\n",
    "        :rtype: List[int]\n",
    "        author: chong\n",
    "        \"\"\"\n",
    "        if not root:\n",
    "            return []\n",
    "        stack = [(root, 1)]\n",
    "        ans = []\n",
    "        while stack:\n",
    "            node, level = stack.pop()\n",
    "            if level > len(ans):\n",
    "                ans.append(node.val)\n",
    "            if node.left:\n",
    "                stack.append((node.left, level+1))\n",
    "            if node.right:\n",
    "                stack.append((node.right, level+1))\n",
    "        return ans"
   ]
  },
  {
   "cell_type": "code",
   "execution_count": null,
   "metadata": {},
   "outputs": [],
   "source": []
  }
 ],
 "metadata": {
  "kernelspec": {
   "display_name": "Python 3",
   "language": "python",
   "name": "python3"
  },
  "language_info": {
   "codemirror_mode": {
    "name": "ipython",
    "version": 3
   },
   "file_extension": ".py",
   "mimetype": "text/x-python",
   "name": "python",
   "nbconvert_exporter": "python",
   "pygments_lexer": "ipython3",
   "version": "3.6.5"
  },
  "varInspector": {
   "cols": {
    "lenName": 16,
    "lenType": 16,
    "lenVar": 40
   },
   "kernels_config": {
    "python": {
     "delete_cmd_postfix": "",
     "delete_cmd_prefix": "del ",
     "library": "var_list.py",
     "varRefreshCmd": "print(var_dic_list())"
    },
    "r": {
     "delete_cmd_postfix": ") ",
     "delete_cmd_prefix": "rm(",
     "library": "var_list.r",
     "varRefreshCmd": "cat(var_dic_list()) "
    }
   },
   "types_to_exclude": [
    "module",
    "function",
    "builtin_function_or_method",
    "instance",
    "_Feature"
   ],
   "window_display": false
  }
 },
 "nbformat": 4,
 "nbformat_minor": 2
}
