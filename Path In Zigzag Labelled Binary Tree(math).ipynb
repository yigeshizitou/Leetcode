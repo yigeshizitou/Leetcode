{
 "cells": [
  {
   "cell_type": "markdown",
   "metadata": {},
   "source": [
    "https://leetcode.com/problems/path-in-zigzag-labelled-binary-tree/\n",
    "\n",
    "In an infinite binary tree where every node has two children, the nodes are labelled in row order.\n",
    "\n",
    "In the odd numbered rows (ie., the first, third, fifth,...), the labelling is left to right, while in the even numbered rows (second, fourth, sixth,...), the labelling is right to left.\n",
    "\n",
    "![avatar](https://assets.leetcode.com/uploads/2019/06/24/tree.png)\n",
    "\n",
    "Given the label of a node in this tree, return the labels in the path from the root of the tree to the node with that label.\n",
    "\n",
    " \n",
    "\n",
    "Example 1:\n",
    "\n",
    "Input: label = 14<br>\n",
    "Output: [1,3,4,14]<br>\n",
    "Example 2:\n",
    "\n",
    "Input: label = 26<br>\n",
    "Output: [1,2,6,10,26]"
   ]
  },
  {
   "cell_type": "markdown",
   "metadata": {},
   "source": [
    "### Solution 1 Math\n",
    "> calculate the level and the location and then go up uptil level 0\n",
    "\n",
    "Runtime: **12 ms**, faster than 90.44% of Python online submissions for Path In Zigzag Labelled Binary Tree.<br>\n",
    "Memory Usage: **12 MB**, less than 100.00% of Python online submissions for Path In Zigzag Labelled Binary Tree."
   ]
  },
  {
   "cell_type": "code",
   "execution_count": 45,
   "metadata": {},
   "outputs": [],
   "source": [
    "class Solution(object):\n",
    "    def pathInZigZagTree(self, label):\n",
    "        \"\"\"\n",
    "        :type label: int\n",
    "        :rtype: List[int]\n",
    "        author: Chong\n",
    "        \"\"\"\n",
    "        ans = [label]\n",
    "        level = 0\n",
    "        while 2**(level+1)-1 < label:\n",
    "            level += 1\n",
    "        while level > 0:\n",
    "            loc = (label-2**level)//2 + 1\n",
    "            level -= 1\n",
    "            label = 2**level+2**level-loc \n",
    "            ans = [label]+ans\n",
    "        return ans"
   ]
  },
  {
   "cell_type": "code",
   "execution_count": 46,
   "metadata": {},
   "outputs": [
    {
     "data": {
      "text/plain": [
       "[1, 3, 4, 14]"
      ]
     },
     "execution_count": 46,
     "metadata": {},
     "output_type": "execute_result"
    }
   ],
   "source": [
    "a = Solution()\n",
    "label = 14\n",
    "a.pathInZigZagTree(label)"
   ]
  }
 ],
 "metadata": {
  "kernelspec": {
   "display_name": "Python 3",
   "language": "python",
   "name": "python3"
  },
  "language_info": {
   "codemirror_mode": {
    "name": "ipython",
    "version": 3
   },
   "file_extension": ".py",
   "mimetype": "text/x-python",
   "name": "python",
   "nbconvert_exporter": "python",
   "pygments_lexer": "ipython3",
   "version": "3.6.5"
  }
 },
 "nbformat": 4,
 "nbformat_minor": 2
}
