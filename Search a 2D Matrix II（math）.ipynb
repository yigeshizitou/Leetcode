{
 "cells": [
  {
   "cell_type": "markdown",
   "metadata": {},
   "source": [
    "https://leetcode.com/problems/search-a-2d-matrix-ii/\n",
    "    \n",
    "Write an efficient algorithm that searches for a value in an m x n matrix. This matrix has the following properties:\n",
    "\n",
    "Integers in each row are sorted in ascending from left to right.<br>\n",
    "Integers in each column are sorted in ascending from top to bottom.<br>\n",
    "Example:\n",
    "\n",
    "Consider the following matrix:\n",
    "\n",
    "[<br>\n",
    "  [1,   4,  7, 11, 15],<br>\n",
    "  [2,   5,  8, 12, 19],<br>\n",
    "  [3,   6,  9, 16, 22],<br>\n",
    "  [10, 13, 14, 17, 24],<br>\n",
    "  [18, 21, 23, 26, 30]<br>\n",
    "]<br>\n",
    "Given target = 5, return true.\n",
    "\n",
    "Given target = 20, return false."
   ]
  },
  {
   "cell_type": "markdown",
   "metadata": {},
   "source": [
    "### Solution 1\n",
    ">矩阵降维直接查找\n",
    "\n",
    "Runtime: **228 ms**, faster than 14.63% of Python online submissions for Search a 2D Matrix II.<br>\n",
    "Memory Usage: **15.7 MB**, less than 45.00% of Python online submissions for Search a 2D Matrix II."
   ]
  },
  {
   "cell_type": "code",
   "execution_count": 2,
   "metadata": {
    "ExecuteTime": {
     "end_time": "2019-12-17T21:27:02.559678Z",
     "start_time": "2019-12-17T21:27:02.555229Z"
    }
   },
   "outputs": [],
   "source": [
    "class Solution(object):\n",
    "    def searchMatrix(self, matrix, target):\n",
    "        \"\"\"\n",
    "        :type matrix: List[List[int]]\n",
    "        :type target: int\n",
    "        :rtype: bool\n",
    "        author: Chong\n",
    "        \"\"\"\n",
    "        if not matrix or not matrix[0] or target<matrix[0][0] or target>matrix[-1][-1]:\n",
    "            return False\n",
    "        list_matrix=[]\n",
    "        for i in matrix:\n",
    "            list_matrix+=i\n",
    "        if target in list_matrix:\n",
    "            return True\n",
    "        else:\n",
    "            return False"
   ]
  },
  {
   "cell_type": "markdown",
   "metadata": {},
   "source": [
    "### Solution 2 math\n",
    "> 从右上角开始查找，向下是增大，向左是减小\n",
    "\n",
    "Runtime: **40 ms**, faster than 94.53% of Python online submissions for Search a 2D Matrix II.<br>\n",
    "Memory Usage: **15.8 MB**, less than 10.00% of Python online submissions for Search a 2D Matrix II."
   ]
  },
  {
   "cell_type": "code",
   "execution_count": 1,
   "metadata": {
    "ExecuteTime": {
     "end_time": "2019-12-17T15:27:31.473626Z",
     "start_time": "2019-12-17T15:27:31.468200Z"
    }
   },
   "outputs": [],
   "source": [
    "class Solution(object):\n",
    "    def searchMatrix(self, matrix, target):\n",
    "        \"\"\"\n",
    "        :type matrix: List[List[int]]\n",
    "        :type target: int\n",
    "        :rtype: bool\n",
    "        \"\"\"\n",
    "        if not matrix or not matrix[0] or target < matrix[0][0] or target > matrix[-1][-1]:\n",
    "            return False\n",
    "        i = 0\n",
    "        j = len(matrix[0])-1\n",
    "\n",
    "        while i < len(matrix) and j >= 0:\n",
    "            if matrix[i][j] == target:\n",
    "                return True\n",
    "            elif matrix[i][j] < target:\n",
    "                i += 1\n",
    "            else:\n",
    "                j -= 1\n",
    "        return False"
   ]
  },
  {
   "cell_type": "code",
   "execution_count": null,
   "metadata": {},
   "outputs": [],
   "source": []
  }
 ],
 "metadata": {
  "kernelspec": {
   "display_name": "Python 3",
   "language": "python",
   "name": "python3"
  },
  "language_info": {
   "codemirror_mode": {
    "name": "ipython",
    "version": 3
   },
   "file_extension": ".py",
   "mimetype": "text/x-python",
   "name": "python",
   "nbconvert_exporter": "python",
   "pygments_lexer": "ipython3",
   "version": "3.6.5"
  },
  "varInspector": {
   "cols": {
    "lenName": 16,
    "lenType": 16,
    "lenVar": 40
   },
   "kernels_config": {
    "python": {
     "delete_cmd_postfix": "",
     "delete_cmd_prefix": "del ",
     "library": "var_list.py",
     "varRefreshCmd": "print(var_dic_list())"
    },
    "r": {
     "delete_cmd_postfix": ") ",
     "delete_cmd_prefix": "rm(",
     "library": "var_list.r",
     "varRefreshCmd": "cat(var_dic_list()) "
    }
   },
   "types_to_exclude": [
    "module",
    "function",
    "builtin_function_or_method",
    "instance",
    "_Feature"
   ],
   "window_display": false
  }
 },
 "nbformat": 4,
 "nbformat_minor": 2
}
