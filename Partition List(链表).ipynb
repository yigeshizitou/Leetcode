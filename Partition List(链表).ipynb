{
 "cells": [
  {
   "cell_type": "markdown",
   "metadata": {},
   "source": [
    "https://leetcode.com/problems/partition-list/\n",
    "\n",
    "https://github.com/azl397985856/leetcode/blob/master/problems/86.partition-list.md\n",
    "\n",
    "Given a linked list and a value x, partition it such that all nodes less than x come before nodes greater than or equal to x.\n",
    "\n",
    "You should preserve the original relative order of the nodes in each of the two partitions.\n",
    "\n",
    "Example:\n",
    "\n",
    "Input: head = 1->4->3->2->5->2, x = 3<br>\n",
    "Output: 1->2->2->4->3->5"
   ]
  },
  {
   "cell_type": "markdown",
   "metadata": {},
   "source": [
    "### Solution 1\n",
    ">从head开始遍历<br>\n",
    "small存比x小的节点<br>\n",
    "big存比x大的节点<br>\n",
    "把small和big拼接在一起\n",
    "\n",
    "![avatar](https://github.com/azl397985856/leetcode/raw/master/assets/86.partition-list.gif)\n",
    "\n",
    "Runtime: 20 ms, faster than **75.38%** of Python online submissions for Partition List.<br>\n",
    "Memory Usage: **11.9 MB**, less than 25.00% of Python online submissions for Partition List."
   ]
  },
  {
   "cell_type": "code",
   "execution_count": 1,
   "metadata": {
    "ExecuteTime": {
     "end_time": "2019-10-22T08:40:26.456286Z",
     "start_time": "2019-10-22T08:40:26.451227Z"
    }
   },
   "outputs": [],
   "source": [
    "class Solution(object):\n",
    "    def partition(self, head, x):\n",
    "        \"\"\"\n",
    "        :type head: ListNode\n",
    "        :type x: int\n",
    "        :rtype: ListNode\n",
    "        author ： Chong\n",
    "        \"\"\"\n",
    "        big = l = ListNode(None)\n",
    "        small = s = ListNode(None)\n",
    "        while head:\n",
    "            if head.val >= x:\n",
    "                l.next = ListNode(head.val)\n",
    "                l = l.next\n",
    "            else:\n",
    "                s.next = ListNode(head.val)\n",
    "                s = s.next\n",
    "            head = head.next\n",
    "        s.next = big.next\n",
    "        return small.next"
   ]
  },
  {
   "cell_type": "markdown",
   "metadata": {},
   "source": [
    "### Solution 2\n",
    ">不直接拼接节点数值，而是直接处理节点<br>\n",
    "最后big = big.next\n",
    "\n",
    "Runtime: 16 ms, faster than **92.69%** of Python online submissions for Partition List.<br>\n",
    "Memory Usage: **12 MB**, less than 25.00% of Python online submissions for Partition List."
   ]
  },
  {
   "cell_type": "code",
   "execution_count": 2,
   "metadata": {
    "ExecuteTime": {
     "end_time": "2019-10-22T08:46:33.466844Z",
     "start_time": "2019-10-22T08:46:33.461030Z"
    }
   },
   "outputs": [],
   "source": [
    "class Solution(object):\n",
    "    def partition(self, head, x):\n",
    "        \"\"\"\n",
    "        :type head: ListNode\n",
    "        :type x: int\n",
    "        :rtype: ListNode\n",
    "        \"\"\"\n",
    "        h1 = l1 = ListNode(0)\n",
    "        h2 = l2 = ListNode(0)\n",
    "        while head:\n",
    "            if head.val < x:\n",
    "                l1.next = head\n",
    "                l1 = l1.next\n",
    "            else:\n",
    "                l2.next = head\n",
    "                l2 = l2.next\n",
    "            head = head.next\n",
    "        l2.next = None\n",
    "        l1.next = h2.next\n",
    "        return h1.next"
   ]
  },
  {
   "cell_type": "code",
   "execution_count": null,
   "metadata": {},
   "outputs": [],
   "source": []
  }
 ],
 "metadata": {
  "kernelspec": {
   "display_name": "Python 3",
   "language": "python",
   "name": "python3"
  },
  "language_info": {
   "codemirror_mode": {
    "name": "ipython",
    "version": 3
   },
   "file_extension": ".py",
   "mimetype": "text/x-python",
   "name": "python",
   "nbconvert_exporter": "python",
   "pygments_lexer": "ipython3",
   "version": "3.6.5"
  },
  "varInspector": {
   "cols": {
    "lenName": 16,
    "lenType": 16,
    "lenVar": 40
   },
   "kernels_config": {
    "python": {
     "delete_cmd_postfix": "",
     "delete_cmd_prefix": "del ",
     "library": "var_list.py",
     "varRefreshCmd": "print(var_dic_list())"
    },
    "r": {
     "delete_cmd_postfix": ") ",
     "delete_cmd_prefix": "rm(",
     "library": "var_list.r",
     "varRefreshCmd": "cat(var_dic_list()) "
    }
   },
   "types_to_exclude": [
    "module",
    "function",
    "builtin_function_or_method",
    "instance",
    "_Feature"
   ],
   "window_display": false
  }
 },
 "nbformat": 4,
 "nbformat_minor": 2
}
