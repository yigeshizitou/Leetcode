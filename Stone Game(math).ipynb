{
 "cells": [
  {
   "cell_type": "markdown",
   "metadata": {},
   "source": [
    "https://leetcode.com/problems/stone-game/\n",
    "\n",
    "Alex and Lee play a game with piles of stones.  There are an even number of piles arranged in a row, and each pile has a positive integer number of stones piles[i].\n",
    "\n",
    "The objective of the game is to end with the most stones.  The total number of stones is odd, so there are no ties.\n",
    "\n",
    "Alex and Lee take turns, with Alex starting first.  Each turn, a player takes the entire pile of stones from either the beginning or the end of the row.  This continues until there are no more piles left, at which point the person with the most stones wins.\n",
    "\n",
    "Assuming Alex and Lee play optimally, return True if and only if Alex wins the game.\n",
    "\n",
    " \n",
    "\n",
    "Example 1:\n",
    "\n",
    "Input: [5,3,4,5]<br>\n",
    "Output: true<br>\n",
    "Explanation: <br>\n",
    "Alex starts first, and can only take the first 5 or the last 5.<br>\n",
    "Say he takes the first 5, so that the row becomes [3, 4, 5].<br>\n",
    "If Lee takes 3, then the board is [4, 5], and Alex takes 5 to win with 10 points.<br>\n",
    "If Lee takes the last 5, then the board is [3, 4], and Alex takes 4 to win with 9 points.<br>\n",
    "This demonstrated that taking the first 5 was a winning move for Alex, so we return true."
   ]
  },
  {
   "cell_type": "markdown",
   "metadata": {},
   "source": [
    "### Solution 1 \n",
    "> The one starts first wins.\n",
    "\n",
    "Runtime: **12 ms**, faster than 99.47% of Python online submissions for Stone Game.<br>\n",
    "Memory Usage: **11.7 MB**, less than 33.33% of Python online submissions for Stone Game."
   ]
  },
  {
   "cell_type": "code",
   "execution_count": 1,
   "metadata": {},
   "outputs": [],
   "source": [
    "class Solution(object):\n",
    "    def stoneGame(self, piles):\n",
    "        \"\"\"\n",
    "        :type piles: List[int]\n",
    "        :rtype: bool\n",
    "        author: Chong\n",
    "        \"\"\"\n",
    "        return True"
   ]
  },
  {
   "cell_type": "markdown",
   "metadata": {},
   "source": []
  },
  {
   "cell_type": "code",
   "execution_count": null,
   "metadata": {},
   "outputs": [],
   "source": [
    "class Solution(object):\n",
    "    def stoneGame(self, piles):\n",
    "        \"\"\"\n",
    "        :type piles: List[int]\n",
    "        :rtype: bool\n",
    "        \"\"\"\n",
    "        "
   ]
  },
  {
   "cell_type": "code",
   "execution_count": 2,
   "metadata": {},
   "outputs": [
    {
     "data": {
      "text/plain": [
       "True"
      ]
     },
     "execution_count": 2,
     "metadata": {},
     "output_type": "execute_result"
    }
   ],
   "source": [
    "a = Solution()\n",
    "piles = [5,3,4,5]\n",
    "a.stoneGame(piles)"
   ]
  },
  {
   "cell_type": "code",
   "execution_count": null,
   "metadata": {},
   "outputs": [],
   "source": []
  }
 ],
 "metadata": {
  "kernelspec": {
   "display_name": "Python 3",
   "language": "python",
   "name": "python3"
  },
  "language_info": {
   "codemirror_mode": {
    "name": "ipython",
    "version": 3
   },
   "file_extension": ".py",
   "mimetype": "text/x-python",
   "name": "python",
   "nbconvert_exporter": "python",
   "pygments_lexer": "ipython3",
   "version": "3.6.5"
  }
 },
 "nbformat": 4,
 "nbformat_minor": 2
}
