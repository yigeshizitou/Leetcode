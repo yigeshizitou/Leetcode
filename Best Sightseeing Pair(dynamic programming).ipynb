{
 "cells": [
  {
   "cell_type": "markdown",
   "metadata": {},
   "source": [
    "https://leetcode.com/problems/best-sightseeing-pair/\n",
    "\n",
    "Given an array A of positive integers, A[i] represents the value of the i-th sightseeing spot, and two sightseeing spots i and j have distance j - i between them.\n",
    "\n",
    "The score of a pair (i < j) of sightseeing spots is (A[i] + A[j] + i - j) : the sum of the values of the sightseeing spots, minus the distance between them.\n",
    "\n",
    "Return the maximum score of a pair of sightseeing spots.\n",
    "\n",
    " \n",
    "\n",
    "Example 1:\n",
    "\n",
    "Input: [8,1,5,2,6]<br>\n",
    "Output: 11<br>\n",
    "Explanation: i = 0, j = 2, A[i] + A[j] + i - j = 8 + 5 + 0 - 2 = 11"
   ]
  },
  {
   "cell_type": "markdown",
   "metadata": {},
   "source": [
    "### Solution 1 dynamic programming \n",
    "\n",
    "> ans = A[left] + A[right] + left - right = (A[left] + left) + (A[right] - right)<br>\n",
    "we use dp[i] to record the maximum A[i] + i in list A[:i+1]\n",
    "\n",
    "Runtime: **412 ms**, faster than 90.91% of Python online submissions for Best Sightseeing Pair.<br>\n",
    "Memory Usage: **16.5 MB**, less than 50.00% of Python online submissions for Best Sightseeing Pair."
   ]
  },
  {
   "cell_type": "code",
   "execution_count": 51,
   "metadata": {},
   "outputs": [],
   "source": [
    "class Solution(object):\n",
    "    def maxScoreSightseeingPair(self, A):\n",
    "        \"\"\"\n",
    "        :type A: List[int]\n",
    "        :rtype: int\n",
    "        \"\"\"\n",
    "        dp = [0] * (len(A) + 1)\n",
    "        ans = 0\n",
    "        for i in range(0,len(A)):\n",
    "            dp[i+1] = dp[i] if dp[i] > A[i] + i else A[i] + i\n",
    "            ans = ans if ans > dp[i] + A[i] - i else dp[i] + A[i] - i\n",
    "        return ans"
   ]
  },
  {
   "cell_type": "code",
   "execution_count": 52,
   "metadata": {},
   "outputs": [
    {
     "name": "stdout",
     "output_type": "stream",
     "text": [
      "[0, 8, 8, 8, 8, 10]\n"
     ]
    },
    {
     "data": {
      "text/plain": [
       "11"
      ]
     },
     "execution_count": 52,
     "metadata": {},
     "output_type": "execute_result"
    }
   ],
   "source": [
    "a= Solution()\n",
    "A = [8,1,5,2,6]\n",
    "a.maxScoreSightseeingPair(A)"
   ]
  }
 ],
 "metadata": {
  "kernelspec": {
   "display_name": "Python 3",
   "language": "python",
   "name": "python3"
  },
  "language_info": {
   "codemirror_mode": {
    "name": "ipython",
    "version": 3
   },
   "file_extension": ".py",
   "mimetype": "text/x-python",
   "name": "python",
   "nbconvert_exporter": "python",
   "pygments_lexer": "ipython3",
   "version": "3.6.5"
  }
 },
 "nbformat": 4,
 "nbformat_minor": 2
}
