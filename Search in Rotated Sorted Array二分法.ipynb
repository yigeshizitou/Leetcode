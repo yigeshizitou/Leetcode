{
 "cells": [
  {
   "cell_type": "markdown",
   "metadata": {},
   "source": [
    "https://leetcode.com/problems/search-in-rotated-sorted-array/\n",
    "\n",
    "https://github.com/azl397985856/leetcode/blob/master/problems/33.search-in-rotated-sorted-array.md\n",
    "\n",
    "Suppose an array sorted in ascending order is rotated at some pivot unknown to you beforehand.\n",
    "\n",
    "(i.e., [0,1,2,4,5,6,7] might become [4,5,6,7,0,1,2]).\n",
    "\n",
    "You are given a target value to search. If found in the array return its index, otherwise return -1.\n",
    "\n",
    "You may assume no duplicate exists in the array.\n",
    "\n",
    "Your algorithm's runtime complexity must be in the order of O(log n).\n",
    "\n",
    "Example 1:\n",
    "\n",
    "Input: nums = [4,5,6,7,0,1,2], target = 0<br>\n",
    "Output: 4\n",
    "\n",
    "Example 2:\n",
    "\n",
    "Input: nums = [4,5,6,7,0,1,2], target = 3<br>\n",
    "Output: -1"
   ]
  },
  {
   "cell_type": "markdown",
   "metadata": {},
   "source": [
    "### solution 1\n",
    ">index函数\n",
    "\n",
    "Runtime: **32 ms**, faster than 30.86% of Python online submissions for Search in Rotated Sorted Array.<br>\n",
    "Memory Usage: **12.1 MB**, less than 10.20% of Python online submissions for Search in Rotated Sorted Array."
   ]
  },
  {
   "cell_type": "code",
   "execution_count": 1,
   "metadata": {
    "ExecuteTime": {
     "end_time": "2019-10-03T21:17:57.669863Z",
     "start_time": "2019-10-03T21:17:57.666340Z"
    }
   },
   "outputs": [],
   "source": [
    "def search(self, nums, target):\n",
    "    \"\"\"\n",
    "    :type nums: List[int]\n",
    "    :type target: int\n",
    "    :rtype: int\n",
    "    author: Chong\n",
    "    \"\"\"\n",
    "    if target not in nums:\n",
    "        return -1\n",
    "    else:\n",
    "        return nums.index(target)"
   ]
  },
  {
   "cell_type": "markdown",
   "metadata": {},
   "source": [
    "### solution 2\n",
    ">循环找index\n",
    "\n",
    "Runtime: **24 ms**, faster than 85.65% of Python online submissions for Search in Rotated Sorted Array.<br>\n",
    "Memory Usage: **12 MB**, less than 48.98%  of Python online submissions for Search in Rotated Sorted Array."
   ]
  },
  {
   "cell_type": "code",
   "execution_count": null,
   "metadata": {},
   "outputs": [],
   "source": [
    "def search(self, nums, target):\n",
    "    \"\"\"\n",
    "    :type nums: List[int]\n",
    "    :type target: int\n",
    "    :rtype: int\n",
    "    author: Chong\n",
    "    \"\"\"\n",
    "    if target not in nums:\n",
    "        return -1\n",
    "    else:\n",
    "        for i in range(len(nums)):\n",
    "            if nums[i] == target:\n",
    "                return i"
   ]
  },
  {
   "cell_type": "markdown",
   "metadata": {},
   "source": [
    "### solution 3\n",
    ">二分法\n",
    "\n",
    "Runtime: **24 ms**, faster than 85.65% of Python online submissions for Search in Rotated Sorted Array.<br>\n",
    "Memory Usage: **12.1 MB**, less than 12.25%  of Python online submissions for Search in Rotated Sorted Array."
   ]
  },
  {
   "cell_type": "code",
   "execution_count": 176,
   "metadata": {
    "ExecuteTime": {
     "end_time": "2019-10-05T15:03:16.841100Z",
     "start_time": "2019-10-05T15:03:16.836113Z"
    }
   },
   "outputs": [],
   "source": [
    "def search(nums, target):\n",
    "    \"\"\"\n",
    "    :type nums: List[int]\n",
    "    :type target: int\n",
    "    :rtype: int\n",
    "    author: Chong\n",
    "    \"\"\"\n",
    "    if not nums:\n",
    "        return -1\n",
    "    left, right = 0, len(nums)-1\n",
    "    mid = (left+right)//2\n",
    "    while right-left > 2:\n",
    "\n",
    "        if nums[mid] == target:\n",
    "            return mid\n",
    "        elif nums[mid] > nums[left]:\n",
    "            if nums[left] <= target and nums[mid] >= target:\n",
    "                right = mid\n",
    "            else:\n",
    "                left = mid+1\n",
    "        else:\n",
    "            if nums[right] >= target and nums[mid] <= target:\n",
    "                left = mid\n",
    "            else:\n",
    "                right = mid - 1\n",
    "        mid = (left+right)//2\n",
    "\n",
    "    if nums[left] == target:\n",
    "        return left\n",
    "    elif nums[right] == target:\n",
    "        return right\n",
    "    elif nums[mid] == target:\n",
    "        return mid\n",
    "    else:\n",
    "        return -1"
   ]
  },
  {
   "cell_type": "markdown",
   "metadata": {},
   "source": [
    "### solution 4\n",
    ">二分法\n",
    "\n",
    "Runtime: **24 ms**, faster than 85.65% of Python online submissions for Search in Rotated Sorted Array.<br>\n",
    "Memory Usage: **11.9 MB**, less than 75.51%  of Python online submissions for Search in Rotated Sorted Array."
   ]
  },
  {
   "cell_type": "code",
   "execution_count": 186,
   "metadata": {
    "ExecuteTime": {
     "end_time": "2019-10-05T15:05:15.436027Z",
     "start_time": "2019-10-05T15:05:15.431040Z"
    }
   },
   "outputs": [],
   "source": [
    "def search(nums, target):\n",
    "    \"\"\"\n",
    "    :type nums: List[int]\n",
    "    :type target: int\n",
    "    :rtype: int\n",
    "    \"\"\"\n",
    "    if not nums:\n",
    "        return -1\n",
    "\n",
    "    low, high = 0, len(nums) - 1\n",
    "\n",
    "    while low <= high:\n",
    "        mid = (low + high) // 2\n",
    "        if target == nums[mid]:\n",
    "            return mid\n",
    "\n",
    "        if nums[low] <= nums[mid]:\n",
    "            if nums[low] <= target <= nums[mid]:\n",
    "                high = mid - 1\n",
    "            else:\n",
    "                low = mid + 1\n",
    "        else:\n",
    "            if nums[mid] <= target <= nums[high]:\n",
    "                low = mid + 1\n",
    "            else:\n",
    "                high = mid - 1\n",
    "\n",
    "    return -1"
   ]
  },
  {
   "cell_type": "code",
   "execution_count": 187,
   "metadata": {
    "ExecuteTime": {
     "end_time": "2019-10-05T15:05:15.812273Z",
     "start_time": "2019-10-05T15:05:15.808248Z"
    }
   },
   "outputs": [],
   "source": [
    "nums = [4,5,6,7,0,1,2]\n",
    "target = 5"
   ]
  },
  {
   "cell_type": "code",
   "execution_count": 188,
   "metadata": {
    "ExecuteTime": {
     "end_time": "2019-10-05T15:05:16.849438Z",
     "start_time": "2019-10-05T15:05:16.846496Z"
    },
    "scrolled": false
   },
   "outputs": [
    {
     "data": {
      "text/plain": [
       "1"
      ]
     },
     "execution_count": 188,
     "metadata": {},
     "output_type": "execute_result"
    }
   ],
   "source": [
    "search(nums, target)"
   ]
  },
  {
   "cell_type": "code",
   "execution_count": 179,
   "metadata": {
    "ExecuteTime": {
     "end_time": "2019-10-05T15:04:42.709003Z",
     "start_time": "2019-10-05T15:04:42.704017Z"
    }
   },
   "outputs": [],
   "source": []
  },
  {
   "cell_type": "code",
   "execution_count": null,
   "metadata": {},
   "outputs": [],
   "source": []
  }
 ],
 "metadata": {
  "kernelspec": {
   "display_name": "Python 3",
   "language": "python",
   "name": "python3"
  },
  "language_info": {
   "codemirror_mode": {
    "name": "ipython",
    "version": 3
   },
   "file_extension": ".py",
   "mimetype": "text/x-python",
   "name": "python",
   "nbconvert_exporter": "python",
   "pygments_lexer": "ipython3",
   "version": "3.6.5"
  },
  "varInspector": {
   "cols": {
    "lenName": 16,
    "lenType": 16,
    "lenVar": 40
   },
   "kernels_config": {
    "python": {
     "delete_cmd_postfix": "",
     "delete_cmd_prefix": "del ",
     "library": "var_list.py",
     "varRefreshCmd": "print(var_dic_list())"
    },
    "r": {
     "delete_cmd_postfix": ") ",
     "delete_cmd_prefix": "rm(",
     "library": "var_list.r",
     "varRefreshCmd": "cat(var_dic_list()) "
    }
   },
   "types_to_exclude": [
    "module",
    "function",
    "builtin_function_or_method",
    "instance",
    "_Feature"
   ],
   "window_display": true
  }
 },
 "nbformat": 4,
 "nbformat_minor": 2
}
