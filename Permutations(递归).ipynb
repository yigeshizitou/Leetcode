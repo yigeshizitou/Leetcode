{
 "cells": [
  {
   "cell_type": "markdown",
   "metadata": {},
   "source": [
    "https://leetcode.com/problems/permutations/description/\n",
    "\n",
    "https://github.com/azl397985856/leetcode/blob/master/problems/46.permutations.md\n",
    "\n",
    "Given a collection of distinct integers, return all possible permutations.\n",
    "\n",
    "Example:\n",
    "\n",
    "Input: [1,2,3]<br>\n",
    "Output:<br>\n",
    "[<br>\n",
    "  [1,2,3],<br>\n",
    "  [1,3,2],<br>\n",
    "  [2,1,3],<br>\n",
    "  [2,3,1],<br>\n",
    "  [3,1,2],<br>\n",
    "  [3,2,1]<br>\n",
    "]"
   ]
  },
  {
   "cell_type": "markdown",
   "metadata": {},
   "source": [
    "### Solution 1\n",
    "\n",
    ">回溯\n",
    "\n",
    "Runtime: **24 ms**, faster than 85.83% of Python online submissions for Permutations.<br>\n",
    "Memory Usage: **11.9 MB**, less than 74.00% of Python online submissions for Permutations."
   ]
  },
  {
   "cell_type": "code",
   "execution_count": 95,
   "metadata": {
    "ExecuteTime": {
     "end_time": "2019-10-08T21:09:46.325377Z",
     "start_time": "2019-10-08T21:09:46.321375Z"
    }
   },
   "outputs": [],
   "source": [
    "class Solution(object):\n",
    "    def permute(self, nums):\n",
    "        \"\"\"\n",
    "        :type nums: List[int]\n",
    "        :rtype: List[List[int]]\n",
    "        author: Chong\n",
    "        \"\"\"\n",
    "        self.ans = []\n",
    "        self.length = len(nums)\n",
    "\n",
    "        def dfs(sublist, path):\n",
    "            if len(path) == self.length:\n",
    "                self.ans.append(path[:])\n",
    "\n",
    "            for i in range(len(sublist)):\n",
    "                if len(path) == self.length:\n",
    "                    path = []\n",
    "                path.append(sublist[i])\n",
    "                subsublist = sublist[:i]+sublist[i+1:len(sublist)]\n",
    "                dfs(subsublist, path)\n",
    "                path.pop()\n",
    "        dfs(nums, [])\n",
    "        return self.ans"
   ]
  },
  {
   "cell_type": "markdown",
   "metadata": {},
   "source": [
    "### Solution 2\n",
    "\n",
    ">递归\n",
    "\n",
    "Runtime: **28 ms**, faster than 61.32% of Python online submissions for Permutations.<br>\n",
    "Memory Usage: **11.9 MB**, less than 80.00% of Python online submissions for Permutations."
   ]
  },
  {
   "cell_type": "code",
   "execution_count": 86,
   "metadata": {
    "ExecuteTime": {
     "end_time": "2019-10-08T21:04:10.757761Z",
     "start_time": "2019-10-08T21:04:10.752761Z"
    }
   },
   "outputs": [],
   "source": [
    "class Solution(object):\n",
    "    def permute(self, nums):\n",
    "        res = []\n",
    "        self.dfs(nums, [], res)\n",
    "        return res\n",
    "\n",
    "    def dfs(self, nums, path, res):\n",
    "        if not nums:\n",
    "            res.append(path)\n",
    "\n",
    "        for i in range(len(nums)):\n",
    "            self.dfs(nums[:i]+nums[i+1:], path+[nums[i]], res)"
   ]
  },
  {
   "cell_type": "markdown",
   "metadata": {},
   "source": [
    "### Solution 3\n",
    "\n",
    ">递归+enumerate<br>\n",
    "Take any number as the first number and append any permutation of the other numbers.\n",
    "\n",
    "Runtime: **20 ms**, faster than 96.54% of Python online submissions for Permutations.<br>\n",
    "Memory Usage: **11.8 MB**, less than 82.00% of Python online submissions for Permutations."
   ]
  },
  {
   "cell_type": "code",
   "execution_count": 89,
   "metadata": {
    "ExecuteTime": {
     "end_time": "2019-10-08T21:06:17.337813Z",
     "start_time": "2019-10-08T21:06:17.331774Z"
    }
   },
   "outputs": [],
   "source": [
    "class Solution(object):\n",
    "    def permute(self, nums):\n",
    "        return [[n] + p\n",
    "                for i, n in enumerate(nums)\n",
    "                for p in self.permute(nums[:i] + nums[i+1:])] or [[]]"
   ]
  },
  {
   "cell_type": "markdown",
   "metadata": {},
   "source": [
    "### Solution 4\n",
    "\n",
    ">递归+enumerate<br>\n",
    "Insert the first number anywhere in any permutation of the remaining numbers.\n",
    "\n",
    "Runtime: **20 ms**, faster than 96.54% of Python online submissions for Permutations.<br>\n",
    "Memory Usage: **11.8 MB**, less than 84.00% of Python online submissions for Permutations."
   ]
  },
  {
   "cell_type": "code",
   "execution_count": 92,
   "metadata": {
    "ExecuteTime": {
     "end_time": "2019-10-08T21:08:33.882034Z",
     "start_time": "2019-10-08T21:08:33.873034Z"
    }
   },
   "outputs": [],
   "source": [
    "class Solution(object):\n",
    "    def permute(self, nums):\n",
    "        return nums and [p[:i] + [nums[0]] + p[i:]\n",
    "                         for p in self.permute(nums[1:])\n",
    "                         for i in range(len(nums))] or [[]]"
   ]
  },
  {
   "cell_type": "code",
   "execution_count": 93,
   "metadata": {
    "ExecuteTime": {
     "end_time": "2019-10-08T21:08:34.258368Z",
     "start_time": "2019-10-08T21:08:34.254369Z"
    }
   },
   "outputs": [],
   "source": [
    "a= Solution()"
   ]
  },
  {
   "cell_type": "code",
   "execution_count": 94,
   "metadata": {
    "ExecuteTime": {
     "end_time": "2019-10-08T21:08:34.549921Z",
     "start_time": "2019-10-08T21:08:34.544921Z"
    }
   },
   "outputs": [
    {
     "data": {
      "text/plain": [
       "[[1, 2, 3], [2, 1, 3], [2, 3, 1], [1, 3, 2], [3, 1, 2], [3, 2, 1]]"
      ]
     },
     "execution_count": 94,
     "metadata": {},
     "output_type": "execute_result"
    }
   ],
   "source": [
    "nums=[1,2,3]\n",
    "a.permute(nums)"
   ]
  }
 ],
 "metadata": {
  "kernelspec": {
   "display_name": "Python 3",
   "language": "python",
   "name": "python3"
  },
  "language_info": {
   "codemirror_mode": {
    "name": "ipython",
    "version": 3
   },
   "file_extension": ".py",
   "mimetype": "text/x-python",
   "name": "python",
   "nbconvert_exporter": "python",
   "pygments_lexer": "ipython3",
   "version": "3.6.5"
  },
  "varInspector": {
   "cols": {
    "lenName": 16,
    "lenType": 16,
    "lenVar": 40
   },
   "kernels_config": {
    "python": {
     "delete_cmd_postfix": "",
     "delete_cmd_prefix": "del ",
     "library": "var_list.py",
     "varRefreshCmd": "print(var_dic_list())"
    },
    "r": {
     "delete_cmd_postfix": ") ",
     "delete_cmd_prefix": "rm(",
     "library": "var_list.r",
     "varRefreshCmd": "cat(var_dic_list()) "
    }
   },
   "types_to_exclude": [
    "module",
    "function",
    "builtin_function_or_method",
    "instance",
    "_Feature"
   ],
   "window_display": false
  }
 },
 "nbformat": 4,
 "nbformat_minor": 2
}
