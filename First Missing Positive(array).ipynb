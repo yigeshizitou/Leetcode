{
 "cells": [
  {
   "cell_type": "markdown",
   "metadata": {},
   "source": [
    "https://leetcode.com/problems/first-missing-positive/\n",
    "\n",
    "https://www.cnblogs.com/clnchanpin/p/6727065.html\n",
    "\n",
    "Given an unsorted integer array, find the smallest missing positive integer.\n",
    "\n",
    "Example 1:\n",
    "\n",
    "Input: [1,2,0]<br>\n",
    "Output: 3<br>\n",
    "Example 2:\n",
    "\n",
    "Input: [3,4,-1,1]<br>\n",
    "Output: 2<br>\n",
    "Example 3:\n",
    "\n",
    "Input: [7,8,9,11,12]<br>\n",
    "Output: 1"
   ]
  },
  {
   "cell_type": "markdown",
   "metadata": {},
   "source": [
    "### Solution 1 Array\n",
    "> sort at first\n",
    "\n",
    "Runtime: **24 ms**, faster than 57.58% of Python online submissions for First Missing Positive.<br>\n",
    "Memory Usage: **11.7 MB**, less than 79.41% of Python online submissions for First Missing Positive."
   ]
  },
  {
   "cell_type": "code",
   "execution_count": 39,
   "metadata": {},
   "outputs": [],
   "source": [
    "class Solution(object):\n",
    "    def firstMissingPositive(self, nums):\n",
    "        \"\"\"\n",
    "        :type nums: List[int]\n",
    "        :rtype: int\n",
    "        author: Chong\n",
    "        \"\"\"\n",
    "        if not nums: return 1\n",
    "        nums = sorted(nums)\n",
    "        min_nums = max(nums)\n",
    "        while nums:\n",
    "            if nums[0] <= 0:\n",
    "                nums.pop(0)\n",
    "            else:\n",
    "                break\n",
    "        if not nums: return 1\n",
    "        if nums[0] > 1:\n",
    "            return 1\n",
    "        i = 0\n",
    "        while i<len(nums)-1 and nums[i+1] <= nums[i] + 1:\n",
    "            i += 1\n",
    "        return nums[i] + 1"
   ]
  },
  {
   "cell_type": "markdown",
   "metadata": {},
   "source": [
    "### Solution 2 Array\n",
    "> sort at first but improve update rule of result\n",
    "\n",
    "Runtime: **20 ms**, faster than 83.30% of Python online submissions for First Missing Positive.<br>\n",
    "Memory Usage: **11.9 MB**, less than 11.76% of Python online submissions for First Missing Positive."
   ]
  },
  {
   "cell_type": "code",
   "execution_count": 43,
   "metadata": {},
   "outputs": [],
   "source": [
    "class Solution(object):\n",
    "    def firstMissingPositive(self, nums):\n",
    "        \"\"\"\n",
    "        :type nums: List[int]\n",
    "        :rtype: int\n",
    "        \"\"\"\n",
    "        nums = sorted(nums)\n",
    "        res = 1\n",
    "        for num in nums:\n",
    "            if num == res:\n",
    "                res += 1\n",
    "        return res"
   ]
  },
  {
   "cell_type": "markdown",
   "metadata": {},
   "source": [
    "### Solution 3 selection sort + array\n",
    "\n",
    "Runtime: **28 ms**, faster than 23.89% of Python online submissions for First Missing Positive.<br>\n",
    "Memory Usage: **11.8 MB**, less than 20.59% of Python online submissions for First Missing Positive."
   ]
  },
  {
   "cell_type": "code",
   "execution_count": 44,
   "metadata": {},
   "outputs": [],
   "source": [
    "class Solution(object):\n",
    "    def firstMissingPositive(self, nums):\n",
    "        \"\"\"\n",
    "        :type nums: List[int]\n",
    "        :rtype: int\n",
    "        \"\"\"\n",
    "        for i in range(len(nums)):\n",
    "            min_temp = nums[i]\n",
    "            for j in range(i+1, len(nums)):\n",
    "                if nums[j] < min_temp:\n",
    "                    min_temp = nums[j]\n",
    "                    nums[i], nums[j] = nums[j], nums[i]\n",
    "        res = 1\n",
    "        for num in nums:\n",
    "            if num == res:\n",
    "                res += 1\n",
    "        return res"
   ]
  },
  {
   "cell_type": "markdown",
   "metadata": {},
   "source": [
    "### Solution 4 \n",
    "\n",
    ">交换数组元素。使得数组中第i位存放数值(i+1)\n",
    "\n",
    "Runtime: **20 ms**, faster than 83.30% of Python online submissions for First Missing Positive.<br>\n",
    "Memory Usage: **11.8 MB**, less than 20.59% of Python online submissions for First Missing Positive."
   ]
  },
  {
   "cell_type": "code",
   "execution_count": 73,
   "metadata": {},
   "outputs": [],
   "source": [
    "class Solution(object):\n",
    "    def firstMissingPositive(self, nums):\n",
    "        \"\"\"\n",
    "        :type nums: List[int]\n",
    "        :rtype: int\n",
    "        \"\"\"\n",
    "        for i in range(len(nums)):\n",
    "            while  0<=nums[i]-1<len(nums) and nums[nums[i]-1] != nums[i]:\n",
    "                tmp = nums[i]-1\n",
    "                nums[tmp], nums[i] = nums[i], nums[tmp]\n",
    "        for i in range(len(nums)):\n",
    "            if nums[i] != i+1:\n",
    "                return i+1\n",
    "        return len(nums)+1"
   ]
  },
  {
   "cell_type": "code",
   "execution_count": 74,
   "metadata": {},
   "outputs": [
    {
     "data": {
      "text/plain": [
       "2"
      ]
     },
     "execution_count": 74,
     "metadata": {},
     "output_type": "execute_result"
    }
   ],
   "source": [
    "a = Solution()\n",
    "nums = [3,4,-1,1]\n",
    "a.firstMissingPositive(nums)"
   ]
  }
 ],
 "metadata": {
  "kernelspec": {
   "display_name": "Python 3",
   "language": "python",
   "name": "python3"
  },
  "language_info": {
   "codemirror_mode": {
    "name": "ipython",
    "version": 3
   },
   "file_extension": ".py",
   "mimetype": "text/x-python",
   "name": "python",
   "nbconvert_exporter": "python",
   "pygments_lexer": "ipython3",
   "version": "3.6.5"
  }
 },
 "nbformat": 4,
 "nbformat_minor": 2
}
