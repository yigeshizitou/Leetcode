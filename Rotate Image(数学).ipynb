{
 "cells": [
  {
   "cell_type": "markdown",
   "metadata": {},
   "source": [
    "You are given an n x n 2D matrix representing an image.\n",
    "\n",
    "Rotate the image by 90 degrees (clockwise).\n",
    "\n",
    "Note:\n",
    "\n",
    "You have to rotate the image in-place, which means you have to modify the input 2D matrix directly. DO NOT allocate another 2D matrix and do the rotation.\n",
    "\n",
    "Example 1:\n",
    "\n",
    "Given input matrix = <br>\n",
    "[<br>\n",
    "  [1,2,3],<br>\n",
    "  [4,5,6],<br>\n",
    "  [7,8,9]<br>\n",
    "],\n",
    "\n",
    "rotate the input matrix in-place such that it becomes:<br>\n",
    "[<br>\n",
    "  [7,4,1],<br>\n",
    "  [8,5,2],<br>\n",
    "  [9,6,3]<br>\n",
    "]\n"
   ]
  },
  {
   "cell_type": "markdown",
   "metadata": {},
   "source": [
    "### Solution 1\n",
    ">先对折再横向折叠\n",
    "\n",
    "Runtime: **20 ms**, faster than 76.42% of Python online submissions for Rotate Image.<br>\n",
    "Memory Usage: **11.9 MB**, less than 10.81% of Python online submissions for Rotate Image."
   ]
  },
  {
   "cell_type": "code",
   "execution_count": 246,
   "metadata": {
    "ExecuteTime": {
     "end_time": "2019-10-09T18:38:49.350321Z",
     "start_time": "2019-10-09T18:38:49.346322Z"
    }
   },
   "outputs": [],
   "source": [
    "class Solution(object):\n",
    "    def rotate(self, matrix):\n",
    "        \"\"\"\n",
    "        :type matrix: List[List[int]]\n",
    "        :rtype: None Do not return anything, modify matrix in-place instead.\n",
    "        author:Chong\n",
    "        \"\"\"\n",
    "        n=len(matrix)\n",
    "        for i in range(n-1):\n",
    "            for j in range(n-1-i):\n",
    "                print(i,j)\n",
    "                matrix[i][j],matrix[~j][~i]=matrix[~j][~i],matrix[i][j]\n",
    "        matrix.reverse()"
   ]
  },
  {
   "cell_type": "markdown",
   "metadata": {},
   "source": [
    "### Solution 2\n",
    ">zip\n",
    "\n",
    "Runtime: **20 ms**, faster than 76.42% of Python online submissions for Rotate Image.<br>\n",
    "Memory Usage: **11.9 MB**, less than 8.11% of Python online submissions for Rotate Image."
   ]
  },
  {
   "cell_type": "code",
   "execution_count": 169,
   "metadata": {
    "ExecuteTime": {
     "end_time": "2019-10-09T18:14:10.088507Z",
     "start_time": "2019-10-09T18:14:10.082505Z"
    }
   },
   "outputs": [],
   "source": [
    "class Solution(object):\n",
    "    def rotate(self, A):\n",
    "        \"\"\"\n",
    "        :type matrix: List[List[int]]\n",
    "        :rtype: None Do not return anything, modify matrix in-place instead.\n",
    "        \"\"\"\n",
    "        A[:] = zip(*A[::-1])"
   ]
  },
  {
   "cell_type": "markdown",
   "metadata": {},
   "source": [
    "### Solution 3\n",
    ">四个对应位置的元素同时互换<br>\n",
    "[~i] is way nicer than [n-1-i].\n",
    "\n",
    "Runtime: **8 ms**, faster than 99.95% of Python online submissions for Rotate Image.<br>\n",
    "Memory Usage: **11.8 MB**, less than 75.86% of Python online submissions for Rotate Image."
   ]
  },
  {
   "cell_type": "code",
   "execution_count": 177,
   "metadata": {
    "ExecuteTime": {
     "end_time": "2019-10-09T18:22:10.643415Z",
     "start_time": "2019-10-09T18:22:10.639410Z"
    }
   },
   "outputs": [],
   "source": [
    "class Solution:\n",
    "    def rotate(self, A):\n",
    "        n = len(A)\n",
    "        for i in range(n/2):\n",
    "            for j in range(n-n/2):\n",
    "                A[i][j], A[~j][i], A[~i][~j], A[j][~i] = \\\n",
    "                         A[~j][i], A[~i][~j], A[j][~i], A[i][j]"
   ]
  },
  {
   "cell_type": "markdown",
   "metadata": {},
   "source": [
    "### Solution 4\n",
    ">先反向（也就是纵向对称）再对角线变换\n",
    "\n",
    "Runtime: **16 ms**, faster than 93.90% of Python online submissions for Rotate Image.<br>\n",
    "Memory Usage: **11.8 MB**, less than 42.34% of Python online submissions for Rotate Image."
   ]
  },
  {
   "cell_type": "code",
   "execution_count": 250,
   "metadata": {
    "ExecuteTime": {
     "end_time": "2019-10-09T18:40:29.458930Z",
     "start_time": "2019-10-09T18:40:29.454930Z"
    }
   },
   "outputs": [],
   "source": [
    "class Solution:\n",
    "    def rotate(self, A):\n",
    "        A.reverse()\n",
    "        for i in range(len(A)):\n",
    "            for j in range(i):\n",
    "                A[i][j], A[j][i] = A[j][i], A[i][j]"
   ]
  },
  {
   "cell_type": "code",
   "execution_count": 251,
   "metadata": {
    "ExecuteTime": {
     "end_time": "2019-10-09T18:40:29.834000Z",
     "start_time": "2019-10-09T18:40:29.828959Z"
    }
   },
   "outputs": [],
   "source": [
    "matrix = [\n",
    " [1,2,3],\n",
    "  [4,5,6],\n",
    "  [7,8,9]\n",
    "]"
   ]
  },
  {
   "cell_type": "code",
   "execution_count": 252,
   "metadata": {
    "ExecuteTime": {
     "end_time": "2019-10-09T18:40:30.274899Z",
     "start_time": "2019-10-09T18:40:30.271938Z"
    }
   },
   "outputs": [],
   "source": [
    "a=Solution()\n",
    "a.rotate(matrix)"
   ]
  },
  {
   "cell_type": "code",
   "execution_count": null,
   "metadata": {},
   "outputs": [],
   "source": []
  }
 ],
 "metadata": {
  "kernelspec": {
   "display_name": "Python 3",
   "language": "python",
   "name": "python3"
  },
  "language_info": {
   "codemirror_mode": {
    "name": "ipython",
    "version": 3
   },
   "file_extension": ".py",
   "mimetype": "text/x-python",
   "name": "python",
   "nbconvert_exporter": "python",
   "pygments_lexer": "ipython3",
   "version": "3.6.5"
  },
  "varInspector": {
   "cols": {
    "lenName": 16,
    "lenType": 16,
    "lenVar": 40
   },
   "kernels_config": {
    "python": {
     "delete_cmd_postfix": "",
     "delete_cmd_prefix": "del ",
     "library": "var_list.py",
     "varRefreshCmd": "print(var_dic_list())"
    },
    "r": {
     "delete_cmd_postfix": ") ",
     "delete_cmd_prefix": "rm(",
     "library": "var_list.r",
     "varRefreshCmd": "cat(var_dic_list()) "
    }
   },
   "types_to_exclude": [
    "module",
    "function",
    "builtin_function_or_method",
    "instance",
    "_Feature"
   ],
   "window_display": false
  }
 },
 "nbformat": 4,
 "nbformat_minor": 2
}
