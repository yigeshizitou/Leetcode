{
 "cells": [
  {
   "cell_type": "markdown",
   "metadata": {},
   "source": [
    "https://leetcode.com/problems/number-of-islands/submissions/\n",
    "\n",
    "https://github.com/azl397985856/leetcode/blob/master/problems/200.number-of-islands.md\n",
    "\n",
    "Given a 2d grid map of '1's (land) and '0's (water), count the number of islands. An island is surrounded by water and is formed by connecting adjacent lands horizontally or vertically. You may assume all four edges of the grid are all surrounded by water.\n",
    "\n",
    "Example 1:\n",
    "\n",
    "Input:<br>\n",
    "11110<br>\n",
    "11010<br>\n",
    "11000<br>\n",
    "00000\n",
    "\n",
    "Output: 1<br>\n",
    "Example 2:\n",
    "\n",
    "Input:<br>\n",
    "11000<br>\n",
    "11000<br>\n",
    "00100<br>\n",
    "00011\n",
    "\n",
    "Output: 3\n"
   ]
  },
  {
   "cell_type": "markdown",
   "metadata": {},
   "source": [
    "### Solution 1 DFS\n",
    "\n",
    ">对为 1 的点，上下左右搜寻, 如果有 1 就设为 0 <br>\n",
    "\n",
    "Runtime: **136 ms**, faster than 50.47% of Python online submissions for Number of Islands.<br>\n",
    "Memory Usage: **19 MB**, less than 52.70% of Python online submissions for Number of Islands."
   ]
  },
  {
   "cell_type": "code",
   "execution_count": 4,
   "metadata": {
    "ExecuteTime": {
     "end_time": "2019-11-29T10:54:39.018232Z",
     "start_time": "2019-11-29T10:54:39.010115Z"
    }
   },
   "outputs": [],
   "source": [
    "class Solution(object):\n",
    "    def numIslands(self, grid):\n",
    "        \"\"\"\n",
    "        :type grid: List[List[str]]\n",
    "        :rtype: int\n",
    "\n",
    "        \"\"\"\n",
    "        def search(grid, i, j):\n",
    "            if i < 0 or j < 0 or i > len(grid)-1 or j > len(grid[0])-1 or grid[i][j] == '0':\n",
    "                return\n",
    "            grid[i][j] = \"0\"\n",
    "            search(grid, i+1, j)\n",
    "            search(grid, i-1, j)\n",
    "            search(grid, i, j+1)\n",
    "            search(grid, i, j-1)\n",
    "\n",
    "        ans = 0\n",
    "        for i in range(len(grid)):\n",
    "            for j in range(len(grid[0])):\n",
    "                if grid[i][j] == \"1\":\n",
    "                    ans += 1\n",
    "                    search(grid, i, j)\n",
    "        return ans"
   ]
  },
  {
   "cell_type": "markdown",
   "metadata": {},
   "source": [
    "### Solution 2 DFS改进\n",
    "\n",
    ">细化搜索步骤\n",
    "\n",
    "Runtime: **108 ms**, faster than 97.52% of Python online submissions for Number of Islands.<br>\n",
    "Memory Usage: **18.9 MB**, less than 81.08% of Python online submissions for Number of Islands."
   ]
  },
  {
   "cell_type": "code",
   "execution_count": 7,
   "metadata": {
    "ExecuteTime": {
     "end_time": "2019-11-29T12:51:58.797553Z",
     "start_time": "2019-11-29T12:51:58.788732Z"
    }
   },
   "outputs": [],
   "source": [
    "class Solution:\n",
    "    def DFS(self, grid, i, j):\n",
    "        grid[i][j] = '0'\n",
    "\n",
    "        if i-1 > -1 and grid[i-1][j] == '1':\n",
    "            self.DFS(grid, i-1, j)\n",
    "        if i+1 < len(grid) and grid[i+1][j] == '1':\n",
    "            self.DFS(grid, i+1, j)\n",
    "        if j-1 > -1 and grid[i][j-1] == '1':\n",
    "            self.DFS(grid, i, j-1)\n",
    "        if j+1 < len(grid[0]) and grid[i][j+1] == '1':\n",
    "            self.DFS(grid, i, j+1)\n",
    "\n",
    "    def numIslands(self, grid):\n",
    "        res = 0\n",
    "\n",
    "        for i in range(len(grid)):\n",
    "            for j in range(len(grid[0])):\n",
    "                if grid[i][j] == '1':\n",
    "                    res += 1\n",
    "                    self.DFS(grid, i, j)\n",
    "\n",
    "        return res"
   ]
  },
  {
   "cell_type": "code",
   "execution_count": 8,
   "metadata": {
    "ExecuteTime": {
     "end_time": "2019-11-29T12:51:59.081643Z",
     "start_time": "2019-11-29T12:51:59.073428Z"
    }
   },
   "outputs": [
    {
     "data": {
      "text/plain": [
       "1"
      ]
     },
     "execution_count": 8,
     "metadata": {},
     "output_type": "execute_result"
    }
   ],
   "source": [
    "grid = [[\"1\",\"1\",\"1\",\"1\",\"0\"],[\"1\",\"1\",\"0\",\"1\",\"0\"],[\"1\",\"1\",\"0\",\"0\",\"0\"],[\"0\",\"0\",\"0\",\"0\",\"0\"]]\n",
    "a = Solution()\n",
    "a.numIslands(grid)"
   ]
  }
 ],
 "metadata": {
  "kernelspec": {
   "display_name": "Python 3",
   "language": "python",
   "name": "python3"
  },
  "language_info": {
   "codemirror_mode": {
    "name": "ipython",
    "version": 3
   },
   "file_extension": ".py",
   "mimetype": "text/x-python",
   "name": "python",
   "nbconvert_exporter": "python",
   "pygments_lexer": "ipython3",
   "version": "3.6.5"
  },
  "varInspector": {
   "cols": {
    "lenName": 16,
    "lenType": 16,
    "lenVar": 40
   },
   "kernels_config": {
    "python": {
     "delete_cmd_postfix": "",
     "delete_cmd_prefix": "del ",
     "library": "var_list.py",
     "varRefreshCmd": "print(var_dic_list())"
    },
    "r": {
     "delete_cmd_postfix": ") ",
     "delete_cmd_prefix": "rm(",
     "library": "var_list.r",
     "varRefreshCmd": "cat(var_dic_list()) "
    }
   },
   "types_to_exclude": [
    "module",
    "function",
    "builtin_function_or_method",
    "instance",
    "_Feature"
   ],
   "window_display": false
  }
 },
 "nbformat": 4,
 "nbformat_minor": 2
}
