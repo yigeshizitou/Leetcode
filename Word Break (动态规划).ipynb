{
 "cells": [
  {
   "cell_type": "markdown",
   "metadata": {},
   "source": [
    "https://leetcode.com/problems/word-break/\n",
    "\n",
    "https://github.com/azl397985856/leetcode/blob/master/problems/139.word-break.md\n",
    "\n",
    "Given a non-empty string s and a dictionary wordDict containing a list of non-empty words, determine if s can be segmented into a space-separated sequence of one or more dictionary words.\n",
    "\n",
    "Note:\n",
    "\n",
    "The same word in the dictionary may be reused multiple times in the segmentation.<br>\n",
    "You may assume the dictionary does not contain duplicate words.<br>\n",
    "Example 1:\n",
    "\n",
    "Input: s = \"leetcode\", wordDict = [\"leet\", \"code\"]<br>\n",
    "Output: true<br>\n",
    "Explanation: Return true because \"leetcode\" can be segmented as \"leet code\".<br>\n",
    "Example 2:\n",
    "\n",
    "Input: s = \"applepenapple\", wordDict = [\"apple\", \"pen\"]<br>\n",
    "Output: true<br>\n",
    "Explanation: Return true because \"applepenapple\" can be segmented as \"apple pen apple\".<br>\n",
    "             Note that you are allowed to reuse a dictionary word.<br>\n",
    "Example 3:\n",
    "\n",
    "Input: s = \"catsandog\", wordDict = [\"cats\", \"dog\", \"sand\", \"and\", \"cat\"]<br>\n",
    "Output: false"
   ]
  },
  {
   "cell_type": "markdown",
   "metadata": {},
   "source": [
    "### Solution 1 动态规划\n",
    "> dp[i] = True 表示 s[:i] 是满足条件的<br>\n",
    "dp [i] = dp[i-word.length] & s[i-word.length: i] == word for word in wordDict if word.length <= len(s)<<br>\n",
    "例如：<br>\n",
    "s = \"catsandog\", wordDict = [\"cats\", \"dog\", \"sand\", \"and\", \"cat\"]<br>\n",
    "dp = [True, False, False, True, True, False, False, True, False, False]<br>\n",
    "\n",
    "Runtime: **24 ms**, faster than 80.71% of Python online submissions for Word Break.<br>\n",
    "Memory Usage: **11.8 MB**, less than 70.21% of Python online submissions for Word Break."
   ]
  },
  {
   "cell_type": "code",
   "execution_count": 70,
   "metadata": {
    "ExecuteTime": {
     "end_time": "2019-11-02T09:19:57.655089Z",
     "start_time": "2019-11-02T09:19:57.650109Z"
    }
   },
   "outputs": [],
   "source": [
    "class Solution:\n",
    "    def wordBreak(self, s, dict):\n",
    "        n = len(s)\n",
    "        f = [False for i in range(n+1)]\n",
    "        f[0] = True\n",
    "        for i in range(n):\n",
    "            if f[i]:\n",
    "                for j in dict:\n",
    "                    l = len(j)\n",
    "                    if i+l<=n and s[i:i+l] == j:\n",
    "                        f[i+l] = True\n",
    "        return f[n]"
   ]
  },
  {
   "cell_type": "code",
   "execution_count": 71,
   "metadata": {
    "ExecuteTime": {
     "end_time": "2019-11-02T09:19:57.948051Z",
     "start_time": "2019-11-02T09:19:57.941059Z"
    }
   },
   "outputs": [
    {
     "data": {
      "text/plain": [
       "False"
      ]
     },
     "execution_count": 71,
     "metadata": {},
     "output_type": "execute_result"
    }
   ],
   "source": [
    "a = Solution()\n",
    "s =  \"catsandog\"\n",
    "wordDict =  [\"cats\", \"dog\", \"sand\", \"and\", \"cat\"]\n",
    "a.wordBreak(s, wordDict)"
   ]
  }
 ],
 "metadata": {
  "kernelspec": {
   "display_name": "Python 3",
   "language": "python",
   "name": "python3"
  },
  "language_info": {
   "codemirror_mode": {
    "name": "ipython",
    "version": 3
   },
   "file_extension": ".py",
   "mimetype": "text/x-python",
   "name": "python",
   "nbconvert_exporter": "python",
   "pygments_lexer": "ipython3",
   "version": "3.6.5"
  },
  "varInspector": {
   "cols": {
    "lenName": 16,
    "lenType": 16,
    "lenVar": 40
   },
   "kernels_config": {
    "python": {
     "delete_cmd_postfix": "",
     "delete_cmd_prefix": "del ",
     "library": "var_list.py",
     "varRefreshCmd": "print(var_dic_list())"
    },
    "r": {
     "delete_cmd_postfix": ") ",
     "delete_cmd_prefix": "rm(",
     "library": "var_list.r",
     "varRefreshCmd": "cat(var_dic_list()) "
    }
   },
   "types_to_exclude": [
    "module",
    "function",
    "builtin_function_or_method",
    "instance",
    "_Feature"
   ],
   "window_display": false
  }
 },
 "nbformat": 4,
 "nbformat_minor": 2
}
