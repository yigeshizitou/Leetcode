{
 "cells": [
  {
   "cell_type": "markdown",
   "metadata": {
    "ExecuteTime": {
     "end_time": "2020-04-20T19:36:30.236369Z",
     "start_time": "2020-04-20T19:36:30.232329Z"
    }
   },
   "source": [
    "https://leetcode.com/problems/count-primes/\n",
    "\n",
    "Count the number of prime numbers less than a non-negative number, n.\n",
    "\n",
    "Example:\n",
    "\n",
    "Input: 10<br>\n",
    "Output: 4<br>\n",
    "Explanation: There are 4 prime numbers less than 10, they are 2, 3, 5, 7."
   ]
  },
  {
   "cell_type": "markdown",
   "metadata": {},
   "source": [
    "### Solution1  Math\n",
    "\n",
    "厄拉多塞筛法: 要得到自然数n以内的全部质数，必须把不大于根号n的所有质数的倍数剔除，剩下的就是质数。\n",
    "\n",
    "![avatar](https://pic.leetcode-cn.com/88746df426ec615529615ef5d9c7d10b9453cfe7c4e8bdb09219b8ba99abf9f1-Sieve_of_Eratosthenes_animation.gif)\n",
    "\n",
    "<br>\n",
    "Runtime: 268 ms, faster than 87.80% of Python online submissions for Count Primes.<br>\n",
    "Memory Usage: 35.9 MB, less than 42.59% of Python online submissions for Count Primes."
   ]
  },
  {
   "cell_type": "code",
   "execution_count": 15,
   "metadata": {
    "ExecuteTime": {
     "end_time": "2020-04-20T19:40:38.357715Z",
     "start_time": "2020-04-20T19:40:38.353712Z"
    }
   },
   "outputs": [],
   "source": [
    "class Solution(object):\n",
    "    def countPrimes(self, n):\n",
    "        \"\"\"\n",
    "        :type n: int\n",
    "        :rtype: int\n",
    "        \"\"\"\n",
    "        if n<2: return 0\n",
    "        ans = [1] * n\n",
    "        ans[0] = 0\n",
    "        ans[1] = 0\n",
    "        for i in range(2, int(n**0.5)+1):\n",
    "            if ans[i] == 1:\n",
    "                ans[i*i:n:i] = [0]*len(ans[i*i:n:i])\n",
    "        return sum(ans)\n",
    "            "
   ]
  },
  {
   "cell_type": "code",
   "execution_count": 16,
   "metadata": {
    "ExecuteTime": {
     "end_time": "2020-04-20T19:40:54.117402Z",
     "start_time": "2020-04-20T19:40:54.113407Z"
    }
   },
   "outputs": [
    {
     "data": {
      "text/plain": [
       "4"
      ]
     },
     "execution_count": 16,
     "metadata": {},
     "output_type": "execute_result"
    }
   ],
   "source": [
    "a = Solution()\n",
    "a.countPrimes(10)"
   ]
  }
 ],
 "metadata": {
  "kernelspec": {
   "display_name": "Python 3",
   "language": "python",
   "name": "python3"
  },
  "language_info": {
   "codemirror_mode": {
    "name": "ipython",
    "version": 3
   },
   "file_extension": ".py",
   "mimetype": "text/x-python",
   "name": "python",
   "nbconvert_exporter": "python",
   "pygments_lexer": "ipython3",
   "version": "3.6.5"
  },
  "varInspector": {
   "cols": {
    "lenName": 16,
    "lenType": 16,
    "lenVar": 40
   },
   "kernels_config": {
    "python": {
     "delete_cmd_postfix": "",
     "delete_cmd_prefix": "del ",
     "library": "var_list.py",
     "varRefreshCmd": "print(var_dic_list())"
    },
    "r": {
     "delete_cmd_postfix": ") ",
     "delete_cmd_prefix": "rm(",
     "library": "var_list.r",
     "varRefreshCmd": "cat(var_dic_list()) "
    }
   },
   "types_to_exclude": [
    "module",
    "function",
    "builtin_function_or_method",
    "instance",
    "_Feature"
   ],
   "window_display": false
  }
 },
 "nbformat": 4,
 "nbformat_minor": 2
}
