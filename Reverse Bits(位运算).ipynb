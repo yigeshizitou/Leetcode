{
 "cells": [
  {
   "cell_type": "markdown",
   "metadata": {},
   "source": [
    "https://leetcode.com/problems/reverse-bits/description/\n",
    "\n",
    "https://github.com/azl397985856/leetcode/blob/master/problems/190.reverse-bits.md\n",
    "\n",
    "everse bits of a given 32 bits unsigned integer.\n",
    "\n",
    "\n",
    "**Example 1:**\n",
    "\n",
    "Input: 00000010100101000001111010011100<br>\n",
    "Output: 00111001011110000010100101000000<br>\n",
    "Explanation: The input binary string 00000010100101000001111010011100 represents the unsigned integer 43261596, so return 964176192 which its binary representation is 00111001011110000010100101000000.\n",
    "\n",
    "**Example 2:**\n",
    "\n",
    "Input: 11111111111111111111111111111101<br>\n",
    "Output: 10111111111111111111111111111111<br>\n",
    "Explanation: The input binary string 11111111111111111111111111111101 represents the unsigned integer 4294967293, so return 3221225471 which its binary representation is 10101111110010110010011101101001."
   ]
  },
  {
   "cell_type": "markdown",
   "metadata": {},
   "source": [
    "### Solution 1 双指针\n",
    "\n",
    ">n从高位开始逐步左， res从低位（0）开始逐步右移<br>\n",
    "逐步判断，如果该位是1，就res + 1 , 如果是该位是0， 就res + 0<br>\n",
    "32位全部遍历完，则遍历结束<br>\n",
    "n & 1 === 1, 说明n的最后一位是1<br>\n",
    "n & 1 === 0, 说明n的最后一位是0\n",
    "\n",
    "Runtime: **16 ms**, faster than 81.99% of Python online submissions for Reverse Bits.<br>\n",
    "Memory Usage: **12 MB**, less than 7.14% of Python online submissions for Reverse Bits."
   ]
  },
  {
   "cell_type": "code",
   "execution_count": 41,
   "metadata": {
    "ExecuteTime": {
     "end_time": "2019-09-16T19:50:35.759640Z",
     "start_time": "2019-09-16T19:50:35.755457Z"
    }
   },
   "outputs": [],
   "source": [
    "def reverseBits(n):\n",
    "    result = 0\n",
    "    for i in range(32):\n",
    "        result = (result << 1) + (n & 1)\n",
    "        n >>= 1\n",
    "    return result"
   ]
  },
  {
   "cell_type": "code",
   "execution_count": 42,
   "metadata": {
    "ExecuteTime": {
     "end_time": "2019-09-16T19:50:50.220818Z",
     "start_time": "2019-09-16T19:50:50.212952Z"
    }
   },
   "outputs": [
    {
     "data": {
      "text/plain": [
       "964176192"
      ]
     },
     "execution_count": 42,
     "metadata": {},
     "output_type": "execute_result"
    }
   ],
   "source": [
    "n=43261596\n",
    "reverseBits(n)"
   ]
  }
 ],
 "metadata": {
  "kernelspec": {
   "display_name": "Python 3",
   "language": "python",
   "name": "python3"
  },
  "language_info": {
   "codemirror_mode": {
    "name": "ipython",
    "version": 3
   },
   "file_extension": ".py",
   "mimetype": "text/x-python",
   "name": "python",
   "nbconvert_exporter": "python",
   "pygments_lexer": "ipython3",
   "version": "3.6.5"
  },
  "varInspector": {
   "cols": {
    "lenName": 16,
    "lenType": 16,
    "lenVar": 40
   },
   "kernels_config": {
    "python": {
     "delete_cmd_postfix": "",
     "delete_cmd_prefix": "del ",
     "library": "var_list.py",
     "varRefreshCmd": "print(var_dic_list())"
    },
    "r": {
     "delete_cmd_postfix": ") ",
     "delete_cmd_prefix": "rm(",
     "library": "var_list.r",
     "varRefreshCmd": "cat(var_dic_list()) "
    }
   },
   "types_to_exclude": [
    "module",
    "function",
    "builtin_function_or_method",
    "instance",
    "_Feature"
   ],
   "window_display": false
  }
 },
 "nbformat": 4,
 "nbformat_minor": 2
}
