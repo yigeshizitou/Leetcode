{
 "cells": [
  {
   "cell_type": "markdown",
   "metadata": {},
   "source": [
    "https://leetcode.com/problems/best-time-to-buy-and-sell-stock-with-cooldown/\n",
    "\n",
    "https://leetcode.com/problems/best-time-to-buy-and-sell-stock-with-cooldown/discuss/404998/All-in-One-O(n)-time-O(1)-space-Python-solution\n",
    "\n",
    "Say you have an array for which the ith element is the price of a given stock on day i.\n",
    "\n",
    "Design an algorithm to find the maximum profit. You may complete as many transactions as you like (ie, buy one and sell one share of the stock multiple times) with the following restrictions:\n",
    "\n",
    "You may not engage in multiple transactions at the same time (ie, you must sell the stock before you buy again).<br>\n",
    "After you sell your stock, you cannot buy stock on next day. (ie, cooldown 1 day)<br>\n",
    "Example:\n",
    "\n",
    "Input: [1,2,3,0,2]<br>\n",
    "Output: 3 <br>\n",
    "Explanation: transactions = [buy, sell, cooldown, buy, sell]"
   ]
  },
  {
   "cell_type": "markdown",
   "metadata": {},
   "source": [
    "### Solution 1 dynamic programming \n",
    "> 建立两个 dp, buy[i] 表示 i 时以 buy 或者 cooldown 结尾的最大利润; sell[i] 表示 i 时以 sell 或者 cooldown 结尾的最大利润<br>\n",
    "初始化：buy[0] = -prices[0]; sell[0] = 0;\n",
    "        buy[1] = max(-prices[0], -prices[1]); \n",
    "        sell[1] = max(sell[0], buy[0]+prices[1])<br>\n",
    "状态转移方程: $buy[i] = max(buy[i-1](cooldown), sell[i-2]-prices[i](buy)); $\n",
    "            $sell[i] = max(sell[i-1](cooldown), buy[i-1]+prices[i](sell))$\n",
    "   \n",
    "\n",
    "Runtime: **28 ms**, faster than 52.39% of Python online submissions for Best Time to Buy and Sell Stock with Cooldown.<br>\n",
    "Memory Usage: **11.9 MB**, less than 76.92% of Python online submissions for Best Time to Buy and Sell Stock with Cooldown."
   ]
  },
  {
   "cell_type": "code",
   "execution_count": 8,
   "metadata": {
    "ExecuteTime": {
     "end_time": "2019-12-18T09:18:54.794123Z",
     "start_time": "2019-12-18T09:18:54.785233Z"
    }
   },
   "outputs": [],
   "source": [
    "class Solution(object):\n",
    "    def maxProfit(self, prices):\n",
    "        \"\"\"\n",
    "        :type prices: List[int]\n",
    "        :rtype: int\n",
    "        author: Chong\n",
    "        \"\"\"\n",
    "        if len(prices) < 2:\n",
    "            return 0\n",
    "        buy = [0]*len(prices)\n",
    "        sell = [0]*len(prices)\n",
    "        buy[0] = -prices[0]\n",
    "        buy[1] = max(-prices[0], -prices[1])\n",
    "        sell[1] = max(sell[0], buy[0]+prices[1])\n",
    "        for i in range(2, len(prices)):\n",
    "            buy[i] = max(buy[i-1], sell[i-2]-prices[i])\n",
    "            sell[i] = max(sell[i-1], buy[i-1]+prices[i])\n",
    "        return sell[-1]"
   ]
  },
  {
   "cell_type": "markdown",
   "metadata": {},
   "source": [
    "### Solution 2 dynamic programming\n",
    "![avatar](https://assets.leetcode.com/users/charliedu/image_1571066399.png)\n",
    "\n",
    "Runtime: **20 ms**, faster than 93.77% of Python online submissions for Best Time to Buy and Sell Stock with Cooldown.<br>\n",
    "Memory Usage: **12 MB**, less than 30.77% of Python online submissions for Best Time to Buy and Sell Stock with Cooldown."
   ]
  },
  {
   "cell_type": "code",
   "execution_count": 10,
   "metadata": {
    "ExecuteTime": {
     "end_time": "2019-12-18T09:56:30.313048Z",
     "start_time": "2019-12-18T09:56:30.307047Z"
    }
   },
   "outputs": [],
   "source": [
    "class Solution(object):\n",
    "    def maxProfit(self, prices):\n",
    "        \"\"\"\n",
    "        :type prices: List[int]\n",
    "        :rtype: int\n",
    "        \"\"\"\n",
    "        if len(prices) < 2:\n",
    "            return 0\n",
    "        s1 = -prices[0]     # profit after buying\n",
    "        s2 = 0              # profit after selling\n",
    "        s0 = [0, 0]         # cooldown profit using a queue\n",
    "        for p in prices:\n",
    "            s1 = max(s1, s0[1] - p)\n",
    "            s2 = max(s2, s1 + p)\n",
    "            s0 = [s2, s0[0]]\n",
    "        return s2"
   ]
  },
  {
   "cell_type": "code",
   "execution_count": 11,
   "metadata": {
    "ExecuteTime": {
     "end_time": "2019-12-18T09:56:30.561223Z",
     "start_time": "2019-12-18T09:56:30.555730Z"
    }
   },
   "outputs": [
    {
     "data": {
      "text/plain": [
       "3"
      ]
     },
     "execution_count": 11,
     "metadata": {},
     "output_type": "execute_result"
    }
   ],
   "source": [
    "prices = [1,2,4]\n",
    "a = Solution()\n",
    "a.maxProfit(prices)"
   ]
  }
 ],
 "metadata": {
  "kernelspec": {
   "display_name": "Python 3",
   "language": "python",
   "name": "python3"
  },
  "language_info": {
   "codemirror_mode": {
    "name": "ipython",
    "version": 3
   },
   "file_extension": ".py",
   "mimetype": "text/x-python",
   "name": "python",
   "nbconvert_exporter": "python",
   "pygments_lexer": "ipython3",
   "version": "3.6.5"
  },
  "varInspector": {
   "cols": {
    "lenName": 16,
    "lenType": 16,
    "lenVar": 40
   },
   "kernels_config": {
    "python": {
     "delete_cmd_postfix": "",
     "delete_cmd_prefix": "del ",
     "library": "var_list.py",
     "varRefreshCmd": "print(var_dic_list())"
    },
    "r": {
     "delete_cmd_postfix": ") ",
     "delete_cmd_prefix": "rm(",
     "library": "var_list.r",
     "varRefreshCmd": "cat(var_dic_list()) "
    }
   },
   "types_to_exclude": [
    "module",
    "function",
    "builtin_function_or_method",
    "instance",
    "_Feature"
   ],
   "window_display": false
  }
 },
 "nbformat": 4,
 "nbformat_minor": 2
}
