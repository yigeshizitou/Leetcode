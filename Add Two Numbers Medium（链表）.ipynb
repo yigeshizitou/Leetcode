{
 "cells": [
  {
   "cell_type": "markdown",
   "metadata": {},
   "source": [
    "https://leetcode.com/problems/add-two-numbers/\n",
    "\n",
    "https://github.com/azl397985856/leetcode/blob/master/problems/2.addTwoNumbers.md\n",
    "\n",
    "You are given two non-empty linked lists representing two non-negative integers. The digits are stored in reverse order and each of their nodes contain a single digit. Add the two numbers and return it as a linked list.\n",
    "\n",
    "\n",
    "You may assume the two numbers do not contain any leading zero, except the number 0 itself.\n",
    "\n",
    "\n",
    "**Example:**\n",
    "\n",
    "Input: (2 -> 4 -> 3) + (5 -> 6 -> 4)<br>\n",
    "Output: 7 -> 0 -> 8<br>\n",
    "Explanation: 342 + 465 = 807."
   ]
  },
  {
   "cell_type": "markdown",
   "metadata": {},
   "source": [
    "### Solution 1\n",
    ">保存进位\n",
    "\n",
    "Runtime: **52 ms**, faster than 81.76% of Python online submissions for Add Two Numbers.<br>\n",
    "Memory Usage: **11.8 MB**, less than 62.50% of Python online submissions for Add Two Numbers."
   ]
  },
  {
   "cell_type": "code",
   "execution_count": 1,
   "metadata": {
    "ExecuteTime": {
     "end_time": "2019-09-25T10:12:53.752385Z",
     "start_time": "2019-09-25T10:12:53.739798Z"
    }
   },
   "outputs": [],
   "source": [
    "def addTwoNumbers(self, l1, l2):\n",
    "    \"\"\"\n",
    "    :type l1: ListNode\n",
    "    :type l2: ListNode\n",
    "    :rtype: ListNode\n",
    "    author: Chong\n",
    "    \"\"\"\n",
    "    c = ans = ListNode(None)\n",
    "    n = 0\n",
    "    while l1 and l2:\n",
    "        if l1.val+l2.val+n >= 10:\n",
    "            ans.next = ListNode(l1.val+l2.val+n-10)\n",
    "            n = 1\n",
    "        else:\n",
    "            ans.next = ListNode(l1.val+l2.val+n)\n",
    "            n = 0\n",
    "        l1 = l1.next\n",
    "        l2 = l2.next\n",
    "        ans = ans.next\n",
    "\n",
    "    while l1:\n",
    "        if l1.val+n >= 10:\n",
    "            ans.next = ListNode(l1.val+n-10)\n",
    "            n = 1\n",
    "        else:\n",
    "            ans.next = ListNode(l1.val+n)\n",
    "            n = 0\n",
    "        l1 = l1.next\n",
    "        ans = ans.next\n",
    "\n",
    "    while l2:\n",
    "        if l2.val+n >= 10:\n",
    "            ans.next = ListNode(l2.val+n-10)\n",
    "            n = 1\n",
    "        else:\n",
    "            ans.next = ListNode(l2.val+n)\n",
    "            n = 0\n",
    "        l2 = l2.next\n",
    "        ans = ans.next\n",
    "\n",
    "    if n == 1:\n",
    "        ans.next = ListNode(1)\n",
    "    return c.next"
   ]
  },
  {
   "cell_type": "markdown",
   "metadata": {},
   "source": [
    "### Solution 2\n",
    ">divmod简化\n",
    "\n",
    "Runtime: **52 ms**, faster than 81.76% of Python online submissions for Add Two Numbers.<br>\n",
    "Memory Usage: **11.9 MB**, less than 44.12% of Python online submissions for Add Two Numbers."
   ]
  },
  {
   "cell_type": "code",
   "execution_count": 2,
   "metadata": {
    "ExecuteTime": {
     "end_time": "2019-09-25T10:14:59.239049Z",
     "start_time": "2019-09-25T10:14:59.231915Z"
    }
   },
   "outputs": [],
   "source": [
    "def addTwoNumbers(self, l1, l2):\n",
    "    \"\"\"\n",
    "    :type l1: ListNode\n",
    "    :type l2: ListNode\n",
    "    :rtype: ListNode\n",
    "    \"\"\"\n",
    "    carry = 0\n",
    "    root = n = ListNode(0)\n",
    "    while l1 or l2 or carry:\n",
    "        v1 = v2 = 0\n",
    "        if l1:\n",
    "            v1 = l1.val\n",
    "            l1 = l1.next\n",
    "        if l2:\n",
    "            v2 = l2.val\n",
    "            l2 = l2.next\n",
    "        carry, val = divmod(v1+v2+carry, 10)\n",
    "        n.next = ListNode(val)\n",
    "        n = n.next\n",
    "    return root.next"
   ]
  },
  {
   "cell_type": "code",
   "execution_count": null,
   "metadata": {},
   "outputs": [],
   "source": []
  }
 ],
 "metadata": {
  "kernelspec": {
   "display_name": "Python 3",
   "language": "python",
   "name": "python3"
  },
  "language_info": {
   "codemirror_mode": {
    "name": "ipython",
    "version": 3
   },
   "file_extension": ".py",
   "mimetype": "text/x-python",
   "name": "python",
   "nbconvert_exporter": "python",
   "pygments_lexer": "ipython3",
   "version": "3.6.5"
  },
  "varInspector": {
   "cols": {
    "lenName": 16,
    "lenType": 16,
    "lenVar": 40
   },
   "kernels_config": {
    "python": {
     "delete_cmd_postfix": "",
     "delete_cmd_prefix": "del ",
     "library": "var_list.py",
     "varRefreshCmd": "print(var_dic_list())"
    },
    "r": {
     "delete_cmd_postfix": ") ",
     "delete_cmd_prefix": "rm(",
     "library": "var_list.r",
     "varRefreshCmd": "cat(var_dic_list()) "
    }
   },
   "types_to_exclude": [
    "module",
    "function",
    "builtin_function_or_method",
    "instance",
    "_Feature"
   ],
   "window_display": false
  }
 },
 "nbformat": 4,
 "nbformat_minor": 2
}
