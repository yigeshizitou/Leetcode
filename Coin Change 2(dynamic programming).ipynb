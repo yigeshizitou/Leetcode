{
 "cells": [
  {
   "cell_type": "markdown",
   "metadata": {},
   "source": [
    "https://leetcode.com/problems/coin-change-2/\n",
    "\n",
    "You are given coins of different denominations and a total amount of money. Write a function to compute the number of combinations that make up that amount. You may assume that you have infinite number of each kind of coin.\n",
    "\n",
    " \n",
    "\n",
    "Example 1:\n",
    "\n",
    "Input: amount = 5, coins = [1, 2, 5]<br>\n",
    "Output: 4<br>\n",
    "Explanation: there are four ways to make up the amount:<br>\n",
    "5=5<br>\n",
    "5=2+2+1<br>\n",
    "5=2+1+1+1<br>\n",
    "5=1+1+1+1+1<br>\n",
    "Example 2:\n",
    "\n",
    "Input: amount = 3, coins = [2]<br>\n",
    "Output: 0<br>\n",
    "Explanation: the amount of 3 cannot be made up just with coins of 2.<br>\n",
    "Example 3:\n",
    "\n",
    "Input: amount = 10, coins = [10] <br>\n",
    "Output: 1"
   ]
  },
  {
   "cell_type": "markdown",
   "metadata": {},
   "source": [
    "### Solution 1 dynamic programming \n",
    "> for example, coins = [1, 2, 5], amount = 5<br>\n",
    "firsty，only using coin 1 to make up the amount，now dp = [1, 1, 1, 1, 1, 1] <br>\n",
    "then, using coin 1 and coin 2 to make up the amount, dp[i] += dp[i - coin], now dp = [1, 1, 2, 2, 3, 3] <br>\n",
    "finally, using coin 1, 2, 5, dp = [1, 1, 2, 2, 3, 4]\n",
    "\n",
    "Runtime: **100 ms**, faster than 82.49% of Python online submissions for Coin Change 2.<br>\n",
    "Memory Usage: **11.9 MB**, less than 33.33% of Python online submissions for Coin Change 2."
   ]
  },
  {
   "cell_type": "code",
   "execution_count": 1,
   "metadata": {},
   "outputs": [],
   "source": [
    "class Solution(object):\n",
    "    def change(self, amount, coins):\n",
    "        \"\"\"\n",
    "        :type amount: int\n",
    "        :type coins: List[int]\n",
    "        :rtype: int\n",
    "        \"\"\"\n",
    "        dp = [0]*(amount+1)\n",
    "        dp[0] = 1\n",
    "        for coin in coins:\n",
    "            for i in range(coin, amount+1):\n",
    "                dp[i] += dp[i-coin]\n",
    "        return dp[-1]"
   ]
  },
  {
   "cell_type": "code",
   "execution_count": 2,
   "metadata": {},
   "outputs": [
    {
     "data": {
      "text/plain": [
       "4"
      ]
     },
     "execution_count": 2,
     "metadata": {},
     "output_type": "execute_result"
    }
   ],
   "source": [
    "a = Solution()\n",
    "amount = 5\n",
    "coins = [1,2,5]\n",
    "a.change(amount, coins)"
   ]
  },
  {
   "cell_type": "code",
   "execution_count": null,
   "metadata": {},
   "outputs": [],
   "source": []
  }
 ],
 "metadata": {
  "kernelspec": {
   "display_name": "Python 3",
   "language": "python",
   "name": "python3"
  },
  "language_info": {
   "codemirror_mode": {
    "name": "ipython",
    "version": 3
   },
   "file_extension": ".py",
   "mimetype": "text/x-python",
   "name": "python",
   "nbconvert_exporter": "python",
   "pygments_lexer": "ipython3",
   "version": "3.6.5"
  }
 },
 "nbformat": 4,
 "nbformat_minor": 2
}
