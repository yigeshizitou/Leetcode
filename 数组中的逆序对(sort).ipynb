{
 "cells": [
  {
   "cell_type": "markdown",
   "metadata": {
    "ExecuteTime": {
     "end_time": "2020-04-21T18:19:04.748984Z",
     "start_time": "2020-04-21T18:19:04.738853Z"
    }
   },
   "source": [
    "https://leetcode-cn.com/problems/shu-zu-zhong-de-ni-xu-dui-lcof/\n",
    "\n",
    "\n",
    "在数组中的两个数字，如果前面一个数字大于后面的数字，则这两个数字组成一个逆序对。输入一个数组，求出这个数组中的逆序对的总数。\n",
    "\n",
    " \n",
    "\n",
    "示例 1:\n",
    "\n",
    "输入: [7,5,6,4]<br>\n",
    "输出: 5"
   ]
  },
  {
   "cell_type": "markdown",
   "metadata": {},
   "source": [
    "### Solution 1 merge sort\n",
    "\n",
    "> 在归并排序的并这一步实现计数。比如 L = [1, 3, 4], R = [2, 6], tmp = [], count = 0<br>\n",
    "第一步， L = [3, 4], R = [2, 6], tmp = [1], count = 0<br>\n",
    "第二步， L = [3, 4], R = [6], tmp = [1, 2], count = 0<br>\n",
    "第三步， L = [4], R = [6], tmp = [1, 2, 3], count = 2<br>\n",
    "第四步， L = [], R = [6], tmp = [1, 2, 3, 4], count = 4 <br> \n",
    "第五步， L = []. R = [], tmp = [1, 2, 3, 4, 6], count = 4\n",
    "\n",
    "\n",
    "执行用时 :996 ms, 在所有 Python 提交中击败了88.89%的用户<br>\n",
    "内存消耗 :16.8 MB, 在所有 Python 提交中击败了100.00%的用户"
   ]
  },
  {
   "cell_type": "code",
   "execution_count": 85,
   "metadata": {
    "ExecuteTime": {
     "end_time": "2020-04-23T19:50:02.557223Z",
     "start_time": "2020-04-23T19:50:02.551941Z"
    }
   },
   "outputs": [],
   "source": [
    "class Solution(object):\n",
    "    def reversePairs(self, nums):\n",
    "        \"\"\"\n",
    "        :type nums: List[int]\n",
    "        :rtype: int\n",
    "        \"\"\"\n",
    "        return self.mergesort(nums, 0, len(nums)-1)\n",
    "    \n",
    "    def mergesort(self, nums, l, r):\n",
    "        if l >= r:\n",
    "            return 0\n",
    "        mid = (l+r)//2\n",
    "        count = self.mergesort(nums, l, mid) + self.mergesort(nums, mid+1, r)\n",
    "        i, j, tmp = l, mid+1, []\n",
    "        while i<=mid and j<=r:\n",
    "            if nums[i] <= nums[j]:\n",
    "                count += j - mid - 1 \n",
    "                tmp.append(nums[i])\n",
    "                i += 1\n",
    "            else:\n",
    "                tmp.append(nums[j])\n",
    "                j += 1\n",
    "        tmp+= nums[j:r+1]\n",
    "        for n in range(i, mid+1):\n",
    "            count += j - mid - 1 \n",
    "            tmp.append(nums[n])\n",
    "        nums[l:r+1] = tmp\n",
    "        return count"
   ]
  },
  {
   "cell_type": "code",
   "execution_count": 86,
   "metadata": {
    "ExecuteTime": {
     "end_time": "2020-04-23T19:50:02.908521Z",
     "start_time": "2020-04-23T19:50:02.902415Z"
    }
   },
   "outputs": [
    {
     "data": {
      "text/plain": [
       "5"
      ]
     },
     "execution_count": 86,
     "metadata": {},
     "output_type": "execute_result"
    }
   ],
   "source": [
    "a = Solution()\n",
    "s = [7,5,6,4]\n",
    "a.reversePairs(s)"
   ]
  }
 ],
 "metadata": {
  "kernelspec": {
   "display_name": "Python 3",
   "language": "python",
   "name": "python3"
  },
  "language_info": {
   "codemirror_mode": {
    "name": "ipython",
    "version": 3
   },
   "file_extension": ".py",
   "mimetype": "text/x-python",
   "name": "python",
   "nbconvert_exporter": "python",
   "pygments_lexer": "ipython3",
   "version": "3.6.5"
  },
  "varInspector": {
   "cols": {
    "lenName": 16,
    "lenType": 16,
    "lenVar": 40
   },
   "kernels_config": {
    "python": {
     "delete_cmd_postfix": "",
     "delete_cmd_prefix": "del ",
     "library": "var_list.py",
     "varRefreshCmd": "print(var_dic_list())"
    },
    "r": {
     "delete_cmd_postfix": ") ",
     "delete_cmd_prefix": "rm(",
     "library": "var_list.r",
     "varRefreshCmd": "cat(var_dic_list()) "
    }
   },
   "types_to_exclude": [
    "module",
    "function",
    "builtin_function_or_method",
    "instance",
    "_Feature"
   ],
   "window_display": false
  }
 },
 "nbformat": 4,
 "nbformat_minor": 2
}
