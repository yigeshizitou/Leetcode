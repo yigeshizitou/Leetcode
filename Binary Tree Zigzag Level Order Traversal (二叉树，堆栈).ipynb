{
 "cells": [
  {
   "cell_type": "markdown",
   "metadata": {},
   "source": [
    "https://leetcode.com/problems/binary-tree-zigzag-level-order-traversal/description/\n",
    "\n",
    "https://github.com/azl397985856/leetcode/blob/master/problems/103.binary-tree-zigzag-level-order-traversal.md\n",
    "\n",
    "Given a binary tree, return the zigzag level order traversal of its nodes' values. (ie, from left to right, then right to left for the next level and alternate between).\n",
    "\n",
    "For example:<br>\n",
    "Given binary tree [3,9,20,null,null,15,7],<br>\n",
    "    3\n",
    "   / \\\n",
    "  9  20\n",
    "    /  \\\n",
    "   15   7<br>\n",
    "return its zigzag level order traversal as:<br>\n",
    "[<br>\n",
    "  [3],<br>\n",
    "  [20,9],<br>\n",
    "  [15,7]<br>\n",
    "]"
   ]
  },
  {
   "cell_type": "markdown",
   "metadata": {},
   "source": [
    "### Solution 1\n",
    "> level 记录每层的节点<br>\n",
    "flag 记录从左到右还是从右到左<br>\n",
    "\n",
    "Runtime: **20 ms**, faster than 64.86% of Python online submissions for Binary Tree Zigzag Level Order Traversal.<br>\n",
    "Memory Usage: **12 MB**, less than 76.19% of Python online submissions for Binary Tree Zigzag Level Order Traversal."
   ]
  },
  {
   "cell_type": "code",
   "execution_count": 1,
   "metadata": {
    "ExecuteTime": {
     "end_time": "2019-10-30T10:08:57.437115Z",
     "start_time": "2019-10-30T10:08:57.432110Z"
    }
   },
   "outputs": [],
   "source": [
    "class Solution(object):\n",
    "    def zigzagLevelOrder(self, root):\n",
    "        \"\"\"\n",
    "        :type root: TreeNode\n",
    "        :rtype: List[List[int]]\n",
    "        author: Chong\n",
    "        \"\"\"\n",
    "        ans, level, flag = [], [root], 0\n",
    "        while root and level:\n",
    "            if flag == 0:\n",
    "                ans.append([node.val for node in level])\n",
    "                flag = 1\n",
    "            else:\n",
    "                ans.append([node.val for node in level[::-1]])\n",
    "                flag = 0\n",
    "            level = [node for nodes in level for node in (\n",
    "                nodes.left, nodes.right) if node]\n",
    "        return ans"
   ]
  },
  {
   "cell_type": "markdown",
   "metadata": {},
   "source": [
    "### Solution 2 队列\n",
    "> 队列queue记录每层所有节点<br>\n",
    "r 记录单层节点值<br>\n",
    "r 的顺序根据 res 长度而定<br>\n",
    "\n",
    "Runtime: **16 ms**, faster than 86.70% of Python online submissions for Binary Tree Zigzag Level Order Traversal.<br>\n",
    "Memory Usage: **12.2 MB**, less than 11.90% of Python online submissions for Binary Tree Zigzag Level Order Traversal."
   ]
  },
  {
   "cell_type": "code",
   "execution_count": 2,
   "metadata": {
    "ExecuteTime": {
     "end_time": "2019-10-30T10:12:52.620041Z",
     "start_time": "2019-10-30T10:12:52.616038Z"
    }
   },
   "outputs": [],
   "source": [
    "class Solution:\n",
    "    def zigzagLevelOrder(self, root):\n",
    "        queue = collections.deque([root])\n",
    "        res = []\n",
    "        while queue:\n",
    "            r = []\n",
    "            for _ in range(len(queue)):\n",
    "                q = queue.popleft()\n",
    "                if q:\n",
    "                    r.append(q.val)\n",
    "                    queue.append(q.left)\n",
    "                    queue.append(q.right)\n",
    "            r = r[::-1] if len(res) % 2 else r\n",
    "            if r:\n",
    "                res.append(r)\n",
    "        return res"
   ]
  },
  {
   "cell_type": "markdown",
   "metadata": {},
   "source": [
    "### Solution 3 堆栈\n",
    "> 堆栈 queue 记录 (node, level)<br>\n",
    "res 记录结果<br>\n",
    "每次循环取出 queue 最里的值 (curr, level)<br>\n",
    "根据 level 是否能被 2 整除判断 curr 插入 res[level] 头还是尾\n",
    "\n",
    "Runtime: **12 ms**, faster than 96.69% of Python online submissions for Binary Tree Zigzag Level Order Traversal.<br>\n",
    "Memory Usage: **11.9 MB**, less than 95.24% of Python online submissions for Binary Tree Zigzag Level Order Traversal."
   ]
  },
  {
   "cell_type": "code",
   "execution_count": 3,
   "metadata": {
    "ExecuteTime": {
     "end_time": "2019-10-30T10:24:41.224105Z",
     "start_time": "2019-10-30T10:24:41.219105Z"
    }
   },
   "outputs": [],
   "source": [
    "class Solution:\n",
    "    def zigzagLevelOrder(self, root):\n",
    "        res, queue = [], [(root, 0)]\n",
    "        while queue:\n",
    "            curr, level = queue.pop(0)\n",
    "            if curr:\n",
    "                if len(res) < level+1:\n",
    "                    res.append([])\n",
    "                if level % 2 == 0:\n",
    "                    res[level].append(curr.val)\n",
    "                else:\n",
    "                    res[level].insert(0, curr.val)\n",
    "                queue.append((curr.left, level+1))\n",
    "                queue.append((curr.right, level+1))\n",
    "        return res"
   ]
  }
 ],
 "metadata": {
  "kernelspec": {
   "display_name": "Python 3",
   "language": "python",
   "name": "python3"
  },
  "language_info": {
   "codemirror_mode": {
    "name": "ipython",
    "version": 3
   },
   "file_extension": ".py",
   "mimetype": "text/x-python",
   "name": "python",
   "nbconvert_exporter": "python",
   "pygments_lexer": "ipython3",
   "version": "3.6.5"
  },
  "varInspector": {
   "cols": {
    "lenName": 16,
    "lenType": 16,
    "lenVar": 40
   },
   "kernels_config": {
    "python": {
     "delete_cmd_postfix": "",
     "delete_cmd_prefix": "del ",
     "library": "var_list.py",
     "varRefreshCmd": "print(var_dic_list())"
    },
    "r": {
     "delete_cmd_postfix": ") ",
     "delete_cmd_prefix": "rm(",
     "library": "var_list.r",
     "varRefreshCmd": "cat(var_dic_list()) "
    }
   },
   "types_to_exclude": [
    "module",
    "function",
    "builtin_function_or_method",
    "instance",
    "_Feature"
   ],
   "window_display": false
  }
 },
 "nbformat": 4,
 "nbformat_minor": 2
}
