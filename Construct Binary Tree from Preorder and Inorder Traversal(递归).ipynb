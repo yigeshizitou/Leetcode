{
 "cells": [
  {
   "cell_type": "markdown",
   "metadata": {},
   "source": [
    "https://leetcode.com/problems/construct-binary-tree-from-preorder-and-inorder-traversal/\n",
    "\n",
    "Given preorder and inorder traversal of a tree, construct the binary tree.\n",
    "\n",
    "Note:<br>\n",
    "You may assume that duplicates do not exist in the tree.\n",
    "\n",
    "For example, given\n",
    "\n",
    "preorder = [3,9,20,15,7]<br>\n",
    "inorder = [9,3,15,20,7]<br>\n",
    "Return the following binary tree:<br>\n",
    "\n",
    "    3\n",
    "   / \\\n",
    "  9  20\n",
    "    /  \\\n",
    "   15   7"
   ]
  },
  {
   "cell_type": "markdown",
   "metadata": {},
   "source": [
    "### Solution 递归\n",
    ">preorder: root, left, right<br>\n",
    "inorder: left, root, right\n",
    "\n",
    "Runtime: 124 ms, faster than 64.36% of Python online submissions for Construct Binary Tree from Preorder and Inorder Traversal.<br>\n",
    "Memory Usage: 50.9 MB, less than 42.42% of Python online submissions for Construct Binary Tree from Preorder and Inorder Traversal."
   ]
  },
  {
   "cell_type": "code",
   "execution_count": 5,
   "metadata": {},
   "outputs": [],
   "source": [
    "# Definition for a binary tree node.\n",
    "# class TreeNode(object):\n",
    "#     def __init__(self, x):\n",
    "#         self.val = x\n",
    "#         self.left = None\n",
    "#         self.right = None\n",
    "\n",
    "class Solution(object):\n",
    "    def buildTree(self, preorder, inorder):\n",
    "        \"\"\"\n",
    "        :type preorder: List[int]\n",
    "        :type inorder: List[int]\n",
    "        :rtype: TreeNode\n",
    "        \"\"\"\n",
    "        if inorder:\n",
    "            val = preorder.pop(0)\n",
    "            index = inorder.index(val)\n",
    "            root = TreeNode(val)\n",
    "            root.left = self.buildTree(preorder,inorder[:index])\n",
    "            root.right = self.buildTree(preorder,inorder[index+1:])\n",
    "            return root"
   ]
  }
 ],
 "metadata": {
  "kernelspec": {
   "display_name": "Python 3",
   "language": "python",
   "name": "python3"
  },
  "language_info": {
   "codemirror_mode": {
    "name": "ipython",
    "version": 3
   },
   "file_extension": ".py",
   "mimetype": "text/x-python",
   "name": "python",
   "nbconvert_exporter": "python",
   "pygments_lexer": "ipython3",
   "version": "3.6.5"
  }
 },
 "nbformat": 4,
 "nbformat_minor": 2
}
