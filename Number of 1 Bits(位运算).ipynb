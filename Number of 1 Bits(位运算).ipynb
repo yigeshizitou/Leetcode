{
 "cells": [
  {
   "cell_type": "markdown",
   "metadata": {},
   "source": [
    "https://leetcode.com/problems/number-of-1-bits/description/\n",
    "\n",
    "https://github.com/azl397985856/leetcode/blob/master/problems/191.number-of-1-bits.md\n",
    "\n",
    "Write a function that takes an unsigned integer and return the number of '1' bits it has (also known as the Hamming weight).\n",
    "\n",
    " \n",
    "\n",
    "**Example 1:**\n",
    "\n",
    "Input: 00000000000000000000000000001011<br>\n",
    "Output: 3<br>\n",
    "Explanation: The input binary string 00000000000000000000000000001011 has a total of three '1' bits.\n",
    "\n",
    "**Example 2:**\n",
    "\n",
    "Input: 00000000000000000000000010000000<br>\n",
    "Otput: 1<br>\n",
    "Explanation: The input binary string 00000000000000000000000010000000 has a total of one '1' bit.\n",
    "\n",
    "**Example 3:**\n",
    "\n",
    "Input: 11111111111111111111111111111101<br>\n",
    "Output: 31<br>\n",
    "Explanation: The input binary string 11111111111111111111111111111101 has a total of thirty one '1' bits."
   ]
  },
  {
   "cell_type": "markdown",
   "metadata": {},
   "source": [
    "### Solution 1\n",
    "\n",
    ">n & 1 == 1, 说明n的最后一位是1<br>\n",
    "n & 1 == 0, 说明n的最后一位是0\n",
    "\n",
    "Runtime: **24 ms**, faster than 19.02% of Python online submissions for Number of 1 Bits.<br>\n",
    "Memory Usage: **11.9 MB**, less than 5.00% of Python online submissions for Number of 1 Bits."
   ]
  },
  {
   "cell_type": "code",
   "execution_count": 1,
   "metadata": {
    "ExecuteTime": {
     "end_time": "2019-09-16T20:02:48.363813Z",
     "start_time": "2019-09-16T20:02:48.361593Z"
    }
   },
   "outputs": [],
   "source": [
    "def hammingWeight(n):\n",
    "    count = 0\n",
    "    for i in range(32):\n",
    "        if n & 1 == 1:\n",
    "            count += 1\n",
    "        n >>= 1\n",
    "    return count"
   ]
  },
  {
   "cell_type": "markdown",
   "metadata": {},
   "source": [
    "### Solution 2\n",
    ">不断进行n = n & (n - 1)直到n == 0 <br>\n",
    "1 & 1 = 1<br>\n",
    "1 & 0 = 0 & 1 = 0 & 0 = 0\n",
    "\n",
    "Runtime: **16 ms**, faster than 77.85% of Python online submissions for Number of 1 Bits.<br>\n",
    "Memory Usage: **11.8 MB**, less than 57.50% of Python online submissions for Number of 1 Bits."
   ]
  },
  {
   "cell_type": "code",
   "execution_count": 17,
   "metadata": {
    "ExecuteTime": {
     "end_time": "2019-09-16T20:12:51.713130Z",
     "start_time": "2019-09-16T20:12:51.710103Z"
    }
   },
   "outputs": [],
   "source": [
    "def hammingWeight(n):\n",
    "    if n == 0:\n",
    "        return 0\n",
    "    count = 0\n",
    "    while n & (n-1) != 0:\n",
    "        count += 1\n",
    "        n = n & (n-1)\n",
    "    return count+1"
   ]
  },
  {
   "cell_type": "markdown",
   "metadata": {},
   "source": [
    "### Solution 3\n",
    ">不断进行n = n & (n - 1)直到n == 0 优化\n",
    "\n",
    "Runtime: **12 ms**, faster than 93.19% of Python online submissions for Number of 1 Bits.<br>\n",
    "Memory Usage: **11.6 MB**, less than 100.00% of Python online submissions for Number of 1 Bits."
   ]
  },
  {
   "cell_type": "code",
   "execution_count": 35,
   "metadata": {
    "ExecuteTime": {
     "end_time": "2019-09-16T20:23:32.667745Z",
     "start_time": "2019-09-16T20:23:32.665533Z"
    }
   },
   "outputs": [],
   "source": [
    "def hammingWeight(n):\n",
    "    count = 0\n",
    "    while n:\n",
    "        count += 1\n",
    "        n = n & (n-1)\n",
    "    return count"
   ]
  },
  {
   "cell_type": "code",
   "execution_count": 36,
   "metadata": {
    "ExecuteTime": {
     "end_time": "2019-09-16T20:23:33.043200Z",
     "start_time": "2019-09-16T20:23:33.036219Z"
    },
    "scrolled": true
   },
   "outputs": [
    {
     "data": {
      "text/plain": [
       "3"
      ]
     },
     "execution_count": 36,
     "metadata": {},
     "output_type": "execute_result"
    }
   ],
   "source": [
    "n = int(\"0101001\", 2)\n",
    "hammingWeight(n)"
   ]
  },
  {
   "cell_type": "code",
   "execution_count": null,
   "metadata": {},
   "outputs": [],
   "source": []
  }
 ],
 "metadata": {
  "kernelspec": {
   "display_name": "Python 3",
   "language": "python",
   "name": "python3"
  },
  "language_info": {
   "codemirror_mode": {
    "name": "ipython",
    "version": 3
   },
   "file_extension": ".py",
   "mimetype": "text/x-python",
   "name": "python",
   "nbconvert_exporter": "python",
   "pygments_lexer": "ipython3",
   "version": "3.6.5"
  },
  "varInspector": {
   "cols": {
    "lenName": 16,
    "lenType": 16,
    "lenVar": 40
   },
   "kernels_config": {
    "python": {
     "delete_cmd_postfix": "",
     "delete_cmd_prefix": "del ",
     "library": "var_list.py",
     "varRefreshCmd": "print(var_dic_list())"
    },
    "r": {
     "delete_cmd_postfix": ") ",
     "delete_cmd_prefix": "rm(",
     "library": "var_list.r",
     "varRefreshCmd": "cat(var_dic_list()) "
    }
   },
   "types_to_exclude": [
    "module",
    "function",
    "builtin_function_or_method",
    "instance",
    "_Feature"
   ],
   "window_display": false
  }
 },
 "nbformat": 4,
 "nbformat_minor": 2
}
