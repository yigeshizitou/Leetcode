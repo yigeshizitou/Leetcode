{
 "cells": [
  {
   "cell_type": "markdown",
   "metadata": {},
   "source": [
    "https://leetcode.com/problems/combination-sum-ii/description/\n",
    "\n",
    "https://github.com/azl397985856/leetcode/blob/master/problems/40.combination-sum-ii.md\n",
    "\n",
    "Given a collection of candidate numbers (candidates) and a target number (target), find all unique combinations in candidates where the candidate numbers sums to target.\n",
    "\n",
    "Each number in candidates may only be used once in the combination.\n",
    "\n",
    "Note:\n",
    "\n",
    "All numbers (including target) will be positive integers.<br>\n",
    "The solution set must not contain duplicate combinations.<br>\n",
    "\n",
    "Example 1:<br>\n",
    "\n",
    "Input: candidates = [10,1,2,7,6,1,5], target = 8,<br>\n",
    "A solution set is:<br>\n",
    "[<br>\n",
    "  [1, 7],<br>\n",
    "  [1, 2, 5],<br>\n",
    "  [2, 6],<br>\n",
    "  [1, 1, 6]<br>\n",
    "]\n",
    "\n",
    "Example 2:\n",
    "\n",
    "Input: candidates = [2,5,2,1,2], target = 5,<br>\n",
    "A solution set is:<br>\n",
    "[<br>\n",
    "  [1,2,2],<br>\n",
    "  [5]<br>\n",
    "]"
   ]
  },
  {
   "cell_type": "markdown",
   "metadata": {},
   "source": [
    "### Solution 1\n",
    ">回溯\n",
    "\n",
    "Runtime: **652 ms**, faster than 8.26% of Python online submissions for Combination Sum II.<br>\n",
    "Memory Usage: **11.7 MB**, less than 80.65% of Python online submissions for Combination Sum II."
   ]
  },
  {
   "cell_type": "code",
   "execution_count": 164,
   "metadata": {
    "ExecuteTime": {
     "end_time": "2019-10-07T14:29:06.907398Z",
     "start_time": "2019-10-07T14:29:06.902168Z"
    }
   },
   "outputs": [],
   "source": [
    "class Solution(object):\n",
    "    def combinationSum2(self, candidates, target):\n",
    "        \"\"\"\n",
    "        :type candidates: List[int]\n",
    "        :type target: int\n",
    "        :rtype: List[List[int]]\n",
    "        author: Chong\n",
    "        \"\"\"\n",
    "        candidates = sorted(candidates)\n",
    "        self.res = []\n",
    "\n",
    "        def dfs(candidates, temp, index, reminder):\n",
    "            if reminder == 0 and temp not in self.res:\n",
    "                self.res.append(temp[:])\n",
    "                return\n",
    "            if reminder < 0:\n",
    "                return\n",
    "            for i in range(index, len(candidates)):\n",
    "                temp.append(candidates[i])\n",
    "                dfs(candidates, temp, i+1, reminder-candidates[i])\n",
    "                temp.pop()\n",
    "        dfs(candidates, [], 0, target)\n",
    "        return self.res"
   ]
  },
  {
   "cell_type": "markdown",
   "metadata": {},
   "source": [
    "### Solution 2\n",
    ">递归<br>\n",
    "关键在于重复元素在每一层只能出现一次\n",
    "\n",
    "Runtime: **28 ms**, faster than 96.18% of Python online submissions for Combination Sum II.<br>\n",
    "Memory Usage: **11.8 MB**, less than 51.61% of Python online submissions for Combination Sum II."
   ]
  },
  {
   "cell_type": "code",
   "execution_count": 31,
   "metadata": {
    "ExecuteTime": {
     "end_time": "2019-10-07T20:57:00.124627Z",
     "start_time": "2019-10-07T20:57:00.117302Z"
    }
   },
   "outputs": [],
   "source": [
    "class Solution(object):\n",
    "    def combinationSum2(self, candidates, target):\n",
    "        candidates.sort()\n",
    "        result = []\n",
    "        self.combine_sum_2(candidates, 0, [], result, target)\n",
    "        return result\n",
    "\n",
    "    def combine_sum_2(self, nums, start, path, result, target):\n",
    "        if not target:\n",
    "            result.append(path)\n",
    "            return\n",
    "        for i in range(start, len(nums)):\n",
    "            if i > start and nums[i] == nums[i - 1]:\n",
    "                continue\n",
    "            if nums[i] > target:\n",
    "                break\n",
    "            self.combine_sum_2(nums, i + 1, path + [nums[i]],\n",
    "                               result, target - nums[i])"
   ]
  },
  {
   "cell_type": "code",
   "execution_count": 32,
   "metadata": {
    "ExecuteTime": {
     "end_time": "2019-10-07T20:57:00.415793Z",
     "start_time": "2019-10-07T20:57:00.412759Z"
    }
   },
   "outputs": [],
   "source": [
    "a = Solution()"
   ]
  },
  {
   "cell_type": "code",
   "execution_count": 33,
   "metadata": {
    "ExecuteTime": {
     "end_time": "2019-10-07T20:57:00.781579Z",
     "start_time": "2019-10-07T20:57:00.777629Z"
    }
   },
   "outputs": [],
   "source": [
    "candidates = [2,5,2,1,2]\n",
    "target = 5"
   ]
  },
  {
   "cell_type": "code",
   "execution_count": 34,
   "metadata": {
    "ExecuteTime": {
     "end_time": "2019-10-07T20:57:01.222040Z",
     "start_time": "2019-10-07T20:57:01.217061Z"
    }
   },
   "outputs": [
    {
     "data": {
      "text/plain": [
       "[[1, 2, 2], [5]]"
      ]
     },
     "execution_count": 34,
     "metadata": {},
     "output_type": "execute_result"
    }
   ],
   "source": [
    "a.combinationSum2(candidates, target)"
   ]
  }
 ],
 "metadata": {
  "kernelspec": {
   "display_name": "Python 3",
   "language": "python",
   "name": "python3"
  },
  "language_info": {
   "codemirror_mode": {
    "name": "ipython",
    "version": 3
   },
   "file_extension": ".py",
   "mimetype": "text/x-python",
   "name": "python",
   "nbconvert_exporter": "python",
   "pygments_lexer": "ipython3",
   "version": "3.6.5"
  },
  "varInspector": {
   "cols": {
    "lenName": 16,
    "lenType": 16,
    "lenVar": 40
   },
   "kernels_config": {
    "python": {
     "delete_cmd_postfix": "",
     "delete_cmd_prefix": "del ",
     "library": "var_list.py",
     "varRefreshCmd": "print(var_dic_list())"
    },
    "r": {
     "delete_cmd_postfix": ") ",
     "delete_cmd_prefix": "rm(",
     "library": "var_list.r",
     "varRefreshCmd": "cat(var_dic_list()) "
    }
   },
   "types_to_exclude": [
    "module",
    "function",
    "builtin_function_or_method",
    "instance",
    "_Feature"
   ],
   "window_display": false
  }
 },
 "nbformat": 4,
 "nbformat_minor": 2
}
