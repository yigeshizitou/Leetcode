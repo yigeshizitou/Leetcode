{
 "cells": [
  {
   "cell_type": "markdown",
   "metadata": {},
   "source": [
    "https://leetcode.com/problems/palindrome-partitioning/\n",
    "\n",
    "Given a string s, partition s such that every substring of the partition is a palindrome.\n",
    "\n",
    "Return all possible palindrome partitioning of s.\n",
    "\n",
    "Example:\n",
    "\n",
    "Input: \"aab\"<br>\n",
    "Output:<br>\n",
    "[<br>\n",
    "  [\"aa\",\"b\"],<br>\n",
    "  [\"a\",\"a\",\"b\"]<br>\n",
    "]"
   ]
  },
  {
   "cell_type": "markdown",
   "metadata": {},
   "source": [
    "### Solution 1 动态规划\n",
    "> dp[i] 保存 s[:i] 的 partition 组合<br>\n",
    "dp[i+1] = dp[j] + s[j:i+1] 如果 s[j:i+1] 是 partition\n",
    "\n",
    "Runtime: **52 ms**, faster than 92.59% of Python online submissions for Palindrome Partitioning.<br>\n",
    "Memory Usage: **13.1 MB**, less than 35.29% of Python online submissions for Palindrome Partitioning."
   ]
  },
  {
   "cell_type": "code",
   "execution_count": 44,
   "metadata": {
    "ExecuteTime": {
     "end_time": "2019-11-01T08:42:57.204923Z",
     "start_time": "2019-11-01T08:42:57.201950Z"
    }
   },
   "outputs": [],
   "source": [
    "class Solution(object):\n",
    "    def partition(self, s):\n",
    "        \"\"\"\n",
    "        :type s: str\n",
    "        :rtype: List[List[str]]\n",
    "        author: Chong\n",
    "        \"\"\"\n",
    "        if not s:\n",
    "            return []\n",
    "        dp = [[] for _ in range(len(s)+1)]\n",
    "        dp[0], dp[1] = [[]], [[s[0]]]\n",
    "        for i in range(1, len(s)):\n",
    "            for j in range(0, i+1):\n",
    "                if s[j:i+1] == s[j:i+1][::-1]:\n",
    "                    for x in dp[j]:\n",
    "                        dp[i+1].append(x+[s[j:i+1]])\n",
    "\n",
    "        return dp[-1]"
   ]
  },
  {
   "cell_type": "markdown",
   "metadata": {},
   "source": [
    "### Solution 2 回溯\n",
    "> dfs(self, s, path, res) 返回 s 的 partition 组合<br>\n",
    "如果 s[:i] 是 partition，res += [s[:i]] + (s[i:] 的 partition 排列组合)<br>\n",
    "dfs(s[i:], path+[s[:i]], res)\n",
    "\n",
    "Runtime: **76 ms**, faster than 57.08% of Python online submissions for Palindrome Partitioning.<br>\n",
    "Memory Usage: **12.2 MB**, less than 70.59% of Python online submissions for Palindrome Partitioning."
   ]
  },
  {
   "cell_type": "code",
   "execution_count": 46,
   "metadata": {
    "ExecuteTime": {
     "end_time": "2019-11-01T08:43:11.859722Z",
     "start_time": "2019-11-01T08:43:11.855678Z"
    }
   },
   "outputs": [],
   "source": [
    "class Solution(object):\n",
    "    def partition(self, s):\n",
    "        res = []\n",
    "        self.dfs(s, [], res)\n",
    "        return res\n",
    "\n",
    "    def dfs(self, s, path, res):\n",
    "        if not s:\n",
    "            res.append(path)\n",
    "            return\n",
    "        for i in range(1, len(s)+1):\n",
    "            if self.isPal(s[:i]):\n",
    "                self.dfs(s[i:], path+[s[:i]], res)\n",
    "\n",
    "    def isPal(self, s):\n",
    "        return s == s[::-1]"
   ]
  },
  {
   "cell_type": "markdown",
   "metadata": {},
   "source": [
    "### Solution 3 回溯\n",
    ">回溯改进\n",
    "\n",
    "Runtime: **56 ms**, faster than 88.47% of Python online submissions for Palindrome Partitioning.<br>\n",
    "Memory Usage: **12.2 MB**, less than 70.59% of Python online submissions for Palindrome Partitioning."
   ]
  },
  {
   "cell_type": "code",
   "execution_count": 52,
   "metadata": {
    "ExecuteTime": {
     "end_time": "2019-11-01T08:49:01.285819Z",
     "start_time": "2019-11-01T08:49:01.280821Z"
    }
   },
   "outputs": [],
   "source": [
    "class Solution(object):\n",
    "    def partition(self, s):\n",
    "        return [[s[:i]] + rest\n",
    "                for i in range(1, len(s)+1)\n",
    "                if s[:i] == s[i-1::-1]\n",
    "                for rest in self.partition(s[i:])] or [[]]"
   ]
  },
  {
   "cell_type": "code",
   "execution_count": 53,
   "metadata": {
    "ExecuteTime": {
     "end_time": "2019-11-01T08:49:01.531565Z",
     "start_time": "2019-11-01T08:49:01.525533Z"
    }
   },
   "outputs": [
    {
     "data": {
      "text/plain": [
       "[['a', 'a', 'b', 'b', 'b'],\n",
       " ['a', 'a', 'b', 'bb'],\n",
       " ['a', 'a', 'bb', 'b'],\n",
       " ['a', 'a', 'bbb'],\n",
       " ['aa', 'b', 'b', 'b'],\n",
       " ['aa', 'b', 'bb'],\n",
       " ['aa', 'bb', 'b'],\n",
       " ['aa', 'bbb']]"
      ]
     },
     "execution_count": 53,
     "metadata": {},
     "output_type": "execute_result"
    }
   ],
   "source": [
    "s='aabbb'\n",
    "a=Solution()\n",
    "a.partition(s)"
   ]
  }
 ],
 "metadata": {
  "kernelspec": {
   "display_name": "Python 3",
   "language": "python",
   "name": "python3"
  },
  "language_info": {
   "codemirror_mode": {
    "name": "ipython",
    "version": 3
   },
   "file_extension": ".py",
   "mimetype": "text/x-python",
   "name": "python",
   "nbconvert_exporter": "python",
   "pygments_lexer": "ipython3",
   "version": "3.6.5"
  },
  "varInspector": {
   "cols": {
    "lenName": 16,
    "lenType": 16,
    "lenVar": 40
   },
   "kernels_config": {
    "python": {
     "delete_cmd_postfix": "",
     "delete_cmd_prefix": "del ",
     "library": "var_list.py",
     "varRefreshCmd": "print(var_dic_list())"
    },
    "r": {
     "delete_cmd_postfix": ") ",
     "delete_cmd_prefix": "rm(",
     "library": "var_list.r",
     "varRefreshCmd": "cat(var_dic_list()) "
    }
   },
   "types_to_exclude": [
    "module",
    "function",
    "builtin_function_or_method",
    "instance",
    "_Feature"
   ],
   "window_display": false
  }
 },
 "nbformat": 4,
 "nbformat_minor": 2
}
