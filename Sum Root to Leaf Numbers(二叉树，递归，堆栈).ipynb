{
 "cells": [
  {
   "cell_type": "markdown",
   "metadata": {},
   "source": [
    "https://leetcode.com/problems/sum-root-to-leaf-numbers/description/\n",
    "\n",
    "https://github.com/azl397985856/leetcode/blob/master/problems/129.sum-root-to-leaf-numbers.md\n",
    "\n",
    "Given a binary tree containing digits from 0-9 only, each root-to-leaf path could represent a number.\n",
    "\n",
    "An example is the root-to-leaf path 1->2->3 which represents the number 123.\n",
    "\n",
    "Find the total sum of all root-to-leaf numbers.\n",
    "\n",
    "Note: A leaf is a node with no children.\n",
    "\n",
    "Example:\n",
    "\n",
    "Input: [1,2,3]<br>\n",
    "    1\n",
    "   / \\\n",
    "  2   3\n",
    "Output: 25<br>\n",
    "Explanation:<br>\n",
    "The root-to-leaf path 1->2 represents the number 12.<br>\n",
    "The root-to-leaf path 1->3 represents the number 13.<br>\n",
    "Therefore, sum = 12 + 13 = 25.<br>\n",
    "Example 2:<br>\n",
    "\n",
    "Input: [4,9,0,5,1]<br>\n",
    "    4\n",
    "   / \\\n",
    "  9   0\n",
    " / \\\n",
    "5   1\n",
    "Output: 1026<br>\n",
    "Explanation:<br>\n",
    "The root-to-leaf path 4->9->5 represents the number 495.<br>\n",
    "The root-to-leaf path 4->9->1 represents the number 491.<br>\n",
    "The root-to-leaf path 4->0 represents the number 40.<br>\n",
    "Therefore, sum = 495 + 491 + 40 = 1026."
   ]
  },
  {
   "cell_type": "markdown",
   "metadata": {},
   "source": [
    "### Solution 1 递归\n",
    ">path 记录从 root 到 leaf 的 string<br>\n",
    "每个完整 path 转化成 int 之后相加\n",
    "\n",
    "Runtime: **12 ms**, faster than 96.41% of Python online submissions for Sum Root to Leaf Numbers.<br>\n",
    "Memory Usage: **9.03 MB**, less than 9.09% of Python online submissions for Sum Root to Leaf Numbers."
   ]
  },
  {
   "cell_type": "code",
   "execution_count": 8,
   "metadata": {
    "ExecuteTime": {
     "end_time": "2019-10-31T09:01:01.525132Z",
     "start_time": "2019-10-31T09:01:01.520133Z"
    }
   },
   "outputs": [],
   "source": [
    "class Solution(object):\n",
    "    def sumNumbers(self, root):\n",
    "        \"\"\"\n",
    "        :type root: TreeNode\n",
    "        :rtype: int\n",
    "        author: Chong\n",
    "        \"\"\"\n",
    "        if not root:\n",
    "            return 0\n",
    "        self.ans = 0\n",
    "\n",
    "        def dfs(root, path):\n",
    "            if not root.left and not root.right:\n",
    "                path += str(root.val)\n",
    "                self.ans += int(path)\n",
    "                return\n",
    "            if root.left:\n",
    "                dfs(root.left, path+str(root.val))\n",
    "            if root.right:\n",
    "                dfs(root.right, path+str(root.val))\n",
    "        dfs(root, '')\n",
    "        return self.ans"
   ]
  },
  {
   "cell_type": "markdown",
   "metadata": {},
   "source": [
    "### Solution 2 队列\n",
    ">使用两个队列：<br>\n",
    "1. 当前和队列：保存上一层每个结点的当前和（比如49和40）<br>\n",
    "2. 结点队列：保存当前层所有的非空结点<br>\n",
    "3. 每次循环按层处理结点队列。处理步骤<br><br>\n",
    "从结点队列取出一个结点<br>\n",
    "1. 从当前和队列将上一层对应的当前和取出来\n",
    "2. 若左子树非空，则将该值乘以10加上左子树的值，并添加到当前和队列中\n",
    "3. 若右子树非空，则将该值乘以10加上右子树的值，并添加到当前和队列中\n",
    "4. 若左右子树均为空时，将该节点的当前和加到返回值中\n",
    "\n",
    "Runtime: **12 ms**, faster than 96.41% of Python online submissions for Sum Root to Leaf Numbers.<br>\n",
    "Memory Usage: **12.1 MB**, less than 31.82% of Python online submissions for Sum Root to Leaf Numbers."
   ]
  },
  {
   "cell_type": "code",
   "execution_count": 9,
   "metadata": {
    "ExecuteTime": {
     "end_time": "2019-10-31T09:04:52.346247Z",
     "start_time": "2019-10-31T09:04:52.340267Z"
    }
   },
   "outputs": [],
   "source": [
    "class Solution(object):\n",
    "    def sumNumbers(self, root):\n",
    "        \"\"\"\n",
    "        :type root: TreeNode\n",
    "        :rtype: int\n",
    "        \"\"\"\n",
    "        if not root:\n",
    "            return 0\n",
    "        result = 0\n",
    "        node_queue, sum_queue = [root], [root.val]\n",
    "        while node_queue:\n",
    "            for i in node_queue:\n",
    "                cur_node = node_queue.pop(0)\n",
    "                cur_val = sum_queue.pop(0)\n",
    "                if cur_node.left:\n",
    "                    node_queue.append(cur_node.left)\n",
    "                    sum_queue.append(cur_val * 10 + cur_node.left.val)\n",
    "                if cur_node.right:\n",
    "                    node_queue.append(cur_node.right)\n",
    "                    sum_queue.append(cur_val * 10 + cur_node.right.val)\n",
    "                if not (cur_node.left or cur_node.right):\n",
    "                    result += cur_val\n",
    "        return result"
   ]
  },
  {
   "cell_type": "markdown",
   "metadata": {},
   "source": [
    "### Solution 3 递归\n",
    "> sum = 之前的和 * 10 + 当前值\n",
    "\n",
    "![avatar](https://github.com/azl397985856/leetcode/raw/master/assets/problems/129.sum-root-to-leaf-numbers-2.jpg)\n",
    "\n",
    "Runtime: **12 ms**, faster than 96.41% of Python online submissions for Sum Root to Leaf Numbers.<br>\n",
    "Memory Usage: **12.2 MB**, less than 13.64% of Python online submissions for Sum Root to Leaf Numbers."
   ]
  },
  {
   "cell_type": "code",
   "execution_count": 10,
   "metadata": {
    "ExecuteTime": {
     "end_time": "2019-10-31T09:12:44.778384Z",
     "start_time": "2019-10-31T09:12:44.774415Z"
    }
   },
   "outputs": [],
   "source": [
    "class Solution(object):\n",
    "    def sumNumbers(self, root):\n",
    "        \"\"\"\n",
    "        :type root: TreeNode\n",
    "        :rtype: int\n",
    "        \"\"\"\n",
    "        self.res = 0\n",
    "        self.dfs(root, 0)\n",
    "        return self.res\n",
    "\n",
    "    def dfs(self, root, value):\n",
    "        if root:\n",
    "            self.dfs(root.left, value*10+root.val)\n",
    "            self.dfs(root.right, value*10+root.val)\n",
    "            if not root.left and not root.right:\n",
    "                self.res += value*10 + root.val"
   ]
  }
 ],
 "metadata": {
  "kernelspec": {
   "display_name": "Python 3",
   "language": "python",
   "name": "python3"
  },
  "language_info": {
   "codemirror_mode": {
    "name": "ipython",
    "version": 3
   },
   "file_extension": ".py",
   "mimetype": "text/x-python",
   "name": "python",
   "nbconvert_exporter": "python",
   "pygments_lexer": "ipython3",
   "version": "3.6.5"
  },
  "varInspector": {
   "cols": {
    "lenName": 16,
    "lenType": 16,
    "lenVar": 40
   },
   "kernels_config": {
    "python": {
     "delete_cmd_postfix": "",
     "delete_cmd_prefix": "del ",
     "library": "var_list.py",
     "varRefreshCmd": "print(var_dic_list())"
    },
    "r": {
     "delete_cmd_postfix": ") ",
     "delete_cmd_prefix": "rm(",
     "library": "var_list.r",
     "varRefreshCmd": "cat(var_dic_list()) "
    }
   },
   "types_to_exclude": [
    "module",
    "function",
    "builtin_function_or_method",
    "instance",
    "_Feature"
   ],
   "window_display": false
  }
 },
 "nbformat": 4,
 "nbformat_minor": 2
}
