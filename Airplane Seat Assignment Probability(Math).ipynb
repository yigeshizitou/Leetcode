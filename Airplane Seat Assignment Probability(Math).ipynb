{
 "cells": [
  {
   "cell_type": "markdown",
   "metadata": {},
   "source": [
    "https://leetcode.com/problems/airplane-seat-assignment-probability/\n",
    "\n",
    "https://github.com/azl397985856/leetcode/blob/master/problems/1227.airplane-seat-assignment-probability.md\n",
    "\n",
    "n passengers board an airplane with exactly n seats. The first passenger has lost the ticket and picks a seat randomly. But after that, the rest of passengers will:\n",
    "\n",
    "Take their own seat if it is still available, <br>\n",
    "Pick other seats randomly when they find their seat occupied <br>\n",
    "What is the probability that the n-th person can get his own seat?\n",
    "\n",
    " \n",
    "\n",
    "Example 1:\n",
    "\n",
    "Input: n = 1<br>\n",
    "Output: 1.00000<br>\n",
    "Explanation: The first person can only get the first seat.<br>\n",
    "Example 2:\n",
    "\n",
    "Input: n = 2<br>\n",
    "Output: 0.50000<br>\n",
    "Explanation: The second person has a probability of 0.5 to get the second seat (when first person gets the first seat)."
   ]
  },
  {
   "cell_type": "markdown",
   "metadata": {},
   "source": [
    "### Solution 1 Math\n",
    "\n",
    ">我们定义原问题为 f(n)。对于第一个人来说，他有 n 中选择，就是分别选择 n 个座位中的一个。由于选择每个位置的概率是相同的，那么选择每个位置的概率应该都是 1 / n。<br>\n",
    "我们分三种情况来讨论：<br>\n",
    "如果第一个人选择了第一个人的位置（也就是选择了自己的位置），那么剩下的人按照票上的座位做就好了，这种情况第 n 个人一定能做到自己的位置<br>\n",
    "如果第一个人选择了第 n 个人的位置，那么第 n 个人肯定坐不到自己的位置。<br>\n",
    "如果第一个人选择了第 i (1 < i < n)个人的位置，那么第 i 个人就相当于变成了“票丢的人”，此时问题转化为 f(n - i + 1)。<br>\n",
    "$f(n) = 1/n + 0 + 1/n * (f(n-1) + f(n-2) + ... + f(2))$<br>\n",
    "$= 1/n * (f(n-1) + f(n-2) + ... + f(2) + 1)$<br>\n",
    "$= 1/n * (f(n-1) + f(n-2) + ... + f(2) + f(1))$<br>\n",
    "$f(n-1) = 1/(n-1) * (f(n-2) + f(n-3) + ... + f(1))$<br>\n",
    "$n * f(n) = f(n-1) + f(n-2) + f(n-3) + ... + f(1)$<br>\n",
    "$(n-1) * f(n-1) = f(n-2) + f(n-3) + ... + f(1)$<br>\n",
    "$n * f(n) - (n-1)*f(n-1) = f(n-1)$<br>\n",
    "$n * f(n) = n * f(n-1)$<br>\n",
    "$f(n) = f(n - 1)$\n",
    "\n",
    "Runtime: **12 ms**, faster than 89.36% of Python online submissions for Airplane Seat Assignment Probability.<br>\n",
    "Memory Usage: **11.9 MB**, less than 100.00% of Python online submissions for Airplane Seat Assignment Probability."
   ]
  },
  {
   "cell_type": "code",
   "execution_count": 5,
   "metadata": {},
   "outputs": [],
   "source": [
    "class Solution(object):\n",
    "    def nthPersonGetsNthSeat(self, n):\n",
    "        \"\"\"\n",
    "        :type n: int\n",
    "        :rtype: float\n",
    "        author: Chong\n",
    "        \"\"\"\n",
    "        return 0.50000 if n>1 else 1"
   ]
  },
  {
   "cell_type": "code",
   "execution_count": 4,
   "metadata": {},
   "outputs": [
    {
     "data": {
      "text/plain": [
       "0.5"
      ]
     },
     "execution_count": 4,
     "metadata": {},
     "output_type": "execute_result"
    }
   ],
   "source": [
    "a = Solution()\n",
    "n = 4\n",
    "a.nthPersonGetsNthSeat(n)"
   ]
  },
  {
   "cell_type": "code",
   "execution_count": null,
   "metadata": {},
   "outputs": [],
   "source": []
  }
 ],
 "metadata": {
  "kernelspec": {
   "display_name": "Python 3",
   "language": "python",
   "name": "python3"
  },
  "language_info": {
   "codemirror_mode": {
    "name": "ipython",
    "version": 3
   },
   "file_extension": ".py",
   "mimetype": "text/x-python",
   "name": "python",
   "nbconvert_exporter": "python",
   "pygments_lexer": "ipython3",
   "version": "3.6.5"
  }
 },
 "nbformat": 4,
 "nbformat_minor": 2
}
