{
 "cells": [
  {
   "cell_type": "markdown",
   "metadata": {},
   "source": [
    "https://leetcode.com/problems/set-matrix-zeroes/description/\n",
    "\n",
    "https://github.com/azl397985856/leetcode/blob/master/problems/73.set-matrix-zeroes.md\n",
    "\n",
    "Given a m x n matrix, if an element is 0, set its entire row and column to 0. Do it in-place.\n",
    "\n",
    "Example 1:\n",
    "\n",
    "Input: <br>\n",
    "[<br>\n",
    "  [1,1,1],<br>\n",
    "  [1,0,1],<br>\n",
    "  [1,1,1]<br>\n",
    "]<br>\n",
    "Output: <br>\n",
    "[<br>\n",
    "  [1,0,1],<br>\n",
    "  [0,0,0],<br>\n",
    "  [1,0,1]<br>\n",
    "]<br>\n",
    "Example 2:\n",
    "\n",
    "Input: <br>\n",
    "[<br>\n",
    "  [0,1,2,0],<br>\n",
    "  [3,4,5,2],<br>\n",
    "  [1,3,1,5]<br>\n",
    "]<br>\n",
    "Output: <br>\n",
    "[<br>\n",
    "  [0,0,0,0],<br>\n",
    "  [0,4,5,0],<br>\n",
    "  [0,3,1,0]<br>\n",
    "]"
   ]
  },
  {
   "cell_type": "markdown",
   "metadata": {},
   "source": [
    "### Solution 1\n",
    ">找到0的位置，修改对应行列<br>\n",
    "这样的时间复杂度 O(m * n), 空间复杂度 O(m + n)\n",
    "\n",
    "Runtime: **112 ms**, faster than 85.07% of Python online submissions for Set Matrix Zeroes.<br>\n",
    "Memory Usage: **12.4 MB**, less than 34.78% of Python online submissions for Set Matrix Zeroes."
   ]
  },
  {
   "cell_type": "code",
   "execution_count": 36,
   "metadata": {
    "ExecuteTime": {
     "end_time": "2019-10-14T10:01:01.213001Z",
     "start_time": "2019-10-14T10:01:01.204999Z"
    }
   },
   "outputs": [],
   "source": [
    "class Solution(object):\n",
    "    def setZeroes(self, matrix):\n",
    "        \"\"\"\n",
    "        :type matrix: List[List[int]]\n",
    "        :rtype: None Do not return anything, modify matrix in-place instead.\n",
    "        author: Chong\n",
    "        \"\"\"\n",
    "        loc_i = []\n",
    "        loc_j = []\n",
    "        for i in range(len(matrix)):\n",
    "            for j in range(len(matrix[0])):\n",
    "                if matrix[i][j] == 0:\n",
    "                    if i not in loc_i:\n",
    "                        loc_i.append(i)\n",
    "                    if j not in loc_j:\n",
    "                        loc_j.append(j)\n",
    "        for i in loc_i:\n",
    "            matrix[i] = [0]*len(matrix[i])\n",
    "        for j in loc_j:\n",
    "            for i in range(len(matrix)):\n",
    "                matrix[i][j] = 0\n",
    "        return matrix"
   ]
  },
  {
   "cell_type": "markdown",
   "metadata": {},
   "source": [
    "### Solution 2\n",
    ">用第一行和第一列记录0的位置<br>\n",
    "除第一行外，从右到左改变<br>\n",
    "改变第一行\n",
    "\n",
    "Runtime: **116 ms**, faster than 66.36% of Python online submissions for Set Matrix Zeroes.\n",
    "Memory Usage: **12.5 MB**, less than 13.04% of Python online submissions for Set Matrix Zeroes."
   ]
  },
  {
   "cell_type": "code",
   "execution_count": 40,
   "metadata": {
    "ExecuteTime": {
     "end_time": "2019-10-14T11:48:54.064586Z",
     "start_time": "2019-10-14T11:48:54.056585Z"
    }
   },
   "outputs": [],
   "source": [
    "class Solution(object):\n",
    "\n",
    "    def setZeroes(self, matrix):\n",
    "        firstRowHasZero = not all(matrix[0])\n",
    "        for i in range(1, len(matrix)):\n",
    "            for j in range(len(matrix[0])):\n",
    "                if matrix[i][j] == 0:\n",
    "                    matrix[0][j] = 0\n",
    "                    matrix[i][0] = 0\n",
    "\n",
    "        for i in range(1, len(matrix)):\n",
    "            for j in range(len(matrix[0])-1, -1, -1):\n",
    "                if matrix[0][j] == 0 or matrix[i][0] == 0:\n",
    "                    matrix[i][j] = 0\n",
    "\n",
    "        if firstRowHasZero:\n",
    "            matrix[0] = [0]*len(matrix[0])"
   ]
  },
  {
   "cell_type": "code",
   "execution_count": 41,
   "metadata": {
    "ExecuteTime": {
     "end_time": "2019-10-14T11:48:54.517206Z",
     "start_time": "2019-10-14T11:48:54.512196Z"
    }
   },
   "outputs": [],
   "source": [
    "matrix = [\n",
    "    [0, 1, 2, 0],\n",
    "    [3, 4, 5, 2],\n",
    "    [1, 3, 1, 5]\n",
    "]"
   ]
  },
  {
   "cell_type": "code",
   "execution_count": 42,
   "metadata": {
    "ExecuteTime": {
     "end_time": "2019-10-14T11:48:55.108166Z",
     "start_time": "2019-10-14T11:48:55.103731Z"
    }
   },
   "outputs": [
    {
     "name": "stdout",
     "output_type": "stream",
     "text": [
      "True\n"
     ]
    }
   ],
   "source": [
    "a = Solution()\n",
    "a.setZeroes(matrix)"
   ]
  },
  {
   "cell_type": "code",
   "execution_count": null,
   "metadata": {},
   "outputs": [],
   "source": []
  }
 ],
 "metadata": {
  "kernelspec": {
   "display_name": "Python 3",
   "language": "python",
   "name": "python3"
  },
  "language_info": {
   "codemirror_mode": {
    "name": "ipython",
    "version": 3
   },
   "file_extension": ".py",
   "mimetype": "text/x-python",
   "name": "python",
   "nbconvert_exporter": "python",
   "pygments_lexer": "ipython3",
   "version": "3.6.5"
  },
  "varInspector": {
   "cols": {
    "lenName": 16,
    "lenType": 16,
    "lenVar": 40
   },
   "kernels_config": {
    "python": {
     "delete_cmd_postfix": "",
     "delete_cmd_prefix": "del ",
     "library": "var_list.py",
     "varRefreshCmd": "print(var_dic_list())"
    },
    "r": {
     "delete_cmd_postfix": ") ",
     "delete_cmd_prefix": "rm(",
     "library": "var_list.r",
     "varRefreshCmd": "cat(var_dic_list()) "
    }
   },
   "types_to_exclude": [
    "module",
    "function",
    "builtin_function_or_method",
    "instance",
    "_Feature"
   ],
   "window_display": false
  }
 },
 "nbformat": 4,
 "nbformat_minor": 2
}
