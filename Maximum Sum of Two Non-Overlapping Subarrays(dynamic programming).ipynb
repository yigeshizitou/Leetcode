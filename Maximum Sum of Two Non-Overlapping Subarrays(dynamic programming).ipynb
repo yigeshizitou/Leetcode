{
 "cells": [
  {
   "cell_type": "markdown",
   "metadata": {},
   "source": [
    "https://leetcode.com/problems/maximum-sum-of-two-non-overlapping-subarrays/\n",
    "    \n",
    "Given an array A of non-negative integers, return the maximum sum of elements in two non-overlapping (contiguous) subarrays, which have lengths L and M.  (For clarification, the L-length subarray could occur before or after the M-length subarray.)\n",
    "\n",
    "Formally, return the largest V for which V = (A[i] + A[i+1] + ... + A[i+L-1]) + (A[j] + A[j+1] + ... + A[j+M-1]) and either:\n",
    "\n",
    "0 <= i < i + L - 1 < j < j + M - 1 < A.length, or\n",
    "0 <= j < j + M - 1 < i < i + L - 1 < A.length.\n",
    " \n",
    "\n",
    "Example 1:\n",
    "\n",
    "Input: A = [0,6,5,2,2,5,1,9,4], L = 1, M = 2<br>\n",
    "Output: 20<br>\n",
    "Explanation: One choice of subarrays is [9] with length 1, and [6,5] with length 2.<br>\n",
    "Example 2:\n",
    "\n",
    "Input: A = [3,8,1,3,2,1,8,9,0], L = 3, M = 2<br>\n",
    "Output: 29<br>\n",
    "Explanation: One choice of subarrays is [3,8,1] with length 3, and [8,9] with length 2.<br>\n",
    "Example 3:\n",
    "\n",
    "Input: A = [2,1,5,6,0,9,5,0,3,8], L = 4, M = 3<br>\n",
    "Output: 31<br>\n",
    "Explanation: One choice of subarrays is [5,6,0,9] with length 4, and [3,8] with length 3. "
   ]
  },
  {
   "cell_type": "markdown",
   "metadata": {},
   "source": [
    "### Solution 1 dynamic programming \n",
    "\n",
    "> maxM, maxL, maxML are used to record the maximum sum of subsrray of length M, of length L, and two non-overlapping subarrays of length M and length L<br>\n",
    "For maxML, there are three situations:\n",
    "\n",
    "![avatar](https://github.com/azl397985856/leetcode/raw/master/assets/problems/1031.maximum-sum-of-two-non-overlapping-subarrays.png)\n",
    "\n",
    "Runtime: **88 ms**, faster than 22.54% of Python online submissions for Maximum Sum of Two Non-Overlapping Subarrays.<br>\n",
    "Memory Usage: **11.8 MB**, less than 100.00% of Python online submissions for Maximum Sum of Two Non-Overlapping Subarrays."
   ]
  },
  {
   "cell_type": "code",
   "execution_count": 14,
   "metadata": {},
   "outputs": [],
   "source": [
    "class Solution(object):\n",
    "    def maxSumTwoNoOverlap(self, A, L, M):\n",
    "        \"\"\"\n",
    "        :type A: List[int]\n",
    "        :type L: int\n",
    "        :type M: int\n",
    "        :rtype: int\n",
    "        author: Chong\n",
    "        \"\"\"\n",
    "        maxM, maxL, maxML = [0]*len(A), [0]*len(A), [0]*len(A)\n",
    "        for i in range(len(A)):\n",
    "            if i >= M-1:\n",
    "                maxM[i] = max(maxM[i-1], sum(A[i-M+1:i+1]))\n",
    "            if i >= L-1:\n",
    "                maxL[i] = max(maxL[i-1], sum(A[i-L+1:i+1]))\n",
    "            if i >= L+M-1:\n",
    "                maxML[i] = max(maxML[i-1], sum(A[i-M+1:i+1])+maxL[i-M], sum(A[i-L+1:i+1])+maxM[i-L])\n",
    "        return maxML[-1]"
   ]
  },
  {
   "cell_type": "code",
   "execution_count": 13,
   "metadata": {},
   "outputs": [
    {
     "data": {
      "text/plain": [
       "29"
      ]
     },
     "execution_count": 13,
     "metadata": {},
     "output_type": "execute_result"
    }
   ],
   "source": [
    "a = Solution()\n",
    "A = [3,8,1,3,2,1,8,9,0]\n",
    "L = 3\n",
    "M = 2\n",
    "a.maxSumTwoNoOverlap(A, L, M)"
   ]
  },
  {
   "cell_type": "code",
   "execution_count": null,
   "metadata": {},
   "outputs": [],
   "source": []
  }
 ],
 "metadata": {
  "kernelspec": {
   "display_name": "Python 3",
   "language": "python",
   "name": "python3"
  },
  "language_info": {
   "codemirror_mode": {
    "name": "ipython",
    "version": 3
   },
   "file_extension": ".py",
   "mimetype": "text/x-python",
   "name": "python",
   "nbconvert_exporter": "python",
   "pygments_lexer": "ipython3",
   "version": "3.6.5"
  }
 },
 "nbformat": 4,
 "nbformat_minor": 2
}
