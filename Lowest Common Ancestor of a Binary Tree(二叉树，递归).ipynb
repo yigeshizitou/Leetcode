{
 "cells": [
  {
   "cell_type": "markdown",
   "metadata": {},
   "source": [
    "https://leetcode.com/problems/lowest-common-ancestor-of-a-binary-tree/description/\n",
    "\n",
    "Given a binary tree, find the lowest common ancestor (LCA) of two given nodes in the tree.\n",
    "\n",
    "According to the definition of LCA on Wikipedia: “The lowest common ancestor is defined between two nodes p and q as the lowest node in T that has both p and q as descendants (where we allow a node to be a descendant of itself).”\n",
    "\n",
    "Given the following binary tree:  root = [3,5,1,6,2,0,8,null,null,7,4]\n",
    "\n",
    "![avatar](https://assets.leetcode.com/uploads/2018/12/14/binarytree.png)\n",
    " \n",
    "\n",
    "Example 1:\n",
    "\n",
    "Input: root = [3,5,1,6,2,0,8,null,null,7,4], p = 5, q = 1<br>\n",
    "Output: 3<br>\n",
    "Explanation: The LCA of nodes 5 and 1 is 3.<br>\n",
    "Example 2:\n",
    "\n",
    "Input: root = [3,5,1,6,2,0,8,null,null,7,4], p = 5, q = 4<br>\n",
    "Output: 5<br>\n",
    "Explanation: The LCA of nodes 5 and 4 is 5, since a node can be a descendant of itself according to the LCA definition.\n",
    " \n",
    "\n",
    "Note:\n",
    "\n",
    "All of the nodes' values will be unique.<br>\n",
    "p and q are different and both values will exist in the binary tree."
   ]
  },
  {
   "cell_type": "markdown",
   "metadata": {},
   "source": [
    "### Solution 1 递归\n",
    ">问题的本质是找到一个节点，使得 p 和 q 分别在它的左子树和右子树<br>\n",
    "if left and right: 找到了该节点<br>\n",
    "if not left and right: 节点在右子树<br>\n",
    "if not right and left: 节点在左子树<br>\n",
    "if not right and not left: 查找结束，返回 None<br>\n",
    "结束条件：节点为 None or p or q\n",
    "\n",
    "\n",
    "Runtime: **56 ms**, faster than 96.10% of Python online submissions for Lowest Common Ancestor of a Binary Tree.<br>\n",
    "Memory Usage: **24.2 MB**, less than 37.25% of Python online submissions for Lowest Common Ancestor of a Binary Tree."
   ]
  },
  {
   "cell_type": "code",
   "execution_count": 1,
   "metadata": {
    "ExecuteTime": {
     "end_time": "2019-12-16T14:02:46.684109Z",
     "start_time": "2019-12-16T14:02:46.677799Z"
    }
   },
   "outputs": [],
   "source": [
    "class Solution(object):\n",
    "    def lowestCommonAncestor(self, root, p, q):\n",
    "        \"\"\"\n",
    "        :type root: TreeNode\n",
    "        :type p: TreeNode\n",
    "        :type q: TreeNode\n",
    "        :rtype: TreeNode\n",
    "        \"\"\"\n",
    "        if not root:\n",
    "            return None\n",
    "        if root == p or root == q:\n",
    "            return root\n",
    "        left = self.lowestCommonAncestor(root.left, p, q)\n",
    "        right = self.lowestCommonAncestor(root.right, p, q)\n",
    "        if left and right:\n",
    "            return root\n",
    "        if not left and not right:\n",
    "            return None\n",
    "        if not right and left:\n",
    "            return left\n",
    "        if not left and right:\n",
    "            return right"
   ]
  }
 ],
 "metadata": {
  "kernelspec": {
   "display_name": "Python 3",
   "language": "python",
   "name": "python3"
  },
  "language_info": {
   "codemirror_mode": {
    "name": "ipython",
    "version": 3
   },
   "file_extension": ".py",
   "mimetype": "text/x-python",
   "name": "python",
   "nbconvert_exporter": "python",
   "pygments_lexer": "ipython3",
   "version": "3.6.5"
  },
  "varInspector": {
   "cols": {
    "lenName": 16,
    "lenType": 16,
    "lenVar": 40
   },
   "kernels_config": {
    "python": {
     "delete_cmd_postfix": "",
     "delete_cmd_prefix": "del ",
     "library": "var_list.py",
     "varRefreshCmd": "print(var_dic_list())"
    },
    "r": {
     "delete_cmd_postfix": ") ",
     "delete_cmd_prefix": "rm(",
     "library": "var_list.r",
     "varRefreshCmd": "cat(var_dic_list()) "
    }
   },
   "types_to_exclude": [
    "module",
    "function",
    "builtin_function_or_method",
    "instance",
    "_Feature"
   ],
   "window_display": false
  }
 },
 "nbformat": 4,
 "nbformat_minor": 2
}
