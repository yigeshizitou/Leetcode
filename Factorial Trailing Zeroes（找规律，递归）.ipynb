{
 "cells": [
  {
   "cell_type": "markdown",
   "metadata": {},
   "source": [
    "https://leetcode.com/problems/factorial-trailing-zeroes/\n",
    "\n",
    "https://github.com/azl397985856/leetcode/blob/master/problems/172.factorial-trailing-zeroes.md\n",
    "\n",
    "Given an integer n, return the number of trailing zeroes in n!.\n",
    "\n",
    "**Example 1:**\n",
    "\n",
    "Input: 3<br>\n",
    "Output: 0<br>\n",
    "Explanation: 3! = 6, no trailing zero.<br>\n",
    "\n",
    "**Example 2:**\n",
    "\n",
    "Input: 5<br>\n",
    "Output: 1<br>\n",
    "Explanation: 5! = 120, one trailing zero.<br>\n",
    "\n",
    "**Note:** Your solution should be in logarithmic time complexity."
   ]
  },
  {
   "cell_type": "markdown",
   "metadata": {},
   "source": [
    "### Solution 1\n",
    ">找出5的个数\n",
    "\n",
    "Runtime: **20 ms**, faster than 42.95% of Python online submissions for Factorial Trailing Zeroes.<br>\n",
    "Memory Usage: **11.7 MB**, less than 41.18% of Python online submissions for Factorial Trailing Zeroes."
   ]
  },
  {
   "cell_type": "code",
   "execution_count": 7,
   "metadata": {
    "ExecuteTime": {
     "end_time": "2019-09-15T13:52:33.487290Z",
     "start_time": "2019-09-15T13:52:33.485236Z"
    }
   },
   "outputs": [],
   "source": [
    "def trailingZeroes(n):\n",
    "    i, count = 1, 0\n",
    "    while n//(5**i) > 0:\n",
    "        count += n//(5**i)\n",
    "        i += 1\n",
    "    return count"
   ]
  },
  {
   "cell_type": "markdown",
   "metadata": {},
   "source": [
    "### Solution 2\n",
    ">找到5的个数，改进\n",
    "\n",
    "Runtime: **12 ms**, faster than 92.30% of Python online submissions for Factorial Trailing Zeroes.<br>\n",
    "Memory Usage: **11.8 MB**, less than 41.18% of Python online submissions for Factorial Trailing Zeroes."
   ]
  },
  {
   "cell_type": "code",
   "execution_count": 11,
   "metadata": {
    "ExecuteTime": {
     "end_time": "2019-09-15T13:57:14.809679Z",
     "start_time": "2019-09-15T13:57:14.805658Z"
    }
   },
   "outputs": [],
   "source": [
    "def trailingZeroes(n):\n",
    "    count = 0\n",
    "    while n//5 > 0:\n",
    "        n = n//5\n",
    "        count += n\n",
    "    return count"
   ]
  },
  {
   "cell_type": "markdown",
   "metadata": {},
   "source": [
    "### Solution 3\n",
    ">递归\n",
    "\n",
    "Runtime: **20 ms**, faster than 42.95% of Python online submissions for Factorial Trailing Zeroes.<br>\n",
    "Memory Usage: **11.8 MB**, less than 23.53% of Python online submissions for Factorial Trailing Zeroes."
   ]
  },
  {
   "cell_type": "code",
   "execution_count": 15,
   "metadata": {
    "ExecuteTime": {
     "end_time": "2019-09-15T14:01:14.061491Z",
     "start_time": "2019-09-15T14:01:14.057502Z"
    }
   },
   "outputs": [],
   "source": [
    "def trailingZeroes(n):\n",
    "    if n//5 == 0:\n",
    "        return 0\n",
    "    else:\n",
    "        return n//5+trailingZeroes(n//5)"
   ]
  },
  {
   "cell_type": "code",
   "execution_count": 16,
   "metadata": {
    "ExecuteTime": {
     "end_time": "2019-09-15T14:01:14.456673Z",
     "start_time": "2019-09-15T14:01:14.451656Z"
    }
   },
   "outputs": [
    {
     "data": {
      "text/plain": [
       "37"
      ]
     },
     "execution_count": 16,
     "metadata": {},
     "output_type": "execute_result"
    }
   ],
   "source": [
    "n = 150\n",
    "trailingZeroes(n)"
   ]
  },
  {
   "cell_type": "code",
   "execution_count": 17,
   "metadata": {
    "ExecuteTime": {
     "end_time": "2019-09-15T14:01:15.003372Z",
     "start_time": "2019-09-15T14:01:14.999384Z"
    },
    "scrolled": true
   },
   "outputs": [
    {
     "name": "stdout",
     "output_type": "stream",
     "text": [
      "37\n"
     ]
    }
   ],
   "source": [
    "a = 1\n",
    "for i in range(1,n+1):\n",
    "    a = a * i\n",
    "print(len(str(a))-len(str(int(str(a)[::-1]))))"
   ]
  }
 ],
 "metadata": {
  "kernelspec": {
   "display_name": "Python 3",
   "language": "python",
   "name": "python3"
  },
  "language_info": {
   "codemirror_mode": {
    "name": "ipython",
    "version": 3
   },
   "file_extension": ".py",
   "mimetype": "text/x-python",
   "name": "python",
   "nbconvert_exporter": "python",
   "pygments_lexer": "ipython3",
   "version": "3.6.5"
  },
  "varInspector": {
   "cols": {
    "lenName": 16,
    "lenType": 16,
    "lenVar": 40
   },
   "kernels_config": {
    "python": {
     "delete_cmd_postfix": "",
     "delete_cmd_prefix": "del ",
     "library": "var_list.py",
     "varRefreshCmd": "print(var_dic_list())"
    },
    "r": {
     "delete_cmd_postfix": ") ",
     "delete_cmd_prefix": "rm(",
     "library": "var_list.r",
     "varRefreshCmd": "cat(var_dic_list()) "
    }
   },
   "types_to_exclude": [
    "module",
    "function",
    "builtin_function_or_method",
    "instance",
    "_Feature"
   ],
   "window_display": false
  }
 },
 "nbformat": 4,
 "nbformat_minor": 2
}
