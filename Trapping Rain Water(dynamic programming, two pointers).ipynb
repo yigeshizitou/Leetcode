{
 "cells": [
  {
   "cell_type": "markdown",
   "metadata": {},
   "source": [
    "https://leetcode.com/problems/trapping-rain-water/\n",
    "\n",
    "Given n non-negative integers representing an elevation map where the width of each bar is 1, compute how much water it is able to trap after raining.\n",
    "\n",
    "![avtar](https://assets.leetcode.com/uploads/2018/10/22/rainwatertrap.png)\n",
    "\n",
    "The above elevation map is represented by array [0,1,0,2,1,0,1,3,2,1,2,1]. In this case, 6 units of rain water (blue section) are being trapped. Thanks Marcos for contributing this image!\n",
    "\n",
    "Example:\n",
    "\n",
    "Input: [0,1,0,2,1,0,1,3,2,1,2,1]<br>\n",
    "Output: 6"
   ]
  },
  {
   "cell_type": "markdown",
   "metadata": {},
   "source": [
    "### Solution 1 dynamic programming \n",
    "\n",
    ">calculated the capacity of containg water for every column, <br>\n",
    "which is $min(max\\_left[i], max\\_right[i])-height[i] if min(max\\_left[i], max\\_right[i])>height[i] else 0 $<br>\n",
    "while $max\\_left[i] = max(height[i], max\\_left[i-1])$<br>\n",
    "$max\\_right[i] = max(height[i], max\\_right[i+1])$\n",
    "\n",
    "\n",
    "Runtime: 36 ms, faster than 76.62% of Python online submissions for Trapping Rain Water.\n",
    "Memory Usage: 12.6 MB, less than 9.59% of Python online submissions for Trapping Rain Water."
   ]
  },
  {
   "cell_type": "code",
   "execution_count": 48,
   "metadata": {},
   "outputs": [],
   "source": [
    "class Solution(object):\n",
    "    def trap(self, height):\n",
    "        \"\"\"\n",
    "        :type height: List[int]\n",
    "        :rtype: int\n",
    "        \"\"\"\n",
    "        max_left = [0 for i in range(len(height))]\n",
    "        max_right = [0 for i in range(len(height))]\n",
    "        ans = 0\n",
    "        for i in range(1, len(height)-1):\n",
    "            max_left[i] = max(height[i], max_left[i-1], height[i-1])\n",
    "        for i in range(len(height)-2, 0, -1):\n",
    "            max_right[i] = max(height[i], max_right[i+1], height[i+1]) \n",
    "        for i in range(1, len(height)-1):\n",
    "            ans += min(max_left[i], max_right[i])-height[i] if min(max_left[i], max_right[i])>height[i] else 0\n",
    "        return ans"
   ]
  },
  {
   "cell_type": "markdown",
   "metadata": {},
   "source": [
    "### Solution 2 Two pointers\n",
    "\n",
    ">calculating while moving, using l_max, r_max to record the max height of height[: left+1] and height[right: ]\n",
    "\n",
    "https://leetcode-cn.com/problems/trapping-rain-water/solution/dong-tai-gui-hua-shuang-zhi-zhen-tu-jie-by-ml-zimi/\n",
    "\n",
    "Runtime: 40 ms, faster than 54.49% of Python online submissions for Trapping Rain Water.<br>\n",
    "Memory Usage: 12.2 MB, less than 65.75% of Python online submissions for Trapping Rain Water."
   ]
  },
  {
   "cell_type": "code",
   "execution_count": 50,
   "metadata": {},
   "outputs": [],
   "source": [
    "class Solution(object):\n",
    "    def trap(self, bars):\n",
    "        if not bars or len(bars) < 3:\n",
    "            return 0\n",
    "        volume = 0\n",
    "        left, right = 0, len(bars) - 1\n",
    "        l_max, r_max = bars[left], bars[right]\n",
    "        while left < right:\n",
    "            l_max, r_max = max(bars[left], l_max), max(bars[right], r_max)\n",
    "            if l_max <= r_max:\n",
    "                volume += l_max - bars[left]\n",
    "                left += 1\n",
    "            else:\n",
    "                volume += r_max - bars[right]\n",
    "                right -= 1\n",
    "        return volume"
   ]
  },
  {
   "cell_type": "code",
   "execution_count": 51,
   "metadata": {},
   "outputs": [
    {
     "data": {
      "text/plain": [
       "2"
      ]
     },
     "execution_count": 51,
     "metadata": {},
     "output_type": "execute_result"
    }
   ],
   "source": [
    "a = Solution()\n",
    "height = [2,0,2]\n",
    "a.trap(height)"
   ]
  },
  {
   "cell_type": "code",
   "execution_count": null,
   "metadata": {},
   "outputs": [],
   "source": []
  }
 ],
 "metadata": {
  "kernelspec": {
   "display_name": "Python 3",
   "language": "python",
   "name": "python3"
  },
  "language_info": {
   "codemirror_mode": {
    "name": "ipython",
    "version": 3
   },
   "file_extension": ".py",
   "mimetype": "text/x-python",
   "name": "python",
   "nbconvert_exporter": "python",
   "pygments_lexer": "ipython3",
   "version": "3.6.5"
  }
 },
 "nbformat": 4,
 "nbformat_minor": 2
}
