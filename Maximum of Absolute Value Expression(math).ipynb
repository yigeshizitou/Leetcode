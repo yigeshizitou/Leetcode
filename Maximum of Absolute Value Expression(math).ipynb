{
 "cells": [
  {
   "cell_type": "markdown",
   "metadata": {},
   "source": [
    "https://leetcode.com/problems/maximum-of-absolute-value-expression/\n",
    "\n",
    "https://github.com/azl397985856/leetcode/blob/master/problems/1131.maximum-of-absolute-value-expression.md\n",
    "\n",
    "Given two arrays of integers with equal lengths, return the maximum value of:\n",
    "\n",
    "|arr1[i] - arr1[j]| + |arr2[i] - arr2[j]| + |i - j|\n",
    "\n",
    "where the maximum is taken over all 0 <= i, j < arr1.length.\n",
    "\n",
    " \n",
    "\n",
    "Example 1:\n",
    "\n",
    "Input: arr1 = [1,2,3,4], arr2 = [-1,4,5,6]<br>\n",
    "Output: 13<br>\n",
    "Example 2:\n",
    "\n",
    "Input: arr1 = [1,-2,-5,0,10], arr2 = [0,-2,-1,-7,-4]<br>\n",
    "Output: 20"
   ]
  },
  {
   "cell_type": "markdown",
   "metadata": {},
   "source": [
    "### Solution 1 Math\n",
    "\n",
    "![avatar](https://camo.githubusercontent.com/bb75dffcec5060e9b58eaa56554dbe0cedd96688/68747470733a2f2f747661312e73696e61696d672e636e2f6c617267652f303036744e6252776c793167616d7039633367396c6a33307232306b636162782e6a7067)\n",
    "\n",
    "Runtime: **248 ms**, faster than 97.10% of Python online submissions for Maximum of Absolute Value Expression.<br>\n",
    "Memory Usage: **21.4 MB**, less than 100.00% of Python online submissions for Maximum of Absolute Value Expression."
   ]
  },
  {
   "cell_type": "code",
   "execution_count": 46,
   "metadata": {},
   "outputs": [],
   "source": [
    "class Solution(object):\n",
    "    def maxAbsValExpr(self, arr1, arr2):\n",
    "        \"\"\"\n",
    "        :type arr1: List[int]\n",
    "        :type arr2: List[int]\n",
    "        :rtype: int\n",
    "        \"\"\"\n",
    "        ans_1, ans_2, ans_3, ans_4 = [0]*len(arr1), [0]*len(arr1), [0]*len(arr1), [0]*len(arr1)\n",
    "        for i in range(0, len(arr1)):\n",
    "            ans_1[i] = arr1[i] + arr2[i] + i\n",
    "            ans_2[i] = arr1[i] - arr2[i] + i\n",
    "            ans_3[i] = -arr1[i] - arr2[i] + i\n",
    "            ans_4[i] = -arr1[i] + arr2[i] + i\n",
    "        return max(max(ans_1)-min(ans_1), max(ans_2)-min(ans_2), max(ans_3)-min(ans_3), max(ans_4)-min(ans_4))"
   ]
  },
  {
   "cell_type": "code",
   "execution_count": 47,
   "metadata": {},
   "outputs": [
    {
     "data": {
      "text/plain": [
       "13"
      ]
     },
     "execution_count": 47,
     "metadata": {},
     "output_type": "execute_result"
    }
   ],
   "source": [
    "a = Solution()\n",
    "arr1 = [1,2,3,4]\n",
    "arr2 = [-1,4,5,6]\n",
    "a.maxAbsValExpr(arr1, arr2)"
   ]
  }
 ],
 "metadata": {
  "kernelspec": {
   "display_name": "Python 3",
   "language": "python",
   "name": "python3"
  },
  "language_info": {
   "codemirror_mode": {
    "name": "ipython",
    "version": 3
   },
   "file_extension": ".py",
   "mimetype": "text/x-python",
   "name": "python",
   "nbconvert_exporter": "python",
   "pygments_lexer": "ipython3",
   "version": "3.6.5"
  }
 },
 "nbformat": 4,
 "nbformat_minor": 2
}
