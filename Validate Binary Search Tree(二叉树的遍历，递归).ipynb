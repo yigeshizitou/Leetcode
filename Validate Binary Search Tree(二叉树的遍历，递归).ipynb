{
 "cells": [
  {
   "cell_type": "markdown",
   "metadata": {},
   "source": [
    "https://leetcode.com/problems/validate-binary-search-tree/\n",
    "\n",
    "https://github.com/azl397985856/leetcode/blob/master/problems/98.validate-binary-search-tree.md\n",
    "\n",
    "Given a binary tree, determine if it is a valid binary search tree (BST).\n",
    "\n",
    "Assume a BST is defined as follows:\n",
    "\n",
    "The left subtree of a node contains only nodes with keys less than the node's key.<br>\n",
    "The right subtree of a node contains only nodes with keys greater than the node's key.<br>\n",
    "Both the left and right subtrees must also be binary search trees.\n",
    " \n",
    "\n",
    "Example 1:\n",
    "\n",
    "    2\n",
    "   / \\\n",
    "  1   3\n",
    "\n",
    "Input: [2,1,3]<br>\n",
    "Output: true<br>\n",
    "Example 2:<br>\n",
    "\n",
    "    5\n",
    "   / \\\n",
    "  1   4\n",
    "     / \\\n",
    "    3   6\n",
    "\n",
    "Input: [5,1,4,null,null,3,6]<br>\n",
    "Output: false<br>\n",
    "Explanation: The root node's value is 5 but its right child's value is 4."
   ]
  },
  {
   "cell_type": "markdown",
   "metadata": {},
   "source": [
    "### Solution 1\n",
    ">树的中序遍历 左+中+右<br>\n",
    "最后判断是否有序\n",
    "\n",
    "Runtime: **36 ms**, faster than 58.55% of Python online submissions for Validate Binary Search Tree.<br>\n",
    "Memory Usage: **17.1 MB**, less than 5.66% of Python online submissions for Validate Binary Search Tree."
   ]
  },
  {
   "cell_type": "code",
   "execution_count": 1,
   "metadata": {
    "ExecuteTime": {
     "end_time": "2019-10-29T14:22:31.429059Z",
     "start_time": "2019-10-29T14:22:31.420058Z"
    }
   },
   "outputs": [],
   "source": [
    "class Solution(object):\n",
    "    def isValidBST(self, root):\n",
    "        \"\"\"\n",
    "        :type root: TreeNode\n",
    "        :rtype: bool\n",
    "        author: Chong\n",
    "        \"\"\"\n",
    "        if not root:\n",
    "            return True\n",
    "        def inorderTraversal(root):\n",
    "            if not root:\n",
    "                return []\n",
    "            else:\n",
    "                return inorderTraversal(root.left)+[root.val]+inorderTraversal(root.right)\n",
    "        \n",
    "        ans = inorderTraversal(root)\n",
    "        i=0\n",
    "        while i<len(ans)-1:\n",
    "            if ans[i+1]<=ans[i]:\n",
    "                return False\n",
    "            i+=1\n",
    "        return True    "
   ]
  },
  {
   "cell_type": "markdown",
   "metadata": {},
   "source": [
    "### Solution 2\n",
    ">lower 和 upper 记录根节点最小值和最大值<br>\n",
    "左子树的取值范围为：(current_min, root.value)<br>\n",
    "右子树的取值范围为：(root.value, current_max)\n",
    "\n",
    "Runtime: **32 ms**, faster than 81.83% of Python online submissions for Validate Binary Search Tree.<br>\n",
    "Memory Usage: **16.6 MB**, less than 39.62% of Python online submissions for Validate Binary Search Tree."
   ]
  },
  {
   "cell_type": "code",
   "execution_count": 3,
   "metadata": {
    "ExecuteTime": {
     "end_time": "2019-10-29T14:30:07.182236Z",
     "start_time": "2019-10-29T14:30:07.175392Z"
    }
   },
   "outputs": [],
   "source": [
    "class Solution(object):\n",
    "    def isValidBST(self, root):\n",
    "        \"\"\"\n",
    "        :type root: TreeNode\n",
    "        :rtype: bool\n",
    "        \"\"\"\n",
    "        def valid(node, lower, upper):\n",
    "            if not node:\n",
    "                return True\n",
    "            if lower is not None and node.val <= lower:\n",
    "                return False\n",
    "            if upper is not None and node.val >= upper:\n",
    "                return False\n",
    "            return valid(node.left, lower, node.val) and valid(node.right, node.val, upper)\n",
    "        return valid(root, None, None)"
   ]
  },
  {
   "cell_type": "code",
   "execution_count": null,
   "metadata": {},
   "outputs": [],
   "source": []
  }
 ],
 "metadata": {
  "kernelspec": {
   "display_name": "Python 3",
   "language": "python",
   "name": "python3"
  },
  "language_info": {
   "codemirror_mode": {
    "name": "ipython",
    "version": 3
   },
   "file_extension": ".py",
   "mimetype": "text/x-python",
   "name": "python",
   "nbconvert_exporter": "python",
   "pygments_lexer": "ipython3",
   "version": "3.6.5"
  },
  "varInspector": {
   "cols": {
    "lenName": 16,
    "lenType": 16,
    "lenVar": 40
   },
   "kernels_config": {
    "python": {
     "delete_cmd_postfix": "",
     "delete_cmd_prefix": "del ",
     "library": "var_list.py",
     "varRefreshCmd": "print(var_dic_list())"
    },
    "r": {
     "delete_cmd_postfix": ") ",
     "delete_cmd_prefix": "rm(",
     "library": "var_list.r",
     "varRefreshCmd": "cat(var_dic_list()) "
    }
   },
   "types_to_exclude": [
    "module",
    "function",
    "builtin_function_or_method",
    "instance",
    "_Feature"
   ],
   "window_display": false
  }
 },
 "nbformat": 4,
 "nbformat_minor": 2
}
