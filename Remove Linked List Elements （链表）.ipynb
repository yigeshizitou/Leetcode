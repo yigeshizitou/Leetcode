{
 "cells": [
  {
   "cell_type": "markdown",
   "metadata": {},
   "source": [
    "https://leetcode.com/problems/remove-linked-list-elements/description/\n",
    "\n",
    "https://github.com/azl397985856/leetcode/blob/master/problems/203.remove-linked-list-elements.md\n",
    "\n",
    "Remove all elements from a linked list of integers that have value val.\n",
    "\n",
    "**Example:**\n",
    "\n",
    "Input:  1->2->6->3->4->5->6, val = 6<br>\n",
    "Output: 1->2->3->4->5"
   ]
  },
  {
   "cell_type": "markdown",
   "metadata": {},
   "source": [
    "### Solution 1\n",
    "\n",
    "Runtime: **60 ms**, faster than 54.16% of Python online submissions for Remove Linked List Elements.<br>\n",
    "Memory Usage:**18.7 MB**, less than 20.69% of Python online submissions for Remove Linked List Elements."
   ]
  },
  {
   "cell_type": "code",
   "execution_count": 1,
   "metadata": {
    "ExecuteTime": {
     "end_time": "2019-09-18T20:12:46.981365Z",
     "start_time": "2019-09-18T20:12:46.977375Z"
    }
   },
   "outputs": [],
   "source": [
    "def removeElements(self, head, val):\n",
    "    prev = ListNode(0)\n",
    "    prev.next = head\n",
    "    cur = prev\n",
    "    while cur.next:\n",
    "        if cur.next.val == val:\n",
    "            cur.next = cur.next.next\n",
    "        else:\n",
    "            cur = cur.next\n",
    "    return prev.next"
   ]
  },
  {
   "cell_type": "markdown",
   "metadata": {},
   "source": [
    "### Solution 2\n",
    "\n",
    "Runtime: **52 ms**, faster than 91.15% of Python online submissions for Remove Linked List Elements.<br>\n",
    "Memory Usage: **18.8 MB**, less than 13.79% of Python online submissions for Remove Linked List Elements."
   ]
  },
  {
   "cell_type": "code",
   "execution_count": 2,
   "metadata": {
    "ExecuteTime": {
     "end_time": "2019-09-18T20:12:49.174541Z",
     "start_time": "2019-09-18T20:12:49.171523Z"
    }
   },
   "outputs": [],
   "source": [
    "def removeElements(self, head, val):\n",
    "    dummy_head = ListNode(-1)\n",
    "    dummy_head.next = head\n",
    "\n",
    "    current_node = dummy_head\n",
    "    while current_node.next != None:\n",
    "        if current_node.next.val == val:\n",
    "            current_node.next = current_node.next.next\n",
    "        else:\n",
    "            current_node = current_node.next\n",
    "    return dummy_head.next"
   ]
  },
  {
   "cell_type": "code",
   "execution_count": null,
   "metadata": {},
   "outputs": [],
   "source": []
  }
 ],
 "metadata": {
  "kernelspec": {
   "display_name": "Python 3",
   "language": "python",
   "name": "python3"
  },
  "language_info": {
   "codemirror_mode": {
    "name": "ipython",
    "version": 3
   },
   "file_extension": ".py",
   "mimetype": "text/x-python",
   "name": "python",
   "nbconvert_exporter": "python",
   "pygments_lexer": "ipython3",
   "version": "3.6.5"
  },
  "varInspector": {
   "cols": {
    "lenName": 16,
    "lenType": 16,
    "lenVar": 40
   },
   "kernels_config": {
    "python": {
     "delete_cmd_postfix": "",
     "delete_cmd_prefix": "del ",
     "library": "var_list.py",
     "varRefreshCmd": "print(var_dic_list())"
    },
    "r": {
     "delete_cmd_postfix": ") ",
     "delete_cmd_prefix": "rm(",
     "library": "var_list.r",
     "varRefreshCmd": "cat(var_dic_list()) "
    }
   },
   "types_to_exclude": [
    "module",
    "function",
    "builtin_function_or_method",
    "instance",
    "_Feature"
   ],
   "window_display": false
  }
 },
 "nbformat": 4,
 "nbformat_minor": 2
}
