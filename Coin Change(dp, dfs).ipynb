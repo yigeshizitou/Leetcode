{
 "cells": [
  {
   "cell_type": "markdown",
   "metadata": {},
   "source": [
    "https://leetcode.com/problems/coin-change/\n",
    "\n",
    "You are given coins of different denominations and a total amount of money amount. Write a function to compute the fewest number of coins that you need to make up that amount. If that amount of money cannot be made up by any combination of the coins, return -1.\n",
    "\n",
    "Example 1:\n",
    "\n",
    "Input: coins = [1, 2, 5], amount = 11<br>\n",
    "Output: 3 <br>\n",
    "Explanation: 11 = 5 + 5 + 1<br>\n",
    "Example 2:\n",
    "\n",
    "Input: coins = [2], amount = 3<br>\n",
    "Output: -1<br>\n",
    "Note:<br>\n",
    "You may assume that you have an infinite number of each kind of coin."
   ]
  },
  {
   "cell_type": "markdown",
   "metadata": {},
   "source": [
    "### Solution 1 dp\n",
    "> dp[i] = min(dp[i-coin]+1 for coin in coins)\n",
    "\n",
    "Runtime: **1000 ms**, faster than 80.72% of Python online submissions for Coin Change.<br>\n",
    "Memory Usage: **12.1 MB**, less than 40.00% of Python online submissions for Coin Change."
   ]
  },
  {
   "cell_type": "code",
   "execution_count": 74,
   "metadata": {
    "ExecuteTime": {
     "end_time": "2019-12-18T10:38:35.052030Z",
     "start_time": "2019-12-18T10:38:35.044227Z"
    }
   },
   "outputs": [],
   "source": [
    "class Solution(object):\n",
    "    def coinChange(self, coins, amount):\n",
    "        \"\"\"\n",
    "        :type coins: List[int]\n",
    "        :type amount: int\n",
    "        :rtype: int\n",
    "        \"\"\"\n",
    "        dp = [float('inf')]*(amount+1)\n",
    "        dp[0] = 0\n",
    "        for coin in coins:\n",
    "            for i in range(coin, amount+1):\n",
    "                dp[i] = min(dp[i], dp[i-coin]+1)\n",
    "        return dp[-1] if dp[-1]!=float('inf') else -1"
   ]
  },
  {
   "cell_type": "markdown",
   "metadata": {},
   "source": [
    "### Solution 2 DFS\n",
    "\n",
    ">This solution does a DFS starting with the integer division of the largest possible divisor (eg amount = 11, then start with 2 fives and then searches for a solution from [1,2,5]). When a solution is found it is compared to the running minimum. If a path has more coins than a previous solution, then the search in the path is ended.\n",
    "\n",
    "Runtime: **116 ms**, faster than 99.72% of Python online submissions for Coin Change.<br>\n",
    "Memory Usage: **11.8 MB**, less than 92.50% of Python online submissions for Coin Change."
   ]
  },
  {
   "cell_type": "code",
   "execution_count": 76,
   "metadata": {
    "ExecuteTime": {
     "end_time": "2019-12-18T10:48:12.408607Z",
     "start_time": "2019-12-18T10:48:12.400441Z"
    }
   },
   "outputs": [],
   "source": [
    "class Solution(object):\n",
    "\n",
    "    def __init__(self):\n",
    "        self.min_coins = float('inf')\n",
    "\n",
    "    def coinChange(self, coins, amount):\n",
    "\n",
    "        def helper(num_coins, need, start):\n",
    "\n",
    "            divided_coin = need // coins[start]\n",
    "            if num_coins + divided_coin >= self.min_coins:\n",
    "                return\n",
    "            if need % coins[start] == 0:\n",
    "                self.min_coins = min(self.min_coins, divided_coin + num_coins)\n",
    "                return\n",
    "            if start == len(coins) - 1:\n",
    "                return\n",
    "            for num_used in range(divided_coin, -1, -1):\n",
    "                new_need = need - (coins[start] * num_used)\n",
    "                helper(num_coins + num_used, new_need, start + 1)\n",
    "\n",
    "        coins = sorted(coins, reverse=True)\n",
    "        helper(0, amount, 0)\n",
    "\n",
    "        return self.min_coins if self.min_coins < float('inf') else -1"
   ]
  },
  {
   "cell_type": "code",
   "execution_count": 77,
   "metadata": {
    "ExecuteTime": {
     "end_time": "2019-12-18T10:48:12.658722Z",
     "start_time": "2019-12-18T10:48:12.653269Z"
    },
    "scrolled": false
   },
   "outputs": [
    {
     "data": {
      "text/plain": [
       "-1"
      ]
     },
     "execution_count": 77,
     "metadata": {},
     "output_type": "execute_result"
    }
   ],
   "source": [
    "coins = [2]\n",
    "amount = 7\n",
    "a = Solution()\n",
    "a.coinChange(coins, amount)"
   ]
  }
 ],
 "metadata": {
  "kernelspec": {
   "display_name": "Python 3",
   "language": "python",
   "name": "python3"
  },
  "language_info": {
   "codemirror_mode": {
    "name": "ipython",
    "version": 3
   },
   "file_extension": ".py",
   "mimetype": "text/x-python",
   "name": "python",
   "nbconvert_exporter": "python",
   "pygments_lexer": "ipython3",
   "version": "3.6.5"
  },
  "varInspector": {
   "cols": {
    "lenName": 16,
    "lenType": 16,
    "lenVar": 40
   },
   "kernels_config": {
    "python": {
     "delete_cmd_postfix": "",
     "delete_cmd_prefix": "del ",
     "library": "var_list.py",
     "varRefreshCmd": "print(var_dic_list())"
    },
    "r": {
     "delete_cmd_postfix": ") ",
     "delete_cmd_prefix": "rm(",
     "library": "var_list.r",
     "varRefreshCmd": "cat(var_dic_list()) "
    }
   },
   "types_to_exclude": [
    "module",
    "function",
    "builtin_function_or_method",
    "instance",
    "_Feature"
   ],
   "window_display": false
  }
 },
 "nbformat": 4,
 "nbformat_minor": 2
}
