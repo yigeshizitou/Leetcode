{
 "cells": [
  {
   "cell_type": "markdown",
   "metadata": {},
   "source": [
    "https://leetcode.com/problems/divide-two-integers/\n",
    "\n",
    "https://github.com/azl397985856/leetcode/blob/master/problems/29.divide-two-integers.md\n",
    "\n",
    "Given two integers dividend and divisor, divide two integers without using multiplication, division and mod operator.\n",
    "\n",
    "Return the quotient after dividing dividend by divisor.\n",
    "\n",
    "The integer division should truncate toward zero.\n",
    "\n",
    "Example 1:\n",
    "\n",
    "Input: dividend = 10, divisor = 3<br>\n",
    "Output: 3\n",
    "\n",
    "Example 2:\n",
    "\n",
    "Input: dividend = 7, divisor = -3<br>\n",
    "Output: -2\n",
    "\n",
    "Note:\n",
    "\n",
    "Both dividend and divisor will be 32-bit signed integers.<br>\n",
    "The divisor will never be 0.<br>\n",
    "Assume we are dealing with an environment which could only store integers within the 32-bit signed integer range: $[−2^{31},  2^{31}-1]$. For the purpose of this problem, assume that your function returns $2^{31}$ when the division result overflows."
   ]
  },
  {
   "cell_type": "markdown",
   "metadata": {},
   "source": [
    "### Solution 1 \n",
    ">按位除法，使用了*\n",
    "\n",
    "Runtime: **20 ms**, faster than 64.04% of Python online submissions for Divide Two Integers.<br>\n",
    "Memory Usage: **11.6 MB**, less than 89.47% of Python online submissions for Divide Two Integers."
   ]
  },
  {
   "cell_type": "code",
   "execution_count": 49,
   "metadata": {
    "ExecuteTime": {
     "end_time": "2019-09-27T15:58:55.357086Z",
     "start_time": "2019-09-27T15:58:55.352775Z"
    }
   },
   "outputs": [],
   "source": [
    "def divide(dividend, divisor):\n",
    "    \"\"\"\n",
    "    :type dividend: int\n",
    "    :type divisor: int\n",
    "    :rtype: int\n",
    "    author: Chong\n",
    "    \"\"\"\n",
    "    if dividend == 0:\n",
    "        return 0\n",
    "    ori_dividend = dividend\n",
    "    ori_divisor = divisor\n",
    "    divisor = abs(divisor)\n",
    "    dividend = str(abs(dividend))\n",
    "    res = []\n",
    "    mod = 0\n",
    "    for i in dividend:\n",
    "        cur_res = 0\n",
    "        i = int(i)+mod\n",
    "        while i >= divisor:\n",
    "            i -= divisor\n",
    "            cur_res += 1\n",
    "        mod = i*10\n",
    "        res.append(cur_res)\n",
    "    res_num = 0\n",
    "    for j in range(len(res)):\n",
    "        n = 1\n",
    "        for _ in range(len(res)-j-1):\n",
    "            n *= 10\n",
    "        res_num += res[j]*n\n",
    "    if ori_dividend*ori_divisor > 0:\n",
    "        return res_num\n",
    "    else:\n",
    "        return -res_num"
   ]
  },
  {
   "cell_type": "markdown",
   "metadata": {
    "ExecuteTime": {
     "end_time": "2019-09-28T16:02:48.154576Z",
     "start_time": "2019-09-28T16:02:48.150586Z"
    }
   },
   "source": [
    "### Solution 2 翻倍除法\n",
    "\n",
    ">利用<<实现\\*2<br>\n",
    "temp每次运算后\\*2，加快速度<br>\n",
    "i 记录结果<br>\n",
    "注意temp\\*2可能会过大\n",
    "\n",
    "Runtime: **8 ms**, faster than 99.54% of Python online submissions for Divide Two Integers.<br>\n",
    "Memory Usage: **11.6 MB**, less than 100.00% of Python online submissions for Divide Two Integers."
   ]
  },
  {
   "cell_type": "code",
   "execution_count": 74,
   "metadata": {
    "ExecuteTime": {
     "end_time": "2019-09-28T16:36:59.585291Z",
     "start_time": "2019-09-28T16:36:59.581277Z"
    }
   },
   "outputs": [],
   "source": [
    "def divide(dividend, divisor):\n",
    "    positive = (dividend < 0) is (divisor < 0)\n",
    "    dividend, divisor = abs(dividend), abs(divisor)\n",
    "    res = 0\n",
    "    while dividend >= divisor:\n",
    "        temp, i = divisor, 1\n",
    "        while dividend >= temp:\n",
    "            dividend -= temp\n",
    "            res += i\n",
    "            i <<= 1\n",
    "            temp <<= 1\n",
    "    if not positive:\n",
    "        res = -res\n",
    "    return min(max(-2147483648, res), 2147483647)"
   ]
  },
  {
   "cell_type": "markdown",
   "metadata": {},
   "source": [
    "### Solution 3 翻倍除法\n",
    "\n",
    ">利用Q=Q+Q实现\\*2<br>\n",
    "\n",
    "Runtime: **12 ms**, faster than 96.72% of Python online submissions for Divide Two Integers.<br>\n",
    "Memory Usage: **11.9 MB**, less than 21.05% of Python online submissions for Divide Two Integers."
   ]
  },
  {
   "cell_type": "code",
   "execution_count": 79,
   "metadata": {
    "ExecuteTime": {
     "end_time": "2019-09-28T16:40:36.858038Z",
     "start_time": "2019-09-28T16:40:36.851061Z"
    }
   },
   "outputs": [],
   "source": [
    "def divide(dividend, divisor):\n",
    "    \"\"\"\n",
    "    :type dividend: int\n",
    "    :type divisor: int\n",
    "    :rtype: int\n",
    "    \"\"\"\n",
    "    neg = ((dividend < 0) != (divisor < 0))\n",
    "    dividend = left = abs(dividend)\n",
    "    divisor = div = abs(divisor)\n",
    "    Q = 1\n",
    "    ans = 0\n",
    "    while left >= divisor:\n",
    "        left -= div\n",
    "        ans += Q\n",
    "        Q += Q\n",
    "        div += div\n",
    "        if left < div:\n",
    "            div = divisor\n",
    "            Q = 1\n",
    "    if neg:\n",
    "        return max(-ans, -2147483648)\n",
    "    else:\n",
    "        return min(ans, 2147483647)"
   ]
  },
  {
   "cell_type": "markdown",
   "metadata": {},
   "source": [
    "### Solution 4 翻倍除法+递归\n",
    "\n",
    ">利用Q=Q+Q实现\\*2<br>\n",
    "递归\n",
    "\n",
    "Runtime: **4 ms**, faster than 100.00% of Python online submissions for Divide Two Integers.<br>\n",
    "Memory Usage: **11.8 MB**, less than 26.32% of Python online submissions for Divide Two Integers."
   ]
  },
  {
   "cell_type": "code",
   "execution_count": null,
   "metadata": {},
   "outputs": [],
   "source": [
    "def divide(dividend, divisor):\n",
    "    \"\"\"\n",
    "    :type dividend: int\n",
    "    :type divisor: int\n",
    "    :rtype: int\n",
    "    \"\"\"\n",
    "    neg = ((dividend < 0) != (divisor < 0))\n",
    "    dividend = left = abs(dividend)\n",
    "    divisor = div = abs(divisor)\n",
    "    if dividend < divisor:\n",
    "        return 0\n",
    "    Q = 1\n",
    "    ans = 0\n",
    "    while left >= div:\n",
    "        left -= div\n",
    "        ans += Q\n",
    "        Q += Q\n",
    "        div += div\n",
    "    if neg:\n",
    "        return max(-(ans + self.divide(left, divisor)), -2147483648)\n",
    "    else:\n",
    "        return min(ans + self.divide(left, divisor), 2147483647)"
   ]
  },
  {
   "cell_type": "code",
   "execution_count": 80,
   "metadata": {
    "ExecuteTime": {
     "end_time": "2019-09-28T16:40:37.191208Z",
     "start_time": "2019-09-28T16:40:37.186256Z"
    },
    "scrolled": false
   },
   "outputs": [
    {
     "data": {
      "text/plain": [
       "-2"
      ]
     },
     "execution_count": 80,
     "metadata": {},
     "output_type": "execute_result"
    }
   ],
   "source": [
    "dividend = 7\n",
    "divisor = -3\n",
    "divide(dividend, divisor)"
   ]
  },
  {
   "cell_type": "code",
   "execution_count": 81,
   "metadata": {
    "ExecuteTime": {
     "end_time": "2019-09-28T16:40:39.033792Z",
     "start_time": "2019-09-28T16:40:39.028804Z"
    },
    "scrolled": true
   },
   "outputs": [
    {
     "data": {
      "text/plain": [
       "715827882"
      ]
     },
     "execution_count": 81,
     "metadata": {},
     "output_type": "execute_result"
    }
   ],
   "source": [
    "dividend = 2147483647\n",
    "divisor = 3\n",
    "divide(dividend, divisor)"
   ]
  }
 ],
 "metadata": {
  "kernelspec": {
   "display_name": "Python 3",
   "language": "python",
   "name": "python3"
  },
  "language_info": {
   "codemirror_mode": {
    "name": "ipython",
    "version": 3
   },
   "file_extension": ".py",
   "mimetype": "text/x-python",
   "name": "python",
   "nbconvert_exporter": "python",
   "pygments_lexer": "ipython3",
   "version": "3.6.5"
  },
  "varInspector": {
   "cols": {
    "lenName": 16,
    "lenType": 16,
    "lenVar": 40
   },
   "kernels_config": {
    "python": {
     "delete_cmd_postfix": "",
     "delete_cmd_prefix": "del ",
     "library": "var_list.py",
     "varRefreshCmd": "print(var_dic_list())"
    },
    "r": {
     "delete_cmd_postfix": ") ",
     "delete_cmd_prefix": "rm(",
     "library": "var_list.r",
     "varRefreshCmd": "cat(var_dic_list()) "
    }
   },
   "types_to_exclude": [
    "module",
    "function",
    "builtin_function_or_method",
    "instance",
    "_Feature"
   ],
   "window_display": false
  }
 },
 "nbformat": 4,
 "nbformat_minor": 2
}
