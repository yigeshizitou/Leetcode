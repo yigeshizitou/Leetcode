{
 "cells": [
  {
   "cell_type": "markdown",
   "metadata": {},
   "source": [
    "https://leetcode.com/problems/maximum-depth-of-binary-tree/description/\n",
    "\n",
    "https://github.com/azl397985856/leetcode/blob/master/problems/104.maximum-depth-of-binary-tree.md\n",
    "\n",
    "Given a binary tree, find its maximum depth.\n",
    "\n",
    "The maximum depth is the number of nodes along the longest path from the root node down to the farthest leaf node.\n",
    "\n",
    "**Note: A leaf is a node with no children.**\n",
    "\n",
    "**Example:**\n",
    "\n",
    "Given binary tree [3,9,20,null,null,15,7],<br>\n",
    "\n",
    "return its depth = 3."
   ]
  },
  {
   "cell_type": "markdown",
   "metadata": {},
   "source": [
    "### Solution 1 \n",
    ">迭代\n",
    "\n",
    "Runtime: **32 ms**, faster than 51.14% of Python online submissions for Maximum Depth of Binary Tree.<br>\n",
    "Memory Usage: **16.6 MB**, less than 6.17% of Python online submissions for Maximum Depth of Binary Tree."
   ]
  },
  {
   "cell_type": "code",
   "execution_count": 1,
   "metadata": {
    "ExecuteTime": {
     "end_time": "2019-09-18T09:34:48.786994Z",
     "start_time": "2019-09-18T09:34:48.784201Z"
    }
   },
   "outputs": [],
   "source": [
    "def maxDepth(self, root):\n",
    "    return 1 + max(map(self.maxDepth, (root.left, root.right))) if root else 0"
   ]
  },
  {
   "cell_type": "markdown",
   "metadata": {},
   "source": [
    "### Solution 2\n",
    ">遍历\n",
    "\n",
    "Runtime: **20 ms**, faster than 98.57% of Python online submissions for Maximum Depth of Binary Tree.<br>\n",
    "Memory Usage: **14.3 MB**, less than 100.00% of Python online submissions for Maximum Depth of Binary Tree."
   ]
  },
  {
   "cell_type": "code",
   "execution_count": 2,
   "metadata": {
    "ExecuteTime": {
     "end_time": "2019-09-18T09:36:42.763274Z",
     "start_time": "2019-09-18T09:36:42.757383Z"
    }
   },
   "outputs": [],
   "source": [
    "def maxDepth(root):\n",
    "    if not root:\n",
    "        return 0\n",
    "    q, depth = [root, None], 1\n",
    "    while q:\n",
    "        node = q.pop(0)\n",
    "        if node:\n",
    "            if node.left:\n",
    "                q.append(node.left)\n",
    "            if node.right:\n",
    "                q.append(node.right)\n",
    "        elif q:\n",
    "            q.append(None)\n",
    "            depth += 1\n",
    "    return depth"
   ]
  },
  {
   "cell_type": "code",
   "execution_count": null,
   "metadata": {},
   "outputs": [],
   "source": []
  }
 ],
 "metadata": {
  "kernelspec": {
   "display_name": "Python 3",
   "language": "python",
   "name": "python3"
  },
  "language_info": {
   "codemirror_mode": {
    "name": "ipython",
    "version": 3
   },
   "file_extension": ".py",
   "mimetype": "text/x-python",
   "name": "python",
   "nbconvert_exporter": "python",
   "pygments_lexer": "ipython3",
   "version": "3.6.5"
  },
  "varInspector": {
   "cols": {
    "lenName": 16,
    "lenType": 16,
    "lenVar": 40
   },
   "kernels_config": {
    "python": {
     "delete_cmd_postfix": "",
     "delete_cmd_prefix": "del ",
     "library": "var_list.py",
     "varRefreshCmd": "print(var_dic_list())"
    },
    "r": {
     "delete_cmd_postfix": ") ",
     "delete_cmd_prefix": "rm(",
     "library": "var_list.r",
     "varRefreshCmd": "cat(var_dic_list()) "
    }
   },
   "types_to_exclude": [
    "module",
    "function",
    "builtin_function_or_method",
    "instance",
    "_Feature"
   ],
   "window_display": false
  }
 },
 "nbformat": 4,
 "nbformat_minor": 2
}
