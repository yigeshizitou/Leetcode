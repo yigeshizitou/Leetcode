{
 "cells": [
  {
   "cell_type": "markdown",
   "metadata": {},
   "source": [
    "https://leetcode.com/problems/subsets-ii/\n",
    "\n",
    "https://github.com/azl397985856/leetcode/blob/master/problems/90.subsets-ii.md\n",
    "\n",
    "Given a collection of integers that might contain duplicates, nums, return all possible subsets (the power set).\n",
    "\n",
    "Note: The solution set must not contain duplicate subsets.\n",
    "\n",
    "Example:\n",
    "\n",
    "Input: [1,2,2]<br>\n",
    "Output:<br>\n",
    "[<br>\n",
    "  [2],<br>\n",
    "  [1],<br>\n",
    "  [1,2,2],<br>\n",
    "  [2,2],<br>\n",
    "  [1,2],<br>\n",
    "  []<br>\n",
    "]"
   ]
  },
  {
   "cell_type": "markdown",
   "metadata": {},
   "source": [
    "### Solution 1\n",
    ">递归+暴力去重+提前判断\n",
    "\n",
    "Runtime: **24 ms**, faster than 67.22% of Python online submissions for Subsets II.<br>\n",
    "Memory Usage: **12 MB**, less than 15.38% of Python online submissions for Subsets II."
   ]
  },
  {
   "cell_type": "code",
   "execution_count": 8,
   "metadata": {
    "ExecuteTime": {
     "end_time": "2019-10-22T09:11:18.123563Z",
     "start_time": "2019-10-22T09:11:18.118583Z"
    }
   },
   "outputs": [],
   "source": [
    "class Solution(object):\n",
    "    def subsetsWithDup(self, nums):\n",
    "        \"\"\"\n",
    "        :type nums: List[int]\n",
    "        :rtype: List[List[int]]\n",
    "        author: Chong\n",
    "        \"\"\"\n",
    "        if len(nums)==0:\n",
    "            return [[]]\n",
    "        if len(nums)==1:\n",
    "            return [[],nums]\n",
    "        nums = sorted(nums)\n",
    "        self.ans=[]\n",
    "        def dfs(nums,step):\n",
    "            if step not in self.ans:\n",
    "                self.ans.append(step)\n",
    "            for i in range(len(nums)):\n",
    "                dfs(nums[i+1:],step+[nums[i]])\n",
    "        dfs(nums,[])\n",
    "        return self.ans"
   ]
  },
  {
   "cell_type": "markdown",
   "metadata": {},
   "source": [
    "### Solution 2\n",
    ">递归+通解去重\n",
    "\n",
    "Runtime: **20 ms**, faster than 88.28% of Python online submissions for Subsets II.<br>\n",
    "Memory Usage: **11.8 MB**, less than 100.00% of Python online submissions for Subsets II."
   ]
  },
  {
   "cell_type": "code",
   "execution_count": 14,
   "metadata": {
    "ExecuteTime": {
     "end_time": "2019-10-22T09:14:49.368701Z",
     "start_time": "2019-10-22T09:14:49.362660Z"
    }
   },
   "outputs": [],
   "source": [
    "class Solution:\n",
    "    def subsetsWithDup(self, nums):\n",
    "        res = []\n",
    "        nums.sort()\n",
    "        self.dfs(nums, 0, [], res)\n",
    "        return res\n",
    "\n",
    "    def dfs(self, nums, index, path, res):\n",
    "        res.append(path)\n",
    "        for i in range(index, len(nums)):\n",
    "            if i > index and nums[i] == nums[i-1]:\n",
    "                continue\n",
    "            self.dfs(nums, i+1, path+[nums[i]], res)"
   ]
  },
  {
   "cell_type": "markdown",
   "metadata": {},
   "source": [
    "### Solution 3\n",
    "> iterate solution\n",
    "\n",
    "Runtime: **20 ms**, faster than 88.28% of Python online submissions for Subsets II.<br>\n",
    "Memory Usage: **11.8 MB**, less than 100.00% of Python online submissions for Subsets II."
   ]
  },
  {
   "cell_type": "code",
   "execution_count": 16,
   "metadata": {
    "ExecuteTime": {
     "end_time": "2019-10-22T09:24:39.670604Z",
     "start_time": "2019-10-22T09:24:39.664604Z"
    }
   },
   "outputs": [],
   "source": [
    "class Solution(object):\n",
    "    def subsetsWithDup(self, nums):\n",
    "        res = [[]]\n",
    "        nums.sort()\n",
    "        for num in nums: \n",
    "            res += [ i + [num] for i in res if i + [num] not in res]\n",
    "        return res"
   ]
  },
  {
   "cell_type": "code",
   "execution_count": 17,
   "metadata": {
    "ExecuteTime": {
     "end_time": "2019-10-22T09:24:40.167491Z",
     "start_time": "2019-10-22T09:24:40.161257Z"
    }
   },
   "outputs": [
    {
     "data": {
      "text/plain": [
       "[[], [1], [2], [1, 2], [2, 2], [1, 2, 2]]"
      ]
     },
     "execution_count": 17,
     "metadata": {},
     "output_type": "execute_result"
    }
   ],
   "source": [
    "a=Solution()\n",
    "nums=[1,2,2]\n",
    "a.subsetsWithDup(nums)"
   ]
  }
 ],
 "metadata": {
  "kernelspec": {
   "display_name": "Python 3",
   "language": "python",
   "name": "python3"
  },
  "language_info": {
   "codemirror_mode": {
    "name": "ipython",
    "version": 3
   },
   "file_extension": ".py",
   "mimetype": "text/x-python",
   "name": "python",
   "nbconvert_exporter": "python",
   "pygments_lexer": "ipython3",
   "version": "3.6.5"
  },
  "varInspector": {
   "cols": {
    "lenName": 16,
    "lenType": 16,
    "lenVar": 40
   },
   "kernels_config": {
    "python": {
     "delete_cmd_postfix": "",
     "delete_cmd_prefix": "del ",
     "library": "var_list.py",
     "varRefreshCmd": "print(var_dic_list())"
    },
    "r": {
     "delete_cmd_postfix": ") ",
     "delete_cmd_prefix": "rm(",
     "library": "var_list.r",
     "varRefreshCmd": "cat(var_dic_list()) "
    }
   },
   "types_to_exclude": [
    "module",
    "function",
    "builtin_function_or_method",
    "instance",
    "_Feature"
   ],
   "window_display": false
  }
 },
 "nbformat": 4,
 "nbformat_minor": 2
}
