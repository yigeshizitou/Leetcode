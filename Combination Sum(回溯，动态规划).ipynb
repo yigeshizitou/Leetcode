{
 "cells": [
  {
   "cell_type": "markdown",
   "metadata": {},
   "source": [
    "https://leetcode.com/problems/combination-sum/\n",
    "\n",
    "https://www.youtube.com/watch?v=HdS5dOaz-mk\n",
    "\n",
    "Given a set of candidate numbers (candidates) (without duplicates) and a target number (target), find all unique combinations in candidates where the candidate numbers sums to target.\n",
    "\n",
    "The same repeated number may be chosen from candidates unlimited number of times.\n",
    "\n",
    "Note:\n",
    "\n",
    "All numbers (including target) will be positive integers.<br>\n",
    "The solution set must not contain duplicate combinations.<br>\n",
    "\n",
    "\n",
    "Example 1:\n",
    "\n",
    "Input: candidates = [2,3,6,7], target = 7,<br>\n",
    "A solution set is:<br>\n",
    "[\n",
    "  [7],<br>\n",
    "  [2,2,3]\n",
    "]<br>\n",
    "\n",
    "\n",
    "Example 2:<br>\n",
    "\n",
    "Input: candidates = [2,3,5], target = 8,<br>\n",
    "A solution set is:<br>\n",
    "[\n",
    "  [2,2,2,2],<br>\n",
    "  [2,3,3],<br>\n",
    "  [3,5]\n",
    "]"
   ]
  },
  {
   "cell_type": "markdown",
   "metadata": {},
   "source": [
    "### Solution 1\n",
    ">回溯\n",
    "\n",
    "Runtime: **92 ms**, faster than 42.58% of Python online submissions for Combination Sum.<br>\n",
    "Memory Usage: **11.8 MB**, less than 51.02% of Python online submissions for Combination Sum.\n",
    "\n",
    "\n"
   ]
  },
  {
   "cell_type": "code",
   "execution_count": 1,
   "metadata": {
    "ExecuteTime": {
     "end_time": "2019-11-19T14:09:21.192194Z",
     "start_time": "2019-11-19T14:09:21.187673Z"
    }
   },
   "outputs": [],
   "source": [
    "class Solution(object):\n",
    "    def combinationSum(self, candidates, target):\n",
    "        \"\"\"\n",
    "        :type candidates: List[int]\n",
    "        :type target: int\n",
    "        :rtype: List[List[int]]\n",
    "        author: chong\n",
    "        \"\"\"\n",
    "        candidates = sorted(candidates)\n",
    "        self.res = []\n",
    "\n",
    "        def dfs(candidates, temp, reminder, start):\n",
    "            if reminder == 0:\n",
    "                self.res.append(temp[:])\n",
    "                return\n",
    "            elif reminder < 0:\n",
    "                return\n",
    "            for i in range(start, len(candidates)):\n",
    "                temp.append(candidates[i])\n",
    "                dfs(candidates, temp, reminder-candidates[i], i)\n",
    "                temp.pop()\n",
    "        dfs(candidates, [], target, 0)\n",
    "        return self.res"
   ]
  },
  {
   "cell_type": "markdown",
   "metadata": {},
   "source": [
    "### Solution 2\n",
    ">动态规划<br>\n",
    "dp[i]存储等于i的数字集合\n",
    "\n",
    "Runtime: **60 ms**, faster than 61.84% of Python online submissions for Combination Sum.<br>\n",
    "Memory Usage: **12.2 MB**, less than 6.12% of Python online submissions for Combination Sum."
   ]
  },
  {
   "cell_type": "code",
   "execution_count": 5,
   "metadata": {
    "ExecuteTime": {
     "end_time": "2019-11-01T17:01:20.195693Z",
     "start_time": "2019-11-01T17:01:20.190696Z"
    }
   },
   "outputs": [],
   "source": [
    "def combinationSum(candidates, target):\n",
    "    dp = [[] for _ in range(target + 1)]\n",
    "    dp[0] = [[]]\n",
    "    for candidate in candidates:\n",
    "        for i in range(candidate, len(dp)):\n",
    "            dp[i].extend(comb + [candidate] for comb in dp[i - candidate])\n",
    "    return dp[-1]"
   ]
  },
  {
   "cell_type": "code",
   "execution_count": 6,
   "metadata": {
    "ExecuteTime": {
     "end_time": "2019-11-01T17:01:21.393362Z",
     "start_time": "2019-11-01T17:01:21.389460Z"
    }
   },
   "outputs": [],
   "source": [
    "a = Solution()"
   ]
  },
  {
   "cell_type": "code",
   "execution_count": 3,
   "metadata": {
    "ExecuteTime": {
     "end_time": "2019-11-01T17:01:10.718249Z",
     "start_time": "2019-11-01T17:01:10.715956Z"
    }
   },
   "outputs": [],
   "source": [
    "nums=[2,3,6,7]\n",
    "target=7"
   ]
  },
  {
   "cell_type": "code",
   "execution_count": 7,
   "metadata": {
    "ExecuteTime": {
     "end_time": "2019-11-01T17:01:26.502492Z",
     "start_time": "2019-11-01T17:01:26.488416Z"
    }
   },
   "outputs": [
    {
     "data": {
      "text/plain": [
       "[[2, 2, 3], [7]]"
      ]
     },
     "execution_count": 7,
     "metadata": {},
     "output_type": "execute_result"
    }
   ],
   "source": [
    "a.combinationSum(nums, target)"
   ]
  },
  {
   "cell_type": "code",
   "execution_count": null,
   "metadata": {},
   "outputs": [],
   "source": []
  }
 ],
 "metadata": {
  "kernelspec": {
   "display_name": "Python 3",
   "language": "python",
   "name": "python3"
  },
  "language_info": {
   "codemirror_mode": {
    "name": "ipython",
    "version": 3
   },
   "file_extension": ".py",
   "mimetype": "text/x-python",
   "name": "python",
   "nbconvert_exporter": "python",
   "pygments_lexer": "ipython3",
   "version": "3.6.5"
  },
  "varInspector": {
   "cols": {
    "lenName": 16,
    "lenType": 16,
    "lenVar": 40
   },
   "kernels_config": {
    "python": {
     "delete_cmd_postfix": "",
     "delete_cmd_prefix": "del ",
     "library": "var_list.py",
     "varRefreshCmd": "print(var_dic_list())"
    },
    "r": {
     "delete_cmd_postfix": ") ",
     "delete_cmd_prefix": "rm(",
     "library": "var_list.r",
     "varRefreshCmd": "cat(var_dic_list()) "
    }
   },
   "types_to_exclude": [
    "module",
    "function",
    "builtin_function_or_method",
    "instance",
    "_Feature"
   ],
   "window_display": true
  }
 },
 "nbformat": 4,
 "nbformat_minor": 2
}
