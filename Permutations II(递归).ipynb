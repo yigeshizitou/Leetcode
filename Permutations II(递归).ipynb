{
 "cells": [
  {
   "cell_type": "markdown",
   "metadata": {},
   "source": [
    "https://leetcode.com/problems/permutations-ii/\n",
    "\n",
    "https://github.com/azl397985856/leetcode/blob/master/problems/47.permutations-ii.md\n",
    "\n",
    "Given a collection of numbers that might contain duplicates, return all possible unique permutations.\n",
    "\n",
    "Example:\n",
    "\n",
    "Input: [1,1,2]<br>\n",
    "Output:<br>\n",
    "[<br>\n",
    "  [1,1,2],<br>\n",
    "  [1,2,1],<br>\n",
    "  [2,1,1]<br>\n",
    "]"
   ]
  },
  {
   "cell_type": "markdown",
   "metadata": {},
   "source": [
    "### Solution 1\n",
    ">回溯，智障去重\n",
    "\n",
    "\n",
    "Runtime: **1304 ms**, faster than 5.18% of Python online submissions for Permutations II.<br>\n",
    "Memory Usage: **12.3 MB**, less than 20.00% of Python online submissions for Permutations II."
   ]
  },
  {
   "cell_type": "code",
   "execution_count": 1,
   "metadata": {
    "ExecuteTime": {
     "end_time": "2019-10-09T12:59:07.296339Z",
     "start_time": "2019-10-09T12:59:07.288835Z"
    }
   },
   "outputs": [],
   "source": [
    "class Solution(object):\n",
    "    def permuteUnique(self, nums):\n",
    "        \"\"\"\n",
    "        :type nums: List[int]\n",
    "        :rtype: List[List[int]]\n",
    "        author: Chong\n",
    "        \"\"\"\n",
    "        self.ans = []\n",
    "        self.length = len(nums)\n",
    "\n",
    "        def dfs(sublist, path):\n",
    "            if len(path) == self.length and path not in self.ans:\n",
    "                self.ans.append(path[:])\n",
    "\n",
    "            for i in range(len(sublist)):\n",
    "                if len(path) == self.length:\n",
    "                    path = []\n",
    "                path.append(sublist[i])\n",
    "                subsublist = sublist[:i]+sublist[i+1:len(sublist)]\n",
    "                dfs(subsublist, path)\n",
    "                path.pop()\n",
    "        dfs(nums, [])\n",
    "        return self.ans"
   ]
  },
  {
   "cell_type": "markdown",
   "metadata": {},
   "source": [
    "### Solution 2\n",
    ">递归+去重<br>\n",
    "每层不能重复\n",
    "\n",
    "\n",
    "Runtime: **56 ms**, faster than 34.37% of Python online submissions for Permutations II.<br>\n",
    "Memory Usage: **12.4 MB**, less than 20.00% of Python online submissions for Permutations II."
   ]
  },
  {
   "cell_type": "code",
   "execution_count": 97,
   "metadata": {
    "ExecuteTime": {
     "end_time": "2019-10-09T13:33:12.964456Z",
     "start_time": "2019-10-09T13:33:12.957494Z"
    }
   },
   "outputs": [],
   "source": [
    "class Solution(object):\n",
    "    def permuteUnique(self, nums):\n",
    "        \"\"\"\n",
    "        :type nums: List[int]\n",
    "        :rtype: List[List[int]]\n",
    "        author: Chong\n",
    "        \"\"\"\n",
    "        nums = sorted(nums)\n",
    "        self.ans = []\n",
    "\n",
    "        def dfs(nums, path):\n",
    "            if len(nums) == 0:\n",
    "                self.ans.append(path[:])\n",
    "\n",
    "            for i in range(len(nums)):\n",
    "                if i > 0 and nums[i] == nums[i-1]:\n",
    "                    continue\n",
    "                dfs(nums[:i]+nums[i+1:], path+[nums[i]])\n",
    "\n",
    "        dfs(nums, [])\n",
    "        return self.ans"
   ]
  },
  {
   "cell_type": "markdown",
   "metadata": {},
   "source": [
    "### Solution 3\n",
    ">递归+去重<br>\n",
    "每层不能重复<br>\n",
    "提前判断长度为1的nums\n",
    "\n",
    "\n",
    "Runtime: **32 ms**, faster than 97.69% of Python online submissions for Permutations II.<br>\n",
    "Memory Usage: **12.2 MB**, less than 20.00% of Python online submissions for Permutations II."
   ]
  },
  {
   "cell_type": "code",
   "execution_count": 101,
   "metadata": {
    "ExecuteTime": {
     "end_time": "2019-10-09T13:36:43.021704Z",
     "start_time": "2019-10-09T13:36:43.015704Z"
    }
   },
   "outputs": [],
   "source": [
    "class Solution(object):\n",
    "    def permuteUnique(self, nums):\n",
    "        \"\"\"\n",
    "        :type nums: List[int]\n",
    "        :rtype: List[List[int]]\n",
    "        author: Chong\n",
    "        \"\"\"\n",
    "        if len(nums)==0:\n",
    "            return nums\n",
    "        nums = sorted(nums)\n",
    "        self.ans = []\n",
    "\n",
    "        def dfs(nums, path):\n",
    "            \n",
    "            if len(nums) == 0:\n",
    "                self.ans.append(path[:])\n",
    "\n",
    "            for i in range(len(nums)):\n",
    "                if i > 0 and nums[i] == nums[i-1]:\n",
    "                    continue\n",
    "                dfs(nums[:i]+nums[i+1:], path+[nums[i]])\n",
    "\n",
    "        dfs(nums, [])\n",
    "        return self.ans"
   ]
  },
  {
   "cell_type": "markdown",
   "metadata": {},
   "source": [
    "### Solution 4\n",
    ">递归+去重<br>\n",
    "每层不能重复\n",
    "\n",
    "\n",
    "Runtime: **32 ms**, faster than 97.69% of Python online submissions for Permutations II.<br>\n",
    "Memory Usage: **11.9 MB**, less than 60.00% of Python online submissions for Permutations II."
   ]
  },
  {
   "cell_type": "code",
   "execution_count": 109,
   "metadata": {
    "ExecuteTime": {
     "end_time": "2019-10-09T13:40:41.154886Z",
     "start_time": "2019-10-09T13:40:41.149849Z"
    }
   },
   "outputs": [],
   "source": [
    "class Solution(object):\n",
    "    def permuteUnique(self, nums):\n",
    "        \"\"\"\n",
    "        :type nums: List[int]\n",
    "        :rtype: List[List[int]]\n",
    "        \"\"\"\n",
    "        perms = [[]]\n",
    "        for n in nums:\n",
    "            perms = [p[:i] + [n] + p[i:]\n",
    "                     for p in perms\n",
    "                     for i in range((p + [n]).index(n) + 1)]\n",
    "        return perms"
   ]
  },
  {
   "cell_type": "code",
   "execution_count": 110,
   "metadata": {
    "ExecuteTime": {
     "end_time": "2019-10-09T13:40:41.440747Z",
     "start_time": "2019-10-09T13:40:41.436746Z"
    }
   },
   "outputs": [],
   "source": [
    "a=Solution()"
   ]
  },
  {
   "cell_type": "code",
   "execution_count": 112,
   "metadata": {
    "ExecuteTime": {
     "end_time": "2019-10-09T13:40:48.417395Z",
     "start_time": "2019-10-09T13:40:48.409759Z"
    }
   },
   "outputs": [
    {
     "data": {
      "text/plain": [
       "[[2, 1, 1], [1, 2, 1], [1, 1, 2]]"
      ]
     },
     "execution_count": 112,
     "metadata": {},
     "output_type": "execute_result"
    }
   ],
   "source": [
    "nums=[1,1,2]\n",
    "a.permuteUnique(nums)"
   ]
  }
 ],
 "metadata": {
  "kernelspec": {
   "display_name": "Python 3",
   "language": "python",
   "name": "python3"
  },
  "language_info": {
   "codemirror_mode": {
    "name": "ipython",
    "version": 3
   },
   "file_extension": ".py",
   "mimetype": "text/x-python",
   "name": "python",
   "nbconvert_exporter": "python",
   "pygments_lexer": "ipython3",
   "version": "3.6.5"
  },
  "varInspector": {
   "cols": {
    "lenName": 16,
    "lenType": 16,
    "lenVar": 40
   },
   "kernels_config": {
    "python": {
     "delete_cmd_postfix": "",
     "delete_cmd_prefix": "del ",
     "library": "var_list.py",
     "varRefreshCmd": "print(var_dic_list())"
    },
    "r": {
     "delete_cmd_postfix": ") ",
     "delete_cmd_prefix": "rm(",
     "library": "var_list.r",
     "varRefreshCmd": "cat(var_dic_list()) "
    }
   },
   "types_to_exclude": [
    "module",
    "function",
    "builtin_function_or_method",
    "instance",
    "_Feature"
   ],
   "window_display": false
  }
 },
 "nbformat": 4,
 "nbformat_minor": 2
}
