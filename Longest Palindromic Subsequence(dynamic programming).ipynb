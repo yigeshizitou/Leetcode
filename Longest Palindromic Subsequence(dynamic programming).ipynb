{
 "cells": [
  {
   "cell_type": "markdown",
   "metadata": {},
   "source": [
    "https://leetcode.com/problems/longest-palindromic-subsequence/description/\n",
    "\n",
    "Given a string s, find the longest palindromic subsequence's length in s. You may assume that the maximum length of s is 1000.\n",
    "\n",
    "Example 1:<br>\n",
    "Input:\n",
    "\n",
    "\"bbbab\"<br>\n",
    "Output:<br>\n",
    "4<br>\n",
    "One possible longest palindromic subsequence is \"bbbb\".<br>\n",
    "Example 2:<br>\n",
    "Input:\n",
    "\n",
    "\"cbbd\"<br>\n",
    "Output:<br>\n",
    "2<br>\n",
    "One possible longest palindromic subsequence is \"bb\"."
   ]
  },
  {
   "cell_type": "markdown",
   "metadata": {},
   "source": [
    "### Solution 1 dynamic programming \n",
    "> dp[(i, j)] means Longest Palindromic Subsequence in s[i, j+1] <br>\n",
    "if s[i] == s[j], dp[(i, j)] = dp[(i+1, j-1)] + 2 <br>\n",
    "else: dp[(i, j)] = max(dp[(i+1, j)], dp[(i, j-1)])\n",
    "\n",
    "\n",
    "Runtime: **6788 ms**, faster than 5.24% of Python online submissions for Longest Palindromic Subsequence.<br>\n",
    "Memory Usage: **210.5 MB**, less than 16.67% of Python online submissions for Longest Palindromic Subsequence."
   ]
  },
  {
   "cell_type": "code",
   "execution_count": 41,
   "metadata": {},
   "outputs": [],
   "source": [
    "class Solution(object):\n",
    "    def longestPalindromeSubseq(self, s):\n",
    "        \"\"\"\n",
    "        :type s: str\n",
    "        :rtype: int\n",
    "        author: Chong \n",
    "        \"\"\"\n",
    "        dp = {}\n",
    "        for i in range(len(s)):\n",
    "            for j in range(i+1):\n",
    "                if i == j:\n",
    "                    dp[(i,j)] = 1\n",
    "                if i > j:\n",
    "                    dp[(i,j)] = 0\n",
    "        for k in range(1, len(s)):\n",
    "            for i in range(len(s)-k):\n",
    "                j = i + k\n",
    "                if s[i] == s[j]:\n",
    "                    dp[(i, j)] = dp[(i+1, j-1)] + 2\n",
    "                else:\n",
    "                    dp[(i, j)] = max(dp[(i+1, j)], dp[(i, j-1)])\n",
    "        return dp[(0, len(s)-1)]"
   ]
  },
  {
   "cell_type": "markdown",
   "metadata": {},
   "source": [
    "### Solution 2\n",
    "> define f(s) to get the the length of Longest Palindromic Subsequence in s.<br>\n",
    "for every distinct letter in s, find its first appearing location i and its last appearance location j.<br>\n",
    "if i == j, length = 1, else: length = 2 + f(s[i+1: j])<br>\n",
    "maxL = max(length, maxL) <br>\n",
    "Besides, a dictionary d is used to reduce repeating.\n",
    "\n",
    "Runtime: **676 ms**, faster than 93.27% of Python online submissions for Longest Palindromic Subsequence.<br>\n",
    "Memory Usage: **33.7 MB**, less than 16.67% of Python online submissions for Longest Palindromic Subsequence."
   ]
  },
  {
   "cell_type": "code",
   "execution_count": 54,
   "metadata": {},
   "outputs": [],
   "source": [
    "class Solution(object):\n",
    "    def longestPalindromeSubseq(self, s):\n",
    "        \"\"\"\n",
    "        :type s: str\n",
    "        :rtype: int\n",
    "        \"\"\"\n",
    "        d = {}\n",
    "        def f(s):\n",
    "            if s not in d:\n",
    "                maxL = 0    \n",
    "                for c in set(s):\n",
    "                    i, j = s.find(c), s.rfind(c)\n",
    "                    maxL = max(maxL, 1 if i==j else 2+f(s[i+1:j]))\n",
    "                d[s] = maxL\n",
    "            return d[s]\n",
    "        return f(s)"
   ]
  },
  {
   "cell_type": "code",
   "execution_count": 55,
   "metadata": {},
   "outputs": [
    {
     "data": {
      "text/plain": [
       "159"
      ]
     },
     "execution_count": 55,
     "metadata": {},
     "output_type": "execute_result"
    }
   ],
   "source": [
    "a = Solution()\n",
    "s = \"euazbipzncptldueeuechubrcourfpftcebikrxhybkymimgvldiwqvkszfycvqyvtiwfckexmowcxztkfyzqovbtmzpxojfofbvwnncajvrvdbvjhcrameamcfmcoxryjukhpljwszknhiypvyskmsujkuggpztltpgoczafmfelahqwjbhxtjmebnymdyxoeodqmvkxittxjnlltmoobsgzdfhismogqfpfhvqnxeuosjqqalvwhsidgiavcatjjgeztrjuoixxxoznklcxolgpuktirmduxdywwlbikaqkqajzbsjvdgjcnbtfksqhquiwnwflkldgdrqrnwmshdpykicozfowmumzeuznolmgjlltypyufpzjpuvucmesnnrwppheizkapovoloneaxpfinaontwtdqsdvzmqlgkdxlbeguackbdkftzbnynmcejtwudocemcfnuzbttcoew\"\n",
    "a.longestPalindromeSubseq(s)"
   ]
  }
 ],
 "metadata": {
  "kernelspec": {
   "display_name": "Python 3",
   "language": "python",
   "name": "python3"
  },
  "language_info": {
   "codemirror_mode": {
    "name": "ipython",
    "version": 3
   },
   "file_extension": ".py",
   "mimetype": "text/x-python",
   "name": "python",
   "nbconvert_exporter": "python",
   "pygments_lexer": "ipython3",
   "version": "3.6.5"
  }
 },
 "nbformat": 4,
 "nbformat_minor": 2
}
