{
 "cells": [
  {
   "cell_type": "markdown",
   "metadata": {},
   "source": [
    "https://leetcode.com/problems/longest-arithmetic-subsequence-of-given-difference/\n",
    "\n",
    "Given an integer array arr and an integer difference, return the length of the longest subsequence in arr which is an arithmetic sequence such that the difference between adjacent elements in the subsequence equals difference.\n",
    "\n",
    " \n",
    "\n",
    "Example 1:\n",
    "\n",
    "Input: arr = [1,2,3,4], difference = 1<br>\n",
    "Output: 4<br>\n",
    "Explanation: The longest arithmetic subsequence is [1,2,3,4].<br>\n",
    "Example 2:\n",
    "\n",
    "Input: arr = [1,3,5,7], difference = 1<br>\n",
    "Output: 1<br>\n",
    "Explanation: The longest arithmetic subsequence is any single element.<br>\n",
    "Example 3:\n",
    "\n",
    "Input: arr = [1,5,7,8,5,3,4,2,1], difference = -2<br>\n",
    "Output: 4<br>\n",
    "Explanation: The longest arithmetic subsequence is [7,5,3,1]."
   ]
  },
  {
   "cell_type": "markdown",
   "metadata": {},
   "source": [
    "### Solution 1 dict\n",
    "\n",
    "> if i-difference in dict_arr: dict_arr[i] = 1 + dict_arr[i-difference]\n",
    "\n",
    "Runtime: **484 ms**, faster than 99.29% of Python online submissions for Longest Arithmetic Subsequence of Given Difference.<br>\n",
    "Memory Usage: **23.1 MB**, less than 100.00% of Python online submissions for Longest Arithmetic Subsequence of Given Difference."
   ]
  },
  {
   "cell_type": "code",
   "execution_count": 7,
   "metadata": {},
   "outputs": [],
   "source": [
    "class Solution(object):\n",
    "    def longestSubsequence(self, arr, difference):\n",
    "        \"\"\"\n",
    "        :type arr: List[int]\n",
    "        :type difference: int\n",
    "        :rtype: int\n",
    "        author: Chong\n",
    "        \"\"\"\n",
    "        dict_arr = {}\n",
    "        for i in arr:\n",
    "            if i-difference not in dict_arr:\n",
    "                dict_arr[i] = 1\n",
    "            else:\n",
    "                dict_arr[i] = 1 + dict_arr[i-difference]\n",
    "        return max(dict_arr.values())"
   ]
  },
  {
   "cell_type": "code",
   "execution_count": 8,
   "metadata": {},
   "outputs": [
    {
     "data": {
      "text/plain": [
       "4"
      ]
     },
     "execution_count": 8,
     "metadata": {},
     "output_type": "execute_result"
    }
   ],
   "source": [
    "a = Solution()\n",
    "arr = [1,5,7,8,5,3,4,2,1]\n",
    "difference = -2\n",
    "a.longestSubsequence(arr, difference)"
   ]
  },
  {
   "cell_type": "code",
   "execution_count": null,
   "metadata": {},
   "outputs": [],
   "source": []
  }
 ],
 "metadata": {
  "kernelspec": {
   "display_name": "Python 3",
   "language": "python",
   "name": "python3"
  },
  "language_info": {
   "codemirror_mode": {
    "name": "ipython",
    "version": 3
   },
   "file_extension": ".py",
   "mimetype": "text/x-python",
   "name": "python",
   "nbconvert_exporter": "python",
   "pygments_lexer": "ipython3",
   "version": "3.6.5"
  }
 },
 "nbformat": 4,
 "nbformat_minor": 2
}
