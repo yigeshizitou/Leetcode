{
 "cells": [
  {
   "cell_type": "markdown",
   "metadata": {},
   "source": [
    "https://leetcode.com/problems/word-search/\n",
    "\n",
    "https://github.com/azl397985856/leetcode/blob/master/problems/79.word-search.md\n",
    "\n",
    "Given a 2D board and a word, find if the word exists in the grid.\n",
    "\n",
    "The word can be constructed from letters of sequentially adjacent cell, where \"adjacent\" cells are those horizontally or vertically neighboring. The same letter cell may not be used more than once.\n",
    "\n",
    "Example:\n",
    "\n",
    "board =<br>\n",
    "[<br>\n",
    "  ['A','B','C','E'],<br>\n",
    "  ['S','F','C','S'],<br>\n",
    "  ['A','D','E','E']<br>\n",
    "]\n",
    "\n",
    "Given word = \"ABCCED\", return true.<br>\n",
    "Given word = \"SEE\", return true.<br>\n",
    "Given word = \"ABCB\", return false."
   ]
  },
  {
   "cell_type": "markdown",
   "metadata": {},
   "source": [
    "### Solution 1\n",
    "\n",
    ">先找到word第一个字符的位置[i,j]<br>\n",
    "然后寻找[i,j]的neighbors，试图找到word第二个字符<br>\n",
    "依次类推\n",
    "\n",
    "Runtime: **304 ms**, faster than 85.39% of Python online submissions for Word Search.<br>\n",
    "Memory Usage: **14.9 MB**, less than 95.56% of Python online submissions for Word Search."
   ]
  },
  {
   "cell_type": "code",
   "execution_count": 11,
   "metadata": {
    "ExecuteTime": {
     "end_time": "2019-10-21T19:31:02.118113Z",
     "start_time": "2019-10-21T19:31:02.111854Z"
    }
   },
   "outputs": [],
   "source": [
    "class Solution(object):\n",
    "    def exist(self, board, word):\n",
    "        m = len(board)\n",
    "        n = len(board[0])\n",
    "\n",
    "        def dfs(board, r, c, word, index):\n",
    "            if index == len(word):\n",
    "                return True\n",
    "            if r < 0 or r >= m or c < 0 or c >= n or board[r][c] != word[index]:\n",
    "                return False\n",
    "            board[r][c] = '*'\n",
    "            res = dfs(board, r - 1, c, word, index + 1) or dfs(board, r + 1, c, word, index +\n",
    "                                                               1) or dfs(board, r, c - 1, word, index +\n",
    "                                                                         1) or dfs(board, r, c + 1, word, index + 1)\n",
    "            board[r][c] = word[index]\n",
    "            return res\n",
    "\n",
    "        for r in range(m):\n",
    "            for c in range(n):\n",
    "                if board[r][c] == word[0]:\n",
    "                    if dfs(board, r, c, word, 0):\n",
    "                        return True"
   ]
  },
  {
   "cell_type": "code",
   "execution_count": 12,
   "metadata": {
    "ExecuteTime": {
     "end_time": "2019-10-21T19:31:02.454995Z",
     "start_time": "2019-10-21T19:31:02.450993Z"
    }
   },
   "outputs": [],
   "source": [
    "board =[\n",
    "['A','B','C','E'],\n",
    "['S','F','C','S'],\n",
    "['A','D','E','E']\n",
    "]\n",
    "word = \"ABCCED\""
   ]
  },
  {
   "cell_type": "code",
   "execution_count": 13,
   "metadata": {
    "ExecuteTime": {
     "end_time": "2019-10-21T19:31:02.786034Z",
     "start_time": "2019-10-21T19:31:02.780036Z"
    }
   },
   "outputs": [
    {
     "data": {
      "text/plain": [
       "True"
      ]
     },
     "execution_count": 13,
     "metadata": {},
     "output_type": "execute_result"
    }
   ],
   "source": [
    "a= Solution()\n",
    "a.exist(board, word)"
   ]
  },
  {
   "cell_type": "code",
   "execution_count": null,
   "metadata": {},
   "outputs": [],
   "source": []
  }
 ],
 "metadata": {
  "kernelspec": {
   "display_name": "Python 3",
   "language": "python",
   "name": "python3"
  },
  "language_info": {
   "codemirror_mode": {
    "name": "ipython",
    "version": 3
   },
   "file_extension": ".py",
   "mimetype": "text/x-python",
   "name": "python",
   "nbconvert_exporter": "python",
   "pygments_lexer": "ipython3",
   "version": "3.6.5"
  },
  "varInspector": {
   "cols": {
    "lenName": 16,
    "lenType": 16,
    "lenVar": 40
   },
   "kernels_config": {
    "python": {
     "delete_cmd_postfix": "",
     "delete_cmd_prefix": "del ",
     "library": "var_list.py",
     "varRefreshCmd": "print(var_dic_list())"
    },
    "r": {
     "delete_cmd_postfix": ") ",
     "delete_cmd_prefix": "rm(",
     "library": "var_list.r",
     "varRefreshCmd": "cat(var_dic_list()) "
    }
   },
   "types_to_exclude": [
    "module",
    "function",
    "builtin_function_or_method",
    "instance",
    "_Feature"
   ],
   "window_display": false
  }
 },
 "nbformat": 4,
 "nbformat_minor": 2
}
