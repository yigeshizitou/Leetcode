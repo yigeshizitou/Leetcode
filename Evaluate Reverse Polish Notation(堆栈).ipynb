{
 "cells": [
  {
   "cell_type": "markdown",
   "metadata": {},
   "source": [
    "https://leetcode.com/problems/evaluate-reverse-polish-notation/description/\n",
    "\n",
    "https://github.com/azl397985856/leetcode/blob/master/problems/150.evaluate-reverse-polish-notation.md\n",
    "\n",
    "Evaluate the value of an arithmetic expression in Reverse Polish Notation.\n",
    "\n",
    "Valid operators are +, -, *, /. Each operand may be an integer or another expression.\n",
    "\n",
    "Note:\n",
    "\n",
    "Division between two integers should truncate toward zero.<br>\n",
    "The given RPN expression is always valid. That means the expression would always evaluate to a result and there won't be any divide by zero operation.<br>\n",
    "Example 1:\n",
    "\n",
    "Input: [\"2\", \"1\", \"+\", \"3\", \"*\"]<br>\n",
    "Output: 9<br>\n",
    "Explanation: ((2 + 1) * 3) = 9<br>\n",
    "Example 2:\n",
    "\n",
    "Input: [\"4\", \"13\", \"5\", \"/\", \"+\"]<br>\n",
    "Output: 6<br>\n",
    "Explanation: (4 + (13 / 5)) = 6<br>\n",
    "Example 3:\n",
    "\n",
    "Input: [\"10\", \"6\", \"9\", \"3\", \"+\", \"-11\", \"*\", \"/\", \"*\", \"17\", \"+\", \"5\", \"+\"]<br>\n",
    "Output: 22<br>\n",
    "Explanation: <br>\n",
    "  ((10 * (6 / ((9 + 3) * -11))) + 17) + 5<br>\n",
    "= ((10 * (6 / (12 * -11))) + 17) + 5<br>\n",
    "= ((10 * (6 / -132)) + 17) + 5<br>\n",
    "= ((10 * 0) + 17) + 5<br>\n",
    "= (0 + 17) + 5<br>\n",
    "= 17 + 5<br>\n",
    "= 22"
   ]
  },
  {
   "cell_type": "markdown",
   "metadata": {},
   "source": [
    "### Solution 1\n",
    "\n",
    ">tokens 从左开始出栈， 不是操作符就存入 stack, 是操作符则取出 stack 两次出栈进行操作\n",
    "\n",
    "Runtime: **68 ms**, faster than 22.87% of Python online submissions for Evaluate Reverse Polish Notation.<br>\n",
    "Memory Usage: **13.1 MB**, less than 100.00% of Python online submissions for Evaluate Reverse Polish Notation."
   ]
  },
  {
   "cell_type": "code",
   "execution_count": 85,
   "metadata": {
    "ExecuteTime": {
     "end_time": "2019-11-19T11:08:23.979486Z",
     "start_time": "2019-11-19T11:08:23.973493Z"
    }
   },
   "outputs": [],
   "source": [
    "class Solution(object):\n",
    "    def evalRPN(self, tokens):\n",
    "        \"\"\"\n",
    "        :type tokens: List[str]\n",
    "        :rtype: int\n",
    "        \"\"\"\n",
    "        stack = []\n",
    "        while tokens:\n",
    "            a = tokens.pop(0)\n",
    "            if a.lstrip('-').isdigit():\n",
    "                stack.append(int(a))\n",
    "            else:\n",
    "                b = stack.pop()\n",
    "                c = stack.pop()\n",
    "                if ord(a) == 47:\n",
    "                    if c*b < 0 and c % b != 0:\n",
    "                        stack.append((c//b)+1)\n",
    "                    else:\n",
    "                        stack.append((c//b))\n",
    "                elif ord(a) == 43:\n",
    "                    stack.append(c+b)\n",
    "                elif ord(a) == 42:\n",
    "                    stack.append(c*b)\n",
    "                elif ord(a) == 45:\n",
    "                    stack.append(c-b)\n",
    "        return stack[0]"
   ]
  },
  {
   "cell_type": "code",
   "execution_count": 86,
   "metadata": {
    "ExecuteTime": {
     "end_time": "2019-11-19T11:08:24.292955Z",
     "start_time": "2019-11-19T11:08:24.281929Z"
    }
   },
   "outputs": [
    {
     "data": {
      "text/plain": [
       "165"
      ]
     },
     "execution_count": 86,
     "metadata": {},
     "output_type": "execute_result"
    }
   ],
   "source": [
    "tokens = [\"-78\",\"-33\",\"196\",\"+\",\"-19\",\"-\",\"115\",\"+\",\"-\",\"-99\",\"/\",\"-18\",\"8\",\"*\",\"-86\",\"-\",\"-\",\"16\",\"/\",\"26\",\"-14\",\"-\",\"-\",\"47\",\"-\",\"101\",\"-\",\"163\",\"*\",\"143\",\"-\",\"0\",\"-\",\"171\",\"+\",\"120\",\"*\",\"-60\",\"+\",\"156\",\"/\",\"173\",\"/\",\"-24\",\"11\",\"+\",\"21\",\"/\",\"*\",\"44\",\"*\",\"180\",\"70\",\"-40\",\"-\",\"*\",\"86\",\"132\",\"-84\",\"+\",\"*\",\"-\",\"38\",\"/\",\"/\",\"21\",\"28\",\"/\",\"+\",\"83\",\"/\",\"-31\",\"156\",\"-\",\"+\",\"28\",\"/\",\"95\",\"-\",\"120\",\"+\",\"8\",\"*\",\"90\",\"-\",\"-94\",\"*\",\"-73\",\"/\",\"-62\",\"/\",\"93\",\"*\",\"196\",\"-\",\"-59\",\"+\",\"187\",\"-\",\"143\",\"/\",\"-79\",\"-89\",\"+\",\"-\"]\n",
    "a=Solution()\n",
    "a.evalRPN(tokens)"
   ]
  }
 ],
 "metadata": {
  "kernelspec": {
   "display_name": "Python 3",
   "language": "python",
   "name": "python3"
  },
  "language_info": {
   "codemirror_mode": {
    "name": "ipython",
    "version": 3
   },
   "file_extension": ".py",
   "mimetype": "text/x-python",
   "name": "python",
   "nbconvert_exporter": "python",
   "pygments_lexer": "ipython3",
   "version": "3.6.5"
  },
  "varInspector": {
   "cols": {
    "lenName": 16,
    "lenType": 16,
    "lenVar": 40
   },
   "kernels_config": {
    "python": {
     "delete_cmd_postfix": "",
     "delete_cmd_prefix": "del ",
     "library": "var_list.py",
     "varRefreshCmd": "print(var_dic_list())"
    },
    "r": {
     "delete_cmd_postfix": ") ",
     "delete_cmd_prefix": "rm(",
     "library": "var_list.r",
     "varRefreshCmd": "cat(var_dic_list()) "
    }
   },
   "types_to_exclude": [
    "module",
    "function",
    "builtin_function_or_method",
    "instance",
    "_Feature"
   ],
   "window_display": false
  }
 },
 "nbformat": 4,
 "nbformat_minor": 2
}
