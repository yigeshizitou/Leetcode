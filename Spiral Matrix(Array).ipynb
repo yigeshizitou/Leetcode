{
 "cells": [
  {
   "cell_type": "markdown",
   "metadata": {},
   "source": [
    "https://leetcode.com/problems/spiral-matrix/\n",
    "\n",
    "Given a matrix of m x n elements (m rows, n columns), return all elements of the matrix in spiral order.\n",
    "\n",
    "Example 1:\n",
    "\n",
    "Input:<br>\n",
    "[<br>\n",
    " [ 1, 2, 3 ],<br>\n",
    " [ 4, 5, 6 ],<br>\n",
    " [ 7, 8, 9 ]<br>\n",
    "]<br>\n",
    "Output: [1,2,3,6,9,8,7,4,5]<br>\n",
    "Example 2:\n",
    "\n",
    "Input:<br>\n",
    "[<br>\n",
    "  [1, 2, 3, 4],<br>\n",
    "  [5, 6, 7, 8],<br>\n",
    "  [9,10,11,12]<br>\n",
    "]<br>\n",
    "Output: [1,2,3,4,8,12,11,10,9,5,6,7]"
   ]
  },
  {
   "cell_type": "markdown",
   "metadata": {},
   "source": [
    "### Solution 1 Array\n",
    "\n",
    "Runtime: **8 ms**, faster than 98.57% of Python online submissions for Spiral Matrix.<br>\n",
    "Memory Usage: **11.7 MB**, less than 69.70% of Python online submissions for Spiral Matrix."
   ]
  },
  {
   "cell_type": "code",
   "execution_count": 1,
   "metadata": {
    "ExecuteTime": {
     "end_time": "2020-04-01T18:45:55.138277Z",
     "start_time": "2020-04-01T18:45:55.131279Z"
    }
   },
   "outputs": [],
   "source": [
    "class Solution(object):\n",
    "    def spiralOrder(self, matrix):\n",
    "        \"\"\"\n",
    "        :type matrix: List[List[int]]\n",
    "        :rtype: List[int]\n",
    "        \"\"\"\n",
    "        if matrix == []: return []\n",
    "        up = 0; left = 0\n",
    "        down = len(matrix)-1\n",
    "        right = len(matrix[0])-1\n",
    "        direct = 0  # 0: go right   1: go down  2: go left  3: go up\n",
    "        res = []\n",
    "        while True:\n",
    "            if direct == 0:\n",
    "                for i in range(left, right+1):\n",
    "                    res.append(matrix[up][i])\n",
    "                up += 1\n",
    "            if direct == 1:\n",
    "                for i in range(up, down+1):\n",
    "                    res.append(matrix[i][right])\n",
    "                right -= 1\n",
    "            if direct == 2:\n",
    "                for i in range(right, left-1, -1):\n",
    "                    res.append(matrix[down][i])\n",
    "                down -= 1\n",
    "            if direct == 3:\n",
    "                for i in range(down, up-1, -1):\n",
    "                    res.append(matrix[i][left])\n",
    "                left += 1\n",
    "            if up > down or left > right: return res\n",
    "            direct = (direct+1) % 4"
   ]
  },
  {
   "cell_type": "code",
   "execution_count": 4,
   "metadata": {
    "ExecuteTime": {
     "end_time": "2020-04-01T19:10:34.985819Z",
     "start_time": "2020-04-01T19:10:34.980856Z"
    }
   },
   "outputs": [
    {
     "data": {
      "text/plain": [
       "[1, 2, 3, 4, 5]"
      ]
     },
     "execution_count": 4,
     "metadata": {},
     "output_type": "execute_result"
    }
   ],
   "source": [
    "s = Solution()\n",
    "matirx = [[1],[2],[3],[4],[5]]\n",
    "s.spiralOrder(matirx)"
   ]
  },
  {
   "cell_type": "code",
   "execution_count": null,
   "metadata": {},
   "outputs": [],
   "source": []
  }
 ],
 "metadata": {
  "kernelspec": {
   "display_name": "Python 3",
   "language": "python",
   "name": "python3"
  },
  "language_info": {
   "codemirror_mode": {
    "name": "ipython",
    "version": 3
   },
   "file_extension": ".py",
   "mimetype": "text/x-python",
   "name": "python",
   "nbconvert_exporter": "python",
   "pygments_lexer": "ipython3",
   "version": "3.6.5"
  },
  "varInspector": {
   "cols": {
    "lenName": 16,
    "lenType": 16,
    "lenVar": 40
   },
   "kernels_config": {
    "python": {
     "delete_cmd_postfix": "",
     "delete_cmd_prefix": "del ",
     "library": "var_list.py",
     "varRefreshCmd": "print(var_dic_list())"
    },
    "r": {
     "delete_cmd_postfix": ") ",
     "delete_cmd_prefix": "rm(",
     "library": "var_list.r",
     "varRefreshCmd": "cat(var_dic_list()) "
    }
   },
   "types_to_exclude": [
    "module",
    "function",
    "builtin_function_or_method",
    "instance",
    "_Feature"
   ],
   "window_display": false
  }
 },
 "nbformat": 4,
 "nbformat_minor": 2
}
