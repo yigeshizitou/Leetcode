{
 "cells": [
  {
   "cell_type": "markdown",
   "metadata": {},
   "source": [
    "Given an array nums of n integers where n > 1,  return an array output such that output[i] is equal to the product of all the elements of nums except nums[i].\n",
    "\n",
    "Example:\n",
    "\n",
    "Input:  [1,2,3,4]\n",
    "Output: [24,12,8,6]\n",
    "Note: Please solve it without division and in O(n).\n",
    "\n",
    "Follow up:\n",
    "Could you solve it with constant space complexity? (The output array does not count as extra space for the purpose of space complexity analysis.)"
   ]
  },
  {
   "cell_type": "markdown",
   "metadata": {},
   "source": [
    "### Solution 1 math\n",
    ">二次循环<br>\n",
    "第一次 nums_times 记录 num[:i-1] 的乘积<br>\n",
    "第二次 temp 记录 nums[i:] 的成绩, nums_times[i] *= temp<br>\n",
    "\n",
    "![avatar](https://github.com/azl397985856/leetcode/raw/master/assets/problems/238.product-of-array-except-self.png)\n",
    "\n",
    "Runtime: **104 ms**, faster than 75.26% of Python online submissions for Product of Array Except Self.<br>\n",
    "Memory Usage: **18.6 MB**, less than 52.38% of Python online submissions for Product of Array Except Self."
   ]
  },
  {
   "cell_type": "code",
   "execution_count": 1,
   "metadata": {
    "ExecuteTime": {
     "end_time": "2019-12-17T14:21:49.840688Z",
     "start_time": "2019-12-17T14:21:49.833359Z"
    }
   },
   "outputs": [],
   "source": [
    "class Solution(object):\n",
    "    def productExceptSelf(self, nums):\n",
    "        \"\"\"\n",
    "        :type nums: List[int]\n",
    "        :rtype: List[int]\n",
    "        author: Chong\n",
    "        \"\"\"\n",
    "        nums_times = [1]*len(nums)\n",
    "        nums_times_1 = [1]*len(nums)\n",
    "        nums_times[0] = 1\n",
    "        for i in range(1, len(nums)):\n",
    "            nums_times[i] = nums[i-1]*nums_times[i-1]\n",
    "        temp = 1\n",
    "        for i in range(len(nums)-2, -1, -1):\n",
    "            temp *= nums[i+1]\n",
    "            nums_times[i] *= temp\n",
    "\n",
    "        return nums_times"
   ]
  }
 ],
 "metadata": {
  "kernelspec": {
   "display_name": "Python 3",
   "language": "python",
   "name": "python3"
  },
  "language_info": {
   "codemirror_mode": {
    "name": "ipython",
    "version": 3
   },
   "file_extension": ".py",
   "mimetype": "text/x-python",
   "name": "python",
   "nbconvert_exporter": "python",
   "pygments_lexer": "ipython3",
   "version": "3.6.5"
  },
  "varInspector": {
   "cols": {
    "lenName": 16,
    "lenType": 16,
    "lenVar": 40
   },
   "kernels_config": {
    "python": {
     "delete_cmd_postfix": "",
     "delete_cmd_prefix": "del ",
     "library": "var_list.py",
     "varRefreshCmd": "print(var_dic_list())"
    },
    "r": {
     "delete_cmd_postfix": ") ",
     "delete_cmd_prefix": "rm(",
     "library": "var_list.r",
     "varRefreshCmd": "cat(var_dic_list()) "
    }
   },
   "types_to_exclude": [
    "module",
    "function",
    "builtin_function_or_method",
    "instance",
    "_Feature"
   ],
   "window_display": false
  }
 },
 "nbformat": 4,
 "nbformat_minor": 2
}
