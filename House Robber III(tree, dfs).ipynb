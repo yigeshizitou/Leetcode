{
 "cells": [
  {
   "cell_type": "markdown",
   "metadata": {},
   "source": [
    "https://leetcode.com/problems/house-robber-iii/\n",
    "\n",
    "The thief has found himself a new place for his thievery again. There is only one entrance to this area, called the \"root.\" Besides the root, each house has one and only one parent house. After a tour, the smart thief realized that \"all houses in this place forms a binary tree\". It will automatically contact the police if two directly-linked houses were broken into on the same night.\n",
    "\n",
    "Determine the maximum amount of money the thief can rob tonight without alerting the police.\n",
    "\n",
    "Example 1:\n",
    "\n",
    "Input: [3,2,3,null,3,null,1]\n",
    "\n",
    "     3\n",
    "    / \\\n",
    "   2   3\n",
    "    \\   \\ \n",
    "     3   1\n",
    "\n",
    "Output: 7 <br>\n",
    "Explanation: Maximum amount of money the thief can rob = 3 + 3 + 1 = 7.<br>\n",
    "Example 2:\n",
    "\n",
    "Input: [3,4,5,1,3,null,1]\n",
    "\n",
    "     3\n",
    "    / \\\n",
    "   4   5\n",
    "  / \\   \\ \n",
    " 1   3   1\n",
    "\n",
    "Output: 9<br>\n",
    "Explanation: Maximum amount of money the thief can rob = 4 + 5 = 9."
   ]
  },
  {
   "cell_type": "markdown",
   "metadata": {},
   "source": [
    "### Solution 1 dfs\n",
    "add_node(node) return (value_1, value_2). value_1 is the max amount of money if selected this node, value_2 if not selected.<br>\n",
    "left = (value_left_1, value_left_2), right = (value_right_1, value_right_2)<br>\n",
    "if node is selected, value_1 = node.val + value_left_2 + value_right_2<br>\n",
    "if not, value_2 = max((value_left_1 + value_right_1), (value_left_1 + value_right_2), (value_left_2 + value_right_1), (value_left_2 + value_right_2)<br>\n",
    "\n",
    "Runtime: 32 ms, faster than 94.93% of Python online submissions for House Robber III.<br>\n",
    "Memory Usage: 16 MB, less than 42.86% of Python online submissions for House Robber III."
   ]
  },
  {
   "cell_type": "code",
   "execution_count": 1,
   "metadata": {},
   "outputs": [],
   "source": [
    "class Solution(object):\n",
    "    def rob(self, root):\n",
    "        \"\"\"\n",
    "        :type root: TreeNode\n",
    "        :rtype: int\n",
    "        author: Chong\n",
    "        \"\"\"  \n",
    "        def add_node(node):\n",
    "            if not node: return (0, 0)\n",
    "            left = add_node(node.left)\n",
    "            right = add_node(node.right)\n",
    "            return (node.val+left[1]+right[1], max(left[0]+right[0], left[1]+right[0], left[0]+right[1], left[1]+right[1]))       \n",
    "        return max(add_node(root))"
   ]
  },
  {
   "cell_type": "code",
   "execution_count": null,
   "metadata": {},
   "outputs": [],
   "source": []
  }
 ],
 "metadata": {
  "kernelspec": {
   "display_name": "Python 3",
   "language": "python",
   "name": "python3"
  },
  "language_info": {
   "codemirror_mode": {
    "name": "ipython",
    "version": 3
   },
   "file_extension": ".py",
   "mimetype": "text/x-python",
   "name": "python",
   "nbconvert_exporter": "python",
   "pygments_lexer": "ipython3",
   "version": "3.6.5"
  }
 },
 "nbformat": 4,
 "nbformat_minor": 2
}
