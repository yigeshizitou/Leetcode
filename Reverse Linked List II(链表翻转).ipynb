{
 "cells": [
  {
   "cell_type": "markdown",
   "metadata": {},
   "source": [
    "https://leetcode.com/problems/reverse-linked-list-ii/\n",
    "\n",
    "https://github.com/azl397985856/leetcode/blob/master/problems/92.reverse-linked-list-ii.md\n",
    "\n",
    "Reverse a linked list from position m to n. Do it in one-pass.\n",
    "\n",
    "Note: 1 ≤ m ≤ n ≤ length of list.\n",
    "\n",
    "Example:\n",
    "\n",
    "Input: 1->2->3->4->5->NULL, m = 2, n = 4<br>\n",
    "Output: 1->4->3->2->5->NULL"
   ]
  },
  {
   "cell_type": "markdown",
   "metadata": {},
   "source": [
    "### Solution 1\n",
    "\n",
    "![avatar](https://github.com/azl397985856/leetcode/raw/master/assets/92.reverse-linked-list-ii.gif)\n",
    "\n",
    "Runtime: **12 ms**, faster than 94.83% of Python online submissions for Reverse Linked List II.<br>\n",
    "Memory Usage: **12.1 MB**, less than 20.00% of Python online submissions for Reverse Linked List II."
   ]
  },
  {
   "cell_type": "code",
   "execution_count": 2,
   "metadata": {
    "ExecuteTime": {
     "end_time": "2019-10-28T09:29:47.551717Z",
     "start_time": "2019-10-28T09:29:47.542724Z"
    }
   },
   "outputs": [],
   "source": [
    "class Solution(object):\n",
    "    def reverseBetween(self, head, m, n):\n",
    "        \"\"\"\n",
    "        :type head: ListNode\n",
    "        :type m: int\n",
    "        :type n: int\n",
    "        :rtype: ListNode        \"\"\"\n",
    "        if m == n:\n",
    "            return head\n",
    "\n",
    "        # 例行性的先放一个开始节点，方便操作\n",
    "        first = ListNode(0)\n",
    "        first.next = head\n",
    "\n",
    "        # 通过以下两个节点记录拼接点\n",
    "        before_m = first  # 原链表m前的部分\n",
    "        after_n = None  # 原链表n后的部分\n",
    "\n",
    "        # 通过以下两个节点记录翻转后的链表\n",
    "        between_mn_head = None\n",
    "        between_mn_end = None\n",
    "\n",
    "        index = 0\n",
    "        cur_node = first\n",
    "        while index < n:\n",
    "            index += 1\n",
    "            cur_node = cur_node.next\n",
    "            if index == m - 1:\n",
    "                before_m = cur_node\n",
    "            elif index == m:\n",
    "                between_mn_end = ListNode(cur_node.val)\n",
    "                between_mn_head = between_mn_end\n",
    "            elif index > m:\n",
    "                temp = between_mn_head\n",
    "                between_mn_head = ListNode(cur_node.val)\n",
    "                between_mn_head.next = temp\n",
    "                if index == n:\n",
    "                    after_n = cur_node.next\n",
    "\n",
    "        # 进行拼接\n",
    "        between_mn_end.next = after_n\n",
    "        before_m.next = between_mn_head\n",
    "\n",
    "        return first.next"
   ]
  },
  {
   "cell_type": "markdown",
   "metadata": {},
   "source": [
    "### Solution 2 \n",
    "\n",
    "For List with [1, 2, 3, 4, 5], supposed m == 2 and n == 4\n",
    "\n",
    "Step1:<br>\n",
    "The part I need to reversed is node 2 to node 4, which has n - m + 1 = 3 nodes.<br>\n",
    "Therefore, I would like to maintain a window with n - m + 1 nodes with the window's head whead and window's tail wtail, then if whead is head, wtail would be the next n-m node from head.\n",
    "\n",
    "[123]45 => whead is 1 and wtail is 3<br>\n",
    "Step2:<br>\n",
    "And to get to the right reversed portion we want, we need to shift the window m-1 times\n",
    "\n",
    "1[234]5 => whead is 2 and wtail is 4<br>\n",
    "Step3: Isolate the nodes inside the window, reverse the window as Reverse Linked List\n",
    "\n",
    "Step4: combine the outside node with reversed node.<br>\n",
    "To do so, I need to record the head outside the window ohead, and the tail outside the window otail\n",
    "\n",
    "ohead is 1, otail is 5<br>\n",
    "1-[432]-5<br>\n",
    "Implementation detail: Since in step 4, you need to let ohead.next = reversed_headIf you create a dummy node, you can save some lines for m == 1 cases, where ohead would be None and ohead.next would fail the program.\n",
    "\n",
    "Runtime: **16 ms**, faster than 79.24% of Python online submissions for Reverse Linked List II.<br>\n",
    "Memory Usage: **11.9 MB**, less than 70.00% of Python online submissions for Reverse Linked List II."
   ]
  },
  {
   "cell_type": "code",
   "execution_count": 1,
   "metadata": {
    "ExecuteTime": {
     "end_time": "2019-10-28T09:28:38.888327Z",
     "start_time": "2019-10-28T09:28:38.880324Z"
    }
   },
   "outputs": [],
   "source": [
    "class Solution(object):\n",
    "    def reverseBetween(self, head, m, n):\n",
    "        if m >= n:\n",
    "            return head\n",
    "        #Step 1#\n",
    "        ohead = dummy = ListNode(0)\n",
    "        whead = wtail = head\n",
    "        dummy.next = head\n",
    "        for i in range(n-m):\n",
    "            wtail = wtail.next\n",
    "        #Step 2#\n",
    "        for i in range(m-1):\n",
    "            ohead, whead, wtail = whead, whead.next, wtail.next\n",
    "        #Step 3#\n",
    "        otail, wtail.next = wtail.next, None\n",
    "        revhead, revtail = self.reverse(whead)\n",
    "        #Step 4#\n",
    "        ohead.next, revtail.next = revhead, otail\n",
    "        return dummy.next\n",
    "\n",
    "    def reverse(self, head):\n",
    "        pre, cur, tail = None, head, head\n",
    "        while cur:\n",
    "            cur.next, pre, cur = pre, cur, cur.next\n",
    "        return pre, tail"
   ]
  }
 ],
 "metadata": {
  "kernelspec": {
   "display_name": "Python 3",
   "language": "python",
   "name": "python3"
  },
  "language_info": {
   "codemirror_mode": {
    "name": "ipython",
    "version": 3
   },
   "file_extension": ".py",
   "mimetype": "text/x-python",
   "name": "python",
   "nbconvert_exporter": "python",
   "pygments_lexer": "ipython3",
   "version": "3.6.5"
  },
  "varInspector": {
   "cols": {
    "lenName": 16,
    "lenType": 16,
    "lenVar": 40
   },
   "kernels_config": {
    "python": {
     "delete_cmd_postfix": "",
     "delete_cmd_prefix": "del ",
     "library": "var_list.py",
     "varRefreshCmd": "print(var_dic_list())"
    },
    "r": {
     "delete_cmd_postfix": ") ",
     "delete_cmd_prefix": "rm(",
     "library": "var_list.r",
     "varRefreshCmd": "cat(var_dic_list()) "
    }
   },
   "types_to_exclude": [
    "module",
    "function",
    "builtin_function_or_method",
    "instance",
    "_Feature"
   ],
   "window_display": false
  }
 },
 "nbformat": 4,
 "nbformat_minor": 2
}
