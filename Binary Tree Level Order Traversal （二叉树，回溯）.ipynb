{
 "cells": [
  {
   "cell_type": "markdown",
   "metadata": {},
   "source": [
    "https://leetcode.com/problems/binary-tree-level-order-traversal/\n",
    "\n",
    "https://github.com/azl397985856/leetcode/blob/master/problems/102.binary-tree-level-order-traversal.md\n",
    "\n",
    "Given a binary tree, return the level order traversal of its nodes' values. (ie, from left to right, level by level).\n",
    "\n",
    "For example:<br>\n",
    "Given binary tree [3,9,20,null,null,15,7],<br>\n",
    "    3\n",
    "   / \\\n",
    "  9  20\n",
    "    /  \\\n",
    "   15   7<br>\n",
    "return its level order traversal as:<br>\n",
    "[<br>\n",
    "  [3],<br>\n",
    "  [9,20],<br>\n",
    "  [15,7]<br>\n",
    "]"
   ]
  },
  {
   "cell_type": "markdown",
   "metadata": {},
   "source": [
    "### Solution 1\n",
    ">level记录同一层中所有的节点<br>\n",
    "ans 记录 node list\n",
    "\n",
    "Runtime: **20 ms**, faster than 79.32% of Python online submissions for Binary Tree Level Order Traversal.<br>\n",
    "Memory Usage: **12.2 MB**, less than 66.18% of Python online submissions for Binary Tree Level Order Traversal."
   ]
  },
  {
   "cell_type": "code",
   "execution_count": 1,
   "metadata": {
    "ExecuteTime": {
     "end_time": "2019-10-29T15:24:33.149983Z",
     "start_time": "2019-10-29T15:24:33.144566Z"
    }
   },
   "outputs": [],
   "source": [
    "class Solution(object):\n",
    "    def levelOrder(self, root):\n",
    "        \"\"\"\n",
    "        :type root: TreeNode\n",
    "        :rtype: List[List[int]]\n",
    "        author: Chong\n",
    "        \"\"\"\n",
    "        level = [root]\n",
    "        ans = []\n",
    "        while root and level:\n",
    "            ans.append([node.val for node in level])\n",
    "            node_pairs = [(node.left, node.right) for node in level]\n",
    "            level = [leaf for nodes in node_pairs for leaf in nodes if leaf]\n",
    "        return ans"
   ]
  },
  {
   "cell_type": "markdown",
   "metadata": {},
   "source": [
    "### Solution 2\n",
    ">solution 1 改进\n",
    "\n",
    "Runtime: **16 ms**, faster than 94.54% of Python online submissions for Binary Tree Level Order Traversal.<br>\n",
    "Memory Usage: **12.2 MB**, less than 75.00% of Python online submissions for Binary Tree Level Order Traversal."
   ]
  },
  {
   "cell_type": "code",
   "execution_count": 2,
   "metadata": {
    "ExecuteTime": {
     "end_time": "2019-10-29T15:27:35.798681Z",
     "start_time": "2019-10-29T15:27:35.792684Z"
    }
   },
   "outputs": [],
   "source": [
    "class Solution(object):\n",
    "    def levelOrder(self, root):\n",
    "        ans, level = [], [root]\n",
    "        while root and level:\n",
    "            ans.append([node.val for node in level])            \n",
    "            level = [kid for n in level for kid in (n.left, n.right) if kid]\n",
    "        return ans"
   ]
  },
  {
   "cell_type": "markdown",
   "metadata": {},
   "source": [
    "### Solution 3\n",
    ">回溯<br>\n",
    "root 当前节点， level 记录层数， res 记录结果<br>\n",
    "每加一层，res加一个 [] 来记录该层节点\n",
    "\n",
    "Runtime: **24 ms**, faster than 51.27% of Python online submissions for Binary Tree Level Order Traversal.<br>\n",
    "Memory Usage: **12.6 MB**, less than 14.71% of Python online submissions for Binary Tree Level Order Traversal."
   ]
  },
  {
   "cell_type": "code",
   "execution_count": 3,
   "metadata": {
    "ExecuteTime": {
     "end_time": "2019-10-29T15:30:39.390890Z",
     "start_time": "2019-10-29T15:30:39.383930Z"
    }
   },
   "outputs": [],
   "source": [
    "class Solution(object):\n",
    "    def levelOrder(self, root):\n",
    "        res = []\n",
    "        self.dfs(root, 0, res)\n",
    "        return res\n",
    "\n",
    "    def dfs(self, root, level, res):\n",
    "        if not root:\n",
    "            return \n",
    "        if len(res) < level+1:\n",
    "            res.append([])\n",
    "        res[level].append(root.val)\n",
    "        self.dfs(root.left, level+1, res)\n",
    "        self.dfs(root.right, level+1, res)"
   ]
  },
  {
   "cell_type": "code",
   "execution_count": null,
   "metadata": {},
   "outputs": [],
   "source": []
  }
 ],
 "metadata": {
  "kernelspec": {
   "display_name": "Python 3",
   "language": "python",
   "name": "python3"
  },
  "language_info": {
   "codemirror_mode": {
    "name": "ipython",
    "version": 3
   },
   "file_extension": ".py",
   "mimetype": "text/x-python",
   "name": "python",
   "nbconvert_exporter": "python",
   "pygments_lexer": "ipython3",
   "version": "3.6.5"
  },
  "varInspector": {
   "cols": {
    "lenName": 16,
    "lenType": 16,
    "lenVar": 40
   },
   "kernels_config": {
    "python": {
     "delete_cmd_postfix": "",
     "delete_cmd_prefix": "del ",
     "library": "var_list.py",
     "varRefreshCmd": "print(var_dic_list())"
    },
    "r": {
     "delete_cmd_postfix": ") ",
     "delete_cmd_prefix": "rm(",
     "library": "var_list.r",
     "varRefreshCmd": "cat(var_dic_list()) "
    }
   },
   "types_to_exclude": [
    "module",
    "function",
    "builtin_function_or_method",
    "instance",
    "_Feature"
   ],
   "window_display": false
  }
 },
 "nbformat": 4,
 "nbformat_minor": 2
}
