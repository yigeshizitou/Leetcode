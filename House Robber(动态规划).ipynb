{
 "cells": [
  {
   "cell_type": "markdown",
   "metadata": {},
   "source": [
    "https://leetcode.com/problems/house-robber/description/\n",
    "\n",
    "https://github.com/azl397985856/leetcode/blob/master/problems/198.house-robber.md\n",
    "\n",
    "You are a professional robber planning to rob houses along a street. Each house has a certain amount of money stashed, the only constraint stopping you from robbing each of them is that adjacent houses have security system connected and **it will automatically contact the police if two adjacent houses were broken into on the same night.**\n",
    "\n",
    "Given a list of non-negative integers representing the amount of money of each house, determine the maximum amount of money you can rob tonight **without alerting the police.**\n",
    "\n",
    "**Example 1:**\n",
    "\n",
    "Input: [1,2,3,1]<br>\n",
    "Output: 4<br>\n",
    "Explanation: Rob house 1 (money = 1) and then rob house 3 (money = 3).<br>\n",
    "             Total amount you can rob = 1 + 3 = 4.\n",
    "\n",
    "**Example 2:**\n",
    "\n",
    "Input: [2,7,9,3,1]<br>\n",
    "Output: 12<br>\n",
    "Explanation: Rob house 1 (money = 2), rob house 3 (money = 9) and rob house 5 (money = 1).<br>\n",
    "             Total amount you can rob = 2 + 9 + 1 = 12."
   ]
  },
  {
   "cell_type": "markdown",
   "metadata": {},
   "source": [
    "### Solution 1 动态规划\n",
    "> dp[i] = max( nums[i] + dp[i-2], dp[i-1] )\n",
    "\n",
    "Runtime: **16 ms**, faster than 79.31% of Python online submissions for House Robber.<br>\n",
    "Memory Usage: **11.6 MB**, less than 80.85% of Python online submissions for House Robber."
   ]
  },
  {
   "cell_type": "code",
   "execution_count": 72,
   "metadata": {
    "ExecuteTime": {
     "end_time": "2019-09-17T09:14:29.999468Z",
     "start_time": "2019-09-17T09:14:29.995479Z"
    }
   },
   "outputs": [],
   "source": [
    "def rob(nums):\n",
    "    rob = [0, 0]\n",
    "    for i in range(len(nums)):\n",
    "        rob_curr = max(nums[i]+rob[0], rob[1])\n",
    "        rob[0] = rob[1]\n",
    "        rob[1] = rob_curr\n",
    "    return max(rob)"
   ]
  },
  {
   "cell_type": "markdown",
   "metadata": {},
   "source": [
    "### Solution 2 动态规划\n",
    ">dp[i-3], dp[i-2], dp[i-1] = dp[i-2], dp[i-1], max(dp[i-3] + nums[i], dp[i-2] + nums[i])\n",
    "\n",
    "Runtime: **8 ms**, faster than 99.33% of Python online submissions for House Robber.<br>\n",
    "Memory Usage: **11.7 MB**, less than 68.08% of Python online submissions for House Robber."
   ]
  },
  {
   "cell_type": "code",
   "execution_count": 74,
   "metadata": {
    "ExecuteTime": {
     "end_time": "2019-09-17T09:19:20.488955Z",
     "start_time": "2019-09-17T09:19:20.485767Z"
    }
   },
   "outputs": [],
   "source": [
    "def rob(num):\n",
    "    max_3_house_before, max_2_house_before, adjacent = 0, 0, 0\n",
    "    for cur in num:\n",
    "        max_3_house_before, max_2_house_before, adjacent = \\\n",
    "            max_2_house_before, adjacent, max(\n",
    "                max_3_house_before+cur, max_2_house_before+cur)\n",
    "    return max(max_2_house_before, adjacent)"
   ]
  },
  {
   "cell_type": "code",
   "execution_count": 76,
   "metadata": {
    "ExecuteTime": {
     "end_time": "2019-09-17T09:27:00.045477Z",
     "start_time": "2019-09-17T09:27:00.041488Z"
    }
   },
   "outputs": [
    {
     "data": {
      "text/plain": [
       "12"
      ]
     },
     "execution_count": 76,
     "metadata": {},
     "output_type": "execute_result"
    }
   ],
   "source": [
    "nums = [2, 7, 9, 3, 1]\n",
    "rob(nums)"
   ]
  }
 ],
 "metadata": {
  "kernelspec": {
   "display_name": "Python 3",
   "language": "python",
   "name": "python3"
  },
  "language_info": {
   "codemirror_mode": {
    "name": "ipython",
    "version": 3
   },
   "file_extension": ".py",
   "mimetype": "text/x-python",
   "name": "python",
   "nbconvert_exporter": "python",
   "pygments_lexer": "ipython3",
   "version": "3.6.5"
  },
  "varInspector": {
   "cols": {
    "lenName": 16,
    "lenType": 16,
    "lenVar": 40
   },
   "kernels_config": {
    "python": {
     "delete_cmd_postfix": "",
     "delete_cmd_prefix": "del ",
     "library": "var_list.py",
     "varRefreshCmd": "print(var_dic_list())"
    },
    "r": {
     "delete_cmd_postfix": ") ",
     "delete_cmd_prefix": "rm(",
     "library": "var_list.r",
     "varRefreshCmd": "cat(var_dic_list()) "
    }
   },
   "types_to_exclude": [
    "module",
    "function",
    "builtin_function_or_method",
    "instance",
    "_Feature"
   ],
   "window_display": false
  }
 },
 "nbformat": 4,
 "nbformat_minor": 2
}
