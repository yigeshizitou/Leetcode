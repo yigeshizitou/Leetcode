{
 "cells": [
  {
   "cell_type": "markdown",
   "metadata": {},
   "source": [
    "https://leetcode.com/problems/number-of-enclaves/\n",
    "\n",
    "Given a 2D array A, each cell is 0 (representing sea) or 1 (representing land)\n",
    "\n",
    "A move consists of walking from one land square 4-directionally to another land square, or off the boundary of the grid.\n",
    "\n",
    "Return the number of land squares in the grid for which we cannot walk off the boundary of the grid in any number of moves.\n",
    "\n",
    " \n",
    "\n",
    "Example 1:\n",
    "\n",
    "Input: [[0,0,0,0],[1,0,1,0],[0,1,1,0],[0,0,0,0]]<br>\n",
    "Output: 3<br>\n",
    "Explanation: <br>\n",
    "There are three 1s that are enclosed by 0s, and one 1 that isn't enclosed because its on the boundary.<br>\n",
    "Example 2:\n",
    "\n",
    "Input: [[0,1,1,0],[0,0,1,0],[0,0,1,0],[0,0,0,0]]<br>\n",
    "Output: 0<br>\n",
    "Explanation: <br>\n",
    "All 1s are either on the boundary or can reach the boundary.\n"
   ]
  },
  {
   "cell_type": "markdown",
   "metadata": {},
   "source": [
    "### Solution 1 dfs\n",
    "> Use 'visit' to record whether the item has been visited or not<br>\n",
    "Function 'dfs' explores all surrounding items of '1' at the position (i,j)\n",
    "\n",
    "Runtime: **760 ms**, faster than 21.82% of Python online submissions for Number of Enclaves.<br>\n",
    "Memory Usage: **12.8 MB**, less than 75.00% of Python online submissions for Number of Enclaves."
   ]
  },
  {
   "cell_type": "code",
   "execution_count": 1,
   "metadata": {},
   "outputs": [],
   "source": [
    "class Solution(object):\n",
    "    def numEnclaves(self, A):\n",
    "        \"\"\"\n",
    "        :type A: List[List[int]]\n",
    "        :rtype: int\n",
    "        author: Chong\n",
    "        \"\"\"\n",
    "        def dfs(A, visit, i, j):\n",
    "            stack = [(i,j)]\n",
    "            count = 0\n",
    "            Flag = False\n",
    "            while stack:\n",
    "                x, y = stack.pop(0)\n",
    "                if not visit[x][y]:\n",
    "                    visit[x][y] = True\n",
    "                    if A[x][y] == 1:\n",
    "                        if x-1>=0 and not visit[x-1][y]: stack.append((x-1,y))\n",
    "                        if x+1<len(A) and not visit[x+1][y]: stack.append((x+1,y))\n",
    "                        if y-1>=0 and not visit[x][y-1]: stack.append((x,y-1))\n",
    "                        if y+1<len(A[0]) and not visit[x][y+1]: stack.append((x,y+1))\n",
    "                        if x in [0, len(A)-1] or y in [0, len(A[0])-1]:\n",
    "                            Flag = True\n",
    "                        elif 0<x<len(A)-1 and 0<y<len(A[0])-1:\n",
    "                            count += 1\n",
    "            if Flag: return visit, 0\n",
    "            else: return visit, count\n",
    "            \n",
    "        visit = [[False for i in range(len(A[0]))] for j in range(len(A))]\n",
    "        count = 0\n",
    "        for i in range(1, len(A)-1):\n",
    "            for j in range(1, len(A[0])-1):\n",
    "                if A[i][j] == 1 and visit[i][j] == False:\n",
    "                    visit, count_now = dfs(A, visit, i, j)\n",
    "                    count += count_now\n",
    "        return count"
   ]
  },
  {
   "cell_type": "markdown",
   "metadata": {},
   "source": [
    "### Solution 2 dfs\n",
    "> Start searching from the four boundaries. <br>\n",
    "Function 'dfs' sets all '1' who is linked with '1' in boundary to '0'<br>\n",
    "Finally, count '1' in A.\n",
    "\n",
    "Runtime: **480 ms**, faster than 80.91% of Python online submissions for Number of Enclaves.<br>\n",
    "Memory Usage: **13.4 MB**, less than 50.00% of Python online submissions for Number of Enclaves."
   ]
  },
  {
   "cell_type": "code",
   "execution_count": 2,
   "metadata": {},
   "outputs": [],
   "source": [
    "class Solution(object):\n",
    "    def numEnclaves(self, A):\n",
    "        \"\"\"\n",
    "        :type A: List[List[int]]\n",
    "        :rtype: int\n",
    "        \"\"\"\n",
    "        self.A = A\n",
    "        def dfs(i,j):\n",
    "            if i<0 or i>len(A)-1 or j<0 or j>=len(A[0]) or self.A[i][j] == 0:\n",
    "                return\n",
    "            self.A[i][j] = 0\n",
    "            dfs(i-1,j)\n",
    "            dfs(i+1,j)\n",
    "            dfs(i,j-1)\n",
    "            dfs(i,j+1)\n",
    "            \n",
    "        for i in range(len(A)):\n",
    "            dfs(i, 0)\n",
    "            dfs(i, len(A[0])-1)\n",
    "        for j in range(1,len(A[0])-1):\n",
    "            dfs(0,j)\n",
    "            dfs(len(A)-1,j)\n",
    "        count = 0\n",
    "        for i in range(1, len(A)-1):\n",
    "            for j in range(1, len(A[0])-1):\n",
    "                if self.A[i][j] == 1:\n",
    "                    count += 1\n",
    "        return count"
   ]
  },
  {
   "cell_type": "code",
   "execution_count": 3,
   "metadata": {},
   "outputs": [
    {
     "data": {
      "text/plain": [
       "3"
      ]
     },
     "execution_count": 3,
     "metadata": {},
     "output_type": "execute_result"
    }
   ],
   "source": [
    "a = Solution()\n",
    "A =  [[0,0,0,1,1,1,0,1,0,0],[1,1,0,0,0,1,0,1,1,1],[0,0,0,1,1,1,0,1,0,0],[0,1,1,0,0,0,1,0,1,0],[0,1,1,1,1,1,0,0,1,0],[0,0,1,0,1,1,1,1,0,1],[0,1,1,0,0,0,1,1,1,1],[0,0,1,0,0,1,0,1,0,1],[1,0,1,0,1,1,0,0,0,0],[0,0,0,0,1,1,0,0,0,1]]\n",
    "a.numEnclaves(A)"
   ]
  }
 ],
 "metadata": {
  "kernelspec": {
   "display_name": "Python 3",
   "language": "python",
   "name": "python3"
  },
  "language_info": {
   "codemirror_mode": {
    "name": "ipython",
    "version": 3
   },
   "file_extension": ".py",
   "mimetype": "text/x-python",
   "name": "python",
   "nbconvert_exporter": "python",
   "pygments_lexer": "ipython3",
   "version": "3.6.5"
  }
 },
 "nbformat": 4,
 "nbformat_minor": 2
}
