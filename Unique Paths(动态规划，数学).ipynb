{
 "cells": [
  {
   "cell_type": "markdown",
   "metadata": {},
   "source": [
    "https://leetcode.com/problems/unique-paths/\n",
    "\n",
    "https://github.com/azl397985856/leetcode/blob/master/problems/62.unique-paths.md\n",
    "\n",
    "A robot is located at the top-left corner of a m x n grid (marked 'Start' in the diagram below).\n",
    "\n",
    "The robot can only move either down or right at any point in time. The robot is trying to reach the bottom-right corner of the grid (marked 'Finish' in the diagram below).\n",
    "\n",
    "How many possible unique paths are there?\n",
    "\n",
    "![avatar](https://assets.leetcode.com/uploads/2018/10/22/robot_maze.png)\n",
    "\n",
    "Above is a 7 x 3 grid. How many possible unique paths are there?\n",
    "\n",
    "Note: m and n will be at most 100.\n",
    "\n",
    "Example 1:\n",
    "\n",
    "Input: m = 3, n = 2<br>\n",
    "Output: 3<br>\n",
    "Explanation:<br>\n",
    "From the top-left corner, there are a total of 3 ways to reach the bottom-right corner:<br>\n",
    "1. Right -> Right -> Down<br>\n",
    "2. Right -> Down -> Right<br>\n",
    "3. Down -> Right -> Right<br>\n",
    "Example 2:<br>\n",
    "\n",
    "Input: m = 7, n = 3<br>\n",
    "Output: 28"
   ]
  },
  {
   "cell_type": "markdown",
   "metadata": {},
   "source": [
    "### Solution 1\n",
    ">math<br>\n",
    "For example, m=7, n=3, it takes 8 steps to reach \"Finish\". Among them there are two steps \"Down\".\n",
    "\n",
    "Runtime: **0 ms**, faster than 100.00% of Python online submissions for Unique Paths.<br>\n",
    "Memory Usage: **11.6 MB**, less than 93.10% of Python online submissions for Unique Paths."
   ]
  },
  {
   "cell_type": "code",
   "execution_count": 4,
   "metadata": {
    "ExecuteTime": {
     "end_time": "2019-10-13T13:57:42.354700Z",
     "start_time": "2019-10-13T13:57:42.350660Z"
    }
   },
   "outputs": [],
   "source": [
    "class Solution(object):\n",
    "    def uniquePaths(self, m, n):\n",
    "        \"\"\"\n",
    "        :type m: int\n",
    "        :type n: int\n",
    "        :rtype: int\n",
    "        author:chong\n",
    "        \"\"\"\n",
    "        up = 1\n",
    "        down = 1\n",
    "        for i in range(2, n):\n",
    "            down *= i\n",
    "        for j in range(m+n-2, m-1, -1):\n",
    "            up *= j\n",
    "        return up//down"
   ]
  },
  {
   "cell_type": "markdown",
   "metadata": {},
   "source": [
    "### Solution 2\n",
    ">dynamique programming<br>\n",
    "$dp[i][j]=dp[i-1][j]+dp[i][j-1]$\n",
    "\n",
    "Runtime: **20 ms**, faster than 50.00% of Python online submissions for Unique Paths.<br>\n",
    "Memory Usage: **11.7 MB**, less than 68.97% of Python online submissions for Unique Paths."
   ]
  },
  {
   "cell_type": "code",
   "execution_count": 23,
   "metadata": {
    "ExecuteTime": {
     "end_time": "2019-10-13T14:10:05.007674Z",
     "start_time": "2019-10-13T14:10:05.000675Z"
    }
   },
   "outputs": [],
   "source": [
    "class Solution(object):\n",
    "    def uniquePaths(self, m, n):\n",
    "        \"\"\"\n",
    "        :type m: int\n",
    "        :type n: int\n",
    "        :rtype: int\n",
    "        author:chong\n",
    "        \"\"\"\n",
    "        dp = [[[0] for x in range(m)]for _ in range(n)]\n",
    "        for i in range(n):\n",
    "            dp[i][0] = 1\n",
    "        for j in range(m):\n",
    "            dp[0][j] = 1\n",
    "        for i in range(1, n):\n",
    "            for j in range(1, m):\n",
    "                dp[i][j] = dp[i-1][j]+dp[i][j-1]\n",
    "        return dp[-1][-1]"
   ]
  },
  {
   "cell_type": "markdown",
   "metadata": {},
   "source": [
    "### Solution 3\n",
    ">dynamique programming<br>\n",
    "$dp[i][j]=dp[i-1][j]+dp[i][j-1]$<br>\n",
    "imporve the way to build the dp table\n",
    "\n",
    "Runtime: **4 ms**, faster than 99.99% of Python online submissions for Unique Paths.<br>\n",
    "Memory Usage: **11.8 MB**, less than 55.17% of Python online submissions for Unique Paths."
   ]
  },
  {
   "cell_type": "code",
   "execution_count": 26,
   "metadata": {
    "ExecuteTime": {
     "end_time": "2019-10-13T14:14:59.743736Z",
     "start_time": "2019-10-13T14:14:59.738736Z"
    }
   },
   "outputs": [],
   "source": [
    "class Solution(object):\n",
    "    def uniquePaths(self, m, n):\n",
    "        \"\"\"\n",
    "        :type m: int\n",
    "        :type n: int\n",
    "        :rtype: int\n",
    "        \"\"\"\n",
    "        dp = [[1]*m for _ in range(n)]\n",
    "        for i in range(1, n):\n",
    "            for j in range(1, m):\n",
    "                dp[i][j] = dp[i-1][j] + dp[i][j-1]\n",
    "        return dp[-1][-1]"
   ]
  },
  {
   "cell_type": "code",
   "execution_count": 27,
   "metadata": {
    "ExecuteTime": {
     "end_time": "2019-10-13T14:15:00.208921Z",
     "start_time": "2019-10-13T14:15:00.204922Z"
    }
   },
   "outputs": [
    {
     "data": {
      "text/plain": [
       "28"
      ]
     },
     "execution_count": 27,
     "metadata": {},
     "output_type": "execute_result"
    }
   ],
   "source": [
    "m = 7\n",
    "n = 3\n",
    "a = Solution()\n",
    "a.uniquePaths(m, n)"
   ]
  },
  {
   "cell_type": "code",
   "execution_count": null,
   "metadata": {},
   "outputs": [],
   "source": []
  }
 ],
 "metadata": {
  "kernelspec": {
   "display_name": "Python 3",
   "language": "python",
   "name": "python3"
  },
  "language_info": {
   "codemirror_mode": {
    "name": "ipython",
    "version": 3
   },
   "file_extension": ".py",
   "mimetype": "text/x-python",
   "name": "python",
   "nbconvert_exporter": "python",
   "pygments_lexer": "ipython3",
   "version": "3.6.5"
  },
  "varInspector": {
   "cols": {
    "lenName": 16,
    "lenType": 16,
    "lenVar": 40
   },
   "kernels_config": {
    "python": {
     "delete_cmd_postfix": "",
     "delete_cmd_prefix": "del ",
     "library": "var_list.py",
     "varRefreshCmd": "print(var_dic_list())"
    },
    "r": {
     "delete_cmd_postfix": ") ",
     "delete_cmd_prefix": "rm(",
     "library": "var_list.r",
     "varRefreshCmd": "cat(var_dic_list()) "
    }
   },
   "types_to_exclude": [
    "module",
    "function",
    "builtin_function_or_method",
    "instance",
    "_Feature"
   ],
   "window_display": false
  }
 },
 "nbformat": 4,
 "nbformat_minor": 2
}
