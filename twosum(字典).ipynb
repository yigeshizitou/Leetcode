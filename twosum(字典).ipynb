{
 "cells": [
  {
   "cell_type": "markdown",
   "metadata": {},
   "source": [
    "给定 nums = [2, 7, 11, 15], target = 9\n",
    "<br>\n",
    "因为 nums[0] + nums[1] = 2 + 7 = 9\n",
    "所以返回 [0, 1]"
   ]
  },
  {
   "cell_type": "code",
   "execution_count": 1,
   "metadata": {
    "ExecuteTime": {
     "end_time": "2019-08-06T03:29:14.205416Z",
     "start_time": "2019-08-06T03:29:14.200512Z"
    }
   },
   "outputs": [],
   "source": [
    "def twoSum(nums, target):\n",
    "    \"\"\"\n",
    "    :type nums: List[int]\n",
    "    :type target: int\n",
    "    :rtype: List[int]\n",
    "    \"\"\"\n",
    "    for i in range(len(nums)):\n",
    "        for j in range(i+1, len(nums)):\n",
    "            if nums[i]+nums[j] == target:\n",
    "                return [i, j]"
   ]
  },
  {
   "cell_type": "code",
   "execution_count": 17,
   "metadata": {
    "ExecuteTime": {
     "end_time": "2019-09-03T13:29:53.258673Z",
     "start_time": "2019-09-03T13:29:53.253686Z"
    }
   },
   "outputs": [],
   "source": [
    "def twoSum(nums, target):\n",
    "    dict_sum={}\n",
    "    for i in range(len(nums)):\n",
    "        if nums[i] in dict_sum:\n",
    "            return [dict_sum[nums[i]],i]\n",
    "        else:\n",
    "            dict_sum[target-nums[i]]=i"
   ]
  },
  {
   "cell_type": "code",
   "execution_count": 29,
   "metadata": {
    "ExecuteTime": {
     "end_time": "2019-09-03T13:39:58.334492Z",
     "start_time": "2019-09-03T13:39:58.330528Z"
    }
   },
   "outputs": [],
   "source": [
    "def twoSum(nums, target):\n",
    "    map={}\n",
    "    for i in range(len(nums)):\n",
    "        if nums[i] not in map:\n",
    "            map[target-nums[i]]=i\n",
    "        else:\n",
    "            return map[nums[i]],i"
   ]
  },
  {
   "cell_type": "code",
   "execution_count": 30,
   "metadata": {
    "ExecuteTime": {
     "end_time": "2019-09-03T13:39:58.898145Z",
     "start_time": "2019-09-03T13:39:58.894189Z"
    }
   },
   "outputs": [],
   "source": [
    "nums = [2, 7, 11, 15]\n",
    "target = 9 "
   ]
  },
  {
   "cell_type": "code",
   "execution_count": 31,
   "metadata": {
    "ExecuteTime": {
     "end_time": "2019-09-03T13:39:59.386003Z",
     "start_time": "2019-09-03T13:39:59.381974Z"
    }
   },
   "outputs": [
    {
     "data": {
      "text/plain": [
       "(0, 1)"
      ]
     },
     "execution_count": 31,
     "metadata": {},
     "output_type": "execute_result"
    }
   ],
   "source": [
    "twoSum(nums, target)"
   ]
  }
 ],
 "metadata": {
  "kernelspec": {
   "display_name": "Python 3",
   "language": "python",
   "name": "python3"
  },
  "language_info": {
   "codemirror_mode": {
    "name": "ipython",
    "version": 3
   },
   "file_extension": ".py",
   "mimetype": "text/x-python",
   "name": "python",
   "nbconvert_exporter": "python",
   "pygments_lexer": "ipython3",
   "version": "3.6.5"
  },
  "varInspector": {
   "cols": {
    "lenName": 16,
    "lenType": 16,
    "lenVar": 40
   },
   "kernels_config": {
    "python": {
     "delete_cmd_postfix": "",
     "delete_cmd_prefix": "del ",
     "library": "var_list.py",
     "varRefreshCmd": "print(var_dic_list())"
    },
    "r": {
     "delete_cmd_postfix": ") ",
     "delete_cmd_prefix": "rm(",
     "library": "var_list.r",
     "varRefreshCmd": "cat(var_dic_list()) "
    }
   },
   "types_to_exclude": [
    "module",
    "function",
    "builtin_function_or_method",
    "instance",
    "_Feature"
   ],
   "window_display": false
  }
 },
 "nbformat": 4,
 "nbformat_minor": 2
}
