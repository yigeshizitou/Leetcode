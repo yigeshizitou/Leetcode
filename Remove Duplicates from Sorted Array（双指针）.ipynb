{
 "cells": [
  {
   "cell_type": "markdown",
   "metadata": {},
   "source": [
    "### Remove Duplicates from Sorted Array\n",
    "\n",
    "https://leetcode.com/problems/remove-duplicates-from-sorted-array/\n",
    "\n",
    "Given a sorted array nums, remove the duplicates in-place such that each element appear only once and return the new length.\n",
    "\n",
    "Do not allocate extra space for another array, you must do this by modifying the input array in-place with O(1) extra memory.\n",
    "\n",
    "Example 1:\n",
    "\n",
    "Given nums = [1,1,2],\n",
    "\n",
    "Your function should return length = 2, with the first two elements of nums being 1 and 2 respectively.\n",
    "\n",
    "It doesn't matter what you leave beyond the returned length.\n",
    "Example 2:\n",
    "\n",
    "Given nums = [0,0,1,1,1,2,2,3,3,4],\n",
    "\n",
    "Your function should return length = 5, with the first five elements of nums being modified to 0, 1, 2, 3, and 4 respectively.\n",
    "\n",
    "It doesn't matter what values are set beyond the returned length."
   ]
  },
  {
   "cell_type": "markdown",
   "metadata": {},
   "source": [
    "#### 正确解法1 \n",
    "\n",
    ">nums[i]==nums[i+1]时，删除nums[i+1],保持i不变<br>\n",
    "nums[i]!=nums[i+1]时, i=i+1\n",
    "\n",
    "\n",
    "\n",
    "Runtime: **84 ms**, faster than 24.98% of Python online submissions for Remove Duplicates from Sorted Array.<br>\n",
    "Memory Usage: **13.6 MB**, less than 53.13% of Python online submissions for Remove Duplicates from Sorted Array."
   ]
  },
  {
   "cell_type": "code",
   "execution_count": 1,
   "metadata": {
    "ExecuteTime": {
     "end_time": "2019-09-12T14:41:14.331888Z",
     "start_time": "2019-09-12T14:41:14.327933Z"
    }
   },
   "outputs": [],
   "source": [
    "def removeDuplicates(nums):\n",
    "    \"\"\"\n",
    "    :type nums: List[int]\n",
    "    :rtype: int\n",
    "    \"\"\"\n",
    "    i = 0\n",
    "    while i+1 < len(nums):\n",
    "        if nums[i] == nums[i+1]:\n",
    "            nums.pop(i+1)\n",
    "        else:\n",
    "            i += 1\n",
    "    return len(nums)"
   ]
  },
  {
   "cell_type": "markdown",
   "metadata": {},
   "source": [
    "#### 正确解法2：双指针\n",
    "\n",
    ">用快慢两个指针<br><br>\n",
    "当快指针与慢指针指向同一个数字，快指针+1，满指针不变<br><br>\n",
    "当快指针与慢指针指向不同数字，快指针+1，满指针+1<br><br>\n",
    "\n",
    "\n",
    "Runtime: **68 ms**, faster than 69.42% of Python online submissions for Remove Duplicates from Sorted Array.<br>\n",
    "Memory Usage: **13.6 MB**, less than 54.69% of Python online submissions for Remove Duplicates from Sorted Array."
   ]
  },
  {
   "cell_type": "code",
   "execution_count": 2,
   "metadata": {
    "ExecuteTime": {
     "end_time": "2019-09-12T14:41:15.404390Z",
     "start_time": "2019-09-12T14:41:15.399375Z"
    }
   },
   "outputs": [],
   "source": [
    "def removeDuplicates(nums):\n",
    "    slow = 0\n",
    "    for fast in range(len(nums)):\n",
    "        if nums[fast] != nums[slow]:\n",
    "            slow += 1\n",
    "            nums[slow] = nums[fast]\n",
    "    return slow+1"
   ]
  },
  {
   "cell_type": "markdown",
   "metadata": {},
   "source": [
    "### 正确解法3\n",
    ">双指针+提前判断空集\n",
    "\n",
    "Runtime: **64 ms**, faster than 86.14% of Python online submissions for Remove Duplicates from Sorted Array.<br>\n",
    "Memory Usage: **13.7 MB**, less than 14.06% of Python online submissions for Remove Duplicates from Sorted Array."
   ]
  },
  {
   "cell_type": "code",
   "execution_count": 3,
   "metadata": {
    "ExecuteTime": {
     "end_time": "2019-09-12T14:41:16.618887Z",
     "start_time": "2019-09-12T14:41:16.611904Z"
    }
   },
   "outputs": [],
   "source": [
    "def removeDuplicates(nums):\n",
    "    \"\"\"\n",
    "    :type nums: List[int]\n",
    "    :rtype: int\n",
    "    \"\"\"\n",
    "    slow = 0\n",
    "    if len(nums) == 0:\n",
    "        return 0\n",
    "    for fast in range(len(nums)):\n",
    "        if nums[fast] != nums[slow]:\n",
    "            slow += 1\n",
    "            nums[slow] = nums[fast]\n",
    "    return slow+1"
   ]
  },
  {
   "cell_type": "code",
   "execution_count": 4,
   "metadata": {
    "ExecuteTime": {
     "end_time": "2019-09-12T14:41:17.215228Z",
     "start_time": "2019-09-12T14:41:17.212233Z"
    }
   },
   "outputs": [],
   "source": [
    "s = [0, 0, 1, 1, 1, 2, 2, 3, 3, 4]"
   ]
  },
  {
   "cell_type": "code",
   "execution_count": 5,
   "metadata": {
    "ExecuteTime": {
     "end_time": "2019-09-12T14:41:17.699411Z",
     "start_time": "2019-09-12T14:41:17.696421Z"
    },
    "scrolled": true
   },
   "outputs": [],
   "source": [
    "s = [1, 1, 2]\n",
    "a = removeDuplicates(s)"
   ]
  },
  {
   "cell_type": "code",
   "execution_count": 6,
   "metadata": {
    "ExecuteTime": {
     "end_time": "2019-09-12T14:41:23.861489Z",
     "start_time": "2019-09-12T14:41:23.846017Z"
    }
   },
   "outputs": [
    {
     "data": {
      "text/plain": [
       "2"
      ]
     },
     "execution_count": 6,
     "metadata": {},
     "output_type": "execute_result"
    }
   ],
   "source": [
    "a"
   ]
  }
 ],
 "metadata": {
  "kernelspec": {
   "display_name": "Python 3",
   "language": "python",
   "name": "python3"
  },
  "language_info": {
   "codemirror_mode": {
    "name": "ipython",
    "version": 3
   },
   "file_extension": ".py",
   "mimetype": "text/x-python",
   "name": "python",
   "nbconvert_exporter": "python",
   "pygments_lexer": "ipython3",
   "version": "3.6.5"
  },
  "varInspector": {
   "cols": {
    "lenName": 16,
    "lenType": 16,
    "lenVar": 40
   },
   "kernels_config": {
    "python": {
     "delete_cmd_postfix": "",
     "delete_cmd_prefix": "del ",
     "library": "var_list.py",
     "varRefreshCmd": "print(var_dic_list())"
    },
    "r": {
     "delete_cmd_postfix": ") ",
     "delete_cmd_prefix": "rm(",
     "library": "var_list.r",
     "varRefreshCmd": "cat(var_dic_list()) "
    }
   },
   "types_to_exclude": [
    "module",
    "function",
    "builtin_function_or_method",
    "instance",
    "_Feature"
   ],
   "window_display": false
  }
 },
 "nbformat": 4,
 "nbformat_minor": 2
}
