{
 "cells": [
  {
   "cell_type": "markdown",
   "metadata": {},
   "source": [
    "https://leetcode.com/problems/water-and-jug-problem/\n",
    "\n",
    "You are given two jugs with capacities x and y litres. There is an infinite amount of water supply available. You need to determine whether it is possible to measure exactly z litres using these two jugs.\n",
    "\n",
    "If z liters of water is measurable, you must have z liters of water contained within one or both buckets by the end.\n",
    "\n",
    "Operations allowed:\n",
    "\n",
    "Fill any of the jugs completely with water.<br>\n",
    "Empty any of the jugs.<br>\n",
    "Pour water from one jug into another till the other jug is completely full or the first jug itself is empty.<br>\n",
    "Example 1: (From the famous \"Die Hard\" example)\n",
    "\n",
    "Input: x = 3, y = 5, z = 4<br>\n",
    "Output: True<br>\n",
    "Example 2:\n",
    "\n",
    "Input: x = 2, y = 6, z = 5<br>\n",
    "Output: False"
   ]
  },
  {
   "cell_type": "markdown",
   "metadata": {},
   "source": [
    "### Solution 1 math \n",
    "> [裴蜀定理](https://blog.csdn.net/yeweiyang16/article/details/71480561)<br>\n",
    "找到 x, y 的最大公约数 d ， 再判断 z 是不是 d 的倍数\n",
    "\n",
    "Runtime: **60 ms**, faster than 15.75% of Python online submissions for Water and Jug Problem.<br>\n",
    "Memory Usage: **15.7 MB**, less than 25.00% of Python online submissions for Water and Jug Problem."
   ]
  },
  {
   "cell_type": "code",
   "execution_count": 4,
   "metadata": {},
   "outputs": [],
   "source": [
    "class Solution(object):\n",
    "    def canMeasureWater(self, x, y, z):\n",
    "        \"\"\"\n",
    "        :type x: int\n",
    "        :type y: int\n",
    "        :type z: int\n",
    "        :rtype: bool\n",
    "        author: Chong\n",
    "        \"\"\"\n",
    "        if y>x:\n",
    "            x, y = y, x\n",
    "        if z>x+y:\n",
    "            return False\n",
    "        if z == x+y or z == x or z == y or z == abs(x-y):\n",
    "            return True\n",
    "        for i in range(x, 0, -1):\n",
    "            if x%i == 0 and y%i == 0:\n",
    "                d = i\n",
    "                break\n",
    "        if z%d == 0:\n",
    "            return True\n",
    "        else:\n",
    "            return False"
   ]
  },
  {
   "cell_type": "markdown",
   "metadata": {},
   "source": [
    "### Solution 2 math gcd\n",
    ">找 gcd 方法改进\n",
    "\n",
    "Runtime: **12 ms**, faster than 96.06% of Python online submissions for Water and Jug Problem.<br>\n",
    "Memory Usage: **11.7 MB**, less than 100.00% of Python online submissions for Water and Jug Problem."
   ]
  },
  {
   "cell_type": "code",
   "execution_count": 10,
   "metadata": {},
   "outputs": [],
   "source": [
    "class Solution(object):\n",
    "    def canMeasureWater(self, x, y, z):\n",
    "        a,b=x,y\n",
    "        while y:\n",
    "            r=x%y\n",
    "            x=y\n",
    "            y=r\n",
    "        return bool(not z or (x and z<=a+b and not z%x))"
   ]
  },
  {
   "cell_type": "code",
   "execution_count": 9,
   "metadata": {},
   "outputs": [
    {
     "data": {
      "text/plain": [
       "False"
      ]
     },
     "execution_count": 9,
     "metadata": {},
     "output_type": "execute_result"
    }
   ],
   "source": [
    "a = Solution()\n",
    "x = 2\n",
    "y = 6\n",
    "z = 5\n",
    "a.canMeasureWater(x,y,z)"
   ]
  }
 ],
 "metadata": {
  "kernelspec": {
   "display_name": "Python 3",
   "language": "python",
   "name": "python3"
  },
  "language_info": {
   "codemirror_mode": {
    "name": "ipython",
    "version": 3
   },
   "file_extension": ".py",
   "mimetype": "text/x-python",
   "name": "python",
   "nbconvert_exporter": "python",
   "pygments_lexer": "ipython3",
   "version": "3.6.5"
  },
  "varInspector": {
   "cols": {
    "lenName": 16,
    "lenType": 16,
    "lenVar": 40
   },
   "kernels_config": {
    "python": {
     "delete_cmd_postfix": "",
     "delete_cmd_prefix": "del ",
     "library": "var_list.py",
     "varRefreshCmd": "print(var_dic_list())"
    },
    "r": {
     "delete_cmd_postfix": ") ",
     "delete_cmd_prefix": "rm(",
     "library": "var_list.r",
     "varRefreshCmd": "cat(var_dic_list()) "
    }
   },
   "types_to_exclude": [
    "module",
    "function",
    "builtin_function_or_method",
    "instance",
    "_Feature"
   ],
   "window_display": false
  }
 },
 "nbformat": 4,
 "nbformat_minor": 2
}
