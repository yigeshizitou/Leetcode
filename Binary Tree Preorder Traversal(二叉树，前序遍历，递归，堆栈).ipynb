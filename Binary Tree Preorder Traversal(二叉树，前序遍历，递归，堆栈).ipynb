{
 "cells": [
  {
   "cell_type": "markdown",
   "metadata": {},
   "source": [
    "https://leetcode.com/problems/binary-tree-preorder-traversal/\n",
    "\n",
    "https://github.com/azl397985856/leetcode/blob/master/problems/144.binary-tree-preorder-traversal.md\n",
    "\n",
    "Given a binary tree, return the preorder traversal of its nodes' values.\n",
    "\n",
    "Example:\n",
    "\n",
    "Input: [1,null,2,3]<br>\n",
    "   1\n",
    "    \\\n",
    "     2\n",
    "    /\n",
    "   3\n",
    "\n",
    "Output: [1,2,3]"
   ]
  },
  {
   "cell_type": "markdown",
   "metadata": {},
   "source": [
    "### Solution 1 递归\n",
    ">path = 中 + 左 +右\n",
    "\n",
    "Runtime: **16 ms**, faster than 73.26% of Python online submissions for Binary Tree Preorder Traversal.<br>\n",
    "Memory Usage: **11.9 MB**, less than 8.57% of Python online submissions for Binary Tree Preorder Traversal."
   ]
  },
  {
   "cell_type": "code",
   "execution_count": 1,
   "metadata": {
    "ExecuteTime": {
     "end_time": "2019-11-03T09:57:03.513886Z",
     "start_time": "2019-11-03T09:57:03.509913Z"
    }
   },
   "outputs": [],
   "source": [
    "class Solution(object):\n",
    "    def preorderTraversal(self, root):\n",
    "        \"\"\"\n",
    "        :type root: TreeNode\n",
    "        :rtype: List[int]\n",
    "        \"\"\"\n",
    "        self.ans = []\n",
    "        def preorder(root):\n",
    "            if root:\n",
    "                self.ans += [root.val]\n",
    "                if root.left:\n",
    "                    preorder(root.left)\n",
    "                if root.right:\n",
    "                    preorder(root.right)\n",
    "        preorder(root)\n",
    "        return self.ans"
   ]
  },
  {
   "cell_type": "markdown",
   "metadata": {},
   "source": [
    "### Solution 2 堆栈\n",
    ">ans 记录 root 值， 再把root.right, root.left 压入栈中\n",
    "\n",
    "Runtime: **8 ms**, faster than 99.19% of Python online submissions for Binary Tree Preorder Traversal.<br>\n",
    "Memory Usage: **11.7 MB**, less than 68.57% of Python online submissions for Binary Tree Preorder Traversal."
   ]
  },
  {
   "cell_type": "code",
   "execution_count": 2,
   "metadata": {
    "ExecuteTime": {
     "end_time": "2019-11-03T10:22:14.918141Z",
     "start_time": "2019-11-03T10:22:14.913161Z"
    }
   },
   "outputs": [],
   "source": [
    "class Solution(object):\n",
    "    def preorderTraversal(self, root):\n",
    "        \"\"\"\n",
    "        :type root: TreeNode\n",
    "        :rtype: List[int]\n",
    "        \"\"\"\n",
    "        queue = [root]\n",
    "        ans = []\n",
    "        while queue:\n",
    "            node = queue.pop()\n",
    "            if node:\n",
    "                ans.append(node.val)\n",
    "                queue.append(node.right)\n",
    "                queue.append(node.left)\n",
    "        return ans"
   ]
  },
  {
   "cell_type": "markdown",
   "metadata": {},
   "source": [
    "### Solution 3 堆栈\n",
    ">先将最左的 node 加入 ans 中，同时将 node.right 压入stack<br>\n",
    "以此取出stack\n",
    "\n",
    "Runtime: **16 ms**, faster than 73.26% of Python online submissions for Binary Tree Preorder Traversal.<br>\n",
    "Memory Usage: **11.7 MB**, less than 80.00% of Python online submissions for Binary Tree Preorder Traversal."
   ]
  },
  {
   "cell_type": "code",
   "execution_count": 3,
   "metadata": {
    "ExecuteTime": {
     "end_time": "2019-11-03T10:26:15.015189Z",
     "start_time": "2019-11-03T10:26:15.009560Z"
    }
   },
   "outputs": [],
   "source": [
    "class Solution(object):\n",
    "    def preorderTraversal(self, root):\n",
    "        stack, ans =[root], []\n",
    "        while stack:\n",
    "            node = stack.pop()\n",
    "            while node:\n",
    "                if node.right:\n",
    "                    stack.append(node.right)\n",
    "                ans.append(node.val)\n",
    "                node=node.left\n",
    "        return ans"
   ]
  },
  {
   "cell_type": "markdown",
   "metadata": {},
   "source": [
    "### Solution 4 递归改进\n",
    "> 不判断是否为leaf, 直接处理 node\n",
    "\n",
    "Runtime: **12 ms**, faster than 93.09% of Python online submissions for Binary Tree Preorder Traversal.<br>\n",
    "Memory Usage: **11.8 MB**, less than 22.86% of Python online submissions for Binary Tree Preorder Traversal."
   ]
  },
  {
   "cell_type": "code",
   "execution_count": 4,
   "metadata": {
    "ExecuteTime": {
     "end_time": "2019-11-03T10:33:17.927186Z",
     "start_time": "2019-11-03T10:33:17.921187Z"
    }
   },
   "outputs": [],
   "source": [
    "class Solution(object):\n",
    "    def preorderTraversal(self, root):\n",
    "        def DFS(node):\n",
    "            if node:\n",
    "                ans.append(node.val)\n",
    "                DFS(node.left)\n",
    "                DFS(node.right)\n",
    "        ans = []\n",
    "        DFS(root)\n",
    "        return ans"
   ]
  }
 ],
 "metadata": {
  "kernelspec": {
   "display_name": "Python 3",
   "language": "python",
   "name": "python3"
  },
  "language_info": {
   "codemirror_mode": {
    "name": "ipython",
    "version": 3
   },
   "file_extension": ".py",
   "mimetype": "text/x-python",
   "name": "python",
   "nbconvert_exporter": "python",
   "pygments_lexer": "ipython3",
   "version": "3.6.5"
  },
  "varInspector": {
   "cols": {
    "lenName": 16,
    "lenType": 16,
    "lenVar": 40
   },
   "kernels_config": {
    "python": {
     "delete_cmd_postfix": "",
     "delete_cmd_prefix": "del ",
     "library": "var_list.py",
     "varRefreshCmd": "print(var_dic_list())"
    },
    "r": {
     "delete_cmd_postfix": ") ",
     "delete_cmd_prefix": "rm(",
     "library": "var_list.r",
     "varRefreshCmd": "cat(var_dic_list()) "
    }
   },
   "types_to_exclude": [
    "module",
    "function",
    "builtin_function_or_method",
    "instance",
    "_Feature"
   ],
   "window_display": false
  }
 },
 "nbformat": 4,
 "nbformat_minor": 2
}
