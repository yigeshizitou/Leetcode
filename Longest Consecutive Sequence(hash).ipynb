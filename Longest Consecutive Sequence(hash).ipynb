{
 "cells": [
  {
   "cell_type": "markdown",
   "metadata": {},
   "source": [
    "https://leetcode.com/problems/longest-consecutive-sequence/\n",
    "    \n",
    "Given an unsorted array of integers, find the length of the longest consecutive elements sequence.\n",
    "\n",
    "Your algorithm should run in O(n) complexity.\n",
    "\n",
    "Example:\n",
    "\n",
    "Input: [100, 4, 200, 1, 3, 2]<br>\n",
    "Output: 4<br>\n",
    "Explanation: The longest consecutive elements sequence is [1, 2, 3, 4]. Therefore its length is 4."
   ]
  },
  {
   "cell_type": "markdown",
   "metadata": {},
   "source": [
    "### Solution 1 \n",
    "\n",
    ">sort\n",
    "\n",
    "Runtime: 40 ms, faster than 80.99% of Python online submissions for Longest Consecutive Sequence.<br>\n",
    "Memory Usage: 12.6 MB, less than 80.00% of Python online submissions for Longest Consecutive Sequence."
   ]
  },
  {
   "cell_type": "code",
   "execution_count": 2,
   "metadata": {},
   "outputs": [],
   "source": [
    "class Solution(object):\n",
    "    def longestConsecutive(self, nums):\n",
    "        \"\"\"\n",
    "        :type nums: List[int]\n",
    "        :rtype: int\n",
    "        \"\"\"\n",
    "        nums = sorted(nums)\n",
    "        length = 0\n",
    "        ans = []\n",
    "        for num in nums:\n",
    "            if ans == [] or num == ans[-1] + 1:\n",
    "                ans.append(num)\n",
    "            elif num == ans[-1]:\n",
    "                pass\n",
    "            else:\n",
    "                length = max(len(ans), length)\n",
    "                ans = [num]\n",
    "        return max(length, len(ans))"
   ]
  },
  {
   "cell_type": "markdown",
   "metadata": {},
   "source": [
    "### Solution 2 hash\n",
    "> set a dictionary x with x[num] = 1 for num in nums<br>\n",
    "for i in nums, find out ..., i-2, i-1, i+1, i+2, ... in x or not, and count the number \n",
    "\n",
    "Runtime: 36 ms, faster than 93.93% of Python online submissions for Longest Consecutive Sequence.<br>\n",
    "Memory Usage: 12.9 MB, less than 20.00% of Python online submissions for Longest Consecutive Sequence."
   ]
  },
  {
   "cell_type": "code",
   "execution_count": 8,
   "metadata": {},
   "outputs": [],
   "source": [
    "class Solution(object):\n",
    "    def longestConsecutive(self, nums):\n",
    "        x = {}\n",
    "        ans = 0\n",
    "        for num in nums:\n",
    "            x[num] = 1\n",
    "        \n",
    "        for i in nums:\n",
    "            if i not in x:\n",
    "                continue\n",
    "            count, j = 1, 1\n",
    "            while i + j in x:\n",
    "                del x[i+j]\n",
    "                j += 1\n",
    "                count += 1\n",
    "            j = 1\n",
    "            while i - j in x:\n",
    "                del x[i-j]\n",
    "                j += 1\n",
    "                count += 1\n",
    "            ans = max(ans, count)\n",
    "        return ans     "
   ]
  },
  {
   "cell_type": "code",
   "execution_count": 9,
   "metadata": {},
   "outputs": [
    {
     "data": {
      "text/plain": [
       "7"
      ]
     },
     "execution_count": 9,
     "metadata": {},
     "output_type": "execute_result"
    }
   ],
   "source": [
    "a = Solution()\n",
    "nums = [9,1,4,7,3,-1,0,5,8,-1,6]\n",
    "a.longestConsecutive(nums)"
   ]
  }
 ],
 "metadata": {
  "kernelspec": {
   "display_name": "Python 3",
   "language": "python",
   "name": "python3"
  },
  "language_info": {
   "codemirror_mode": {
    "name": "ipython",
    "version": 3
   },
   "file_extension": ".py",
   "mimetype": "text/x-python",
   "name": "python",
   "nbconvert_exporter": "python",
   "pygments_lexer": "ipython3",
   "version": "3.6.5"
  }
 },
 "nbformat": 4,
 "nbformat_minor": 2
}
