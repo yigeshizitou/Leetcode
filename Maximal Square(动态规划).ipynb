{
 "cells": [
  {
   "cell_type": "markdown",
   "metadata": {},
   "source": [
    "https://github.com/azl397985856/leetcode/blob/master/problems/221.maximal-square.md\n",
    "    \n",
    "https://leetcode.com/problems/maximal-square/\n",
    "\n",
    "Given a 2D binary matrix filled with 0's and 1's, find the largest square containing only 1's and return its area.\n",
    "\n",
    "Example:\n",
    "\n",
    "Input: \n",
    "\n",
    "1 0 1 0 0<br>\n",
    "1 0 1 1 1<br>\n",
    "1 1 1 1 1<br>\n",
    "1 0 0 1 0\n",
    "\n",
    "Output: 4"
   ]
  },
  {
   "cell_type": "markdown",
   "metadata": {},
   "source": [
    "### Solution 1 动态规划\n",
    "> dp[i][j] 表示以该位置为右下角的 matrix 里最大为的全为 1 的正方形面积<br>\n",
    "其中 dp[i][0] = matrix[i][0], dp[0][j] = matrix[0][j]<br>\n",
    "如果 matrix[i][j] = 0, dp[i][j] = 0<br>\n",
    "如果 matrix[i][j] = 1, 从 (i ,j) 向左，上，左上延申到 0 的最小值+1，即为 dp[i][j]\n",
    "\n",
    "![avatar](https://github.com/azl397985856/leetcode/raw/master/assets/problems/221.maximal-square-2.jpg)\n",
    "\n",
    "Runtime: **160 ms**, faster than 90.31% of Python online submissions for Maximal Square.<br>\n",
    "Memory Usage: **19.7 MB**, less than 12.50% of Python online submissions for Maximal Square."
   ]
  },
  {
   "cell_type": "code",
   "execution_count": 1,
   "metadata": {
    "ExecuteTime": {
     "end_time": "2019-12-10T13:59:11.704300Z",
     "start_time": "2019-12-10T13:59:11.699301Z"
    }
   },
   "outputs": [],
   "source": [
    "class Solution(object):\n",
    "    def maximalSquare(self, matrix):\n",
    "        \"\"\"\n",
    "        :type matrix: List[List[str]]\n",
    "        :rtype: int\n",
    "        author: Chong \n",
    "        \"\"\"\n",
    "        dp = [[0]*(len(matrix[0]))]\n",
    "        for i in range(1, len(matrix)):\n",
    "            dp.append([0]*len(matrix[0]))\n",
    "        for i in range(len(matrix)):\n",
    "            for j in range(len(matrix[0])):\n",
    "                if i == 0 or j == 0:\n",
    "                    dp[i][j] = int(matrix[i][j])\n",
    "                elif matrix[i][j] == '1':\n",
    "                    dp[i][j] = min(dp[i-1][j-1], dp[i-1][j], dp[i][j-1])+1\n",
    "        return max([i for row in dp for i in row])**2"
   ]
  },
  {
   "cell_type": "code",
   "execution_count": 2,
   "metadata": {
    "ExecuteTime": {
     "end_time": "2019-12-10T13:59:11.720299Z",
     "start_time": "2019-12-10T13:59:11.706300Z"
    }
   },
   "outputs": [
    {
     "data": {
      "text/plain": [
       "4"
      ]
     },
     "execution_count": 2,
     "metadata": {},
     "output_type": "execute_result"
    }
   ],
   "source": [
    "matrix = [[\"1\", \"0\", \"1\", \"0\", \"0\"], \n",
    "          [\"1\", \"0\", \"1\", \"1\", \"1\"],\n",
    "          [\"1\", \"1\", \"1\", \"1\", \"1\"], \n",
    "          [\"1\", \"0\", \"0\", \"1\", \"0\"]]\n",
    "a = Solution()\n",
    "a.maximalSquare(matrix)"
   ]
  }
 ],
 "metadata": {
  "kernelspec": {
   "display_name": "Python 3",
   "language": "python",
   "name": "python3"
  },
  "language_info": {
   "codemirror_mode": {
    "name": "ipython",
    "version": 3
   },
   "file_extension": ".py",
   "mimetype": "text/x-python",
   "name": "python",
   "nbconvert_exporter": "python",
   "pygments_lexer": "ipython3",
   "version": "3.6.5"
  },
  "varInspector": {
   "cols": {
    "lenName": 16,
    "lenType": 16,
    "lenVar": 40
   },
   "kernels_config": {
    "python": {
     "delete_cmd_postfix": "",
     "delete_cmd_prefix": "del ",
     "library": "var_list.py",
     "varRefreshCmd": "print(var_dic_list())"
    },
    "r": {
     "delete_cmd_postfix": ") ",
     "delete_cmd_prefix": "rm(",
     "library": "var_list.r",
     "varRefreshCmd": "cat(var_dic_list()) "
    }
   },
   "types_to_exclude": [
    "module",
    "function",
    "builtin_function_or_method",
    "instance",
    "_Feature"
   ],
   "window_display": false
  }
 },
 "nbformat": 4,
 "nbformat_minor": 2
}
