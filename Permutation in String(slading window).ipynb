{
 "cells": [
  {
   "cell_type": "markdown",
   "metadata": {},
   "source": [
    "https://leetcode.com/problems/permutation-in-string/\n",
    "\n",
    "Given two strings s1 and s2, write a function to return true if s2 contains the permutation of s1. In other words, one of the first string's permutations is the substring of the second string.\n",
    "\n",
    " \n",
    "\n",
    "Example 1:\n",
    "\n",
    "Input: s1 = \"ab\" s2 = \"eidbaooo\"<br>\n",
    "Output: True<br>\n",
    "Explanation: s2 contains one permutation of s1 (\"ba\").<br>\n",
    "Example 2:\n",
    "\n",
    "Input:s1= \"ab\" s2 = \"eidboaoo\"<br>\n",
    "Output: False"
   ]
  },
  {
   "cell_type": "markdown",
   "metadata": {},
   "source": [
    "### Solution 1 Sliding window + counter\n",
    "![avatar](https://zxi.mytechroad.com/blog/wp-content/uploads/2018/06/567-ep200.png)\n",
    "\n",
    "Runtime: **84 ms**, faster than 44.67% of Python online submissions for Permutation in String.<br>\n",
    "Memory Usage: **11.9 MB**, less than 83.33% of Python online submissions for Permutation in String."
   ]
  },
  {
   "cell_type": "code",
   "execution_count": 33,
   "metadata": {},
   "outputs": [],
   "source": [
    "import collections\n",
    "\n",
    "class Solution(object):\n",
    "    def checkInclusion(self, s1, s2):\n",
    "        \"\"\"\n",
    "        :type s1: str\n",
    "        :type s2: str\n",
    "        :rtype: bool\n",
    "        author: Chong\n",
    "        \"\"\"\n",
    "        l, r = 0, len(s1)-1\n",
    "        c1, c2 = collections.Counter(s1), collections.Counter(s2[l:r])\n",
    "        while r<len(s2):\n",
    "            c2[s2[r]] += 1\n",
    "            if c1 == c2:\n",
    "                return True\n",
    "            c2[s2[l]] -= 1\n",
    "            if c2[s2[l]] == 0:\n",
    "                del c2[s2[l]]\n",
    "            l += 1\n",
    "            r += 1\n",
    "        return False"
   ]
  },
  {
   "cell_type": "markdown",
   "metadata": {},
   "source": [
    "### Solution 2 Sliding window + Counter\n",
    "> L is the left side and i is the right side<br>\n",
    "s1 = 'adc', s2 = 'dcdca'. When i == 2, L += 1 \n",
    "\n",
    "Runtime: **56 ms**, faster than 70.89% of Python online submissions for Permutation in String.<br>\n",
    "Memory Usage: **12.1 MB**, less than 41.67% of Python online submissions for Permutation in String."
   ]
  },
  {
   "cell_type": "code",
   "execution_count": 15,
   "metadata": {},
   "outputs": [],
   "source": [
    "import collections\n",
    "\n",
    "class Solution(object):\n",
    "    def checkInclusion(self, s, t):\n",
    "        \"\"\"\n",
    "        :type s1: str\n",
    "        :type s2: str\n",
    "        :rtype: bool\n",
    "        \"\"\"\n",
    "        LS, S, T, L = len(s), collections.Counter(s), collections.defaultdict(int), 0\n",
    "        for i, c in enumerate(t):\n",
    "            if c not in S: L, _ = 0, T.clear()\n",
    "            else:\n",
    "                T[c], L = T[c] + 1, L + 1\n",
    "                if T[c] > S[c] or L > LS: T[t[i-L+1]], L = T[t[i-L+1]] - 1, L - 1\n",
    "                if L == LS and S == T: return True\n",
    "        return False"
   ]
  },
  {
   "cell_type": "code",
   "execution_count": 23,
   "metadata": {},
   "outputs": [
    {
     "data": {
      "text/plain": [
       "True"
      ]
     },
     "execution_count": 23,
     "metadata": {},
     "output_type": "execute_result"
    }
   ],
   "source": [
    "a = Solution()\n",
    "s = 'adc'\n",
    "t = 'adcad'\n",
    "a.checkInclusion(s, t)"
   ]
  }
 ],
 "metadata": {
  "kernelspec": {
   "display_name": "Python 3",
   "language": "python",
   "name": "python3"
  },
  "language_info": {
   "codemirror_mode": {
    "name": "ipython",
    "version": 3
   },
   "file_extension": ".py",
   "mimetype": "text/x-python",
   "name": "python",
   "nbconvert_exporter": "python",
   "pygments_lexer": "ipython3",
   "version": "3.6.5"
  }
 },
 "nbformat": 4,
 "nbformat_minor": 2
}
