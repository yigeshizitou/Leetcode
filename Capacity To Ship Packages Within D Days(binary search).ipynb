{
 "cells": [
  {
   "cell_type": "markdown",
   "metadata": {},
   "source": [
    "https://leetcode.com/problems/capacity-to-ship-packages-within-d-days/\n",
    "\n",
    "A conveyor belt has packages that must be shipped from one port to another within D days.\n",
    "\n",
    "The i-th package on the conveyor belt has a weight of weights[i].  Each day, we load the ship with packages on the conveyor belt (in the order given by weights). We may not load more weight than the maximum weight capacity of the ship.\n",
    "\n",
    "Return the least weight capacity of the ship that will result in all the packages on the conveyor belt being shipped within D days.\n",
    "\n",
    " \n",
    "\n",
    "Example 1:\n",
    "\n",
    "Input: weights = [1,2,3,4,5,6,7,8,9,10], D = 5<br>\n",
    "Output: 15<br>\n",
    "Explanation: <br>\n",
    "A ship capacity of 15 is the minimum to ship all the packages in 5 days like this:<br>\n",
    "1st day: 1, 2, 3, 4, 5<br>\n",
    "2nd day: 6, 7<br>\n",
    "3rd day: 8<br>\n",
    "4th day: 9<br>\n",
    "5th day: 10\n",
    "\n",
    "Note that the cargo must be shipped in the order given, so using a ship of capacity 14 and splitting the packages into parts like (2, 3, 4, 5), (1, 6, 7), (8), (9), (10) is not allowed. <br>\n",
    "Example 2:\n",
    "\n",
    "Input: weights = [3,2,2,4,1,4], D = 3<br>\n",
    "Output: 6<br>\n",
    "Explanation: <br>\n",
    "A ship capacity of 6 is the minimum to ship all the packages in 3 days like this:<br>\n",
    "1st day: 3, 2<br>\n",
    "2nd day: 2, 4<br>\n",
    "3rd day: 1, 4<br>\n",
    "Example 3:\n",
    "\n",
    "Input: weights = [1,2,3,1,1], D = 4<br>\n",
    "Output: 3<br>\n",
    "Explanation: <br>\n",
    "1st day: 1<br>\n",
    "2nd day: 2<br>\n",
    "3rd day: 3<br>\n",
    "4th day: 1, 1"
   ]
  },
  {
   "cell_type": "markdown",
   "metadata": {},
   "source": [
    "### Solution 1 binary search\n",
    "> The problem is to \"search\" for a minmum number who satisfied a critirion. <br>\n",
    "The critirion is to use a ship of capacity mid that can ship all the packages within D days.\n",
    "\n",
    "Runtime: **528 ms**, faster than 24.07% of Python online submissions for Capacity To Ship Packages Within D Days.<br>\n",
    "Memory Usage: **14.2 MB**, less than 66.67% of Python online submissions for Capacity To Ship Packages Within D Days."
   ]
  },
  {
   "cell_type": "code",
   "execution_count": 24,
   "metadata": {},
   "outputs": [],
   "source": [
    "class Solution(object):\n",
    "    def shipWithinDays(self, weights, D):\n",
    "        \"\"\"\n",
    "        :type weights: List[int]\n",
    "        :type D: int\n",
    "        :rtype: int\n",
    "        author: Chong\n",
    "        \"\"\"\n",
    "        def canship(weights, mid, D):\n",
    "            count = 1\n",
    "            capacity = mid\n",
    "            for weight in weights:\n",
    "                if weight > mid:\n",
    "                    return False\n",
    "                if weight <= capacity:\n",
    "                    capacity -= weight\n",
    "                else:\n",
    "                    count += 1\n",
    "                    capacity = mid - weight\n",
    "                if count > D:\n",
    "                    return False\n",
    "            return True\n",
    "            \n",
    "            \n",
    "        left, mid, right = 0, sum(weights), sum(weights)\n",
    "        old_mid = 0\n",
    "        while left < right and old_mid != mid:\n",
    "            old_mid = mid\n",
    "            if canship(weights, mid, D):\n",
    "                right = mid +1\n",
    "            else:\n",
    "                left = mid - 1\n",
    "            mid = (left + right)//2\n",
    "        return mid+1"
   ]
  },
  {
   "cell_type": "markdown",
   "metadata": {},
   "source": [
    "### Solution 2 binary search\n",
    "> simplify the function canShip\n",
    "\n",
    "Runtime: **456 ms**, faster than 69.34% of Python online submissions for Capacity To Ship Packages Within D Days.<br>\n",
    "Memory Usage: **14.2 MB**, less than 66.67% of Python online submissions for Capacity To Ship Packages Within D Days."
   ]
  },
  {
   "cell_type": "code",
   "execution_count": 31,
   "metadata": {},
   "outputs": [],
   "source": [
    "class Solution(object):\n",
    "    def shipWithinDays(self, weights, D):\n",
    "        \"\"\"\n",
    "        :type weights: List[int]\n",
    "        :type D: int\n",
    "        :rtype: int\n",
    "        \"\"\"\n",
    "        lo = 0\n",
    "        hi = 0\n",
    "\n",
    "        def canShip(opacity, weights, D):\n",
    "            days = 1\n",
    "            remain = opacity\n",
    "            for weight in weights:\n",
    "                if weight > opacity:\n",
    "                    return False\n",
    "                remain -= weight\n",
    "                if remain < 0:\n",
    "                    days += 1\n",
    "                    remain = opacity - weight\n",
    "            return days <= D\n",
    "\n",
    "        for weight in weights:\n",
    "            hi += weight\n",
    "        while lo < hi:\n",
    "            mid = (lo + hi) // 2\n",
    "            if canShip(mid,weights, D):\n",
    "                hi = mid\n",
    "            else:\n",
    "                lo = mid + 1\n",
    "\n",
    "        return lo"
   ]
  },
  {
   "cell_type": "code",
   "execution_count": 32,
   "metadata": {},
   "outputs": [
    {
     "data": {
      "text/plain": [
       "3"
      ]
     },
     "execution_count": 32,
     "metadata": {},
     "output_type": "execute_result"
    }
   ],
   "source": [
    "a = Solution()\n",
    "weights = [1,2,3,1,1]\n",
    "D = 4\n",
    "a.shipWithinDays(weights, D)"
   ]
  }
 ],
 "metadata": {
  "kernelspec": {
   "display_name": "Python 3",
   "language": "python",
   "name": "python3"
  },
  "language_info": {
   "codemirror_mode": {
    "name": "ipython",
    "version": 3
   },
   "file_extension": ".py",
   "mimetype": "text/x-python",
   "name": "python",
   "nbconvert_exporter": "python",
   "pygments_lexer": "ipython3",
   "version": "3.6.5"
  }
 },
 "nbformat": 4,
 "nbformat_minor": 2
}
