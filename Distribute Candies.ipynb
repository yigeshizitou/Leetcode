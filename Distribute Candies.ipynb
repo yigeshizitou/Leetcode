{
 "cells": [
  {
   "cell_type": "markdown",
   "metadata": {},
   "source": [
    "https://leetcode.com/problems/distribute-candies/description/\n",
    "\n",
    "https://github.com/azl397985856/leetcode/blob/master/problems/575.distribute-candies.md\n",
    "\n",
    "Given an integer array with even length, where different numbers in this array represent different kinds of candies. Each number means one candy of the corresponding kind. You need to distribute these candies equally in number to brother and sister. Return the maximum number of kinds of candies the sister could gain.\n",
    "\n",
    "\n",
    "**Example 1:**\n",
    "\n",
    "Input: candies = [1,1,2,2,3,3]<br>\n",
    "Output: 3<br>\n",
    "Explanation:<br>\n",
    "There are three different kinds of candies (1, 2 and 3), and two candies for each kind.<br>\n",
    "Optimal distribution: The sister has candies [1,2,3] and the brother has candies [1,2,3], too. <br>\n",
    "The sister has three different kinds of candies. \n",
    "\n",
    "**Example 2:**\n",
    "\n",
    "Input: candies = [1,1,2,3]<br>\n",
    "Output: 2<br>\n",
    "Explanation: For example, the sister has candies [2,3] and the brother has candies [1,1]. <br>\n",
    "The sister has two different kinds of candies, the brother has only one kind of candies. <br>\n",
    "\n",
    "**Note:**\n",
    "\n",
    "The length of the given array is in range [2, 10,000], and will be even.<br>\n",
    "The number in given array is in range [-100,000, 100,000]."
   ]
  },
  {
   "cell_type": "markdown",
   "metadata": {},
   "source": [
    "### Solution 1\n",
    ">min(len(candies)//2, len(set(candies)))\n",
    "\n",
    "Runtime: **760 ms**, faster than 63.73% of Python online submissions for Distribute Candies.<br>\n",
    "Memory Usage: **13.6 MB**, less than 66.67% of Python online submissions for Distribute Candies."
   ]
  },
  {
   "cell_type": "code",
   "execution_count": 4,
   "metadata": {
    "ExecuteTime": {
     "end_time": "2019-09-24T09:36:58.097535Z",
     "start_time": "2019-09-24T09:36:58.090389Z"
    }
   },
   "outputs": [],
   "source": [
    "def distributeCandies(candies):\n",
    "    return min(len(candies)//2, len(set(candies)))"
   ]
  },
  {
   "cell_type": "code",
   "execution_count": 6,
   "metadata": {
    "ExecuteTime": {
     "end_time": "2019-09-24T09:37:06.747248Z",
     "start_time": "2019-09-24T09:37:06.740303Z"
    }
   },
   "outputs": [
    {
     "data": {
      "text/plain": [
       "3"
      ]
     },
     "execution_count": 6,
     "metadata": {},
     "output_type": "execute_result"
    }
   ],
   "source": [
    "candies = [1, 1, 2, 3, 2, 3]\n",
    "distributeCandies(candies)"
   ]
  },
  {
   "cell_type": "code",
   "execution_count": null,
   "metadata": {},
   "outputs": [],
   "source": []
  }
 ],
 "metadata": {
  "kernelspec": {
   "display_name": "Python 3",
   "language": "python",
   "name": "python3"
  },
  "language_info": {
   "codemirror_mode": {
    "name": "ipython",
    "version": 3
   },
   "file_extension": ".py",
   "mimetype": "text/x-python",
   "name": "python",
   "nbconvert_exporter": "python",
   "pygments_lexer": "ipython3",
   "version": "3.6.5"
  },
  "varInspector": {
   "cols": {
    "lenName": 16,
    "lenType": 16,
    "lenVar": 40
   },
   "kernels_config": {
    "python": {
     "delete_cmd_postfix": "",
     "delete_cmd_prefix": "del ",
     "library": "var_list.py",
     "varRefreshCmd": "print(var_dic_list())"
    },
    "r": {
     "delete_cmd_postfix": ") ",
     "delete_cmd_prefix": "rm(",
     "library": "var_list.r",
     "varRefreshCmd": "cat(var_dic_list()) "
    }
   },
   "types_to_exclude": [
    "module",
    "function",
    "builtin_function_or_method",
    "instance",
    "_Feature"
   ],
   "window_display": false
  }
 },
 "nbformat": 4,
 "nbformat_minor": 2
}
