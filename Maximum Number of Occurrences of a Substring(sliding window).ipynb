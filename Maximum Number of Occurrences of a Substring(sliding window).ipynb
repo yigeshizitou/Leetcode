{
 "cells": [
  {
   "cell_type": "markdown",
   "metadata": {},
   "source": [
    "https://leetcode.com/problems/maximum-number-of-occurrences-of-a-substring/\n",
    "\n",
    "Given a string s, return the maximum number of ocurrences of any substring under the following rules:\n",
    "\n",
    "The number of unique characters in the substring must be less than or equal to maxLetters.<br>\n",
    "The substring size must be between minSize and maxSize inclusive.\n",
    " \n",
    "\n",
    "Example 1:\n",
    "\n",
    "Input: s = \"aababcaab\", maxLetters = 2, minSize = 3, maxSize = 4<br>\n",
    "Output: 2<br>\n",
    "Explanation: Substring \"aab\" has 2 ocurrences in the original string.<br>\n",
    "It satisfies the conditions, 2 unique letters and size 3 (between minSize and maxSize).<br>\n",
    "Example 2:\n",
    "\n",
    "Input: s = \"aaaa\", maxLetters = 1, minSize = 3, maxSize = 3<br>\n",
    "Output: 2<br>\n",
    "Explanation: Substring \"aaa\" occur 2 times in the string. It can overlap.<br>\n",
    "Example 3:\n",
    "\n",
    "Input: s = \"aabcabcab\", maxLetters = 2, minSize = 2, maxSize = 3<br>\n",
    "Output: 3<br>\n",
    "Example 4:\n",
    "\n",
    "Input: s = \"abcde\", maxLetters = 2, minSize = 3, maxSize = 3<br>\n",
    "Output: 0"
   ]
  },
  {
   "cell_type": "markdown",
   "metadata": {},
   "source": [
    "### Solution 1 sliding window\n",
    "> try all possible substrings and record their number of ocurrences\n",
    "\n",
    "Runtime: **3312 ms**, faster than 5.17% of Python online submissions for Maximum Number of Occurrences of a Substring.<br>\n",
    "Memory Usage: **153.7 MB**, less than 100.00% of Python online submissions for Maximum Number of Occurrences of a Substring."
   ]
  },
  {
   "cell_type": "code",
   "execution_count": 23,
   "metadata": {},
   "outputs": [],
   "source": [
    "class Solution(object):\n",
    "    def maxFreq(self, s, maxLetters, minSize, maxSize):\n",
    "        \"\"\"\n",
    "        :type s: str\n",
    "        :type maxLetters: int\n",
    "        :type minSize: int\n",
    "        :type maxSize: int\n",
    "        :rtype: int\n",
    "        author: Chong\n",
    "        \"\"\"\n",
    "        dict_substring = {}\n",
    "        for size in range(minSize, maxSize+1):\n",
    "            for i in range(len(s)-size+1):\n",
    "                if len(set(s[i:i+size])) <= maxLetters:\n",
    "                    if s[i:i+size] in dict_substring:\n",
    "                        dict_substring[s[i:i+size]] += 1\n",
    "                    else:\n",
    "                        dict_substring[s[i:i+size]] = 1\n",
    "        return max(dict_substring.values()) if dict_substring else 0"
   ]
  },
  {
   "cell_type": "markdown",
   "metadata": {},
   "source": [
    "### Solution 2 improved sliding window\n",
    ">其实题目中 maxSize 没有任何用处，属于干扰信息。<br>\n",
    "也就是说我们没有必要统计长度大于等于 minSize 且小于等于 maxSize 的所有子串，而是统计长度为 minSize 的所有字串即可。原因是，如果一个大于 minSize 长度的字串若是满足条件，那么该子串其中必定有至少一个长度为 minSize 的字串满足条件。因此一个大于 minSize 长度的字串出现了 n 次，那么该子串其中必定有一个长度为 minSize 的子串出现了 n 次。\n",
    "\n",
    "Runtime: **164 ms**, faster than 83.62% of Python online submissions for Maximum Number of Occurrences of a Substring.<br>\n",
    "Memory Usage: **17.5 MB**, less than 100.00% of Python online submissions for Maximum Number of Occurrences of a Substring."
   ]
  },
  {
   "cell_type": "code",
   "execution_count": 25,
   "metadata": {},
   "outputs": [],
   "source": [
    "class Solution(object):\n",
    "    def maxFreq(self, s, maxLetters, minSize, maxSize):\n",
    "        \"\"\"\n",
    "        :type s: str\n",
    "        :type maxLetters: int\n",
    "        :type minSize: int\n",
    "        :type maxSize: int\n",
    "        :rtype: int\n",
    "        author: Chong\n",
    "        \"\"\"\n",
    "        dict_substring = {}\n",
    "        size = minSize\n",
    "        for i in range(len(s)-size+1):\n",
    "            if len(set(s[i:i+size])) <= maxLetters:\n",
    "                if s[i:i+size] in dict_substring:\n",
    "                    dict_substring[s[i:i+size]] += 1\n",
    "                else:\n",
    "                    dict_substring[s[i:i+size]] = 1\n",
    "        return max(dict_substring.values()) if dict_substring else 0"
   ]
  },
  {
   "cell_type": "code",
   "execution_count": 26,
   "metadata": {},
   "outputs": [
    {
     "data": {
      "text/plain": [
       "0"
      ]
     },
     "execution_count": 26,
     "metadata": {},
     "output_type": "execute_result"
    }
   ],
   "source": [
    "a = Solution()\n",
    "s = \"abcde\"\n",
    "maxLetters = 2\n",
    "minSize = 3\n",
    "maxSize = 3\n",
    "a.maxFreq(s, maxLetters, minSize, maxSize)"
   ]
  }
 ],
 "metadata": {
  "kernelspec": {
   "display_name": "Python 3",
   "language": "python",
   "name": "python3"
  },
  "language_info": {
   "codemirror_mode": {
    "name": "ipython",
    "version": 3
   },
   "file_extension": ".py",
   "mimetype": "text/x-python",
   "name": "python",
   "nbconvert_exporter": "python",
   "pygments_lexer": "ipython3",
   "version": "3.6.5"
  }
 },
 "nbformat": 4,
 "nbformat_minor": 2
}
