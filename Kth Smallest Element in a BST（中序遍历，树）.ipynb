{
 "cells": [
  {
   "cell_type": "markdown",
   "metadata": {
    "ExecuteTime": {
     "end_time": "2019-12-16T10:17:01.145098Z",
     "start_time": "2019-12-16T10:17:01.140476Z"
    }
   },
   "source": [
    "https://leetcode.com/problems/kth-smallest-element-in-a-bst/\n",
    "\n",
    "Given a binary search tree, write a function kthSmallest to find the kth smallest element in it.\n",
    "\n",
    "Note:\n",
    "You may assume k is always valid, 1 ≤ k ≤ BST's total elements.\n",
    "\n",
    "Example 1:\n",
    "\n",
    "Input: root = [3,1,4,null,2], k = 1\n",
    "   3\n",
    "  / \\\n",
    " 1   4\n",
    "  \\\n",
    "   2\n",
    "Output: 1\n",
    "Example 2:\n",
    "\n",
    "Input: root = [5,3,6,2,4,null,null,1], k = 3\n",
    "       5\n",
    "      / \\\n",
    "     3   6\n",
    "    / \\\n",
    "   2   4\n",
    "  /\n",
    " 1\n",
    "Output: 3\n",
    "\n",
    "[树的遍历](https://blog.csdn.net/My_Jobs/article/details/43451187)<br>\n",
    "[二叉搜索树 BST](https://www.bysocket.com/technique/1209.html)"
   ]
  },
  {
   "cell_type": "markdown",
   "metadata": {},
   "source": [
    "### Solution1 \n",
    "\n",
    ">遍历树后排序\n",
    "\n",
    "Runtime: **40 ms**, faster than 79.74% of Python online submissions for Kth Smallest Element in a BST.<br>\n",
    "Memory Usage: **19.6 MB**, less than 50.00% of Python online submissions for Kth Smallest Element in a BST."
   ]
  },
  {
   "cell_type": "code",
   "execution_count": 3,
   "metadata": {
    "ExecuteTime": {
     "end_time": "2019-12-16T10:38:06.514794Z",
     "start_time": "2019-12-16T10:38:06.507792Z"
    }
   },
   "outputs": [],
   "source": [
    "class Solution(object):\n",
    "    def kthSmallest(self, root, k):\n",
    "        \"\"\"\n",
    "        :type root: TreeNode\n",
    "        :type k: int\n",
    "        :rtype: int\n",
    "        author: Chong\n",
    "        \"\"\"\n",
    "        self.ans = []\n",
    "        self.allnode(root)\n",
    "        return sorted(self.ans)[k-1]\n",
    "\n",
    "    def allnode(self, root):\n",
    "        if root:\n",
    "            self.ans.append(root.val)\n",
    "            if root.left:\n",
    "                self.allnode(root.left)\n",
    "            if root.right:\n",
    "                self.allnode(root.right)\n",
    "        else:\n",
    "            return"
   ]
  },
  {
   "cell_type": "markdown",
   "metadata": {},
   "source": [
    "### Solution 2 \n",
    ">中序遍历后取第k个值\n",
    "\n",
    "Runtime: **44 ms**, faster than 63.93% of Python online submissions for Kth Smallest Element in a BST.<br>\n",
    "Memory Usage: **19.7 MB**, less than 28.26% of Python online submissions for Kth Smallest Element in a BST."
   ]
  },
  {
   "cell_type": "code",
   "execution_count": 4,
   "metadata": {
    "ExecuteTime": {
     "end_time": "2019-12-16T10:38:08.730810Z",
     "start_time": "2019-12-16T10:38:08.726810Z"
    }
   },
   "outputs": [],
   "source": [
    "class Solution(object):\n",
    "    def kthSmallest(self, root, k):\n",
    "        \"\"\"\n",
    "        :type root: TreeNode\n",
    "        :type k: int\n",
    "        :rtype: int\n",
    "        \"\"\"\n",
    "        ans = self.allnode(root)\n",
    "        return ans[k-1]\n",
    "        \n",
    "    def allnode(self, root):\n",
    "        if not root:\n",
    "            return []\n",
    "        return self.allnode(root.left)+[root.val]+self.allnode(root.right)"
   ]
  },
  {
   "cell_type": "markdown",
   "metadata": {},
   "source": [
    "### Solution 3\n",
    ">中序遍历至第k个\n",
    "\n",
    "Runtime: **36 ms**, faster than 91.72% of Python online submissions for Kth Smallest Element in a BST.<br>\n",
    "Memory Usage: **19.8 MB**, less than 6.52% of Python online submissions for Kth Smallest Element in a BST."
   ]
  },
  {
   "cell_type": "code",
   "execution_count": 5,
   "metadata": {
    "ExecuteTime": {
     "end_time": "2019-12-16T10:39:14.949594Z",
     "start_time": "2019-12-16T10:39:14.943891Z"
    }
   },
   "outputs": [],
   "source": [
    "class Solution:\n",
    "    def __init__(self):\n",
    "        self.K = 0\n",
    "\n",
    "    def kthSmallest(self, root, k):\n",
    "        if root == None:\n",
    "            return None\n",
    "        \n",
    "        val = self.kthSmallest(root.left, k)\n",
    "        if val != None:\n",
    "            return val\n",
    "\n",
    "        self.K += 1\n",
    "        if self.K == k:\n",
    "            return root.val\n",
    "\n",
    "        val = self.kthSmallest(root.right, k)\n",
    "        if val != None:\n",
    "            return val"
   ]
  },
  {
   "cell_type": "code",
   "execution_count": null,
   "metadata": {},
   "outputs": [],
   "source": []
  }
 ],
 "metadata": {
  "kernelspec": {
   "display_name": "Python 3",
   "language": "python",
   "name": "python3"
  },
  "language_info": {
   "codemirror_mode": {
    "name": "ipython",
    "version": 3
   },
   "file_extension": ".py",
   "mimetype": "text/x-python",
   "name": "python",
   "nbconvert_exporter": "python",
   "pygments_lexer": "ipython3",
   "version": "3.6.5"
  },
  "varInspector": {
   "cols": {
    "lenName": 16,
    "lenType": 16,
    "lenVar": 40
   },
   "kernels_config": {
    "python": {
     "delete_cmd_postfix": "",
     "delete_cmd_prefix": "del ",
     "library": "var_list.py",
     "varRefreshCmd": "print(var_dic_list())"
    },
    "r": {
     "delete_cmd_postfix": ") ",
     "delete_cmd_prefix": "rm(",
     "library": "var_list.r",
     "varRefreshCmd": "cat(var_dic_list()) "
    }
   },
   "types_to_exclude": [
    "module",
    "function",
    "builtin_function_or_method",
    "instance",
    "_Feature"
   ],
   "window_display": false
  }
 },
 "nbformat": 4,
 "nbformat_minor": 2
}
