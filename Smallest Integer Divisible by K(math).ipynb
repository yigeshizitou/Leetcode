{
 "cells": [
  {
   "cell_type": "markdown",
   "metadata": {},
   "source": [
    "https://leetcode.com/problems/smallest-integer-divisible-by-k/\n",
    "\n",
    "Given a positive integer K, you need find the smallest positive integer N such that N is divisible by K, and N only contains the digit 1.\n",
    "\n",
    "Return the length of N.  If there is no such N, return -1.\n",
    "\n",
    " \n",
    "\n",
    "Example 1:\n",
    "\n",
    "Input: 1<br>\n",
    "Output: 1<br>\n",
    "Explanation: The smallest answer is N = 1, which has length 1.<br>\n",
    "Example 2:\n",
    "\n",
    "Input: 2<br>\n",
    "Output: -1<br>\n",
    "Explanation: There is no such positive integer N divisible by 2.<br>\n",
    "Example 3:\n",
    "\n",
    "Input: 3<br>\n",
    "Output: 3<br>\n",
    "Explanation: The smallest answer is N = 111, which has length 3."
   ]
  },
  {
   "cell_type": "markdown",
   "metadata": {},
   "source": [
    "### Solution 1 math\n",
    "> It is easy to figure out that 111 = 11\\*10 +1. So f(n) = f(n-1)\\*10 + 1<br>\n",
    "However, too many \"1\" occupies too much time. <br>\n",
    "Assuming $g(n) = f(n)\\% K$, <br>\n",
    "$f(n) = f(n-1)*10 + 1$<br>\n",
    "$f(n)\\%K = (f(n-1)*10 + 1)\\%K$<br>\n",
    "$f(n-1) = P*K + Q \\rightarrow Q = f(n-1) \\%K $ <br>\n",
    "$g(n) = (g(n-1)*10+1)\\%K$ \n",
    "\n",
    "\n",
    "Runtime: **28 ms**, faster than 91.07% of Python online submissions for Smallest Integer Divisible by K.<br>\n",
    "Memory Usage: **11.8 MB**, less than 50.00% of Python online submissions for Smallest Integer Divisible by K."
   ]
  },
  {
   "cell_type": "code",
   "execution_count": 112,
   "metadata": {},
   "outputs": [],
   "source": [
    "class Solution(object):\n",
    "    def smallestRepunitDivByK(self, K):\n",
    "        \"\"\"\n",
    "        :type K: int\n",
    "        :rtype: int\n",
    "        \"\"\"\n",
    "        if K % 2 == 0 or K % 5 == 0: return -1\n",
    "        i = n = 1\n",
    "        while n % K != 0: \n",
    "            n, i = (10*n + 1) % K, i + 1\n",
    "        return i"
   ]
  },
  {
   "cell_type": "code",
   "execution_count": 113,
   "metadata": {},
   "outputs": [
    {
     "data": {
      "text/plain": [
       "108"
      ]
     },
     "execution_count": 113,
     "metadata": {},
     "output_type": "execute_result"
    }
   ],
   "source": [
    "a = Solution()\n",
    "K = 1199\n",
    "a.smallestRepunitDivByK(K)"
   ]
  }
 ],
 "metadata": {
  "kernelspec": {
   "display_name": "Python 3",
   "language": "python",
   "name": "python3"
  },
  "language_info": {
   "codemirror_mode": {
    "name": "ipython",
    "version": 3
   },
   "file_extension": ".py",
   "mimetype": "text/x-python",
   "name": "python",
   "nbconvert_exporter": "python",
   "pygments_lexer": "ipython3",
   "version": "3.6.5"
  }
 },
 "nbformat": 4,
 "nbformat_minor": 2
}
