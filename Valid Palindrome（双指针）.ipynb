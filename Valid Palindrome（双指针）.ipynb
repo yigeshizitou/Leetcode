{
 "cells": [
  {
   "cell_type": "markdown",
   "metadata": {},
   "source": [
    "https://leetcode.com/problems/valid-palindrome/\n",
    "\n",
    "https://github.com/azl397985856/leetcode/blob/master/problems/125.valid-palindrome.md\n",
    "\n",
    "Given a string, determine if it is a palindrome, considering only alphanumeric characters and ignoring cases.\n",
    "\n",
    "Note: For the purpose of this problem, we define empty string as valid palindrome.\n",
    "\n",
    "**Example 1:**\n",
    "\n",
    "Input: \"A man, a plan, a canal: Panama\"<br>\n",
    "Output: true<br><br>\n",
    "**Example 2:**\n",
    "\n",
    "Input: \"race a car\"<br>\n",
    "Output: false"
   ]
  },
  {
   "cell_type": "markdown",
   "metadata": {},
   "source": [
    "### Solution 1\n",
    "\n",
    ">删除s中的特殊字符后比较s和s[::-1]\n",
    "\n",
    "Runtime: **1252 ms**, faster than 5.44% of Python online submissions for Valid Palindrome.<br>\n",
    "Memory Usage: **13.2 MB**, less than 58.82% of Python online submissions for Valid Palindrome."
   ]
  },
  {
   "cell_type": "code",
   "execution_count": 1,
   "metadata": {
    "ExecuteTime": {
     "end_time": "2019-09-12T14:40:07.325186Z",
     "start_time": "2019-09-12T14:40:07.321931Z"
    }
   },
   "outputs": [],
   "source": [
    "def isPalindrome(s):\n",
    "    for i in s:\n",
    "        if not i.isalnum():\n",
    "            s=s.replace(i,\" \")\n",
    "    s = ''.join(s.lower().split())\n",
    "    if len(s)==0:\n",
    "        return True\n",
    "    if s==s[::-1]:\n",
    "        return True\n",
    "    else:\n",
    "        return False"
   ]
  },
  {
   "cell_type": "markdown",
   "metadata": {},
   "source": [
    "### Solution 2：头尾双指针\n",
    "\n",
    ">遇到非字母数字时，头指针+1，尾指针-1，直到指向字母数字<br>\n",
    "头指针！=尾指针时，False<br>\n",
    "头指针==尾指针时，头指针+1，尾指针-1，直到两指针相遇，True\n",
    "\n",
    "\n",
    "\n",
    "Runtime: **32 ms**, faster than 86.86% of Python online submissions for Valid Palindrome.<br>\n",
    "Memory Usage: **12.7 MB**, less than 60.78% of Python online submissions for Valid Palindrome."
   ]
  },
  {
   "cell_type": "code",
   "execution_count": 2,
   "metadata": {
    "ExecuteTime": {
     "end_time": "2019-09-12T14:40:09.774660Z",
     "start_time": "2019-09-12T14:40:09.768688Z"
    }
   },
   "outputs": [],
   "source": [
    "def isPalindrome(s):\n",
    "    s = s.lower()\n",
    "    b, e = 0, len(s)-1\n",
    "    while b < len(s) and e > 0 and b < e:\n",
    "        while not s[e].isalnum():\n",
    "            e -= 1\n",
    "            if e < 0:\n",
    "                return True\n",
    "        while not s[b].isalnum():\n",
    "            b += 1\n",
    "        if s[e] != s[b]:\n",
    "            return False\n",
    "        else:\n",
    "            b += 1\n",
    "            e -= 1\n",
    "    return True"
   ]
  },
  {
   "cell_type": "code",
   "execution_count": 3,
   "metadata": {
    "ExecuteTime": {
     "end_time": "2019-09-12T14:40:10.768585Z",
     "start_time": "2019-09-12T14:40:10.751630Z"
    }
   },
   "outputs": [
    {
     "data": {
      "text/plain": [
       "True"
      ]
     },
     "execution_count": 3,
     "metadata": {},
     "output_type": "execute_result"
    }
   ],
   "source": [
    "a= \"A man, a plan, a canal: Panama\"\n",
    "isPalindrome(a)"
   ]
  },
  {
   "cell_type": "code",
   "execution_count": null,
   "metadata": {},
   "outputs": [],
   "source": []
  }
 ],
 "metadata": {
  "kernelspec": {
   "display_name": "Python 3",
   "language": "python",
   "name": "python3"
  },
  "language_info": {
   "codemirror_mode": {
    "name": "ipython",
    "version": 3
   },
   "file_extension": ".py",
   "mimetype": "text/x-python",
   "name": "python",
   "nbconvert_exporter": "python",
   "pygments_lexer": "ipython3",
   "version": "3.6.5"
  },
  "varInspector": {
   "cols": {
    "lenName": 16,
    "lenType": 16,
    "lenVar": 40
   },
   "kernels_config": {
    "python": {
     "delete_cmd_postfix": "",
     "delete_cmd_prefix": "del ",
     "library": "var_list.py",
     "varRefreshCmd": "print(var_dic_list())"
    },
    "r": {
     "delete_cmd_postfix": ") ",
     "delete_cmd_prefix": "rm(",
     "library": "var_list.r",
     "varRefreshCmd": "cat(var_dic_list()) "
    }
   },
   "types_to_exclude": [
    "module",
    "function",
    "builtin_function_or_method",
    "instance",
    "_Feature"
   ],
   "window_display": false
  }
 },
 "nbformat": 4,
 "nbformat_minor": 2
}
