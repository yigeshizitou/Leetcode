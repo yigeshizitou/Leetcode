{
 "cells": [
  {
   "cell_type": "markdown",
   "metadata": {},
   "source": [
    "https://leetcode.com/problems/sum-of-two-integers/description/\n",
    "\n",
    "https://github.com/azl397985856/leetcode/blob/master/problems/371.sum-of-two-integers.md\n",
    "\n",
    "Calculate the sum of two integers a and b, but you are not allowed to use the operator + and -.\n",
    "\n",
    "\n",
    "**Example 1:**\n",
    "\n",
    "Input: a = 1, b = 2<br>\n",
    "Output: 3\n",
    "\n",
    "\n",
    "**Example 2:**\n",
    "\n",
    "Input: a = -2, b = 3<br>\n",
    "Output: 1"
   ]
  },
  {
   "cell_type": "markdown",
   "metadata": {},
   "source": [
    "### Solution 1\n",
    ">a^b无进位的加法<br>\n",
    "(a&b)<<1 进位\n",
    "\n",
    "Runtime: **12 ms**, faster than 87.93% of Python online submissions for Sum of Two Integers.<br>\n",
    "Memory Usage: **11.8 MB**, less than 16.67% of Python online submissions for Sum of Two Integers."
   ]
  },
  {
   "cell_type": "code",
   "execution_count": 43,
   "metadata": {
    "ExecuteTime": {
     "end_time": "2019-09-24T09:27:57.481600Z",
     "start_time": "2019-09-24T09:27:57.476159Z"
    }
   },
   "outputs": [],
   "source": [
    "def add(a, b):\n",
    "    while b:\n",
    "        tmp = a ^ b\n",
    "        b = (a & b) << 1\n",
    "        a = tmp & 0xffffffff\n",
    "    return a if a >> 31 == 0 else ~(a ^ 0xffffffff)"
   ]
  },
  {
   "cell_type": "code",
   "execution_count": 44,
   "metadata": {
    "ExecuteTime": {
     "end_time": "2019-09-24T09:27:57.847634Z",
     "start_time": "2019-09-24T09:27:57.840514Z"
    }
   },
   "outputs": [
    {
     "data": {
      "text/plain": [
       "-14"
      ]
     },
     "execution_count": 44,
     "metadata": {},
     "output_type": "execute_result"
    }
   ],
   "source": [
    "add(-11,-3)"
   ]
  },
  {
   "cell_type": "code",
   "execution_count": null,
   "metadata": {},
   "outputs": [],
   "source": []
  }
 ],
 "metadata": {
  "kernelspec": {
   "display_name": "Python 3",
   "language": "python",
   "name": "python3"
  },
  "language_info": {
   "codemirror_mode": {
    "name": "ipython",
    "version": 3
   },
   "file_extension": ".py",
   "mimetype": "text/x-python",
   "name": "python",
   "nbconvert_exporter": "python",
   "pygments_lexer": "ipython3",
   "version": "3.6.5"
  },
  "varInspector": {
   "cols": {
    "lenName": 16,
    "lenType": 16,
    "lenVar": 40
   },
   "kernels_config": {
    "python": {
     "delete_cmd_postfix": "",
     "delete_cmd_prefix": "del ",
     "library": "var_list.py",
     "varRefreshCmd": "print(var_dic_list())"
    },
    "r": {
     "delete_cmd_postfix": ") ",
     "delete_cmd_prefix": "rm(",
     "library": "var_list.r",
     "varRefreshCmd": "cat(var_dic_list()) "
    }
   },
   "types_to_exclude": [
    "module",
    "function",
    "builtin_function_or_method",
    "instance",
    "_Feature"
   ],
   "window_display": false
  }
 },
 "nbformat": 4,
 "nbformat_minor": 2
}
