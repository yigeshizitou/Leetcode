{
 "cells": [
  {
   "cell_type": "markdown",
   "metadata": {},
   "source": [
    "###  Valid Parentheses\n",
    "\n",
    "Given a string containing just the characters '(', ')', '{', '}', '[' and ']', determine if the input string is valid.<br>\n",
    "\n",
    "An input string is valid if:<br>\n",
    "\n",
    "Open brackets must be closed by the same type of brackets.<br>\n",
    "Open brackets must be closed in the correct order.<br>\n",
    "Note that an empty string is also considered valid.<br>\n",
    "\n",
    "#### Example 1:\n",
    "\n",
    "Input: \"()\"<br>\n",
    "Output: true<br><br>\n",
    "#### Example 2:\n",
    "\n",
    "Input: \"()[]{}\"<br>\n",
    "Output: true<br><br>\n",
    "#### Example 3:\n",
    "\n",
    "Input: \"(]\"<br>\n",
    "Output: false<br><br>\n",
    "#### Example 4:\n",
    "\n",
    "Input: \"([)]\"<br>\n",
    "Output: false<br><br>\n",
    "#### Example 5:\n",
    "\n",
    "Input: \"{[]}\"<br>\n",
    "Output: true<br>"
   ]
  },
  {
   "cell_type": "markdown",
   "metadata": {},
   "source": [
    "### 错误解法1\n",
    "\n",
    "$找到第一个k使得s[i]和s[i+1+2k]对称$\n",
    "\n",
    "$反例\"[({(())}[()])]\"$"
   ]
  },
  {
   "cell_type": "code",
   "execution_count": 64,
   "metadata": {
    "ExecuteTime": {
     "end_time": "2019-09-05T13:23:18.005229Z",
     "start_time": "2019-09-05T13:23:17.999246Z"
    }
   },
   "outputs": [],
   "source": [
    "def isValid(s):\n",
    "    if len(s) % 2 == 1:\n",
    "        return False\n",
    "    reco_s = []\n",
    "    for i in range(len(s)):\n",
    "        if i not in reco_s:\n",
    "            k = 0\n",
    "            while i+1+2*k < len(s) and i+1+2*k not in reco_s:\n",
    "                if s[i] == '{' and s[i+1+2*k] == \"}\" or s[i] == '[' and s[i+1+2*k] == \"]\" or s[i] == '(' and s[i+1+2*k] == \")\":\n",
    "                    reco_s.append(i)\n",
    "                    reco_s.append(i+1+2*k)\n",
    "                    break\n",
    "                else:\n",
    "                    k += 1\n",
    "    if sorted(reco_s) == list(range(len(s))):\n",
    "        return True\n",
    "    else:\n",
    "        return False"
   ]
  },
  {
   "cell_type": "markdown",
   "metadata": {},
   "source": [
    "### 正确解法1 \n",
    "删除所有相邻成对括号，直到字符串长度无法减小<br>\n",
    "Runtime: **48 ms**, faster than 6.44% of Python online submissions for Valid Parentheses.<br>\n",
    "Memory Usage: **11.6 MB**, less than 100.00% of Python online submissions for Valid Parentheses.<br>"
   ]
  },
  {
   "cell_type": "code",
   "execution_count": 61,
   "metadata": {
    "ExecuteTime": {
     "end_time": "2019-09-05T13:17:03.670350Z",
     "start_time": "2019-09-05T13:17:03.665363Z"
    }
   },
   "outputs": [],
   "source": [
    "def isValid(s):\n",
    "    length = len(s)+1\n",
    "    while len(s) < length:\n",
    "        length = len(s)\n",
    "        s = s.replace('()', '')\n",
    "        s = s.replace('[]', '')\n",
    "        s = s.replace('{}', '')\n",
    "    if len(s) > 0:\n",
    "        return False\n",
    "    else:\n",
    "        return True"
   ]
  },
  {
   "cell_type": "markdown",
   "metadata": {},
   "source": [
    "### 正确解法2\n",
    ">一排左括号里应当最先满足排在最后的左括号，如果满足不了，则返回False\n",
    "\n",
    "堆栈，如果是左括号，入栈；碰到右括号时，如果和栈内最后一个括号匹配，则最后一个括号出栈，直到栈为空结束；如果不匹配或栈为空，结束\n",
    "\n",
    "Runtime: **20 ms**, faster than 61.19% of Python online submissions for Valid Parentheses.<br>\n",
    "Memory Usage: **12.1 MB**, less than 5.04% of Python online submissions for Valid Parentheses."
   ]
  },
  {
   "cell_type": "code",
   "execution_count": 80,
   "metadata": {
    "ExecuteTime": {
     "end_time": "2019-09-05T13:38:56.565775Z",
     "start_time": "2019-09-05T13:38:56.561784Z"
    }
   },
   "outputs": [],
   "source": [
    "def isValid(s):\n",
    "    dict_all={\"(\":\")\",\"{\":\"}\",\"[\":\"]\"}\n",
    "    stack =[]\n",
    "    for i in range(len(s)):\n",
    "        if s[i]==\"{\" or s[i]==\"[\" or s[i]==\"(\":\n",
    "            stack.append(s[i])\n",
    "        elif len(stack)!=0 and s[i]==dict_all[stack[-1]]:\n",
    "            stack.pop(-1)\n",
    "        else: \n",
    "            return False\n",
    "    if len(stack)==0:\n",
    "        return True\n",
    "    else:\n",
    "        return False"
   ]
  },
  {
   "cell_type": "code",
   "execution_count": 81,
   "metadata": {
    "ExecuteTime": {
     "end_time": "2019-09-05T13:38:57.104046Z",
     "start_time": "2019-09-05T13:38:57.097065Z"
    },
    "scrolled": true
   },
   "outputs": [
    {
     "data": {
      "text/plain": [
       "False"
      ]
     },
     "execution_count": 81,
     "metadata": {},
     "output_type": "execute_result"
    }
   ],
   "source": [
    "isValid(\")\")"
   ]
  },
  {
   "cell_type": "code",
   "execution_count": null,
   "metadata": {},
   "outputs": [],
   "source": []
  }
 ],
 "metadata": {
  "kernelspec": {
   "display_name": "Python 3",
   "language": "python",
   "name": "python3"
  },
  "language_info": {
   "codemirror_mode": {
    "name": "ipython",
    "version": 3
   },
   "file_extension": ".py",
   "mimetype": "text/x-python",
   "name": "python",
   "nbconvert_exporter": "python",
   "pygments_lexer": "ipython3",
   "version": "3.6.5"
  },
  "varInspector": {
   "cols": {
    "lenName": 16,
    "lenType": 16,
    "lenVar": 40
   },
   "kernels_config": {
    "python": {
     "delete_cmd_postfix": "",
     "delete_cmd_prefix": "del ",
     "library": "var_list.py",
     "varRefreshCmd": "print(var_dic_list())"
    },
    "r": {
     "delete_cmd_postfix": ") ",
     "delete_cmd_prefix": "rm(",
     "library": "var_list.r",
     "varRefreshCmd": "cat(var_dic_list()) "
    }
   },
   "types_to_exclude": [
    "module",
    "function",
    "builtin_function_or_method",
    "instance",
    "_Feature"
   ],
   "window_display": false
  }
 },
 "nbformat": 4,
 "nbformat_minor": 2
}
