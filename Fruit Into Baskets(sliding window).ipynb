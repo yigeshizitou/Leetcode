{
 "cells": [
  {
   "cell_type": "markdown",
   "metadata": {},
   "source": [
    "https://leetcode.com/problems/fruit-into-baskets/\n",
    "\n",
    "In a row of trees, the i-th tree produces fruit with type tree[i].\n",
    "\n",
    "You start at any tree of your choice, then repeatedly perform the following steps:\n",
    "\n",
    "Add one piece of fruit from this tree to your baskets.  If you cannot, stop.\n",
    "Move to the next tree to the right of the current tree.  If there is no tree to the right, stop.\n",
    "Note that you do not have any choice after the initial choice of starting tree: you must perform step 1, then step 2, then back to step 1, then step 2, and so on until you stop.\n",
    "\n",
    "You have two baskets, and each basket can carry any quantity of fruit, but you want each basket to only carry one type of fruit each.\n",
    "\n",
    "What is the total amount of fruit you can collect with this procedure?\n",
    "\n",
    " \n",
    "\n",
    "Example 1:\n",
    "\n",
    "Input: [1,2,1]<br>\n",
    "Output: 3<br>\n",
    "Explanation: We can collect [1,2,1].<br>\n",
    "Example 2:\n",
    "\n",
    "Input: [0,1,2,2]<br>\n",
    "Output: 3<br>\n",
    "Explanation: We can collect [1,2,2].<br>\n",
    "If we started at the first tree, we would only collect [0, 1].<br>\n",
    "Example 3:\n",
    "\n",
    "Input: [1,2,3,2,2]<br>\n",
    "Output: 4<br>\n",
    "Explanation: We can collect [2,3,2,2].<br>\n",
    "If we started at the first tree, we would only collect [1, 2].<br>\n",
    "Example 4:\n",
    "\n",
    "Input: [3,3,3,1,2,1,1,2,3,3,4]<br>\n",
    "Output: 5<br>\n",
    "Explanation: We can collect [1,2,1,1,2].<br>\n",
    "If we started at the first tree or the eighth tree, we would only collect 4 fruits."
   ]
  },
  {
   "cell_type": "markdown",
   "metadata": {},
   "source": [
    "### Solution 1 Sliding window\n",
    "> fruit_1 is the type in the front. fruit_2 is the other type. count_2_last records the length of the last contiguous subarray of fruit_2.<br>\n",
    "for example, list is [1, 2, 1, 2, 2], fruit_1 = 1, fruit_2 = 2, count_1 = 2, count_2 = 3, count_2_last = 2\n",
    "\n",
    "Runtime: **636 ms**, faster than 93.07% of Python online submissions for Fruit Into Baskets.<br>\n",
    "Memory Usage: **16.2 MB**, less than 93.33% of Python online submissions for Fruit Into Baskets."
   ]
  },
  {
   "cell_type": "code",
   "execution_count": 48,
   "metadata": {},
   "outputs": [],
   "source": [
    "class Solution(object):\n",
    "    def totalFruit(self, tree):\n",
    "        \"\"\"\n",
    "        :type tree: List[int]\n",
    "        :rtype: int\n",
    "        \"\"\"\n",
    "        fruit_1, fruit_2, count_1, count_2, count_2_last, max_count = None, None, 0, 0, 0, 0\n",
    "        for fruit in tree:\n",
    "            if fruit == fruit_2:\n",
    "                count_2, count_2_last = 1+count_2, count_2_last+1\n",
    "            elif fruit == fruit_1:\n",
    "                fruit_1, fruit_2, count_1, count_2, count_2_last = fruit_2, fruit_1, count_2+1, count_1, 1\n",
    "            else:\n",
    "                fruit_1, fruit_2, count_1, count_2, count_2_last = fruit_2, fruit, count_2_last, 1, 1\n",
    "            max_count = max(max_count, count_1+count_2)\n",
    "        return max_count"
   ]
  },
  {
   "cell_type": "code",
   "execution_count": 49,
   "metadata": {},
   "outputs": [
    {
     "data": {
      "text/plain": [
       "4"
      ]
     },
     "execution_count": 49,
     "metadata": {},
     "output_type": "execute_result"
    }
   ],
   "source": [
    "a = Solution()\n",
    "tree = [0,0,1,1]\n",
    "a.totalFruit(tree)"
   ]
  }
 ],
 "metadata": {
  "kernelspec": {
   "display_name": "Python 3",
   "language": "python",
   "name": "python3"
  },
  "language_info": {
   "codemirror_mode": {
    "name": "ipython",
    "version": 3
   },
   "file_extension": ".py",
   "mimetype": "text/x-python",
   "name": "python",
   "nbconvert_exporter": "python",
   "pygments_lexer": "ipython3",
   "version": "3.6.5"
  }
 },
 "nbformat": 4,
 "nbformat_minor": 2
}
