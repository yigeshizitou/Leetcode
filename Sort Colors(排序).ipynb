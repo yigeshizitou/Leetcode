{
 "cells": [
  {
   "cell_type": "markdown",
   "metadata": {},
   "source": [
    "https://leetcode.com/problems/sort-colors/\n",
    "\n",
    "https://github.com/azl397985856/leetcode/blob/master/problems/75.sort-colors.md\n",
    "\n",
    "Given an array with n objects colored red, white or blue, sort them in-place so that objects of the same color are adjacent, with the colors in the order red, white and blue.\n",
    "\n",
    "Here, we will use the integers 0, 1, and 2 to represent the color red, white, and blue respectively.\n",
    "\n",
    "Note: You are not suppose to use the library's sort function for this problem.\n",
    "\n",
    "Example:\n",
    "\n",
    "Input: [2,0,2,1,1,0]<br>\n",
    "Output: [0,0,1,1,2,2]<br>\n",
    "Follow up:<br>\n",
    "\n",
    "A rather straight forward solution is a two-pass algorithm using counting sort.<br>\n",
    "First, iterate the array counting number of 0's, 1's, and 2's, then overwrite array with total number of 0's, then 1's and followed by 2's.<br>\n",
    "Could you come up with a one-pass algorithm using only constant space?"
   ]
  },
  {
   "cell_type": "markdown",
   "metadata": {},
   "source": [
    "### Solution 1\n",
    ">冒泡排序\n",
    "\n",
    "Runtime: **24 ms**, faster than 35.20% of Python online submissions for Sort Colors.<br>\n",
    "Memory Usage: **11.9 MB**, less than 15.38% of Python online submissions for Sort Colors."
   ]
  },
  {
   "cell_type": "code",
   "execution_count": 1,
   "metadata": {
    "ExecuteTime": {
     "end_time": "2019-10-16T10:06:52.191779Z",
     "start_time": "2019-10-16T10:06:52.186900Z"
    }
   },
   "outputs": [],
   "source": [
    "class Solution(object):\n",
    "    def sortColors(self, nums):\n",
    "        \"\"\"\n",
    "        :type nums: List[int]\n",
    "        :rtype: None Do not return anything, modify nums in-place instead.\n",
    "        author: Chong\n",
    "        \"\"\"\n",
    "        for i in range(len(nums)):\n",
    "            for j in range(i, len(nums)):\n",
    "                if nums[i] > nums[j]:\n",
    "                    nums[i], nums[j] = nums[j], nums[i]\n",
    "        return nums"
   ]
  },
  {
   "cell_type": "markdown",
   "metadata": {},
   "source": [
    "### Solution 2\n",
    ">快排\n",
    "\n",
    "Runtime: **20 ms**, faster than 66.57% of Python online submissions for Sort Colors.<br>\n",
    "Memory Usage: **11.9 MB**, less than 15.38% of Python online submissions for Sort Colors."
   ]
  },
  {
   "cell_type": "code",
   "execution_count": 2,
   "metadata": {
    "ExecuteTime": {
     "end_time": "2019-10-16T10:06:52.204305Z",
     "start_time": "2019-10-16T10:06:52.193653Z"
    }
   },
   "outputs": [],
   "source": [
    "class Solution(object):\n",
    "    def sortColors(self, nums):\n",
    "        \"\"\"\n",
    "        :type nums: List[int]\n",
    "        :rtype: None Do not return anything, modify nums in-place instead.\n",
    "        author: Chong\n",
    "        \"\"\"\n",
    "        def quick_sort(nums, i, j):\n",
    "            if i >= j:\n",
    "                return\n",
    "            low, high = i, j\n",
    "            key = nums[low]\n",
    "            while i < j:\n",
    "                while j > i and nums[j] >= key:\n",
    "                    j -= 1\n",
    "                nums[i], nums[j] = nums[j], nums[i]\n",
    "                while i < j and nums[i] <= key:\n",
    "                    i += 1\n",
    "                nums[i], nums[j] = nums[j], nums[i]\n",
    "            quick_sort(nums, low, i)\n",
    "            quick_sort(nums, i+1, high)\n",
    "        quick_sort(nums, 0, len(nums)-1)"
   ]
  },
  {
   "cell_type": "markdown",
   "metadata": {},
   "source": [
    "### Solution 3\n",
    ">red, white, blue = 0, 0, len(nums)-1<br>\n",
    "if nums[white] == 0, nums[red] $\\Leftrightarrow$ nums[white], white += 1, red += 1<br>\n",
    "if nums[white] == 1, white += 1<br>\n",
    "if nums[white] == 2, nums[blue] $\\Leftrightarrow$ nums[white], blue-=1\n",
    "\n",
    "Runtime: **12 ms**, faster than 96.97% of Python online submissions for Sort Colors.<br>\n",
    "Memory Usage: **11.7 MB**, less than 76.92% of Python online submissions for Sort Colors."
   ]
  },
  {
   "cell_type": "code",
   "execution_count": 3,
   "metadata": {
    "ExecuteTime": {
     "end_time": "2019-10-16T10:06:52.212303Z",
     "start_time": "2019-10-16T10:06:52.206303Z"
    }
   },
   "outputs": [],
   "source": [
    "class Solution(object):\n",
    "    def sortColors(self, nums):\n",
    "        red, white, blue = 0, 0, len(nums)-1\n",
    "\n",
    "        while white <= blue:\n",
    "            if nums[white] == 0:\n",
    "                nums[red], nums[white] = nums[white], nums[red]\n",
    "                white += 1\n",
    "                red += 1\n",
    "            elif nums[white] == 1:\n",
    "                white += 1\n",
    "            else:\n",
    "                nums[white], nums[blue] = nums[blue], nums[white]\n",
    "                blue -= 1"
   ]
  },
  {
   "cell_type": "markdown",
   "metadata": {},
   "source": [
    "### Solution 4\n",
    ">count sort\n",
    "\n",
    "Runtime: **20 ms**, faster than 66.57% of Python online submissions for Sort Colors.<br>\n",
    "Memory Usage: **11.7 MB**, less than 76.92% of Python online submissions for Sort Colors."
   ]
  },
  {
   "cell_type": "code",
   "execution_count": 4,
   "metadata": {
    "ExecuteTime": {
     "end_time": "2019-10-16T10:06:52.220306Z",
     "start_time": "2019-10-16T10:06:52.215306Z"
    }
   },
   "outputs": [],
   "source": [
    "class Solution(object):\n",
    "    def sortColors(self, nums):\n",
    "        c0 = c1 = c2 = 0\n",
    "        for num in nums:\n",
    "            if num == 0:\n",
    "                c0 += 1\n",
    "            elif num == 1:\n",
    "                c1 += 1\n",
    "            else:\n",
    "                c2 += 1\n",
    "        nums[:c0] = [0] * c0\n",
    "        nums[c0:c0+c1] = [1] * c1\n",
    "        nums[c0+c1:] = [2] * c2"
   ]
  },
  {
   "cell_type": "code",
   "execution_count": 5,
   "metadata": {
    "ExecuteTime": {
     "end_time": "2019-10-16T10:06:52.227305Z",
     "start_time": "2019-10-16T10:06:52.222307Z"
    }
   },
   "outputs": [],
   "source": [
    "nums = [2, 2, 1, 0, 0, 1, 1, 1]\n",
    "a = Solution()\n",
    "a.sortColors(nums)"
   ]
  },
  {
   "cell_type": "code",
   "execution_count": 6,
   "metadata": {
    "ExecuteTime": {
     "end_time": "2019-10-16T10:06:52.243380Z",
     "start_time": "2019-10-16T10:06:52.230305Z"
    }
   },
   "outputs": [
    {
     "data": {
      "text/plain": [
       "[0, 0, 1, 1, 1, 1, 2, 2]"
      ]
     },
     "execution_count": 6,
     "metadata": {},
     "output_type": "execute_result"
    }
   ],
   "source": [
    "nums"
   ]
  }
 ],
 "metadata": {
  "kernelspec": {
   "display_name": "Python 3",
   "language": "python",
   "name": "python3"
  },
  "language_info": {
   "codemirror_mode": {
    "name": "ipython",
    "version": 3
   },
   "file_extension": ".py",
   "mimetype": "text/x-python",
   "name": "python",
   "nbconvert_exporter": "python",
   "pygments_lexer": "ipython3",
   "version": "3.6.5"
  },
  "varInspector": {
   "cols": {
    "lenName": 16,
    "lenType": 16,
    "lenVar": 40
   },
   "kernels_config": {
    "python": {
     "delete_cmd_postfix": "",
     "delete_cmd_prefix": "del ",
     "library": "var_list.py",
     "varRefreshCmd": "print(var_dic_list())"
    },
    "r": {
     "delete_cmd_postfix": ") ",
     "delete_cmd_prefix": "rm(",
     "library": "var_list.r",
     "varRefreshCmd": "cat(var_dic_list()) "
    }
   },
   "types_to_exclude": [
    "module",
    "function",
    "builtin_function_or_method",
    "instance",
    "_Feature"
   ],
   "window_display": false
  }
 },
 "nbformat": 4,
 "nbformat_minor": 2
}
