{
 "cells": [
  {
   "cell_type": "markdown",
   "metadata": {},
   "source": [
    "https://leetcode.com/problems/power-of-four/\n",
    "\n",
    "https://github.com/azl397985856/leetcode/blob/master/problems/342.power-of-four.md\n",
    "\n",
    "Given an integer (signed 32 bits), write a function to check whether it is a power of 4.\n",
    "\n",
    "**Example 1:**\n",
    "\n",
    "Input: 16<br>\n",
    "Output: true\n",
    "\n",
    "**Example 2:**\n",
    "\n",
    "Input: 5<br>\n",
    "Output: false\n",
    "\n",
    "\n",
    "**Follow up:** Could you solve it without loops/recursion?"
   ]
  },
  {
   "cell_type": "markdown",
   "metadata": {},
   "source": [
    "### Solution 1 位运算\n",
    ">bin(4)='0b100'<br>\n",
    "bin(16)='0b10000'<br>\n",
    "bin(32)='0b100000'<br>\n",
    "......<br>\n",
    "字符串比对\n",
    "\n",
    "Runtime: **12 ms**, faster than 94.29% of Python online submissions for Power of Four.<br>\n",
    "Memory Usage: **11.7 MB**, less than 100.00% of Python online submissions for Power of Four."
   ]
  },
  {
   "cell_type": "code",
   "execution_count": 5,
   "metadata": {
    "ExecuteTime": {
     "end_time": "2019-09-20T08:12:08.120581Z",
     "start_time": "2019-09-20T08:12:08.113598Z"
    }
   },
   "outputs": [],
   "source": [
    "def isPowerOfFour(num):\n",
    "    if str(bin(num)) == \"0b\"+\"1\"+\"0\"*(len(str(bin(num)))-3) and (len(str(bin(num)))-3) % 2 == 0:\n",
    "        return True\n",
    "    else:\n",
    "        return False"
   ]
  },
  {
   "cell_type": "markdown",
   "metadata": {},
   "source": [
    "### Solution 2\n",
    "> 字符串计算0的个数，去除0后比对剩余部分\n",
    "\n",
    "Runtime: **16 ms**, faster than 77.90% of Python online submissions for Power of Four.<br>\n",
    "Memory Usage: **11.9 MB**, less than 11.11% of Python online submissions for Power of Four."
   ]
  },
  {
   "cell_type": "code",
   "execution_count": 19,
   "metadata": {
    "ExecuteTime": {
     "end_time": "2019-09-20T08:20:06.719250Z",
     "start_time": "2019-09-20T08:20:06.715262Z"
    }
   },
   "outputs": [],
   "source": [
    "def isPowerOfFour(num):\n",
    "    binary_num = bin(num)[2:]\n",
    "    return binary_num.strip('0') == '1' and len(binary_num) % 2 == 1"
   ]
  },
  {
   "cell_type": "code",
   "execution_count": null,
   "metadata": {},
   "outputs": [],
   "source": []
  },
  {
   "cell_type": "code",
   "execution_count": 20,
   "metadata": {
    "ExecuteTime": {
     "end_time": "2019-09-20T08:20:07.161361Z",
     "start_time": "2019-09-20T08:20:07.156340Z"
    }
   },
   "outputs": [
    {
     "data": {
      "text/plain": [
       "False"
      ]
     },
     "execution_count": 20,
     "metadata": {},
     "output_type": "execute_result"
    }
   ],
   "source": [
    "isPowerOfFour(-238)"
   ]
  },
  {
   "cell_type": "code",
   "execution_count": null,
   "metadata": {},
   "outputs": [],
   "source": []
  }
 ],
 "metadata": {
  "kernelspec": {
   "display_name": "Python 3",
   "language": "python",
   "name": "python3"
  },
  "language_info": {
   "codemirror_mode": {
    "name": "ipython",
    "version": 3
   },
   "file_extension": ".py",
   "mimetype": "text/x-python",
   "name": "python",
   "nbconvert_exporter": "python",
   "pygments_lexer": "ipython3",
   "version": "3.6.5"
  },
  "varInspector": {
   "cols": {
    "lenName": 16,
    "lenType": 16,
    "lenVar": 40
   },
   "kernels_config": {
    "python": {
     "delete_cmd_postfix": "",
     "delete_cmd_prefix": "del ",
     "library": "var_list.py",
     "varRefreshCmd": "print(var_dic_list())"
    },
    "r": {
     "delete_cmd_postfix": ") ",
     "delete_cmd_prefix": "rm(",
     "library": "var_list.r",
     "varRefreshCmd": "cat(var_dic_list()) "
    }
   },
   "types_to_exclude": [
    "module",
    "function",
    "builtin_function_or_method",
    "instance",
    "_Feature"
   ],
   "window_display": false
  }
 },
 "nbformat": 4,
 "nbformat_minor": 2
}
