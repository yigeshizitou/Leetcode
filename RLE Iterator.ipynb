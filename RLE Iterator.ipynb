{
 "cells": [
  {
   "cell_type": "markdown",
   "metadata": {},
   "source": [
    "https://leetcode.com/problems/rle-iterator/\n",
    "\n",
    "Write an iterator that iterates through a run-length encoded sequence.\n",
    "\n",
    "The iterator is initialized by RLEIterator(int[] A), where A is a run-length encoding of some sequence.  More specifically, for all even i, A[i] tells us the number of times that the non-negative integer value A[i+1] is repeated in the sequence.\n",
    "\n",
    "The iterator supports one function: next(int n), which exhausts the next n elements (n >= 1) and returns the last element exhausted in this way.  If there is no element left to exhaust, next returns -1 instead.\n",
    "\n",
    "For example, we start with A = [3,8,0,9,2,5], which is a run-length encoding of the sequence [8,8,8,5,5].  This is because the sequence can be read as \"three eights, zero nines, two fives\".\n",
    "\n",
    " \n",
    "\n",
    "Example 1:\n",
    "\n",
    "Input: [\"RLEIterator\",\"next\",\"next\",\"next\",\"next\"], [[[3,8,0,9,2,5]],[2],[1],[1],[2]]<br>\n",
    "Output: [null,8,8,5,-1]<br>\n",
    "Explanation: <br>\n",
    "RLEIterator is initialized with RLEIterator([3,8,0,9,2,5]).<br>\n",
    "This maps to the sequence [8,8,8,5,5].<br>\n",
    "RLEIterator.next is then called 4 times:\n",
    "\n",
    ".next(2) exhausts 2 terms of the sequence, returning 8.  The remaining sequence is now [8, 5, 5].\n",
    "\n",
    ".next(1) exhausts 1 term of the sequence, returning 8.  The remaining sequence is now [5, 5].\n",
    "\n",
    ".next(1) exhausts 1 term of the sequence, returning 5.  The remaining sequence is now [5].\n",
    "\n",
    ".next(2) exhausts 2 terms, returning -1.  This is because the first term exhausted was 5,<br>\n",
    "but the second term did not exist.  Since the last term exhausted does not exist, we return -1.\n"
   ]
  },
  {
   "cell_type": "markdown",
   "metadata": {},
   "source": [
    "### Solution 1\n",
    "\n",
    "Runtime: **20 ms**, faster than 91.18% of Python online submissions for RLE Iterator.<br>\n",
    "Memory Usage: **12.1 MB**, less than 66.67% of Python online submissions for RLE Iterator."
   ]
  },
  {
   "cell_type": "code",
   "execution_count": 118,
   "metadata": {},
   "outputs": [],
   "source": [
    "class RLEIterator(object):\n",
    "\n",
    "    def __init__(self, A):\n",
    "        \"\"\"\n",
    "        :type A: List[int]\n",
    "        author: Chong\n",
    "        \"\"\"\n",
    "        number = []\n",
    "        times = []\n",
    "        for i in range(0, len(A), 2):\n",
    "            if A[i]!=0:\n",
    "                number.append(A[i+1])\n",
    "                times.append(A[i])\n",
    "        self.number = number\n",
    "        self.times = times\n",
    "\n",
    "    def next(self, n):\n",
    "        \"\"\"\n",
    "        :type n: int\n",
    "        :rtype: int\n",
    "        \"\"\"     \n",
    "        if n <= sum(self.times):\n",
    "            while n > 0:\n",
    "                if  n <= self.times[0]:\n",
    "                    ans = self.number[0]\n",
    "                    self.times[0] -= n\n",
    "                    n = 0\n",
    "                    if n == self.times[0]:\n",
    "                        self.times.pop(0)\n",
    "                        self.number.pop(0)\n",
    "                else:\n",
    "                    n -= self.times[0]\n",
    "                    self.times.pop(0)\n",
    "                    self.number.pop(0)  \n",
    "            return ans\n",
    "        else:\n",
    "            self.times=[]\n",
    "            self.number=[]\n",
    "            return -1"
   ]
  },
  {
   "cell_type": "code",
   "execution_count": 120,
   "metadata": {},
   "outputs": [
    {
     "name": "stdout",
     "output_type": "stream",
     "text": [
      "[839, 839, 174, 509, 509, 509, 357, 251, 251, 251, -1, -1, -1, -1, -1, -1, -1, -1, -1, -1, -1, -1, -1, -1, -1, -1, -1, -1, -1, -1, -1, -1, -1, -1, -1, -1, -1, -1, -1, -1, -1, -1, -1, -1, -1, -1, -1, -1, -1, -1]\n"
     ]
    }
   ],
   "source": [
    "A = [635,606,576,391,370,981,36,21,961,185,124,210,801,937,22,426,101,260,221,647,350,180,504,39,101,989,199,358,732,839,919,169,673,967,58,676,846,342,250,597,442,174,472,410,569,509,311,357,838,251]\n",
    "obj = RLEIterator(A)\n",
    "ans = []\n",
    "for i in [[5039],[62],[3640],[671],[67],[395],[262],[839],[74],[43],[42],[77],[13],[6],[3],[1],[1],[1],[1],[1],[1],[1],[1],[1],[1],[1],[1],[1],[1],[1],[1],[1],[1],[1],[1],[1],[1],[1],[1],[1],[1],[1],[1],[1],[1],[1],[1],[1],[1],[1]]:\n",
    "    ans.append(obj.next(i[0]))\n",
    "print(ans)"
   ]
  }
 ],
 "metadata": {
  "kernelspec": {
   "display_name": "Python 3",
   "language": "python",
   "name": "python3"
  },
  "language_info": {
   "codemirror_mode": {
    "name": "ipython",
    "version": 3
   },
   "file_extension": ".py",
   "mimetype": "text/x-python",
   "name": "python",
   "nbconvert_exporter": "python",
   "pygments_lexer": "ipython3",
   "version": "3.6.5"
  }
 },
 "nbformat": 4,
 "nbformat_minor": 2
}
