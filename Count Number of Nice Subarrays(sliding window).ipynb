{
 "cells": [
  {
   "cell_type": "markdown",
   "metadata": {},
   "source": [
    "https://leetcode.com/problems/count-number-of-nice-subarrays/\n",
    "\n",
    "Given an array of integers nums and an integer k. A subarray is called nice if there are k odd numbers on it.\n",
    "\n",
    "Return the number of nice sub-arrays.\n",
    "\n",
    " \n",
    "\n",
    "Example 1:\n",
    "\n",
    "Input: nums = [1,1,2,1,1], k = 3<br>\n",
    "Output: 2<br>\n",
    "Explanation: The only sub-arrays with 3 odd numbers are [1,1,2,1] and [1,2,1,1].<br>\n",
    "Example 2:\n",
    "\n",
    "Input: nums = [2,4,6], k = 1<br>\n",
    "Output: 0<br>\n",
    "Explanation: There is no odd numbers in the array.<br>\n",
    "Example 3:\n",
    "\n",
    "Input: nums = [2,2,2,1,2,2,1,2,2,2], k = 2<br>\n",
    "Output: 16"
   ]
  },
  {
   "cell_type": "markdown",
   "metadata": {},
   "source": [
    "### Solution 1 dict\n",
    "\n",
    "use a dictionary to record the nums, key is 0 if odd else 1, the value is the number of odd number counted from the beginning \n",
    "\n",
    "Runtime: 932 ms, faster than 17.41% of Python online submissions for Count Number of Nice Subarrays.<br>\n",
    "Memory Usage: 24.7 MB, less than 100.00% of Python online submissions for Count Number of Nice Subarrays."
   ]
  },
  {
   "cell_type": "code",
   "execution_count": 41,
   "metadata": {
    "ExecuteTime": {
     "end_time": "2020-04-20T20:17:32.917783Z",
     "start_time": "2020-04-20T20:17:32.911747Z"
    }
   },
   "outputs": [],
   "source": [
    "class Solution(object):\n",
    "    def numberOfSubarrays(self, nums, k):\n",
    "        \"\"\"\n",
    "        :type nums: List[int]\n",
    "        :type k: int\n",
    "        :rtype: int\n",
    "        author: Chong \n",
    "        \"\"\"\n",
    "        ans = {}\n",
    "        count = 0\n",
    "        n = 0\n",
    "        for i in nums:\n",
    "            if i%2 == 1: \n",
    "                n += 1\n",
    "                if (1, n) not in ans:\n",
    "                    ans[(1, n)] = 1\n",
    "                else:\n",
    "                    ans[(1, n)] += 1\n",
    "            else:\n",
    "                if (0, n) not in ans:\n",
    "                    ans[(0, n)] = 1\n",
    "                else:\n",
    "                    ans[(0, n)] += 1\n",
    "            if n >= k:\n",
    "                count += ans[(1, n-k+1)]+ ans[(0, n-k)] if (0, n-k) in ans else ans[(1, n-k+1)]\n",
    "        return count"
   ]
  },
  {
   "cell_type": "markdown",
   "metadata": {},
   "source": [
    "### Solution2  Sliding Window\n",
    "\n",
    "For example, nums = [2,2,2,1,2,2,1,2,2,2], the number of nice sub-array can be calculated by the number of even numbers before the first \"1\" and the number of even numbers after the last \"1\"\n",
    "\n",
    "Runtime: 760 ms, faster than 80.80% of Python online submissions for Count Number of Nice Subarrays.<br>\n",
    "Memory Usage: 18 MB, less than 100.00% of Python online submissions for Count Number of Nice Subarrays."
   ]
  },
  {
   "cell_type": "code",
   "execution_count": 54,
   "metadata": {
    "ExecuteTime": {
     "end_time": "2020-04-20T20:37:03.695018Z",
     "start_time": "2020-04-20T20:37:03.689024Z"
    }
   },
   "outputs": [],
   "source": [
    "class Solution(object):\n",
    "    def numberOfSubarrays(self, nums, k):\n",
    "        \"\"\"\n",
    "        :type nums: List[int]\n",
    "        :type k: int\n",
    "        :rtype: int\n",
    "        \"\"\"\n",
    "        odds = []\n",
    "\n",
    "        for i in range(len(nums)):\n",
    "            if nums[i] & 1:\n",
    "                odds.append(i)  # ' Find index of all odd numbers '\n",
    "\n",
    "        odds = [-1] + odds + [len(nums)]  # ' Handle edge cases '\n",
    "        nice = 0\n",
    "\n",
    "        for i in range(1, len(odds)-k):\n",
    "            left = odds[i] - odds[i-1] - 1  # ' Number of 'left' even numbers '\n",
    "            # ' Number of 'right' even numbers '\n",
    "            right = odds[i+k] - odds[i+k-1] - 1\n",
    "            # ' Total sub-arrays in current window '\n",
    "            nice += (left+1)*(right+1)\n",
    "\n",
    "        return nice"
   ]
  },
  {
   "cell_type": "code",
   "execution_count": 55,
   "metadata": {
    "ExecuteTime": {
     "end_time": "2020-04-20T20:37:03.920348Z",
     "start_time": "2020-04-20T20:37:03.913798Z"
    }
   },
   "outputs": [
    {
     "data": {
      "text/plain": [
       "2"
      ]
     },
     "execution_count": 55,
     "metadata": {},
     "output_type": "execute_result"
    }
   ],
   "source": [
    "a = Solution()\n",
    "nums =  [1,1,2,1,1]\n",
    "k = 3\n",
    "a.numberOfSubarrays(nums, k)"
   ]
  }
 ],
 "metadata": {
  "kernelspec": {
   "display_name": "Python 3",
   "language": "python",
   "name": "python3"
  },
  "language_info": {
   "codemirror_mode": {
    "name": "ipython",
    "version": 3
   },
   "file_extension": ".py",
   "mimetype": "text/x-python",
   "name": "python",
   "nbconvert_exporter": "python",
   "pygments_lexer": "ipython3",
   "version": "3.6.5"
  },
  "varInspector": {
   "cols": {
    "lenName": 16,
    "lenType": 16,
    "lenVar": 40
   },
   "kernels_config": {
    "python": {
     "delete_cmd_postfix": "",
     "delete_cmd_prefix": "del ",
     "library": "var_list.py",
     "varRefreshCmd": "print(var_dic_list())"
    },
    "r": {
     "delete_cmd_postfix": ") ",
     "delete_cmd_prefix": "rm(",
     "library": "var_list.r",
     "varRefreshCmd": "cat(var_dic_list()) "
    }
   },
   "types_to_exclude": [
    "module",
    "function",
    "builtin_function_or_method",
    "instance",
    "_Feature"
   ],
   "window_display": false
  }
 },
 "nbformat": 4,
 "nbformat_minor": 2
}
