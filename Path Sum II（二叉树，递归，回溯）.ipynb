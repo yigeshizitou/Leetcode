{
 "cells": [
  {
   "cell_type": "markdown",
   "metadata": {},
   "source": [
    "https://leetcode.com/problems/path-sum-ii/description/\n",
    "\n",
    "https://github.com/azl397985856/leetcode/blob/master/problems/113.path-sum-ii.md\n",
    "\n",
    "Given a binary tree and a sum, find all root-to-leaf paths where each path's sum equals the given sum.\n",
    "\n",
    "Note: A leaf is a node with no children.\n",
    "\n",
    "Example:\n",
    "\n",
    "Given the below binary tree and sum = 22,\n",
    "\n",
    "      5\n",
    "     / \\\n",
    "    4   8\n",
    "   /   / \\\n",
    "  11  13  4\n",
    " /  \\    / \\\n",
    "7    2  5   1\n",
    "Return:\n",
    "\n",
    "[\n",
    "   [5,4,11,2],\n",
    "   [5,8,4,5]\n",
    "]"
   ]
  },
  {
   "cell_type": "markdown",
   "metadata": {},
   "source": [
    "### Solution 1 回溯\n",
    "\n",
    ">self.ans 记录答案<br>\n",
    " dfs(root, path, reminder) <br>\n",
    "当 reminder == root.val 且 root 是 leaf 时记录答案<br>\n",
    "\n",
    "Runtime: **28 ms**, faster than 95.42% of Python online submissions for Path Sum III.<br>\n",
    "Memory Usage: **18.4 MB**, less than 14.29% of Python online submissions for Path Sum III."
   ]
  },
  {
   "cell_type": "code",
   "execution_count": 1,
   "metadata": {
    "ExecuteTime": {
     "end_time": "2019-10-30T11:05:53.488273Z",
     "start_time": "2019-10-30T11:05:53.484276Z"
    }
   },
   "outputs": [],
   "source": [
    "class Solution(object):\n",
    "    def pathSum(self, root, sum):\n",
    "        \"\"\"\n",
    "        :type root: TreeNode\n",
    "        :type sum: int\n",
    "        :rtype: List[List[int]]\n",
    "        author: Chong\n",
    "        \"\"\"\n",
    "        self.ans = []\n",
    "        def dfs(root, path, reminder):\n",
    "            if root and not root.left and not root.right and reminder == root.val:\n",
    "                self.ans.append(path+[root.val])\n",
    "            if root and root.left:\n",
    "                dfs(root.left, path+[root.val], reminder-root.val)\n",
    "            if root and root.right:\n",
    "                dfs(root.right, path+[root.val], reminder-root.val)\n",
    "        dfs(root, [], sum)\n",
    "        return self.ans"
   ]
  },
  {
   "cell_type": "markdown",
   "metadata": {},
   "source": [
    "### Solution 2 回溯\n",
    "\n",
    ">改进，不使用 self.ans 记录答案\n",
    "\n",
    "Runtime: **28 ms**, faster than 95.42% of Python online submissions for Path Sum III.<br>\n",
    "Memory Usage: **18.1 MB**, less than 50.00% of Python online submissions for Path Sum III."
   ]
  },
  {
   "cell_type": "code",
   "execution_count": 2,
   "metadata": {
    "ExecuteTime": {
     "end_time": "2019-10-30T11:13:09.028984Z",
     "start_time": "2019-10-30T11:13:09.024031Z"
    }
   },
   "outputs": [],
   "source": [
    "class Solution(object):\n",
    "    def pathSum(self, root, sum):\n",
    "        if not root:\n",
    "            return []\n",
    "        res = []\n",
    "        self.dfs(root, sum, [], res)\n",
    "        return res\n",
    "\n",
    "    def dfs(self, root, sum, ls, res):\n",
    "        if not root.left and not root.right and sum == root.val:\n",
    "            ls.append(root.val)\n",
    "            res.append(ls)\n",
    "        if root.left:\n",
    "            self.dfs(root.left, sum-root.val, ls+[root.val], res)\n",
    "        if root.right:\n",
    "            self.dfs(root.right, sum-root.val, ls+[root.val], res)"
   ]
  },
  {
   "cell_type": "markdown",
   "metadata": {},
   "source": [
    "### Solution 3 递归\n",
    "\n",
    "> 对 node.left 和 node.right 执行 pathSum \n",
    "\n",
    "Runtime: **40 ms**, faster than 40.41% of Python online submissions for Path Sum III.<br>\n",
    "Memory Usage: **14.3 MB**, less than 71.43% of Python online submissions for Path Sum III."
   ]
  },
  {
   "cell_type": "code",
   "execution_count": 3,
   "metadata": {
    "ExecuteTime": {
     "end_time": "2019-10-30T11:13:52.494578Z",
     "start_time": "2019-10-30T11:13:52.489588Z"
    }
   },
   "outputs": [],
   "source": [
    "class Solution(object):\n",
    "    def pathSum(self, root, sum):\n",
    "        if not root:\n",
    "            return []\n",
    "        if not root.left and not root.right and sum == root.val:\n",
    "            return [[root.val]]\n",
    "        tmp = self.pathSum(root.left, sum-root.val) + self.pathSum(root.right, sum-root.val)\n",
    "        return [[root.val]+i for i in tmp]            "
   ]
  },
  {
   "cell_type": "code",
   "execution_count": null,
   "metadata": {},
   "outputs": [],
   "source": []
  }
 ],
 "metadata": {
  "kernelspec": {
   "display_name": "Python 3",
   "language": "python",
   "name": "python3"
  },
  "language_info": {
   "codemirror_mode": {
    "name": "ipython",
    "version": 3
   },
   "file_extension": ".py",
   "mimetype": "text/x-python",
   "name": "python",
   "nbconvert_exporter": "python",
   "pygments_lexer": "ipython3",
   "version": "3.6.5"
  },
  "varInspector": {
   "cols": {
    "lenName": 16,
    "lenType": 16,
    "lenVar": 40
   },
   "kernels_config": {
    "python": {
     "delete_cmd_postfix": "",
     "delete_cmd_prefix": "del ",
     "library": "var_list.py",
     "varRefreshCmd": "print(var_dic_list())"
    },
    "r": {
     "delete_cmd_postfix": ") ",
     "delete_cmd_prefix": "rm(",
     "library": "var_list.r",
     "varRefreshCmd": "cat(var_dic_list()) "
    }
   },
   "types_to_exclude": [
    "module",
    "function",
    "builtin_function_or_method",
    "instance",
    "_Feature"
   ],
   "window_display": false
  }
 },
 "nbformat": 4,
 "nbformat_minor": 2
}
