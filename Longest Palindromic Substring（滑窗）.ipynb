{
 "cells": [
  {
   "cell_type": "markdown",
   "metadata": {},
   "source": [
    "https://leetcode.com/problems/longest-palindromic-substring/\n",
    "\n",
    "https://github.com/azl397985856/leetcode/blob/master/problems/5.longest-palindromic-substring.md\n",
    "\n",
    "Given a string s, find the longest palindromic substring in s. You may assume that the maximum length of s is 1000.\n",
    "\n",
    "Example 1:\n",
    "\n",
    "Input: \"babad\"<br>\n",
    "Output: \"bab\"<br>\n",
    "Note: \"aba\" is also a valid answer.<br>\n",
    "\n",
    "Example 2:\n",
    "\n",
    "Input: \"cbbd\"<br>\n",
    "Output: \"bb\""
   ]
  },
  {
   "cell_type": "markdown",
   "metadata": {},
   "source": [
    "### Solution 1\n",
    ">双层循环\n",
    "\n",
    "Runtime: **5332 ms**, faster than 13.98% of Python online submissions for Longest Palindromic Substring.<br>\n",
    "Memory Usage: **11.7 MB**, less than 86.30% of Python online submissions for Longest Palindromic Substring."
   ]
  },
  {
   "cell_type": "code",
   "execution_count": 92,
   "metadata": {
    "ExecuteTime": {
     "end_time": "2019-09-25T13:31:48.716282Z",
     "start_time": "2019-09-25T13:31:48.713131Z"
    }
   },
   "outputs": [],
   "source": [
    "def longestPalindrome(s):\n",
    "    \"\"\"\n",
    "    author: Chong\n",
    "    \"\"\"\n",
    "    max_length = 0\n",
    "    res = \"\"\n",
    "    for i in range(len(s)):\n",
    "        if max_length < len(s)-i+1:\n",
    "            for length in range(max_length, len(s)-i+1):\n",
    "              #  print(i,length)\n",
    "                if s[i:i+length] == s[i:i+length][::-1] and length > max_length:\n",
    "                    max_length = length\n",
    "                    res = s[i:i+length]\n",
    "    return res"
   ]
  },
  {
   "cell_type": "markdown",
   "metadata": {},
   "source": [
    "### Solution 2\n",
    "> sliding window\n",
    "\n",
    "Runtime: **1008 ms**, faster than 53.46% of Python online submissions for Longest Palindromic Substring.<br>\n",
    "Memory Usage: **11.7 MB**, less than 82.19% of Python online submissions for Longest Palindromic Substring."
   ]
  },
  {
   "cell_type": "code",
   "execution_count": 132,
   "metadata": {
    "ExecuteTime": {
     "end_time": "2019-09-25T13:57:32.904902Z",
     "start_time": "2019-09-25T13:57:32.896615Z"
    }
   },
   "outputs": [],
   "source": [
    "def long(start, end, s):\n",
    "    if s[start] != s[end]:\n",
    "        return \"\"\n",
    "    while start > 0 and end < len(s)-1 and s[start-1] == s[end+1]:\n",
    "        start -= 1\n",
    "        end += 1\n",
    "    return s[start: end+1]\n",
    "\n",
    "\n",
    "def longestPalindrome(s):\n",
    "    \"\"\"\n",
    "    author: Chong\n",
    "    \"\"\"\n",
    "    res = [s[0]]\n",
    "    if len(s) > 0:\n",
    "        res.append(long(0, 1, s))\n",
    "        res = [max(res, key=len)]\n",
    "    for i in range(1, len(s)-1):\n",
    "        res.append(long(i, i, s))\n",
    "        res = [max(res, key=len)]\n",
    "        res.append(long(i, i+1, s))\n",
    "        res = [max(res, key=len)]\n",
    "    return res[0]"
   ]
  },
  {
   "cell_type": "markdown",
   "metadata": {},
   "source": [
    "### Solution 3\n",
    ">sliding windows改进\n",
    "\n",
    "Runtime: **300 ms**, faster than 90.66% of Python online submissions for Longest Palindromic Substring.<br>\n",
    "Memory Usage: **11.8 MB**, less than 76.71% of Python online submissions for Longest Palindromic Substring."
   ]
  },
  {
   "cell_type": "code",
   "execution_count": 138,
   "metadata": {
    "ExecuteTime": {
     "end_time": "2019-09-25T14:03:09.837473Z",
     "start_time": "2019-09-25T14:03:09.825576Z"
    }
   },
   "outputs": [],
   "source": [
    "class Solution(object):\n",
    "    \"\"\"\n",
    "    author: Chong\n",
    "    \"\"\"\n",
    "\n",
    "    def long(self, start, end, s):\n",
    "        if s[start] != s[end]:\n",
    "            return \"\"\n",
    "        while start > 0 and end < len(s)-1 and s[start-1] == s[end+1]:\n",
    "            start -= 1\n",
    "            end += 1\n",
    "        return s[start: end+1]\n",
    "\n",
    "    def longestPalindrome(self, s):\n",
    "        if len(s) == 0 or len(s) == 1 or len(set(s)) == 1:\n",
    "            return s\n",
    "        res = [s[0]]\n",
    "        if len(s) > 1:\n",
    "            res.append(self.long(0, 1, s))\n",
    "            res = [max(res, key=len)]\n",
    "        res = [max(res, key=len)]\n",
    "        for i in range(1, len(s)-1):\n",
    "            res.append(self.long(i, i, s))\n",
    "            res = [max(res, key=len)]\n",
    "            res.append(self.long(i, i+1, s))\n",
    "            res = [max(res, key=len)]\n",
    "        return res[0]"
   ]
  },
  {
   "cell_type": "markdown",
   "metadata": {},
   "source": [
    "### Solution 3\n",
    "\n",
    "Runtime: **248 ms**, faster than 90.96% of Python online submissions for Longest Palindromic Substring.<br>\n",
    "Memory Usage: **11.8 MB**, less than 72.60% of Python online submissions for Longest Palindromic Substring."
   ]
  },
  {
   "cell_type": "code",
   "execution_count": 137,
   "metadata": {
    "ExecuteTime": {
     "end_time": "2019-09-25T14:00:05.720513Z",
     "start_time": "2019-09-25T14:00:05.710583Z"
    }
   },
   "outputs": [],
   "source": [
    "class Solution(object):\n",
    "    def long(self, start, end, s):\n",
    "        while start >= 0 and end < len(s) and s[start] == s[end]:\n",
    "            start -= 1\n",
    "            end += 1\n",
    "        return s[start+1:end]\n",
    "\n",
    "    def longestPalindrome(self, s):\n",
    "        if len(s) == 0 or len(s) == 1 or len(list(set(s))) == 1:\n",
    "            return s\n",
    "        string = ''\n",
    "        for i in range(len(s)):\n",
    "            temp = self.long(i, i, s)\n",
    "            if len(temp) > len(string):\n",
    "                string = temp\n",
    "            temp = self.long(i, i+1, s)\n",
    "            if len(temp) > len(string):\n",
    "                string = temp\n",
    "        return string"
   ]
  },
  {
   "cell_type": "code",
   "execution_count": 134,
   "metadata": {
    "ExecuteTime": {
     "end_time": "2019-09-25T13:57:38.928101Z",
     "start_time": "2019-09-25T13:57:38.920801Z"
    }
   },
   "outputs": [
    {
     "data": {
      "text/plain": [
       "'dddddddd'"
      ]
     },
     "execution_count": 134,
     "metadata": {},
     "output_type": "execute_result"
    }
   ],
   "source": [
    "s=\"dddddddd\"\n",
    "longestPalindrome(s)"
   ]
  },
  {
   "cell_type": "code",
   "execution_count": 135,
   "metadata": {
    "ExecuteTime": {
     "end_time": "2019-09-25T13:57:39.770421Z",
     "start_time": "2019-09-25T13:57:39.704804Z"
    }
   },
   "outputs": [],
   "source": [
    "s=\"fffffffffffffffffffffffffffffffffffffffffffffffffffffffffffffffffffffffffffffffffffffffffffffffffffffffffffffffffffffffffffffffffffffffffffffffffffffffffffffffffffffffffffffffffffffffffffffffffffffffffffffffffffffffffffffffffffffffffffffffffffffffffffffffffffffffffffffffffffffffffffffffffffffffffffffffffffffffffffffffffffffffffffffffffffffffffffffffffffffffffffffffffffffffffffffffffffffffffffffffffffffffffffffffffffffffffffffffffffffffffffffffffffffffffffffffffffffffffffffffffffffffffffffgggggggggggggggggggggggggggggggggggggggggggggggggggggggggggggggggggggggggggggggggggggggggggggggggggggggggggggggggggggggggggggggggggggggggggggggggggggggggggggggggggggggggggggggggggggggggggggggggggggggggggggggggggggggggggggggggggggggggggggggggggggggggggggggggggggggggggggggggggggggggggggggggggggggggggggggggggggggggggggggggggggggggggggggggggggggggggggggggggggggggggggggggggggggggggggggggggggggggggggggggggggggggggggggggggggggggggggggggggggggggggggggggggggggggggggggggggggggggggggggggggggggggggggg\""
   ]
  },
  {
   "cell_type": "code",
   "execution_count": 139,
   "metadata": {
    "ExecuteTime": {
     "end_time": "2019-09-25T14:04:30.258975Z",
     "start_time": "2019-09-25T14:04:30.098393Z"
    }
   },
   "outputs": [
    {
     "data": {
      "text/plain": [
       "'gggggggggggggggggggggggggggggggggggggggggggggggggggggggggggggggggggggggggggggggggggggggggggggggggggggggggggggggggggggggggggggggggggggggggggggggggggggggggggggggggggggggggggggggggggggggggggggggggggggggggggggggggggggggggggggggggggggggggggggggggggggggggggggggggggggggggggggggggggggggggggggggggggggggggggggggggggggggggggggggggggggggggggggggggggggggggggggggggggggggggggggggggggggggggggggggggggggggggggggggggggggggggggggggggggggggggggggggggggggggggggggggggggggggggggggggggggggggggggggggggggggggggggggg'"
      ]
     },
     "execution_count": 139,
     "metadata": {},
     "output_type": "execute_result"
    }
   ],
   "source": [
    "longestPalindrome(s)"
   ]
  }
 ],
 "metadata": {
  "kernelspec": {
   "display_name": "Python 3",
   "language": "python",
   "name": "python3"
  },
  "language_info": {
   "codemirror_mode": {
    "name": "ipython",
    "version": 3
   },
   "file_extension": ".py",
   "mimetype": "text/x-python",
   "name": "python",
   "nbconvert_exporter": "python",
   "pygments_lexer": "ipython3",
   "version": "3.6.5"
  },
  "varInspector": {
   "cols": {
    "lenName": 16,
    "lenType": 16,
    "lenVar": 40
   },
   "kernels_config": {
    "python": {
     "delete_cmd_postfix": "",
     "delete_cmd_prefix": "del ",
     "library": "var_list.py",
     "varRefreshCmd": "print(var_dic_list())"
    },
    "r": {
     "delete_cmd_postfix": ") ",
     "delete_cmd_prefix": "rm(",
     "library": "var_list.r",
     "varRefreshCmd": "cat(var_dic_list()) "
    }
   },
   "types_to_exclude": [
    "module",
    "function",
    "builtin_function_or_method",
    "instance",
    "_Feature"
   ],
   "window_display": false
  }
 },
 "nbformat": 4,
 "nbformat_minor": 2
}
