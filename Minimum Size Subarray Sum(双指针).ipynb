{
 "cells": [
  {
   "cell_type": "markdown",
   "metadata": {},
   "source": [
    "https://leetcode.com/problems/minimum-size-subarray-sum/\n",
    "\n",
    "https://github.com/azl397985856/leetcode/blob/master/problems/209.minimum-size-subarray-sum.md\n",
    "\n",
    "Given an array of n positive integers and a positive integer s, find the minimal length of a contiguous subarray of which the sum ≥ s. If there isn't one, return 0 instead.\n",
    "\n",
    "Example: \n",
    "\n",
    "Input: s = 7, nums = [2,3,1,2,4,3]<br>\n",
    "Output: 2<br>\n",
    "Explanation: the subarray [4,3] has the minimal length under the problem constraint.<br>\n",
    "Follow up:<br>\n",
    "If you have figured out the O(n) solution, try coding another solution of which the time complexity is O(n log n). "
   ]
  },
  {
   "cell_type": "markdown",
   "metadata": {},
   "source": [
    "### Solution 1 双指针\n",
    ">先找到最先出现的长度记为length<br>\n",
    "每次 length-1, 从左到右搜寻是否有符合长度的 subarray\n",
    "\n",
    "Runtime: **2016 ms**, faster than 5.28% of Python online submissions for Minimum Size Subarray Sum.<br>\n",
    "Memory Usage: **14 MB**, less than 10.53% of Python online submissions for Minimum Size Subarray Sum."
   ]
  },
  {
   "cell_type": "code",
   "execution_count": 1,
   "metadata": {
    "ExecuteTime": {
     "end_time": "2019-12-07T21:26:50.456530Z",
     "start_time": "2019-12-07T21:26:50.449078Z"
    }
   },
   "outputs": [],
   "source": [
    "class Solution(object):\n",
    "    def minSubArrayLen(self, s, nums):\n",
    "        \"\"\"\n",
    "        :type s: int\n",
    "        :type nums: List[int]\n",
    "        :rtype: int\n",
    "        author: Chong\n",
    "        \"\"\"\n",
    "        left, right = 0, 0\n",
    "        length = float('inf')\n",
    "\n",
    "        while right < len(nums) and sum(nums[left:right+1]) < s:\n",
    "            right += 1\n",
    "        length = right-left+1\n",
    "\n",
    "        while length >= 1 and right < len(nums):\n",
    "            right = left+length-2\n",
    "            if sum(nums[left:right+1]) >= s:\n",
    "                length -= 1\n",
    "            else:\n",
    "                left += 1\n",
    "        return length if sum(nums) >= s else 0"
   ]
  },
  {
   "cell_type": "markdown",
   "metadata": {},
   "source": [
    "### solution 2 双指针\n",
    "\n",
    "> 右指针 j 从左往右移动<br>\n",
    "当 $sum(nums[i:j+1])>=s $ 时，将左指针 i 右移至极限<br>\n",
    "$r = min(r, j-i+1)$\n",
    "\n",
    "Runtime: **56 ms**, faster than 84.21% of Python online submissions for Minimum Size Subarray Sum.<br>\n",
    "Memory Usage: **14.1 MB**, less than 5.26% of Python online submissions for Minimum Size Subarray Sum."
   ]
  },
  {
   "cell_type": "code",
   "execution_count": 3,
   "metadata": {
    "ExecuteTime": {
     "end_time": "2019-12-07T21:37:38.433270Z",
     "start_time": "2019-12-07T21:37:38.428233Z"
    }
   },
   "outputs": [],
   "source": [
    "class Solution(object):\n",
    "    def minSubArrayLen(self, s, nums):\n",
    "        i, a, r = 0, 0, float('inf')\n",
    "        for j in range(len(nums)):\n",
    "            a += nums[j]\n",
    "            while a >= s:\n",
    "                i, a, r = i+1, a-nums[i], min(r, j - i + 1)\n",
    "        return 0 if r == float('inf') else r"
   ]
  },
  {
   "cell_type": "markdown",
   "metadata": {},
   "source": [
    "\n",
    "Runtime: **52 ms**, faster than 96.30% of Python online submissions for Minimum Size Subarray Sum.<br>\n",
    "Memory Usage: **13.9 MB**, less than 47.37% of Python online submissions for Minimum Size Subarray Sum."
   ]
  },
  {
   "cell_type": "code",
   "execution_count": null,
   "metadata": {},
   "outputs": [],
   "source": [
    "class Solution(object):\n",
    "    def minSubArrayLen(self, s, nums):\n",
    "        \n",
    "        if not nums: return 0\n",
    "        \n",
    "        l = 9999999\n",
    "        sum = 0\n",
    "        step = False\n",
    "        ini = 0\n",
    "        for i in range(0, len(nums)):  \n",
    "            sum += nums[i]    \n",
    "            while sum >= s and ini <= i:\n",
    "                l = min(l, i - ini + 1)\n",
    "                if l == 1: return 1\n",
    "                sum -= nums[ini]\n",
    "                ini += 1\n",
    "                step = True\n",
    "                \n",
    "            if step:\n",
    "                sum -= nums[ini]\n",
    "                ini += 1\n",
    "            \n",
    "        return l if l != 9999999 else 0"
   ]
  },
  {
   "cell_type": "code",
   "execution_count": 4,
   "metadata": {
    "ExecuteTime": {
     "end_time": "2019-12-07T21:37:38.813654Z",
     "start_time": "2019-12-07T21:37:38.807687Z"
    }
   },
   "outputs": [
    {
     "data": {
      "text/plain": [
       "0"
      ]
     },
     "execution_count": 4,
     "metadata": {},
     "output_type": "execute_result"
    }
   ],
   "source": [
    "s = 88\n",
    "nums = [2,3,1,2,4,3]\n",
    "a = Solution()\n",
    "a.minSubArrayLen(s, nums)"
   ]
  },
  {
   "cell_type": "code",
   "execution_count": null,
   "metadata": {},
   "outputs": [],
   "source": []
  }
 ],
 "metadata": {
  "kernelspec": {
   "display_name": "Python 3",
   "language": "python",
   "name": "python3"
  },
  "language_info": {
   "codemirror_mode": {
    "name": "ipython",
    "version": 3
   },
   "file_extension": ".py",
   "mimetype": "text/x-python",
   "name": "python",
   "nbconvert_exporter": "python",
   "pygments_lexer": "ipython3",
   "version": "3.6.5"
  },
  "varInspector": {
   "cols": {
    "lenName": 16,
    "lenType": 16,
    "lenVar": 40
   },
   "kernels_config": {
    "python": {
     "delete_cmd_postfix": "",
     "delete_cmd_prefix": "del ",
     "library": "var_list.py",
     "varRefreshCmd": "print(var_dic_list())"
    },
    "r": {
     "delete_cmd_postfix": ") ",
     "delete_cmd_prefix": "rm(",
     "library": "var_list.r",
     "varRefreshCmd": "cat(var_dic_list()) "
    }
   },
   "types_to_exclude": [
    "module",
    "function",
    "builtin_function_or_method",
    "instance",
    "_Feature"
   ],
   "window_display": false
  }
 },
 "nbformat": 4,
 "nbformat_minor": 2
}
