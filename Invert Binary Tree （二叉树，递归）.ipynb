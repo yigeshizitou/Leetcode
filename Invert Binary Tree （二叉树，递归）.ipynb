{
 "cells": [
  {
   "cell_type": "markdown",
   "metadata": {},
   "source": [
    "https://leetcode.com/problems/invert-binary-tree/\n",
    "\n",
    "https://github.com/azl397985856/leetcode/blob/master/problems/226.invert-binary-tree.md\n",
    "\n",
    "Invert a binary tree.\n",
    "\n",
    "Example:\n",
    "\n",
    "Input:\n",
    "\n",
    "    4\n",
    "   /  \\\n",
    "  2     7\n",
    " / \\   / \\\n",
    "1   3 6   9\n",
    "Output:\n",
    "\n",
    "     4\n",
    "   /   \\\n",
    "  7     2\n",
    " / \\   / \\\n",
    "9   6 3   1"
   ]
  },
  {
   "cell_type": "markdown",
   "metadata": {},
   "source": [
    "### Solution 1 \n",
    ">递归\n",
    "\n",
    "Runtime: **12 ms**, faster than 93.08% of Python online submissions for Invert Binary Tree.<br>\n",
    "Memory Usage: **11.9 MB**, less than 25.00% of Python online submissions for Invert Binary Tree."
   ]
  },
  {
   "cell_type": "code",
   "execution_count": 1,
   "metadata": {
    "ExecuteTime": {
     "end_time": "2019-09-19T21:12:29.693550Z",
     "start_time": "2019-09-19T21:12:29.689596Z"
    }
   },
   "outputs": [],
   "source": [
    "def invertTree(self, roof):\n",
    "    if roof:\n",
    "        roof.left, roof.right = roof.right, roof.left\n",
    "        self.invertTree(roof.left)\n",
    "        self.invertTree(roof.right)\n",
    "    return roof"
   ]
  }
 ],
 "metadata": {
  "kernelspec": {
   "display_name": "Python 3",
   "language": "python",
   "name": "python3"
  },
  "language_info": {
   "codemirror_mode": {
    "name": "ipython",
    "version": 3
   },
   "file_extension": ".py",
   "mimetype": "text/x-python",
   "name": "python",
   "nbconvert_exporter": "python",
   "pygments_lexer": "ipython3",
   "version": "3.6.5"
  },
  "varInspector": {
   "cols": {
    "lenName": 16,
    "lenType": 16,
    "lenVar": 40
   },
   "kernels_config": {
    "python": {
     "delete_cmd_postfix": "",
     "delete_cmd_prefix": "del ",
     "library": "var_list.py",
     "varRefreshCmd": "print(var_dic_list())"
    },
    "r": {
     "delete_cmd_postfix": ") ",
     "delete_cmd_prefix": "rm(",
     "library": "var_list.r",
     "varRefreshCmd": "cat(var_dic_list()) "
    }
   },
   "types_to_exclude": [
    "module",
    "function",
    "builtin_function_or_method",
    "instance",
    "_Feature"
   ],
   "window_display": false
  }
 },
 "nbformat": 4,
 "nbformat_minor": 2
}
