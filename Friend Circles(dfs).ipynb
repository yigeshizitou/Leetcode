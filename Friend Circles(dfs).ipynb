{
 "cells": [
  {
   "cell_type": "markdown",
   "metadata": {},
   "source": [
    "https://leetcode.com/problems/friend-circles/\n",
    "\n",
    "There are N students in a class. Some of them are friends, while some are not. Their friendship is transitive in nature. For example, if A is a direct friend of B, and B is a direct friend of C, then A is an indirect friend of C. And we defined a friend circle is a group of students who are direct or indirect friends.\n",
    "\n",
    "Given a N*N matrix M representing the friend relationship between students in the class. If M[i][j] = 1, then the ith and jth students are direct friends with each other, otherwise not. And you have to output the total number of friend circles among all the students.\n",
    "\n",
    "Example 1:<br>\n",
    "Input: <br>\n",
    "[[1,1,0],<br>\n",
    " [1,1,0],<br>\n",
    " [0,0,1]]<br>\n",
    "Output: 2<br>\n",
    "Explanation:The 0th and 1st students are direct friends, so they are in a friend circle. <br>\n",
    "The 2nd student himself is in a friend circle. So return 2.<br>\n",
    "Example 2:<br>\n",
    "Input: <br>\n",
    "[[1,1,0],<br>\n",
    " [1,1,1],<br>\n",
    " [0,1,1]]<br>\n",
    "Output: 1<br>\n",
    "Explanation:The 0th and 1st students are direct friends, the 1st and 2nd students are direct friends, <br>\n",
    "so the 0th and 2nd students are indirect friends. All of them are in the same friend circle, so return 1.<br>\n",
    "Note:<br>\n",
    "N is in range [1,200].<br>\n",
    "M[i][i] = 1 for all students.<br>\n",
    "If M[i][j] = 1, then M[j][i] = 1."
   ]
  },
  {
   "cell_type": "markdown",
   "metadata": {},
   "source": [
    "### Solution 1 \n",
    "\n",
    "> friends is a list that records all the circles. It is initialzed as [[0], [1], [2]]<br>\n",
    "each time M[i][j] == 1, we find where i is and where j is, then merge the two lists\n",
    "\n",
    "Runtime: **212 ms**, faster than 34.64% of Python online submissions for Friend Circles.<br>\n",
    "Memory Usage: **12 MB**, less than 77.78% of Python online submissions for Friend Circles."
   ]
  },
  {
   "cell_type": "code",
   "execution_count": 1,
   "metadata": {},
   "outputs": [],
   "source": [
    "class Solution(object):\n",
    "    def findCircleNum(self, M):\n",
    "        \"\"\"\n",
    "        :type M: List[List[int]]\n",
    "        :rtype: int\n",
    "        author: Chong\n",
    "        \"\"\"\n",
    "        friends = [[i] for i in range(len(M)) ]\n",
    "        for i in range(1, len(M)):\n",
    "            for j in range(0, i):\n",
    "                if M[i][j] == 1:\n",
    "                    for k in range(len(friends)):\n",
    "                        if i in friends[k]:\n",
    "                            loc_i = k\n",
    "                        if j in friends[k]:\n",
    "                            loc_j = k\n",
    "                    if loc_i != loc_j:\n",
    "                        friends[loc_i] += friends[loc_j]\n",
    "                        friends.pop(loc_j)\n",
    "        return len(friends)"
   ]
  },
  {
   "cell_type": "markdown",
   "metadata": {},
   "source": [
    "### Solution 2 DFS\n",
    "> The list visit is to record whether a node has been visited or not.<br>\n",
    "The function dfs(u) is used to visit all node directly and indirectly connected with u.<br>\n",
    "\n",
    "Runtime: **160 ms**, faster than 98.85% of Python online submissions for Friend Circles.<br>\n",
    "Memory Usage: **12.4 MB**, less than 22.22% of Python online submissions for Friend Circles."
   ]
  },
  {
   "cell_type": "code",
   "execution_count": 2,
   "metadata": {},
   "outputs": [],
   "source": [
    "class Solution(object):\n",
    "    def findCircleNum(self, M):\n",
    "\n",
    "        if not M:\n",
    "            return 0\n",
    "        \n",
    "        n = len(M)\n",
    "        visit = [False]*n\n",
    "        \n",
    "        def dfs(u):\n",
    "            for v in range(n):\n",
    "                if M[u][v] ==1 and visit[v] == False:\n",
    "                    visit[v] = True\n",
    "                    dfs(v)\n",
    "        \n",
    "        count = 0\n",
    "        for i in range(n):\n",
    "            if visit[i] == False:\n",
    "                count += 1\n",
    "                visit[i] = True\n",
    "                dfs(i)\n",
    "        \n",
    "        return count"
   ]
  },
  {
   "cell_type": "markdown",
   "metadata": {},
   "source": [
    "### Solution 3 \n",
    "> every tmp is a list of nodes connected directly or indirectly.<br>\n",
    "When we add a node in tmp, it should be removed from s.\n",
    "\n",
    "Runtime: **168 ms**, faster than 90.22% of Python online submissions for Friend Circles.<br>\n",
    "Memory Usage: **12.1 MB**, less than 66.67% of Python online submissions for Friend Circles."
   ]
  },
  {
   "cell_type": "code",
   "execution_count": 3,
   "metadata": {},
   "outputs": [],
   "source": [
    "class Solution(object):\n",
    "    def findCircleNum(self, M):\n",
    "        \"\"\"\n",
    "        :type M: List[List[int]]\n",
    "        :rtype: int\n",
    "        \"\"\"\n",
    "        m, tmp, s = 0, set(), set(range(len(M)))\n",
    "        while s:                \n",
    "            tmp.add(s.pop())\n",
    "            m += 1    \n",
    "            while tmp:\n",
    "                i = tmp.pop()\n",
    "                for j in list(s):\n",
    "                    if M[i][j]:\n",
    "                        tmp.add(j)\n",
    "                        s.remove(j)\n",
    "        return m"
   ]
  },
  {
   "cell_type": "code",
   "execution_count": 4,
   "metadata": {},
   "outputs": [
    {
     "data": {
      "text/plain": [
       "3"
      ]
     },
     "execution_count": 4,
     "metadata": {},
     "output_type": "execute_result"
    }
   ],
   "source": [
    "a = Solution()\n",
    "M = [[1,1,0,0,0,0,0,1,0,0,0,0,0,0,0],[1,1,0,0,0,0,0,0,0,0,0,0,0,0,0],[0,0,1,0,0,0,0,0,0,0,0,0,0,0,0],[0,0,0,1,0,1,1,0,0,0,0,0,0,0,0],[0,0,0,0,1,0,0,0,0,1,1,0,0,0,0],[0,0,0,1,0,1,0,0,0,0,1,0,0,0,0],[0,0,0,1,0,0,1,0,1,0,0,0,0,1,0],[1,0,0,0,0,0,0,1,1,0,0,0,0,0,0],[0,0,0,0,0,0,1,1,1,0,0,0,0,1,0],[0,0,0,0,1,0,0,0,0,1,0,1,0,0,1],[0,0,0,0,1,1,0,0,0,0,1,1,0,0,0],[0,0,0,0,0,0,0,0,0,1,1,1,0,0,0],[0,0,0,0,0,0,0,0,0,0,0,0,1,0,0],[0,0,0,0,0,0,1,0,1,0,0,0,0,1,0],[0,0,0,0,0,0,0,0,0,1,0,0,0,0,1]]\n",
    "a.findCircleNum(M)"
   ]
  }
 ],
 "metadata": {
  "kernelspec": {
   "display_name": "Python 3",
   "language": "python",
   "name": "python3"
  },
  "language_info": {
   "codemirror_mode": {
    "name": "ipython",
    "version": 3
   },
   "file_extension": ".py",
   "mimetype": "text/x-python",
   "name": "python",
   "nbconvert_exporter": "python",
   "pygments_lexer": "ipython3",
   "version": "3.6.5"
  }
 },
 "nbformat": 4,
 "nbformat_minor": 2
}
