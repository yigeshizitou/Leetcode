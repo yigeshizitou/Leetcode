{
 "cells": [
  {
   "cell_type": "markdown",
   "metadata": {},
   "source": [
    "https://leetcode.com/problems/greatest-sum-divisible-by-three/\n",
    "\n",
    "Given an array nums of integers, we need to find the maximum possible sum of elements of the array such that it is divisible by three.\n",
    "\n",
    " \n",
    "\n",
    "Example 1:\n",
    "\n",
    "Input: nums = [3,6,5,1,8]<br>\n",
    "Output: 18<br>\n",
    "Explanation: Pick numbers 3, 6, 1 and 8 their sum is 18 (maximum sum divisible by 3).<br>\n",
    "Example 2:\n",
    "\n",
    "Input: nums = [4]<br>\n",
    "Output: 0<br>\n",
    "Explanation: Since 4 is not divisible by 3, do not pick any number.<br>\n",
    "Example 3:\n",
    "\n",
    "Input: nums = [1,2,3,4,4]<br>\n",
    "Output: 12<br>\n",
    "Explanation: Pick numbers 1, 3, 4 and 4 their sum is 12 (maximum sum divisible by 3)."
   ]
  },
  {
   "cell_type": "markdown",
   "metadata": {},
   "source": [
    "### Solution 1 Math\n",
    "\n",
    ">我们将所有的数字加起来，我们不妨设为 total<br>\n",
    "total 除以 3，得到一个余数 mod， mod 可能值有 0，1，2.<br>\n",
    "同时我们建立两个数组，一个是余数为 1 的数组 one，一个是余数为 2 的数组 two<br>\n",
    "如果 mod 为 0，我们直接返回即可。<br>\n",
    "如果 mod 为 1，我们可以减去 one 数组中最小的一个（如果有的话），或者减去两个 two 数组中最小的（如果有的话），究竟减去谁取决谁更小。<br>\n",
    "如果 mod 为 2，我们可以减去 two 数组中最小的一个（如果有的话），或者减去两个 one 数组中最小的（如果有的话），究竟减去谁取决谁更小。\n",
    "\n",
    "Runtime: **256 ms**, faster than 71.05% of Python online submissions for Greatest Sum Divisible by Three.<br>\n",
    "Memory Usage: **15.5 MB**, less than 100.00% of Python online submissions for Greatest Sum Divisible by Three."
   ]
  },
  {
   "cell_type": "code",
   "execution_count": 77,
   "metadata": {},
   "outputs": [],
   "source": [
    "class Solution(object):\n",
    "    def maxSumDivThree(self, nums):\n",
    "        \"\"\"\n",
    "        :type nums: List[int]\n",
    "        :rtype: int\n",
    "        \"\"\"\n",
    "        one = []\n",
    "        two = []\n",
    "        total = 0\n",
    "\n",
    "        for num in nums:\n",
    "            total += num\n",
    "            if num % 3 == 1:\n",
    "                one.append(num)\n",
    "            if num % 3 == 2:\n",
    "                two.append(num)\n",
    "        one.sort()\n",
    "        two.sort()\n",
    "        if total % 3 == 0:\n",
    "            return total\n",
    "        elif total % 3 == 1 and one:\n",
    "            if len(two) >= 2 and one[0] > two[0] + two[1]:\n",
    "                return total - two[0] - two[1]\n",
    "            return total - one[0]\n",
    "        elif total % 3 == 2 and two:\n",
    "            if len(one) >= 2 and two[0] > one[0] + one[1]:\n",
    "                return total - one[0] - one[1]\n",
    "            return total - two[0]\n",
    "        return 0"
   ]
  },
  {
   "cell_type": "markdown",
   "metadata": {},
   "source": [
    "### Solution 2 Math\n",
    "\n",
    "> 上面的解法使用到了排序。 我们其实观察发现，我们只是用到了 one 和 two 的最小的两个数。因此我们完全可以在线形的时间和常数的空间完成这个算法。我们只需要分别记录 one 和 two 的最小值和次小值即可，在这里，我使用了两个长度为 2 的数组来表示，第一项是最小值，第二项是次小值。\n",
    "\n",
    "Runtime: **228 ms**, faster than 86.84% of Python online submissions for Greatest Sum Divisible by Three.<br>\n",
    "Memory Usage: **16.1 MB**, less than 100.00% of Python online submissions for Greatest Sum Divisible by Three."
   ]
  },
  {
   "cell_type": "code",
   "execution_count": null,
   "metadata": {},
   "outputs": [],
   "source": [
    "class Solution(object):\n",
    "    def maxSumDivThree(self, nums):\n",
    "        \"\"\"\n",
    "        :type nums: List[int]\n",
    "        :rtype: int\n",
    "        \"\"\"\n",
    "        one = [float('inf')] * 2\n",
    "        two = [float('inf')] * 2\n",
    "        total = 0\n",
    "\n",
    "        for num in nums:\n",
    "            total += num\n",
    "            if num % 3 == 1:\n",
    "                if num < one[0]:\n",
    "                    t = one[0]\n",
    "                    one[0] = num\n",
    "                    one[1] = t\n",
    "                elif num < one[1]:\n",
    "                    one[1] = num\n",
    "            if num % 3 == 2:\n",
    "                if num < two[0]:\n",
    "                    t = two[0]\n",
    "                    two[0] = num\n",
    "                    two[1] = t\n",
    "                elif num < two[1]:\n",
    "                    two[1] = num\n",
    "        if total % 3 == 0:\n",
    "            return total\n",
    "        elif total % 3 == 1 and one:\n",
    "            if len(two) >= 2 and one[0] > two[0] + two[1]:\n",
    "                return total - two[0] - two[1]\n",
    "            return total - one[0]\n",
    "        elif total % 3 == 2 and two:\n",
    "            if len(one) >= 2 and two[0] > one[0] + one[1]:\n",
    "                return total - one[0] - one[1]\n",
    "            return total - two[0]\n",
    "        return 0"
   ]
  },
  {
   "cell_type": "code",
   "execution_count": 78,
   "metadata": {},
   "outputs": [
    {
     "name": "stdout",
     "output_type": "stream",
     "text": [
      "12\n",
      "[19, 16, 10, 7, 4] [11, 5, 2]\n"
     ]
    },
    {
     "data": {
      "text/plain": [
       "75"
      ]
     },
     "execution_count": 78,
     "metadata": {},
     "output_type": "execute_result"
    }
   ],
   "source": [
    "a = Solution()\n",
    "nums = [2,19,6,16,5,10,7,4,11,6]\n",
    "a.maxSumDivThree(nums)"
   ]
  },
  {
   "cell_type": "code",
   "execution_count": 63,
   "metadata": {},
   "outputs": [
    {
     "data": {
      "text/plain": [
       "18"
      ]
     },
     "execution_count": 63,
     "metadata": {},
     "output_type": "execute_result"
    }
   ],
   "source": [
    "sum(nums)"
   ]
  },
  {
   "cell_type": "code",
   "execution_count": 47,
   "metadata": {},
   "outputs": [
    {
     "data": {
      "text/plain": [
       "[2]"
      ]
     },
     "execution_count": 47,
     "metadata": {},
     "output_type": "execute_result"
    }
   ],
   "source": [
    "res_1[len(res_1)//3*3:]"
   ]
  },
  {
   "cell_type": "code",
   "execution_count": 80,
   "metadata": {},
   "outputs": [
    {
     "data": {
      "text/plain": [
       "72"
      ]
     },
     "execution_count": 80,
     "metadata": {},
     "output_type": "execute_result"
    }
   ],
   "source": [
    "sum([19, 16, 10, 7, 4,11, 5])"
   ]
  },
  {
   "cell_type": "code",
   "execution_count": null,
   "metadata": {},
   "outputs": [],
   "source": []
  }
 ],
 "metadata": {
  "kernelspec": {
   "display_name": "Python 3",
   "language": "python",
   "name": "python3"
  },
  "language_info": {
   "codemirror_mode": {
    "name": "ipython",
    "version": 3
   },
   "file_extension": ".py",
   "mimetype": "text/x-python",
   "name": "python",
   "nbconvert_exporter": "python",
   "pygments_lexer": "ipython3",
   "version": "3.6.5"
  }
 },
 "nbformat": 4,
 "nbformat_minor": 2
}
