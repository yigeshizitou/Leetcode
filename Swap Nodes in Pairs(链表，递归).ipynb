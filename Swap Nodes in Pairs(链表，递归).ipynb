{
 "cells": [
  {
   "cell_type": "markdown",
   "metadata": {},
   "source": [
    "https://leetcode.com/problems/swap-nodes-in-pairs/description/\n",
    "\n",
    "https://github.com/azl397985856/leetcode/blob/master/problems/24.swapNodesInPairs.md\n",
    "\n",
    "\n",
    "Given a linked list, swap every two adjacent nodes and return its head.\n",
    "\n",
    "You may not modify the values in the list's nodes, only nodes itself may be changed.\n",
    "\n",
    " \n",
    "\n",
    "Example:\n",
    "\n",
    "Given 1->2->3->4, you should return the list as 2->1->4->3."
   ]
  },
  {
   "cell_type": "markdown",
   "metadata": {},
   "source": [
    "### Solution 1\n",
    ">交换前两项，然后递归\n",
    "\n",
    "Runtime: **20 ms**, faster than 46.39% of Python online submissions for Swap Nodes in Pairs.<br>\n",
    "Memory Usage: **11.8 MB**, less than 13.64% of Python online submissions for Swap Nodes in Pairs."
   ]
  },
  {
   "cell_type": "code",
   "execution_count": 1,
   "metadata": {
    "ExecuteTime": {
     "end_time": "2019-09-27T15:25:46.021986Z",
     "start_time": "2019-09-27T15:25:46.017960Z"
    }
   },
   "outputs": [],
   "source": [
    "def swapPairs(self, head):\n",
    "    \"\"\"\n",
    "    :type head: ListNode\n",
    "    :rtype: ListNode\n",
    "    author: Chong\n",
    "    \"\"\"\n",
    "    if head and head.next:\n",
    "        curr1 = head.val\n",
    "        curr2 = head.next.val\n",
    "        s = head.next.next\n",
    "        head = ListNode(curr2)\n",
    "        head.next = ListNode(curr1)\n",
    "        head.next.next = self.swapPairs(s)\n",
    "    return head"
   ]
  },
  {
   "cell_type": "markdown",
   "metadata": {},
   "source": [
    "### Solution 2\n",
    ">递归改进\n",
    "\n",
    "Runtime: **16 ms**, faster than 78.25% of Python online submissions for Swap Nodes in Pairs.<br>\n",
    "Memory Usage: **11.9 MB**, less than 9.09% of Python online submissions for Swap Nodes in Pairs."
   ]
  },
  {
   "cell_type": "code",
   "execution_count": null,
   "metadata": {},
   "outputs": [],
   "source": [
    "def swapPairs(self, head):\n",
    "    \"\"\"\n",
    "    :type head: ListNode\n",
    "    :rtype: ListNode\n",
    "    \"\"\"\n",
    "    if not head or not head.next:\n",
    "        return head\n",
    "\n",
    "    _next = head.next\n",
    "    head.next = self.swapPairs(_next.next)\n",
    "    _next.next = head\n",
    "    return _next"
   ]
  }
 ],
 "metadata": {
  "kernelspec": {
   "display_name": "Python 3",
   "language": "python",
   "name": "python3"
  },
  "language_info": {
   "codemirror_mode": {
    "name": "ipython",
    "version": 3
   },
   "file_extension": ".py",
   "mimetype": "text/x-python",
   "name": "python",
   "nbconvert_exporter": "python",
   "pygments_lexer": "ipython3",
   "version": "3.6.5"
  },
  "varInspector": {
   "cols": {
    "lenName": 16,
    "lenType": 16,
    "lenVar": 40
   },
   "kernels_config": {
    "python": {
     "delete_cmd_postfix": "",
     "delete_cmd_prefix": "del ",
     "library": "var_list.py",
     "varRefreshCmd": "print(var_dic_list())"
    },
    "r": {
     "delete_cmd_postfix": ") ",
     "delete_cmd_prefix": "rm(",
     "library": "var_list.r",
     "varRefreshCmd": "cat(var_dic_list()) "
    }
   },
   "types_to_exclude": [
    "module",
    "function",
    "builtin_function_or_method",
    "instance",
    "_Feature"
   ],
   "window_display": false
  }
 },
 "nbformat": 4,
 "nbformat_minor": 2
}
