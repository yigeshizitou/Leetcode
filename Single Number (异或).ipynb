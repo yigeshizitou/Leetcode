{
 "cells": [
  {
   "cell_type": "markdown",
   "metadata": {},
   "source": [
    "\n",
    "https://leetcode.com/problems/single-number/description/\n",
    "\n",
    "https://github.com/azl397985856/leetcode/blob/master/problems/136.single-number.md\n",
    "\n",
    "Given a non-empty array of integers, every element appears twice except for one. Find that single one.\n",
    "\n",
    "Note:\n",
    "\n",
    "Your algorithm should have a linear runtime complexity. Could you implement it without using extra memory?\n",
    "\n",
    "**Example 1:**\n",
    "\n",
    "Input: [2,2,1]<br>\n",
    "Output: 1<br>\n",
    "\n",
    "**Example 2:**\n",
    "\n",
    "Input: [4,1,2,1,2]<br>\n",
    "Output: 4<br>"
   ]
  },
  {
   "cell_type": "markdown",
   "metadata": {},
   "source": [
    "### Solution 1\n",
    ">建立字典<br>\n",
    "if i not in dict: dict[i]=i<br>\n",
    "else: del dict[i]\n",
    "\n",
    "Runtime: **60 ms**, faster than 97.43% of Python online submissions for Single Number.<br>\n",
    "Memory Usage: **14.3 MB**, less than 8.11% of Python online submissions for Single Number."
   ]
  },
  {
   "cell_type": "code",
   "execution_count": 24,
   "metadata": {
    "ExecuteTime": {
     "end_time": "2019-09-13T08:38:05.262222Z",
     "start_time": "2019-09-13T08:38:05.258233Z"
    }
   },
   "outputs": [],
   "source": [
    "def singleNumber(nums):\n",
    "    stack = {}\n",
    "    for i in nums:\n",
    "        if i not in stack:\n",
    "            stack[i] = i\n",
    "        else:\n",
    "            del stack[i]\n",
    "    return list(stack)[0]"
   ]
  },
  {
   "cell_type": "markdown",
   "metadata": {},
   "source": [
    "### Solution 2\n",
    ">$2*sum(set(nums))-sum(nums) $\n",
    "\n",
    "Runtime: **64 ms**, faster than 90.29% of Python online submissions for Single Number.<br>\n",
    "Memory Usage: **14 MB**, less than 27.03% of Python online submissions for Single Number."
   ]
  },
  {
   "cell_type": "code",
   "execution_count": 31,
   "metadata": {
    "ExecuteTime": {
     "end_time": "2019-09-13T08:41:39.085111Z",
     "start_time": "2019-09-13T08:41:39.082119Z"
    }
   },
   "outputs": [],
   "source": [
    "def singleNumber(nums):\n",
    "    return 2*sum(set(nums))-sum(nums)"
   ]
  },
  {
   "cell_type": "markdown",
   "metadata": {},
   "source": [
    "### Solution 3 异或\n",
    ">任何数和本身异或为0<br>\n",
    "任何数和0异或为本身\n",
    "\n",
    "Runtime: **64 ms**, faster than 90.29% of Python online submissions for Single Number.<br>\n",
    "Memory Usage: **13.6 MB**, less than 52.70% of Python online submissions for Single Number."
   ]
  },
  {
   "cell_type": "code",
   "execution_count": 42,
   "metadata": {
    "ExecuteTime": {
     "end_time": "2019-09-13T08:48:04.187154Z",
     "start_time": "2019-09-13T08:48:04.184124Z"
    }
   },
   "outputs": [],
   "source": [
    "def singleNumber(nums):\n",
    "    single_num=0\n",
    "    for i in nums:\n",
    "        single_num^=i\n",
    "    return single_num"
   ]
  },
  {
   "cell_type": "markdown",
   "metadata": {},
   "source": [
    "### Solution 4 异或+reduce\n",
    "\n",
    "Runtime: **56 ms**, faster than 99.67% of Python online submissions for Single Number.<br>\n",
    "Memory Usage: **13.7 MB**, less than 45.94% of Python online submissions for Single Number."
   ]
  },
  {
   "cell_type": "code",
   "execution_count": 49,
   "metadata": {
    "ExecuteTime": {
     "end_time": "2019-09-13T08:56:32.535212Z",
     "start_time": "2019-09-13T08:56:32.531221Z"
    }
   },
   "outputs": [],
   "source": [
    "def singleNumber(nums):\n",
    "    from functools import reduce\n",
    "    return reduce(lambda x,y:x^y, nums)"
   ]
  },
  {
   "cell_type": "code",
   "execution_count": 50,
   "metadata": {
    "ExecuteTime": {
     "end_time": "2019-09-13T08:56:33.657199Z",
     "start_time": "2019-09-13T08:56:33.653210Z"
    }
   },
   "outputs": [],
   "source": [
    "nums = [4, 1, 2, 1, 2]"
   ]
  },
  {
   "cell_type": "code",
   "execution_count": 51,
   "metadata": {
    "ExecuteTime": {
     "end_time": "2019-09-13T08:56:34.140201Z",
     "start_time": "2019-09-13T08:56:34.136211Z"
    }
   },
   "outputs": [
    {
     "data": {
      "text/plain": [
       "4"
      ]
     },
     "execution_count": 51,
     "metadata": {},
     "output_type": "execute_result"
    }
   ],
   "source": [
    "singleNumber(nums)"
   ]
  }
 ],
 "metadata": {
  "kernelspec": {
   "display_name": "Python 3",
   "language": "python",
   "name": "python3"
  },
  "language_info": {
   "codemirror_mode": {
    "name": "ipython",
    "version": 3
   },
   "file_extension": ".py",
   "mimetype": "text/x-python",
   "name": "python",
   "nbconvert_exporter": "python",
   "pygments_lexer": "ipython3",
   "version": "3.6.5"
  },
  "varInspector": {
   "cols": {
    "lenName": 16,
    "lenType": 16,
    "lenVar": 40
   },
   "kernels_config": {
    "python": {
     "delete_cmd_postfix": "",
     "delete_cmd_prefix": "del ",
     "library": "var_list.py",
     "varRefreshCmd": "print(var_dic_list())"
    },
    "r": {
     "delete_cmd_postfix": ") ",
     "delete_cmd_prefix": "rm(",
     "library": "var_list.r",
     "varRefreshCmd": "cat(var_dic_list()) "
    }
   },
   "types_to_exclude": [
    "module",
    "function",
    "builtin_function_or_method",
    "instance",
    "_Feature"
   ],
   "window_display": false
  }
 },
 "nbformat": 4,
 "nbformat_minor": 2
}
