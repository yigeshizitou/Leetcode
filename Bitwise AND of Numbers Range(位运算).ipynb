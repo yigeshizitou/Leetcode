{
 "cells": [
  {
   "cell_type": "markdown",
   "metadata": {
    "ExecuteTime": {
     "end_time": "2019-12-02T15:19:47.925305Z",
     "start_time": "2019-12-02T15:19:47.910215Z"
    }
   },
   "source": [
    "https://leetcode.com/problems/bitwise-and-of-numbers-range\n",
    "\n",
    "https://github.com/azl397985856/leetcode/blob/master/problems/201.bitwise-and-of-numbers-range.md\n",
    "\n",
    "Given a range [m, n] where 0 <= m <= n <= 2147483647, return the bitwise AND of all numbers in this range, inclusive.\n",
    "\n",
    "Example 1:\n",
    "\n",
    "Input: [5,7]<br>\n",
    "Output: 4<br>\n",
    "Example 2:\n",
    "\n",
    "Input: [0,1]<br>\n",
    "Output: 0"
   ]
  },
  {
   "cell_type": "markdown",
   "metadata": {
    "ExecuteTime": {
     "end_time": "2019-12-02T14:27:58.534013Z",
     "start_time": "2019-12-02T14:27:58.529928Z"
    }
   },
   "source": [
    "### Solution 1\n",
    "> 如果 m 和 n 位数不同，返回 0<br>\n",
    "如果 m 和 n 位数相同，返回相同的部分\n",
    "\n",
    "Runtime: **28 ms**, faster than 97.89% of Python online submissions for Bitwise AND of Numbers Range.<br>\n",
    "Memory Usage: **11.9 MB**, less than 50.00% of Python online submissions for Bitwise AND of Numbers Range."
   ]
  },
  {
   "cell_type": "code",
   "execution_count": 3,
   "metadata": {
    "ExecuteTime": {
     "end_time": "2019-12-02T15:28:40.646733Z",
     "start_time": "2019-12-02T15:28:40.641733Z"
    }
   },
   "outputs": [],
   "source": [
    "class Solution(object):\n",
    "    def rangeBitwiseAnd(self, m, n):\n",
    "        \"\"\"\n",
    "        :type m: int\n",
    "        :type n: int\n",
    "        :rtype: int\n",
    "        author: Chong\n",
    "        \"\"\"\n",
    "        if m == n:\n",
    "            return m\n",
    "        if len(bin(m)) < len(bin(n)):\n",
    "            return 0\n",
    "        if m+1 == n:\n",
    "            return m & n\n",
    "        else:\n",
    "            str_m = bin(m)[2:]\n",
    "            str_n = bin(n)[2:]\n",
    "            i = 0\n",
    "            ans = 0\n",
    "            while str_m[i] == str_n[i]:\n",
    "                ans += 2**(len(str_m)-i-1) if str_m[i] == '1' else 0\n",
    "                i += 1\n",
    "            return ans"
   ]
  },
  {
   "cell_type": "code",
   "execution_count": null,
   "metadata": {},
   "outputs": [],
   "source": []
  }
 ],
 "metadata": {
  "kernelspec": {
   "display_name": "Python 3",
   "language": "python",
   "name": "python3"
  },
  "language_info": {
   "codemirror_mode": {
    "name": "ipython",
    "version": 3
   },
   "file_extension": ".py",
   "mimetype": "text/x-python",
   "name": "python",
   "nbconvert_exporter": "python",
   "pygments_lexer": "ipython3",
   "version": "3.6.5"
  },
  "varInspector": {
   "cols": {
    "lenName": 16,
    "lenType": 16,
    "lenVar": 40
   },
   "kernels_config": {
    "python": {
     "delete_cmd_postfix": "",
     "delete_cmd_prefix": "del ",
     "library": "var_list.py",
     "varRefreshCmd": "print(var_dic_list())"
    },
    "r": {
     "delete_cmd_postfix": ") ",
     "delete_cmd_prefix": "rm(",
     "library": "var_list.r",
     "varRefreshCmd": "cat(var_dic_list()) "
    }
   },
   "types_to_exclude": [
    "module",
    "function",
    "builtin_function_or_method",
    "instance",
    "_Feature"
   ],
   "window_display": false
  }
 },
 "nbformat": 4,
 "nbformat_minor": 2
}
