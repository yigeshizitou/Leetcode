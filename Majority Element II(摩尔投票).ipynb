{
 "cells": [
  {
   "cell_type": "markdown",
   "metadata": {},
   "source": [
    "https://leetcode.com/problems/majority-element-ii/\n",
    "\n",
    "Given an integer array of size n, find all elements that appear more than ⌊ n/3 ⌋ times.\n",
    "\n",
    "Note: The algorithm should run in linear time and in O(1) space.\n",
    "\n",
    "Example 1:\n",
    "\n",
    "Input: [3,2,3]<br>\n",
    "Output: [3]<br>\n",
    "Example 2:\n",
    "\n",
    "Input: [1,1,1,3,3,2,2,2]<br>\n",
    "Output: [1,2]"
   ]
  },
  {
   "cell_type": "markdown",
   "metadata": {},
   "source": [
    "### Solution 1\n",
    "> set(nums) 获得 nums 里不重复的元素<br>\n",
    "统计每个元素出现次数\n",
    "\n",
    "Runtime: **92 ms**, faster than 98.31% of Python online submissions for Majority Element II.<br>\n",
    "Memory Usage: **12.9 MB**, less than 76.92% of Python online submissions for Majority Element II."
   ]
  },
  {
   "cell_type": "code",
   "execution_count": 1,
   "metadata": {
    "ExecuteTime": {
     "end_time": "2019-12-09T10:57:11.619353Z",
     "start_time": "2019-12-09T10:57:11.614351Z"
    }
   },
   "outputs": [],
   "source": [
    "class Solution(object):\n",
    "    def majorityElement(self, nums):\n",
    "        \"\"\"\n",
    "        :type nums: List[int]\n",
    "        :rtype: List[int]\n",
    "        author: Chong\n",
    "        \"\"\"\n",
    "        list_nums = []\n",
    "        for i in set(nums):\n",
    "            if nums.count(i) > len(nums)//3:\n",
    "                list_nums.append(i)\n",
    "        return list_nums"
   ]
  },
  {
   "cell_type": "markdown",
   "metadata": {},
   "source": [
    "### Solution 2 摩尔投票算法\n",
    "> 首先请考虑最基本的摩尔投票问题，找出一组数字序列中出现次数大于总数1/2的数字（并且假设这个数字一定存在）。显然这个数字只可能有一个。摩尔投票算法是基于这个事实：每次从序列里选择两个不相同的数字删除掉（或称为“抵消”），最后剩下一个数字或几个相同的数字，就是出现次数大于总数一半的那个。<br>\n",
    "这里设置两个 counter 选出出现频率最高的两个数字<br>\n",
    "最后验证出现频率是否大于 n/3\n",
    "\n",
    "\n",
    "Runtime: **100 ms**, faster than 79.82% of Python online submissions for Majority Element II.<br>\n",
    "Memory Usage: **13 MB**, less than 23.08% of Python online submissions for Majority Element II."
   ]
  },
  {
   "cell_type": "code",
   "execution_count": 2,
   "metadata": {
    "ExecuteTime": {
     "end_time": "2019-12-09T10:57:11.630354Z",
     "start_time": "2019-12-09T10:57:11.621368Z"
    }
   },
   "outputs": [],
   "source": [
    "class Solution(object):\n",
    "    def majorityElement(self, nums):\n",
    "        \"\"\"\n",
    "        :type nums: List[int]\n",
    "        :rtype: List[int]\n",
    "        \"\"\"\n",
    "        # there can only be at most 2 majority elements in an array\n",
    "        # find those two elements, if exist\n",
    "        num1, num2 = 0, 0\n",
    "        c1, c2 = 0, 0\n",
    "        r = []\n",
    "        for i in nums:\n",
    "            if i == num1:\n",
    "                c1 += 1\n",
    "            elif i == num2:\n",
    "                c2 += 1\n",
    "            elif c1 == 0:\n",
    "                num1 = i\n",
    "                c1 = 1\n",
    "            elif c2 == 0:\n",
    "                num2 = i\n",
    "                c2 = 1\n",
    "            else:\n",
    "                c1 -= 1\n",
    "                c2 -= 1\n",
    "        # verify if the elements found are the majority numbers\n",
    "\n",
    "        c1 = 0\n",
    "        c2 = 0\n",
    "        for j in nums:\n",
    "            if j == num1:\n",
    "                c1 += 1\n",
    "            elif j == num2:\n",
    "                c2 += 1\n",
    "        l = len(nums)\n",
    "        if c1 > l/3:\n",
    "            r.append(num1)\n",
    "        if c2 > l/3:\n",
    "            r.append(num2)\n",
    "        return r"
   ]
  },
  {
   "cell_type": "code",
   "execution_count": 3,
   "metadata": {
    "ExecuteTime": {
     "end_time": "2019-12-09T10:57:11.650353Z",
     "start_time": "2019-12-09T10:57:11.632352Z"
    }
   },
   "outputs": [
    {
     "data": {
      "text/plain": [
       "[2]"
      ]
     },
     "execution_count": 3,
     "metadata": {},
     "output_type": "execute_result"
    }
   ],
   "source": [
    "nums=[3,3,2,3,2,2,2,2,2,1,1,1]\n",
    "a=Solution()\n",
    "a.majorityElement(nums)"
   ]
  }
 ],
 "metadata": {
  "kernelspec": {
   "display_name": "Python 3",
   "language": "python",
   "name": "python3"
  },
  "language_info": {
   "codemirror_mode": {
    "name": "ipython",
    "version": 3
   },
   "file_extension": ".py",
   "mimetype": "text/x-python",
   "name": "python",
   "nbconvert_exporter": "python",
   "pygments_lexer": "ipython3",
   "version": "3.6.5"
  },
  "varInspector": {
   "cols": {
    "lenName": 16,
    "lenType": 16,
    "lenVar": 40
   },
   "kernels_config": {
    "python": {
     "delete_cmd_postfix": "",
     "delete_cmd_prefix": "del ",
     "library": "var_list.py",
     "varRefreshCmd": "print(var_dic_list())"
    },
    "r": {
     "delete_cmd_postfix": ") ",
     "delete_cmd_prefix": "rm(",
     "library": "var_list.r",
     "varRefreshCmd": "cat(var_dic_list()) "
    }
   },
   "types_to_exclude": [
    "module",
    "function",
    "builtin_function_or_method",
    "instance",
    "_Feature"
   ],
   "window_display": false
  }
 },
 "nbformat": 4,
 "nbformat_minor": 2
}
