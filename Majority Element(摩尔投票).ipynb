{
 "cells": [
  {
   "cell_type": "markdown",
   "metadata": {},
   "source": [
    "https://leetcode.com/problems/majority-element/\n",
    "\n",
    "https://github.com/azl397985856/leetcode/blob/master/problems/169.majority-element.md#%E6%80%9D%E8%B7%AF\n",
    "\n",
    "Given an array of size n, find the majority element. The majority element is the element that appears **more than** ⌊ n/2 ⌋ times.\n",
    "\n",
    "You may assume that the array is non-empty and the majority element always exist in the array.\n",
    "\n",
    "**Example 1:**\n",
    "\n",
    "Input: [3,2,3]<br>\n",
    "Output: 3\n",
    "\n",
    "**Example 2:**\n",
    "\n",
    "Input: [2,2,1,1,1,2,2]<br>\n",
    "Output: 2"
   ]
  },
  {
   "cell_type": "markdown",
   "metadata": {},
   "source": [
    "### Solution 1\n",
    ">字典\n",
    "\n",
    "Runtime: **152 ms**, faster than 61.66% of Python online submissions for Majority Element.<br>\n",
    "Memory Usage: **13.4 MB**, less than 48.78% of Python online submissions for Majority Element."
   ]
  },
  {
   "cell_type": "code",
   "execution_count": 1,
   "metadata": {
    "ExecuteTime": {
     "end_time": "2019-12-09T10:26:29.835334Z",
     "start_time": "2019-12-09T10:26:29.829323Z"
    }
   },
   "outputs": [],
   "source": [
    "def majorityElement(nums):\n",
    "    dict_nums = {}\n",
    "    for i in nums:\n",
    "        if i in dict_nums:\n",
    "            dict_nums[i] += 1\n",
    "        else:\n",
    "            dict_nums[i] = 1\n",
    "    return max(dict_nums, key=dict_nums.get)"
   ]
  },
  {
   "cell_type": "markdown",
   "metadata": {},
   "source": [
    "### Solution 2 摩尔投票算法\n",
    ">消去不同的数字直到没有不同数字\n",
    "\n",
    "Runtime: **144 ms**, faster than 88.94% of Python online submissions for Majority Element.<br>\n",
    "Memory Usage: **13.2 MB**, less than 92.68% of Python online submissions for Majority Element."
   ]
  },
  {
   "cell_type": "code",
   "execution_count": 2,
   "metadata": {
    "ExecuteTime": {
     "end_time": "2019-12-09T10:26:29.848351Z",
     "start_time": "2019-12-09T10:26:29.838854Z"
    }
   },
   "outputs": [],
   "source": [
    "def majorityElement(nums):\n",
    "    majority, count = nums[0], 1\n",
    "    for i in nums[1:]:\n",
    "        if count == 0:\n",
    "            majority = i\n",
    "        if i == majority:\n",
    "            count += 1\n",
    "        else:\n",
    "            count -= 1\n",
    "    return majority"
   ]
  },
  {
   "cell_type": "markdown",
   "metadata": {},
   "source": [
    "### Solution 3\n",
    ">排序\n",
    "\n",
    "Runtime: **140 ms**, faster than 95.60% of Python online submissions for Majority Element.<br>\n",
    "Memory Usage: **13.3 MB**, less than 75.61% of Python online submissions for Majority Element."
   ]
  },
  {
   "cell_type": "code",
   "execution_count": 3,
   "metadata": {
    "ExecuteTime": {
     "end_time": "2019-12-09T10:26:29.855348Z",
     "start_time": "2019-12-09T10:26:29.850348Z"
    }
   },
   "outputs": [],
   "source": [
    "def majorityElement(nums):\n",
    "    return sorted(nums)[len(nums)//2]"
   ]
  },
  {
   "cell_type": "code",
   "execution_count": 4,
   "metadata": {
    "ExecuteTime": {
     "end_time": "2019-12-09T10:26:29.867387Z",
     "start_time": "2019-12-09T10:26:29.856352Z"
    }
   },
   "outputs": [
    {
     "data": {
      "text/plain": [
       "3"
      ]
     },
     "execution_count": 4,
     "metadata": {},
     "output_type": "execute_result"
    }
   ],
   "source": [
    "nums=[3,2,3]\n",
    "majorityElement(nums)"
   ]
  },
  {
   "cell_type": "code",
   "execution_count": null,
   "metadata": {},
   "outputs": [],
   "source": []
  }
 ],
 "metadata": {
  "kernelspec": {
   "display_name": "Python 3",
   "language": "python",
   "name": "python3"
  },
  "language_info": {
   "codemirror_mode": {
    "name": "ipython",
    "version": 3
   },
   "file_extension": ".py",
   "mimetype": "text/x-python",
   "name": "python",
   "nbconvert_exporter": "python",
   "pygments_lexer": "ipython3",
   "version": "3.6.5"
  },
  "varInspector": {
   "cols": {
    "lenName": 16,
    "lenType": 16,
    "lenVar": 40
   },
   "kernels_config": {
    "python": {
     "delete_cmd_postfix": "",
     "delete_cmd_prefix": "del ",
     "library": "var_list.py",
     "varRefreshCmd": "print(var_dic_list())"
    },
    "r": {
     "delete_cmd_postfix": ") ",
     "delete_cmd_prefix": "rm(",
     "library": "var_list.r",
     "varRefreshCmd": "cat(var_dic_list()) "
    }
   },
   "types_to_exclude": [
    "module",
    "function",
    "builtin_function_or_method",
    "instance",
    "_Feature"
   ],
   "window_display": false
  }
 },
 "nbformat": 4,
 "nbformat_minor": 2
}
