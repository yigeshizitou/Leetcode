{
 "cells": [
  {
   "cell_type": "markdown",
   "metadata": {},
   "source": [
    "https://leetcode.com/problems/surrounded-regions/\n",
    "\n",
    "https://github.com/azl397985856/leetcode/blob/master/problems/130.surrounded-regions.md\n",
    "\n",
    "Given a 2D board containing 'X' and 'O' (the letter O), capture all regions surrounded by 'X'.\n",
    "\n",
    "A region is captured by flipping all 'O's into 'X's in that surrounded region.\n",
    "\n",
    "Example:\n",
    "\n",
    "X X X X<br>\n",
    "X O O X<br>\n",
    "X X O X<br>\n",
    "X O X X<br>\n",
    "After running your function, the board should be:<br>\n",
    "\n",
    "X X X X<br>\n",
    "X X X X<br>\n",
    "X X X X<br>\n",
    "X O X X<br>\n",
    "Explanation:\n",
    "\n",
    "Surrounded regions shouldn’t be on the border, which means that any 'O' on the border of the board are not flipped to 'X'. Any 'O' that is not on the border and it is not connected to an 'O' on the border will be flipped to 'X'. Two cells are connected if they are adjacent cells connected horizontally or vertically."
   ]
  },
  {
   "cell_type": "markdown",
   "metadata": {},
   "source": [
    "### Solution 1 bfs+队列\n",
    "> queue 记录边上所有 'O' 的位置<br>\n",
    "queue 加入边上的 'O' 周围的 'O' 的位置<br>\n",
    "把 queue 里的点标记为 'A' <br>\n",
    "把 'A' 改成 'X'\n",
    "\n",
    "![avatar](https://github.com/azl397985856/leetcode/raw/master/assets/problems/130.surrounded-regions-2.jpg)\n",
    "\n",
    "Runtime: **140 ms**, faster than 40.41% of Python online submissions for Surrounded Regions.\n",
    "Memory Usage: **16.7 MB**, less than 85.71% of Python online submissions for Surrounded Regions."
   ]
  },
  {
   "cell_type": "code",
   "execution_count": 39,
   "metadata": {
    "ExecuteTime": {
     "end_time": "2019-10-31T10:05:46.790112Z",
     "start_time": "2019-10-31T10:05:46.786117Z"
    }
   },
   "outputs": [],
   "source": [
    "import collections"
   ]
  },
  {
   "cell_type": "code",
   "execution_count": 58,
   "metadata": {
    "ExecuteTime": {
     "end_time": "2019-10-31T10:11:40.745213Z",
     "start_time": "2019-10-31T10:11:40.736245Z"
    }
   },
   "outputs": [],
   "source": [
    "class Solution(object):\n",
    "    def solve(self, board):\n",
    "\n",
    "        queue = collections.deque([])\n",
    "        for r in range(len(board)):\n",
    "            for c in range(len(board[0])):\n",
    "                if (r in [0, len(board)-1] or c in [0, len(board[0])-1]) and board[r][c] == \"O\":\n",
    "                    queue.append((r, c))\n",
    "\n",
    "        while queue:\n",
    "            r, c = queue.popleft()\n",
    "            if 0 <= r < len(board) and 0 <= c < len(board[0]) and board[r][c] == \"O\":\n",
    "                board[r][c] = \"A\"\n",
    "                queue.append((r-1, c))\n",
    "                queue.append((r+1, c))\n",
    "                queue.append((r, c-1))\n",
    "                queue.append((r, c+1))\n",
    "\n",
    "        for r in range(len(board)):\n",
    "            for c in range(len(board[0])):\n",
    "                if board[r][c] == \"O\":\n",
    "                    board[r][c] = \"X\"\n",
    "                elif board[r][c] == \"A\":\n",
    "                    board[r][c] = \"O\"\n",
    "        return board"
   ]
  },
  {
   "cell_type": "markdown",
   "metadata": {},
   "source": [
    "### Solution 2 bfs+堆栈 改进\n",
    "\n",
    "Runtime: **140 ms**, faster than 92.66% of Python online submissions for Surrounded Regions.<br>\n",
    "Memory Usage: **16.8 MB**, less than 76.19% of Python online submissions for Surrounded Regions."
   ]
  },
  {
   "cell_type": "code",
   "execution_count": 5,
   "metadata": {
    "ExecuteTime": {
     "end_time": "2019-10-31T10:39:53.115092Z",
     "start_time": "2019-10-31T10:39:53.110090Z"
    }
   },
   "outputs": [],
   "source": [
    "class Solution(object):\n",
    "    def solve(self, board):\n",
    "        if not any(board): return\n",
    "\n",
    "        m, n = len(board), len(board[0])\n",
    "        save = [ij for k in range(m+n) for ij in ((0, k), (m-1, k), (k, 0), (k, n-1))]\n",
    "        \n",
    "        while save:\n",
    "            #print(save)\n",
    "            i, j = save.pop()\n",
    "            if 0 <= i < m and 0 <= j < n and board[i][j] == 'O':\n",
    "                board[i][j] = 'S'\n",
    "                save += (i, j-1), (i, j+1), (i-1, j), (i+1, j)\n",
    "\n",
    "        #board[:] = [['XO'[c == 'S'] for c in row] for row in board]\n",
    "        for row in board:\n",
    "            for i, c in enumerate(row):\n",
    "                row[i] = 'XO'[c == 'S']"
   ]
  },
  {
   "cell_type": "code",
   "execution_count": 6,
   "metadata": {
    "ExecuteTime": {
     "end_time": "2019-10-31T10:39:53.621705Z",
     "start_time": "2019-10-31T10:39:53.613702Z"
    }
   },
   "outputs": [],
   "source": [
    "board = [[\"O\", \"O\", \"X\"], [\"X\", \"O\", \"X\"], [\"X\", \"O\", \"X\"]]\n",
    "a = Solution()\n",
    "a.solve(board)"
   ]
  },
  {
   "cell_type": "code",
   "execution_count": 7,
   "metadata": {},
   "outputs": [
    {
     "data": {
      "text/plain": [
       "[['O', 'O', 'X'], ['X', 'O', 'X'], ['X', 'O', 'X']]"
      ]
     },
     "execution_count": 7,
     "metadata": {},
     "output_type": "execute_result"
    }
   ],
   "source": [
    "board"
   ]
  },
  {
   "cell_type": "code",
   "execution_count": null,
   "metadata": {},
   "outputs": [],
   "source": []
  }
 ],
 "metadata": {
  "kernelspec": {
   "display_name": "Python 3",
   "language": "python",
   "name": "python3"
  },
  "language_info": {
   "codemirror_mode": {
    "name": "ipython",
    "version": 3
   },
   "file_extension": ".py",
   "mimetype": "text/x-python",
   "name": "python",
   "nbconvert_exporter": "python",
   "pygments_lexer": "ipython3",
   "version": "3.6.5"
  },
  "varInspector": {
   "cols": {
    "lenName": 16,
    "lenType": 16,
    "lenVar": 40
   },
   "kernels_config": {
    "python": {
     "delete_cmd_postfix": "",
     "delete_cmd_prefix": "del ",
     "library": "var_list.py",
     "varRefreshCmd": "print(var_dic_list())"
    },
    "r": {
     "delete_cmd_postfix": ") ",
     "delete_cmd_prefix": "rm(",
     "library": "var_list.r",
     "varRefreshCmd": "cat(var_dic_list()) "
    }
   },
   "types_to_exclude": [
    "module",
    "function",
    "builtin_function_or_method",
    "instance",
    "_Feature"
   ],
   "window_display": false
  }
 },
 "nbformat": 4,
 "nbformat_minor": 2
}
