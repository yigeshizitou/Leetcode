{
 "cells": [
  {
   "cell_type": "markdown",
   "metadata": {},
   "source": [
    "https://leetcode.com/problems/reverse-linked-list/\n",
    "\n",
    "https://github.com/azl397985856/leetcode/blob/master/problems/206.reverse-linked-list.md\n",
    "\n",
    "Reverse a singly linked list.\n",
    "\n",
    "**Example:**\n",
    "\n",
    "Input: 1->2->3->4->5->NULL<br>\n",
    "Output: 5->4->3->2->1->NULL"
   ]
  },
  {
   "cell_type": "markdown",
   "metadata": {},
   "source": [
    "### Solution 1\n",
    ">把prev插入cur后\n",
    "\n",
    "Runtime: **24 ms**, faster than 58.52% of Python online submissions for Reverse Linked List.<br>\n",
    "Memory Usage: **13.6 MB**, less than 54.63% of Python online submissions for Reverse Linked List."
   ]
  },
  {
   "cell_type": "code",
   "execution_count": 1,
   "metadata": {
    "ExecuteTime": {
     "end_time": "2019-09-19T07:56:03.389854Z",
     "start_time": "2019-09-19T07:56:03.382095Z"
    }
   },
   "outputs": [],
   "source": [
    "def reverseList(head):\n",
    "    prev = None\n",
    "    cur = head\n",
    "    while cur:\n",
    "        next = cur.next\n",
    "        cur.next = prev\n",
    "        prev = cur\n",
    "        cur = next\n",
    "    return prev"
   ]
  },
  {
   "cell_type": "markdown",
   "metadata": {},
   "source": [
    "### Solution 2\n",
    ">连续赋值\n",
    "\n",
    "Runtime: **16 ms**, faster than 95.72% of Python online submissions for Reverse Linked List.<br>\n",
    "Memory Usage: **13.6 MB**, less than 56.48% of Python online submissions for Reverse Linked List."
   ]
  },
  {
   "cell_type": "code",
   "execution_count": 2,
   "metadata": {
    "ExecuteTime": {
     "end_time": "2019-09-19T07:59:07.150967Z",
     "start_time": "2019-09-19T07:59:07.147046Z"
    }
   },
   "outputs": [],
   "source": [
    "def reverseList(head):\n",
    "    if not head:\n",
    "        return None\n",
    "    prev = None\n",
    "    cur = head\n",
    "    while cur:\n",
    "        cur.next, prev, cur = prev, cur, cur.next\n",
    "    return prev"
   ]
  },
  {
   "cell_type": "code",
   "execution_count": null,
   "metadata": {},
   "outputs": [],
   "source": []
  }
 ],
 "metadata": {
  "kernelspec": {
   "display_name": "Python 3",
   "language": "python",
   "name": "python3"
  },
  "language_info": {
   "codemirror_mode": {
    "name": "ipython",
    "version": 3
   },
   "file_extension": ".py",
   "mimetype": "text/x-python",
   "name": "python",
   "nbconvert_exporter": "python",
   "pygments_lexer": "ipython3",
   "version": "3.6.5"
  },
  "varInspector": {
   "cols": {
    "lenName": 16,
    "lenType": 16,
    "lenVar": 40
   },
   "kernels_config": {
    "python": {
     "delete_cmd_postfix": "",
     "delete_cmd_prefix": "del ",
     "library": "var_list.py",
     "varRefreshCmd": "print(var_dic_list())"
    },
    "r": {
     "delete_cmd_postfix": ") ",
     "delete_cmd_prefix": "rm(",
     "library": "var_list.r",
     "varRefreshCmd": "cat(var_dic_list()) "
    }
   },
   "types_to_exclude": [
    "module",
    "function",
    "builtin_function_or_method",
    "instance",
    "_Feature"
   ],
   "window_display": false
  }
 },
 "nbformat": 4,
 "nbformat_minor": 2
}
