{
 "cells": [
  {
   "cell_type": "markdown",
   "metadata": {},
   "source": [
    "https://leetcode.com/problems/koko-eating-bananas/\n",
    "\n",
    "Koko loves to eat bananas.  There are N piles of bananas, the i-th pile has piles[i] bananas.  The guards have gone and will come back in H hours.\n",
    "\n",
    "Koko can decide her bananas-per-hour eating speed of K.  Each hour, she chooses some pile of bananas, and eats K bananas from that pile.  If the pile has less than K bananas, she eats all of them instead, and won't eat any more bananas during this hour.\n",
    "\n",
    "Koko likes to eat slowly, but still wants to finish eating all the bananas before the guards come back.\n",
    "\n",
    "Return the minimum integer K such that she can eat all the bananas within H hours.\n",
    "\n",
    " \n",
    "\n",
    "Example 1:\n",
    "\n",
    "Input: piles = [3,6,7,11], H = 8<br>\n",
    "Output: 4<br>\n",
    "Example 2:\n",
    "\n",
    "Input: piles = [30,11,23,4,20], H = 5<br>\n",
    "Output: 30<br>\n",
    "Example 3:\n",
    "\n",
    "Input: piles = [30,11,23,4,20], H = 6<br>\n",
    "Output: 23"
   ]
  },
  {
   "cell_type": "markdown",
   "metadata": {},
   "source": [
    "### Solution 1 binary search\n",
    "> Using count to record how many hours koko needs to finish all bananas at the speed of K<br>\n",
    "The problem turns out to search the minimum K that minimize abs(count-H)\n",
    "\n",
    "Runtime: **420 ms**, faster than 62.27% of Python online submissions for Koko Eating Bananas.<br>\n",
    "Memory Usage: **12.7 MB**, less than 40.00% of Python online submissions for Koko Eating Bananas."
   ]
  },
  {
   "cell_type": "code",
   "execution_count": 17,
   "metadata": {},
   "outputs": [],
   "source": [
    "class Solution(object):\n",
    "    def minEatingSpeed(self, piles, H):\n",
    "        \"\"\"\n",
    "        :type piles: List[int]\n",
    "        :type H: int\n",
    "        :rtype: int\n",
    "        author: Chong\n",
    "        \"\"\"\n",
    "        if len(piles) >= H:\n",
    "            return max(piles)\n",
    "        left, K, right, old_K = 0, max(piles)//2, max(piles), 0\n",
    "        while old_K != K:\n",
    "            old_K = K    \n",
    "            count = 0\n",
    "            for pile in piles:\n",
    "                count += pile//K if pile%K == 0 else pile//K+1\n",
    "            if count - H <= 0:\n",
    "                right = K+1\n",
    "            elif count - H > 0:\n",
    "                left = K-1\n",
    "            K = (left + right) // 2\n",
    "        return K+1 if count - H > 0 else K"
   ]
  },
  {
   "cell_type": "code",
   "execution_count": 18,
   "metadata": {},
   "outputs": [
    {
     "data": {
      "text/plain": [
       "4"
      ]
     },
     "execution_count": 18,
     "metadata": {},
     "output_type": "execute_result"
    }
   ],
   "source": [
    "a = Solution()\n",
    "piles = [3,6,7,11]\n",
    "H = 8\n",
    "a.minEatingSpeed(piles, H)"
   ]
  },
  {
   "cell_type": "code",
   "execution_count": null,
   "metadata": {},
   "outputs": [],
   "source": []
  }
 ],
 "metadata": {
  "kernelspec": {
   "display_name": "Python 3",
   "language": "python",
   "name": "python3"
  },
  "language_info": {
   "codemirror_mode": {
    "name": "ipython",
    "version": 3
   },
   "file_extension": ".py",
   "mimetype": "text/x-python",
   "name": "python",
   "nbconvert_exporter": "python",
   "pygments_lexer": "ipython3",
   "version": "3.6.5"
  }
 },
 "nbformat": 4,
 "nbformat_minor": 2
}
