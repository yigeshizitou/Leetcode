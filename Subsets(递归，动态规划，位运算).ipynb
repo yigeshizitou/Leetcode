{
 "cells": [
  {
   "cell_type": "markdown",
   "metadata": {},
   "source": [
    "https://leetcode.com/problems/subsets/description/\n",
    "\n",
    "https://github.com/azl397985856/leetcode/blob/master/problems/78.subsets.md\n",
    "\n",
    "Given a set of distinct integers, nums, return all possible subsets (the power set).\n",
    "\n",
    "Note: The solution set must not contain duplicate subsets.\n",
    "\n",
    "Example:\n",
    "\n",
    "Input: nums = [1,2,3]<br>\n",
    "Output:<br>\n",
    "[<br>\n",
    "  [3],<br>\n",
    "  [1],<br>\n",
    "  [2],<br>\n",
    "  [1,2,3],<br>\n",
    "  [1,3],<br>\n",
    "  [2,3],<br>\n",
    "  [1,2],<br>\n",
    "  []<br>\n",
    "]"
   ]
  },
  {
   "cell_type": "markdown",
   "metadata": {},
   "source": [
    "### Solution 1\n",
    ">dynamic programming <br>\n",
    "dp[i] 存储长度为 i 的 subset.<br>\n",
    "for k in dp[i],for m in nums, if k[0]<m: dp[i+1].append( k + m)\n",
    "\n",
    "Runtime: **20 ms**, faster than 70.35% of Python online submissions for Subsets.<br>\n",
    "Memory Usage: **12.1 MB**, less than 10.17% of Python online submissions for Subsets."
   ]
  },
  {
   "cell_type": "code",
   "execution_count": 1,
   "metadata": {
    "ExecuteTime": {
     "end_time": "2019-10-17T10:07:31.150696Z",
     "start_time": "2019-10-17T10:07:31.145100Z"
    }
   },
   "outputs": [],
   "source": [
    "class Solution(object):\n",
    "    def subsets(self, nums):\n",
    "        \"\"\"\n",
    "        :type nums: List[int]\n",
    "        :rtype: List[List[int]]\n",
    "        author: chong\n",
    "        \"\"\"\n",
    "        dp = [[] for _ in range(len(nums))]\n",
    "        dp[1] = [[i] for i in nums]\n",
    "        for i in range(2, len(nums)):\n",
    "            for k in dp[i-1]:\n",
    "                for m in nums:\n",
    "                    if m < k[0]:\n",
    "                        dp[i].append([m]+k)\n",
    "        ans = [[]]\n",
    "        for i in dp:\n",
    "            for j in i:\n",
    "                ans.append(j)\n",
    "        return ans+[nums]"
   ]
  },
  {
   "cell_type": "markdown",
   "metadata": {},
   "source": [
    "### Solution 2\n",
    ">DFS recursively \n",
    "\n",
    "Runtime: **24 ms**, faster than 39.95% of Python online submissions for Subsets.<br>\n",
    "Memory Usage: **11.9 MB**, less than 79.66% of Python online submissions for Subsets."
   ]
  },
  {
   "cell_type": "code",
   "execution_count": 2,
   "metadata": {
    "ExecuteTime": {
     "end_time": "2019-10-17T10:07:31.166217Z",
     "start_time": "2019-10-17T10:07:31.152691Z"
    }
   },
   "outputs": [],
   "source": [
    "class Solution(object):\n",
    "    def subsets(self, nums):\n",
    "        \"\"\"\n",
    "        :type nums: List[int]\n",
    "        :rtype: List[List[int]]\n",
    "        author: chong\n",
    "        \"\"\"\n",
    "        self.ans = []\n",
    "\n",
    "        def dfs(nums, temp):\n",
    "            self.ans.append(temp)\n",
    "            for i in range(len(nums)):\n",
    "                dfs(nums[i+1:], temp + [nums[i]])\n",
    "        dfs(nums, [])\n",
    "        return self.ans"
   ]
  },
  {
   "cell_type": "markdown",
   "metadata": {},
   "source": [
    "### Solution 3\n",
    ">Iteratively\n",
    "\n",
    "Runtime: **16 ms**, faster than 89.20% of Python online submissions for Subsets.<br>\n",
    "Memory Usage: **12 MB**, less than 28.81% of Python online submissions for Subsets."
   ]
  },
  {
   "cell_type": "code",
   "execution_count": 3,
   "metadata": {
    "ExecuteTime": {
     "end_time": "2019-10-17T10:07:31.173266Z",
     "start_time": "2019-10-17T10:07:31.168213Z"
    }
   },
   "outputs": [],
   "source": [
    "class Solution(object):\n",
    "    def subsets(self, nums):\n",
    "        res = [[]]\n",
    "        for num in nums:\n",
    "            res += [item+[num] for item in res]\n",
    "        return res"
   ]
  },
  {
   "cell_type": "markdown",
   "metadata": {},
   "source": [
    "### Solution 4\n",
    ">Bit Manipulation<br>\n",
    "比如[1,2,3]，有2^3个子集，0-7的所有二进制表示比方5是101，则此时表示子集是[1,3]。\n",
    "\n",
    "Runtime: **16 ms**, faster than 89.20% of Python online submissions for Subsets.<br>\n",
    "Memory Usage: **12 MB**, less than 45.76% of Python online submissions for Subsets."
   ]
  },
  {
   "cell_type": "code",
   "execution_count": 4,
   "metadata": {
    "ExecuteTime": {
     "end_time": "2019-10-17T10:07:31.180217Z",
     "start_time": "2019-10-17T10:07:31.175305Z"
    }
   },
   "outputs": [],
   "source": [
    "class Solution(object):\n",
    "    def subsets(self, nums):\n",
    "        res = []\n",
    "        for i in range(1 << len(nums)):\n",
    "            tmp = []\n",
    "            for j in range(len(nums)):\n",
    "                if i & 1 << j:  # if i >> j & 1:\n",
    "                    tmp.append(nums[j])\n",
    "            res.append(tmp)\n",
    "        return res"
   ]
  },
  {
   "cell_type": "code",
   "execution_count": 5,
   "metadata": {
    "ExecuteTime": {
     "end_time": "2019-10-17T10:07:31.196216Z",
     "start_time": "2019-10-17T10:07:31.183312Z"
    }
   },
   "outputs": [
    {
     "data": {
      "text/plain": [
       "[[], [1], [2], [1, 2], [3], [1, 3], [2, 3], [1, 2, 3]]"
      ]
     },
     "execution_count": 5,
     "metadata": {},
     "output_type": "execute_result"
    }
   ],
   "source": [
    "nums = [1,2,3]\n",
    "a = Solution()\n",
    "a.subsets(nums)"
   ]
  },
  {
   "cell_type": "code",
   "execution_count": null,
   "metadata": {},
   "outputs": [],
   "source": []
  }
 ],
 "metadata": {
  "kernelspec": {
   "display_name": "Python 3",
   "language": "python",
   "name": "python3"
  },
  "language_info": {
   "codemirror_mode": {
    "name": "ipython",
    "version": 3
   },
   "file_extension": ".py",
   "mimetype": "text/x-python",
   "name": "python",
   "nbconvert_exporter": "python",
   "pygments_lexer": "ipython3",
   "version": "3.6.5"
  },
  "varInspector": {
   "cols": {
    "lenName": 16,
    "lenType": 16,
    "lenVar": 40
   },
   "kernels_config": {
    "python": {
     "delete_cmd_postfix": "",
     "delete_cmd_prefix": "del ",
     "library": "var_list.py",
     "varRefreshCmd": "print(var_dic_list())"
    },
    "r": {
     "delete_cmd_postfix": ") ",
     "delete_cmd_prefix": "rm(",
     "library": "var_list.r",
     "varRefreshCmd": "cat(var_dic_list()) "
    }
   },
   "types_to_exclude": [
    "module",
    "function",
    "builtin_function_or_method",
    "instance",
    "_Feature"
   ],
   "window_display": false
  }
 },
 "nbformat": 4,
 "nbformat_minor": 2
}
