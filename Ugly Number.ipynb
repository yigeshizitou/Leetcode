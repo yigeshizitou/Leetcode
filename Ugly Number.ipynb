{
 "cells": [
  {
   "cell_type": "markdown",
   "metadata": {},
   "source": [
    "https://leetcode.com/problems/ugly-number/description/\n",
    "\n",
    "https://github.com/azl397985856/leetcode/blob/master/problems/263.ugly-number.md\n",
    "\n",
    "Write a program to check whether a given number is an ugly number.\n",
    "\n",
    "Ugly numbers are positive numbers whose prime factors only include 2, 3, 5.\n",
    "\n",
    "**Example 1:**\n",
    "\n",
    "Input: 6<br>\n",
    "Output: true<br>\n",
    "Explanation: 6 = 2 × 3\n",
    "\n",
    "**Example 2:**\n",
    "\n",
    "Input: 8<br>\n",
    "Output: true<br>\n",
    "Explanation: 8 = 2 × 2 × 2\n",
    "\n",
    "**Example 3:**\n",
    "\n",
    "Input: 14<br>\n",
    "Output: false<br> \n",
    "Explanation: 14 is not ugly since it includes another prime factor 7.\n",
    "\n",
    "\n",
    "**Note:**\n",
    "\n",
    "1 is typically treated as an ugly number.<br>\n",
    "Input is within the 32-bit signed integer range: $[−2^{31},  2^ {−31}]$."
   ]
  },
  {
   "cell_type": "markdown",
   "metadata": {},
   "source": [
    "### Solution 1\n",
    "\n",
    "Runtime: **16 ms**, faster than 81.15% of Python online submissions for Ugly Number.<br>\n",
    "Memory Usage: **11.7 MB**, less than 61.54% of Python online submissions for Ugly Number."
   ]
  },
  {
   "cell_type": "code",
   "execution_count": 8,
   "metadata": {
    "ExecuteTime": {
     "end_time": "2019-09-19T21:25:54.144256Z",
     "start_time": "2019-09-19T21:25:54.140800Z"
    }
   },
   "outputs": [],
   "source": [
    "def isUgly(num):\n",
    "    if num == 0:\n",
    "        return False\n",
    "    while num % 2 == 0:\n",
    "        num = num/2\n",
    "    while num % 3 == 0:\n",
    "        num = num/3\n",
    "    while num % 5 == 0:\n",
    "        num = num/5\n",
    "    if num == 1:\n",
    "        return True\n",
    "    else:\n",
    "        return False"
   ]
  },
  {
   "cell_type": "code",
   "execution_count": 9,
   "metadata": {
    "ExecuteTime": {
     "end_time": "2019-09-19T21:25:54.750707Z",
     "start_time": "2019-09-19T21:25:54.743544Z"
    }
   },
   "outputs": [
    {
     "data": {
      "text/plain": [
       "False"
      ]
     },
     "execution_count": 9,
     "metadata": {},
     "output_type": "execute_result"
    }
   ],
   "source": [
    "isUgly(0)"
   ]
  },
  {
   "cell_type": "code",
   "execution_count": null,
   "metadata": {},
   "outputs": [],
   "source": []
  }
 ],
 "metadata": {
  "kernelspec": {
   "display_name": "Python 3",
   "language": "python",
   "name": "python3"
  },
  "language_info": {
   "codemirror_mode": {
    "name": "ipython",
    "version": 3
   },
   "file_extension": ".py",
   "mimetype": "text/x-python",
   "name": "python",
   "nbconvert_exporter": "python",
   "pygments_lexer": "ipython3",
   "version": "3.6.5"
  },
  "varInspector": {
   "cols": {
    "lenName": 16,
    "lenType": 16,
    "lenVar": 40
   },
   "kernels_config": {
    "python": {
     "delete_cmd_postfix": "",
     "delete_cmd_prefix": "del ",
     "library": "var_list.py",
     "varRefreshCmd": "print(var_dic_list())"
    },
    "r": {
     "delete_cmd_postfix": ") ",
     "delete_cmd_prefix": "rm(",
     "library": "var_list.r",
     "varRefreshCmd": "cat(var_dic_list()) "
    }
   },
   "types_to_exclude": [
    "module",
    "function",
    "builtin_function_or_method",
    "instance",
    "_Feature"
   ],
   "window_display": false
  }
 },
 "nbformat": 4,
 "nbformat_minor": 2
}
