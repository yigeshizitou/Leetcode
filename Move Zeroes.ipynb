{
 "cells": [
  {
   "cell_type": "markdown",
   "metadata": {},
   "source": [
    "https://leetcode.com/problems/move-zeroes/description/\n",
    "    \n",
    "https://github.com/azl397985856/leetcode/blob/master/problems/283.move-zeroes.md\n",
    "\n",
    "Given an array nums, write a function to move all 0's to the end of it while maintaining the relative order of the non-zero elements.\n",
    "\n",
    "**Example:**\n",
    "\n",
    "Input: [0,1,0,3,12]<br>\n",
    "Output: [1,3,12,0,0]<br>\n",
    "\n",
    "**Note:**\n",
    "\n",
    "You must do this in-place without making a copy of the array.<br>\n",
    "Minimize the total number of operations."
   ]
  },
  {
   "cell_type": "markdown",
   "metadata": {},
   "source": [
    "### Solution 1 \n",
    ">去0后补0\n",
    "\n",
    "Runtime: **120 ms**, faster than 17.28% of Python online submissions for Move Zeroes.<br>\n",
    "Memory Usage: **12.6 MB**, less than 96.20% of Python online submissions for Move Zeroes."
   ]
  },
  {
   "cell_type": "code",
   "execution_count": 1,
   "metadata": {
    "ExecuteTime": {
     "end_time": "2019-09-19T22:21:47.428429Z",
     "start_time": "2019-09-19T22:21:47.424588Z"
    }
   },
   "outputs": [],
   "source": [
    "def moveZeroes(nums):\n",
    "    count = 0\n",
    "    while 0 in nums:\n",
    "        index = nums.index(0)\n",
    "        nums.pop(index)\n",
    "        count += 1\n",
    "    for i in range(count):\n",
    "        nums.append(0)\n",
    "    return nums"
   ]
  },
  {
   "cell_type": "markdown",
   "metadata": {
    "ExecuteTime": {
     "end_time": "2019-09-19T22:18:53.182301Z",
     "start_time": "2019-09-19T22:18:53.178164Z"
    }
   },
   "source": [
    "### Solution 2\n",
    ">双指针\n",
    "\n",
    "Runtime: **32 ms**, faster than 88.14% of Python online submissions for Move Zeroes.<br>\n",
    "Memory Usage: **12.8 MB**, less than 55.70% of Python online submissions for Move Zeroes."
   ]
  },
  {
   "cell_type": "code",
   "execution_count": 2,
   "metadata": {
    "ExecuteTime": {
     "end_time": "2019-09-26T17:35:22.202939Z",
     "start_time": "2019-09-26T17:35:22.199911Z"
    }
   },
   "outputs": [],
   "source": [
    "def moveZeroes(nums):\n",
    "    fast, slow = 0, 0\n",
    "    while fast < len(nums):\n",
    "        if nums[fast] != 0:\n",
    "            nums[slow], nums[fast] = nums[fast], nums[slow]\n",
    "            slow += 1\n",
    "        fast += 1\n",
    "    return nums"
   ]
  },
  {
   "cell_type": "code",
   "execution_count": 4,
   "metadata": {
    "ExecuteTime": {
     "end_time": "2019-09-26T17:35:29.721731Z",
     "start_time": "2019-09-26T17:35:29.716710Z"
    }
   },
   "outputs": [
    {
     "data": {
      "text/plain": [
       "[1, 1, 0]"
      ]
     },
     "execution_count": 4,
     "metadata": {},
     "output_type": "execute_result"
    }
   ],
   "source": [
    "nums=[1,0,1]\n",
    "moveZeroes(nums)"
   ]
  },
  {
   "cell_type": "code",
   "execution_count": null,
   "metadata": {},
   "outputs": [],
   "source": []
  }
 ],
 "metadata": {
  "kernelspec": {
   "display_name": "Python 3",
   "language": "python",
   "name": "python3"
  },
  "language_info": {
   "codemirror_mode": {
    "name": "ipython",
    "version": 3
   },
   "file_extension": ".py",
   "mimetype": "text/x-python",
   "name": "python",
   "nbconvert_exporter": "python",
   "pygments_lexer": "ipython3",
   "version": "3.6.5"
  },
  "varInspector": {
   "cols": {
    "lenName": 16,
    "lenType": 16,
    "lenVar": 40
   },
   "kernels_config": {
    "python": {
     "delete_cmd_postfix": "",
     "delete_cmd_prefix": "del ",
     "library": "var_list.py",
     "varRefreshCmd": "print(var_dic_list())"
    },
    "r": {
     "delete_cmd_postfix": ") ",
     "delete_cmd_prefix": "rm(",
     "library": "var_list.r",
     "varRefreshCmd": "cat(var_dic_list()) "
    }
   },
   "types_to_exclude": [
    "module",
    "function",
    "builtin_function_or_method",
    "instance",
    "_Feature"
   ],
   "window_display": false
  }
 },
 "nbformat": 4,
 "nbformat_minor": 2
}
