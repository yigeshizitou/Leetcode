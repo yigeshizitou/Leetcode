{
 "cells": [
  {
   "cell_type": "markdown",
   "metadata": {},
   "source": [
    "https://leetcode.com/problems/decode-string/\n",
    "\n",
    "Given an encoded string, return its decoded string.\n",
    "\n",
    "The encoding rule is: k[encoded_string], where the encoded_string inside the square brackets is being repeated exactly k times. Note that k is guaranteed to be a positive integer.\n",
    "\n",
    "You may assume that the input string is always valid; No extra white spaces, square brackets are well-formed, etc.\n",
    "\n",
    "Furthermore, you may assume that the original data does not contain any digits and that digits are only for those repeat numbers, k. For example, there won't be input like 3a or 2[4].\n",
    "\n",
    "Examples:\n",
    "\n",
    "s = \"3[a]2[bc]\", return \"aaabcbc\".<br>\n",
    "s = \"3[a2[c]]\", return \"accaccacc\".<br>\n",
    "s = \"2[abc]3[cd]ef\", return \"abcabccdcdcdef\"."
   ]
  },
  {
   "cell_type": "markdown",
   "metadata": {},
   "source": [
    "### Solution 1 stack\n",
    "\n",
    ">num 记录数字， string 记录当前序列， <br>\n",
    "遇见 [ 时， 将 [num, string] 存入 stack<br>\n",
    "遇见 ] 时， 取出 stack 末尾元素操作<br>\n",
    "例如 s = 'ef3[a2[c]ef]'<br>\n",
    "第一个[, num = 3, string = ef, stack = [[3, ef]]<br>\n",
    "第二个[. num = 2, string = a, stack = [[3, ef], [2, a]]<br>\n",
    "第一个], string = c, stack = [[3, ef]], string = a + 2 * c = acc<br>\n",
    "第二个], string = accef, stack = [], string = ef + 3 * accef = efaccefaccefaccef<br>\n",
    "\n",
    "\n",
    "Runtime: 12 ms, faster than 88.80% of Python online submissions for Decode String.<br>\n",
    "Memory Usage: 11.8 MB, less than 25.49% of Python online submissions for Decode String."
   ]
  },
  {
   "cell_type": "code",
   "execution_count": 39,
   "metadata": {},
   "outputs": [],
   "source": [
    "class Solution(object):\n",
    "    def decodeString(self, s):\n",
    "        \"\"\"\n",
    "        :type s: str\n",
    "        :rtype: str\n",
    "        \"\"\"\n",
    "        stack = []\n",
    "        num, string = '', ''\n",
    "        for i in s:\n",
    "            if i.isalpha():\n",
    "                string += i\n",
    "            if i.isdigit():\n",
    "                num += i\n",
    "            if i == '[':\n",
    "                stack.append([int(num), string])\n",
    "                num, string = '', ''\n",
    "            if i == ']':\n",
    "                l, m = stack.pop()\n",
    "                string = m + l*string\n",
    "        return string"
   ]
  },
  {
   "cell_type": "code",
   "execution_count": 40,
   "metadata": {},
   "outputs": [
    {
     "data": {
      "text/plain": [
       "'efaccefaccefaccef'"
      ]
     },
     "execution_count": 40,
     "metadata": {},
     "output_type": "execute_result"
    }
   ],
   "source": [
    "a = Solution()\n",
    "s = 'ef3[a2[c]ef]'\n",
    "a.decodeString(s)"
   ]
  }
 ],
 "metadata": {
  "kernelspec": {
   "display_name": "Python 3",
   "language": "python",
   "name": "python3"
  },
  "language_info": {
   "codemirror_mode": {
    "name": "ipython",
    "version": 3
   },
   "file_extension": ".py",
   "mimetype": "text/x-python",
   "name": "python",
   "nbconvert_exporter": "python",
   "pygments_lexer": "ipython3",
   "version": "3.6.5"
  }
 },
 "nbformat": 4,
 "nbformat_minor": 2
}
