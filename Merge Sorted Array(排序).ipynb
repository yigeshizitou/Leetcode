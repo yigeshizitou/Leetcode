{
 "cells": [
  {
   "cell_type": "markdown",
   "metadata": {},
   "source": [
    "Given two sorted integer arrays nums1 and nums2, merge nums2 into nums1 as one sorted array.\n",
    "\n",
    "Note:\n",
    "\n",
    "<li>The number of elements initialized in nums1 and nums2 are m and n respectively.\n",
    "<li>You may assume that nums1 has enough space (size that is greater or equal to m + n) to hold additional elements from nums2.<br><br>\n",
    "\n",
    "\n",
    "**Example**:\n",
    "\n",
    "Input:\n",
    "nums1 = [1,2,3,0,0,0], m = 3<br>\n",
    "nums2 = [2,5,6],       n = 3\n",
    "\n",
    "Output: [1,2,2,3,5,6]"
   ]
  },
  {
   "cell_type": "markdown",
   "metadata": {},
   "source": [
    "### Solution 1: 插入排序\n",
    ">将nums2的每个数从前往后插入nums1中\n",
    "\n",
    "Runtime: **28 ms**, faster than 27.13% of Python online submissions for Merge Sorted Array.<br>\n",
    "Memory Usage: **11.8 MB**, less than 48.72% of Python online submissions for Merge Sorted Array."
   ]
  },
  {
   "cell_type": "code",
   "execution_count": 75,
   "metadata": {
    "ExecuteTime": {
     "end_time": "2019-09-10T16:29:54.873236Z",
     "start_time": "2019-09-10T16:29:54.869248Z"
    }
   },
   "outputs": [],
   "source": [
    "def merge(nums1, m, nums2, n):\n",
    "    for i in range(n):\n",
    "        j = 0\n",
    "        while j < i+m and nums2[i] > nums1[j]:\n",
    "            j += 1\n",
    "            print(i, nums2[i], j, nums1)\n",
    "        for k in range(m+i, j, -1):\n",
    "            nums1[k] = nums1[k-1]\n",
    "        nums1[j] = nums2[i]\n",
    "    return nums1"
   ]
  },
  {
   "cell_type": "markdown",
   "metadata": {},
   "source": [
    "### Solution 2: 插入排序\n",
    ">将nums2的每个数从后往前插入nums1中\n",
    "\n",
    "Runtime: **28 ms**, faster than 27.13% of Python online submissions for Merge Sorted Array.<br>\n",
    "Memory Usage: **11.7 MB**, less than 61.54% of Python online submissions for Merge Sorted Array."
   ]
  },
  {
   "cell_type": "code",
   "execution_count": 134,
   "metadata": {
    "ExecuteTime": {
     "end_time": "2019-09-10T16:53:29.668042Z",
     "start_time": "2019-09-10T16:53:29.664924Z"
    }
   },
   "outputs": [],
   "source": [
    "def merge(nums1, m, nums2, n):\n",
    "    for i in range(n):\n",
    "        j = m+i-1\n",
    "        print(i, j, nums1, nums2[i] < nums1[j])\n",
    "        while j >= 0 and nums2[i] < nums1[j]:\n",
    "            j -= 1\n",
    "            print(i, nums2[i], j, nums1)\n",
    "        for k in range(m+i, j+1, -1):\n",
    "            nums1[k] = nums1[k-1]\n",
    "        nums1[j+1] = nums2[i]\n",
    "    return nums1"
   ]
  },
  {
   "cell_type": "markdown",
   "metadata": {},
   "source": [
    "### Solution 3: sort 函数\n",
    ">将nums2插入到nums1后面后直接sort\n",
    "\n",
    "Runtime: **24 ms**, faster than 61.29% of Python online submissions for Merge Sorted Array.<br>\n",
    "Memory Usage: **11.6 MB**, less than 94.87% of Python online submissions for Merge Sorted Array."
   ]
  },
  {
   "cell_type": "code",
   "execution_count": 85,
   "metadata": {
    "ExecuteTime": {
     "end_time": "2019-09-10T16:35:40.766054Z",
     "start_time": "2019-09-10T16:35:40.763662Z"
    }
   },
   "outputs": [],
   "source": [
    "def merge(nums1, m, nums2, n):\n",
    "    for i in range(m, m+n):\n",
    "        nums1[i] = nums2[i-m]\n",
    "    return sorted(nums1)"
   ]
  },
  {
   "cell_type": "markdown",
   "metadata": {},
   "source": [
    "### Solution 4: sort 函数\n",
    ">将nums2插入到nums1后面后直接sort<br>\n",
    "list 批量赋值\n",
    "\n",
    "Runtime: **20 ms**, faster than 86.47% of Python online submissions for Merge Sorted Array.<br>\n",
    "Memory Usage: **11.6 MB**, less than 94.87% of Python online submissions for Merge Sorted Array."
   ]
  },
  {
   "cell_type": "code",
   "execution_count": 142,
   "metadata": {
    "ExecuteTime": {
     "end_time": "2019-09-10T17:02:24.948445Z",
     "start_time": "2019-09-10T17:02:24.944455Z"
    }
   },
   "outputs": [],
   "source": [
    "def merge(nums1, m, nums2, n):\n",
    "    nums1[m:m+n+1] = nums2[:n+1]\n",
    "    return sorted(nums1)"
   ]
  },
  {
   "cell_type": "markdown",
   "metadata": {},
   "source": [
    "### Solution 5: \n",
    ">nums1和nums2从后往前按位比较，把大的一位填进nums1末尾，依次向前推<br>\n",
    "\n",
    "Runtime: **20 ms**, faster than 86.47% of Python online submissions for Merge Sorted Array.<br>\n",
    "Memory Usage: **11.6 MB**, less than 94.87% of Python online submissions for Merge Sorted Array."
   ]
  },
  {
   "cell_type": "code",
   "execution_count": 165,
   "metadata": {
    "ExecuteTime": {
     "end_time": "2019-09-10T17:20:12.697202Z",
     "start_time": "2019-09-10T17:20:12.691143Z"
    }
   },
   "outputs": [],
   "source": [
    "def merge(nums1, m, nums2, n):\n",
    "    m, n = m-1, n-1\n",
    "    while m >= 0 and n >= 0:\n",
    "        if nums1[m] > nums2[n]:\n",
    "            nums1[m+n+1] = nums1[m]\n",
    "            m -= 1\n",
    "        else:\n",
    "            nums1[m+n+1] = nums2[n]\n",
    "            n -= 1\n",
    "       # print(m,n,nums1)\n",
    "    if n != -1:  # nums2 is still left\n",
    "        nums1[:n+1] = nums2[:n+1]\n",
    "    return nums1"
   ]
  },
  {
   "cell_type": "code",
   "execution_count": 168,
   "metadata": {
    "ExecuteTime": {
     "end_time": "2019-09-10T17:20:24.929043Z",
     "start_time": "2019-09-10T17:20:24.927002Z"
    }
   },
   "outputs": [],
   "source": [
    "nums1 = [1, 2, 3, 0, 0, 0]\n",
    "m = 3\n",
    "nums2 = [2, 4, 5]\n",
    "n = 3"
   ]
  },
  {
   "cell_type": "code",
   "execution_count": 169,
   "metadata": {
    "ExecuteTime": {
     "end_time": "2019-09-10T17:20:25.292599Z",
     "start_time": "2019-09-10T17:20:25.285612Z"
    }
   },
   "outputs": [
    {
     "data": {
      "text/plain": [
       "[1, 2, 2, 3, 4, 5]"
      ]
     },
     "execution_count": 169,
     "metadata": {},
     "output_type": "execute_result"
    }
   ],
   "source": [
    "merge(nums1, m, nums2, n)"
   ]
  },
  {
   "cell_type": "code",
   "execution_count": null,
   "metadata": {},
   "outputs": [],
   "source": []
  }
 ],
 "metadata": {
  "kernelspec": {
   "display_name": "Python 3",
   "language": "python",
   "name": "python3"
  },
  "language_info": {
   "codemirror_mode": {
    "name": "ipython",
    "version": 3
   },
   "file_extension": ".py",
   "mimetype": "text/x-python",
   "name": "python",
   "nbconvert_exporter": "python",
   "pygments_lexer": "ipython3",
   "version": "3.6.5"
  },
  "varInspector": {
   "cols": {
    "lenName": 16,
    "lenType": 16,
    "lenVar": 40
   },
   "kernels_config": {
    "python": {
     "delete_cmd_postfix": "",
     "delete_cmd_prefix": "del ",
     "library": "var_list.py",
     "varRefreshCmd": "print(var_dic_list())"
    },
    "r": {
     "delete_cmd_postfix": ") ",
     "delete_cmd_prefix": "rm(",
     "library": "var_list.r",
     "varRefreshCmd": "cat(var_dic_list()) "
    }
   },
   "types_to_exclude": [
    "module",
    "function",
    "builtin_function_or_method",
    "instance",
    "_Feature"
   ],
   "window_display": false
  }
 },
 "nbformat": 4,
 "nbformat_minor": 2
}
