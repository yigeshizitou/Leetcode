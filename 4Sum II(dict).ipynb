{
 "cells": [
  {
   "cell_type": "markdown",
   "metadata": {},
   "source": [
    "https://leetcode.com/problems/4sum-ii/\n",
    "\n",
    "Given four lists A, B, C, D of integer values, compute how many tuples (i, j, k, l) there are such that A[i] + B[j] + C[k] + D[l] is zero.\n",
    "\n",
    "To make problem a bit easier, all A, B, C, D have same length of N where 0 ≤ N ≤ 500. All integers are in the range of -228 to 228 - 1 and the result is guaranteed to be at most 231 - 1.\n",
    "\n",
    "Example:\n",
    "\n",
    "Input:\n",
    "A = [ 1, 2]<br>\n",
    "B = [-2,-1]<br>\n",
    "C = [-1, 2]<br>\n",
    "D = [ 0, 2]\n",
    "\n",
    "Output:<br>\n",
    "2\n",
    "\n",
    "Explanation:<br>\n",
    "The two tuples are:<br>\n",
    "1. (0, 0, 0, 1) -> A[0] + B[0] + C[0] + D[1] = 1 + (-2) + (-1) + 2 = 0<br>\n",
    "2. (1, 1, 0, 0) -> A[1] + B[1] + C[0] + D[0] = 2 + (-1) + (-1) + 0 = 0"
   ]
  },
  {
   "cell_type": "markdown",
   "metadata": {},
   "source": [
    "### Solution 1\n",
    "> dict 记录 A, B 元素之和的可能和次数， 再寻找 C, D 元素之和为 dict 中元素的负的次数\n",
    "\n",
    "Runtime: **388 ms**, faster than 36.38% of Python online submissions for 4Sum II.<br>\n",
    "Memory Usage: **59.2 MB**, less than 12.50% of Python online submissions for 4Sum II."
   ]
  },
  {
   "cell_type": "code",
   "execution_count": 52,
   "metadata": {},
   "outputs": [],
   "source": [
    "class Solution(object):\n",
    "    def fourSumCount(self, A, B, C, D):\n",
    "        \"\"\"\n",
    "        :type A: List[int]\n",
    "        :type B: List[int]\n",
    "        :type C: List[int]\n",
    "        :type D: List[int]\n",
    "        :rtype: int\n",
    "        author: Chong \n",
    "        \"\"\"\n",
    "        dict_sum_AB = {}\n",
    "        for i in A:\n",
    "            for j in B:\n",
    "                if i + j in dict_sum_AB:\n",
    "                    dict_sum_AB[i+j][0] += 1\n",
    "                else:\n",
    "                    dict_sum_AB[i+j] = [1, 0]\n",
    "        for i in C:\n",
    "            for j in D:\n",
    "                if -(i+j) in dict_sum_AB:\n",
    "                    dict_sum_AB[-(i+j)][1] += 1\n",
    "        count = 0\n",
    "        for i,j in list(dict_sum_AB.values()):\n",
    "            count += i*j\n",
    "        return count"
   ]
  },
  {
   "cell_type": "markdown",
   "metadata": {},
   "source": [
    "### Solution 2\n",
    "> dict 记录 A, B 元素之和的可能和次数<br> \n",
    "每次找到 C, D 元素之和为 dict 中元素的负时，count += dict[-(i+j)]\n",
    "\n",
    "Runtime: **220 ms**, faster than 97.71% of Python online submissions for 4Sum II.<br>\n",
    "Memory Usage: **34.2 MB**, less than 25.00% of Python online submissions for 4Sum II."
   ]
  },
  {
   "cell_type": "code",
   "execution_count": 58,
   "metadata": {},
   "outputs": [],
   "source": [
    "class Solution(object):\n",
    "    def fourSumCount(self, A, B, C, D):\n",
    "        \"\"\"\n",
    "        author: Chong \n",
    "        \"\"\"\n",
    "        dict_sum_AB = {}\n",
    "        for i in A:\n",
    "            for j in B:\n",
    "                if i+j in dict_sum_AB:\n",
    "                    dict_sum_AB[i+j] += 1\n",
    "                else:\n",
    "                    dict_sum_AB[i+j] = 1\n",
    "        count = 0\n",
    "        for i in C:\n",
    "            for j in D:\n",
    "                if -(i+j) in dict_sum_AB:\n",
    "                    count += dict_sum_AB[-(i+j)]\n",
    "        return count"
   ]
  },
  {
   "cell_type": "code",
   "execution_count": 59,
   "metadata": {},
   "outputs": [
    {
     "data": {
      "text/plain": [
       "6"
      ]
     },
     "execution_count": 59,
     "metadata": {},
     "output_type": "execute_result"
    }
   ],
   "source": [
    "a = Solution()\n",
    "A = [-1,-1]\n",
    "B = [-1,1]\n",
    "C = [-1,1]\n",
    "D = [1,-1]\n",
    "a.fourSumCount(A, B, C, D)"
   ]
  }
 ],
 "metadata": {
  "kernelspec": {
   "display_name": "Python 3",
   "language": "python",
   "name": "python3"
  },
  "language_info": {
   "codemirror_mode": {
    "name": "ipython",
    "version": 3
   },
   "file_extension": ".py",
   "mimetype": "text/x-python",
   "name": "python",
   "nbconvert_exporter": "python",
   "pygments_lexer": "ipython3",
   "version": "3.6.5"
  }
 },
 "nbformat": 4,
 "nbformat_minor": 2
}
