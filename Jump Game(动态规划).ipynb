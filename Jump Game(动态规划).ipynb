{
 "cells": [
  {
   "cell_type": "markdown",
   "metadata": {},
   "source": [
    "https://leetcode.com/problems/jump-game/\n",
    "\n",
    "https://github.com/azl397985856/leetcode/blob/master/problems/55.jump-game.md\n",
    "\n",
    "Given an array of non-negative integers, you are initially positioned at the first index of the array.\n",
    "\n",
    "Each element in the array represents your maximum jump length at that position.\n",
    "\n",
    "Determine if you are able to reach the last index.\n",
    "\n",
    "Example 1:\n",
    "\n",
    "Input: [2,3,1,1,4]<br>\n",
    "Output: true<br>\n",
    "Explanation: Jump 1 step from index 0 to 1, then 3 steps to the last index.<br>\n",
    "Example 2:<br>\n",
    "\n",
    "Input: [3,2,1,0,4]<br>\n",
    "Output: false<br>\n",
    "Explanation: You will always arrive at index 3 no matter what. Its maximum<br>\n",
    "             jump length is 0, which makes it impossible to reach the last index."
   ]
  },
  {
   "cell_type": "markdown",
   "metadata": {},
   "source": [
    "### Solution 1\n",
    ">max_length[i]=max_length[i-1]+(i+nums[i])\n",
    "\n",
    "Runtime: **96 ms**, faster than 6.31% of Python online submissions for Jump Game.<br>\n",
    "Memory Usage: **13.5 MB**, less than 11.43% of Python online submissions for Jump Game."
   ]
  },
  {
   "cell_type": "code",
   "execution_count": 31,
   "metadata": {
    "ExecuteTime": {
     "end_time": "2019-10-11T11:17:15.275349Z",
     "start_time": "2019-10-11T11:17:15.271347Z"
    }
   },
   "outputs": [],
   "source": [
    "class Solution(object):\n",
    "    def canJump(self, nums):\n",
    "        \"\"\"\n",
    "        :type nums: List[int]\n",
    "        :rtype: bool\n",
    "        author: Chong\n",
    "        \"\"\"\n",
    "        if len(nums) == 1:\n",
    "            return True\n",
    "        max_length = nums[0]\n",
    "        for i in range(len(nums)-1):\n",
    "            if max_length >= i:\n",
    "                max_length = max(max_length, i+nums[i])\n",
    "                if max_length >= len(nums)-1:\n",
    "                    return True\n",
    "            else:\n",
    "                return False\n",
    "        return False"
   ]
  },
  {
   "cell_type": "markdown",
   "metadata": {},
   "source": [
    "### Solution 2\n",
    ">max_length[i]=max_length[i-1]+(i+nums[i]) 改进\n",
    "\n",
    "Runtime: **64 ms**, faster than 96.14% of Python online submissions for Jump Game.<br>\n",
    "Memory Usage: **13.4 MB**, less than 22.86% of Python online submissions for Jump Game."
   ]
  },
  {
   "cell_type": "code",
   "execution_count": 34,
   "metadata": {
    "ExecuteTime": {
     "end_time": "2019-10-11T11:22:44.942843Z",
     "start_time": "2019-10-11T11:22:44.937837Z"
    }
   },
   "outputs": [],
   "source": [
    "class Solution(object):\n",
    "    def canJump(self, nums):\n",
    "        \"\"\"\n",
    "        :type nums: List[int]\n",
    "        :rtype: bool\n",
    "        \"\"\"\n",
    "        _max = 0\n",
    "        _len = len(nums)\n",
    "        for i in range(_len-1):\n",
    "            if _max < i:\n",
    "                return False\n",
    "            _max = max(_max, nums[i] + i)\n",
    "        return _max >= _len - 1"
   ]
  },
  {
   "cell_type": "code",
   "execution_count": 35,
   "metadata": {
    "ExecuteTime": {
     "end_time": "2019-10-11T11:22:45.248867Z",
     "start_time": "2019-10-11T11:22:45.245863Z"
    }
   },
   "outputs": [],
   "source": [
    "nums= [0,2,3]"
   ]
  },
  {
   "cell_type": "code",
   "execution_count": 37,
   "metadata": {
    "ExecuteTime": {
     "end_time": "2019-10-11T11:23:39.781133Z",
     "start_time": "2019-10-11T11:23:39.776096Z"
    }
   },
   "outputs": [
    {
     "data": {
      "text/plain": [
       "False"
      ]
     },
     "execution_count": 37,
     "metadata": {},
     "output_type": "execute_result"
    }
   ],
   "source": [
    "a=Solution()\n",
    "a.canJump(nums)"
   ]
  },
  {
   "cell_type": "code",
   "execution_count": null,
   "metadata": {},
   "outputs": [],
   "source": []
  }
 ],
 "metadata": {
  "kernelspec": {
   "display_name": "Python 3",
   "language": "python",
   "name": "python3"
  },
  "language_info": {
   "codemirror_mode": {
    "name": "ipython",
    "version": 3
   },
   "file_extension": ".py",
   "mimetype": "text/x-python",
   "name": "python",
   "nbconvert_exporter": "python",
   "pygments_lexer": "ipython3",
   "version": "3.6.5"
  },
  "varInspector": {
   "cols": {
    "lenName": 16,
    "lenType": 16,
    "lenVar": 40
   },
   "kernels_config": {
    "python": {
     "delete_cmd_postfix": "",
     "delete_cmd_prefix": "del ",
     "library": "var_list.py",
     "varRefreshCmd": "print(var_dic_list())"
    },
    "r": {
     "delete_cmd_postfix": ") ",
     "delete_cmd_prefix": "rm(",
     "library": "var_list.r",
     "varRefreshCmd": "cat(var_dic_list()) "
    }
   },
   "types_to_exclude": [
    "module",
    "function",
    "builtin_function_or_method",
    "instance",
    "_Feature"
   ],
   "window_display": false
  }
 },
 "nbformat": 4,
 "nbformat_minor": 2
}
