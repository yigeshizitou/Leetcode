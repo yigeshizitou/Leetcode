{
 "cells": [
  {
   "cell_type": "markdown",
   "metadata": {},
   "source": [
    "https://leetcode.com/problems/maximum-product-subarray/\n",
    "\n",
    "https://github.com/azl397985856/leetcode/blob/master/problems/152.maximum-product-subarray.md\n",
    "\n",
    "Given an integer array nums, find the contiguous subarray within an array (containing at least one number) which has the largest product.\n",
    "\n",
    "Example 1:\n",
    "\n",
    "Input: [2,3,-2,4]<br>\n",
    "Output: 6<br>\n",
    "Explanation: [2,3] has the largest product 6.<br>\n",
    "Example 2:\n",
    "\n",
    "Input: [-2,0,-1]<br>\n",
    "Output: 0<br>\n",
    "Explanation: The result cannot be 2, because [-2,-1] is not a subarray."
   ]
  },
  {
   "cell_type": "markdown",
   "metadata": {},
   "source": [
    "### Solution 1 动态规划\n",
    "\n",
    "> dp 记录当前最大正积和当前最小负积<br>\n",
    "max_product 记录当前最大正积<br>\n",
    "\n",
    "\n",
    "Runtime: **40 ms**, faster than 69.02% of Python online submissions for Maximum Product Subarray.<br>\n",
    "Memory Usage: **14.4 MB**, less than 5.26% of Python online submissions for Maximum Product Subarray."
   ]
  },
  {
   "cell_type": "code",
   "execution_count": 109,
   "metadata": {
    "ExecuteTime": {
     "end_time": "2019-11-20T10:03:44.859110Z",
     "start_time": "2019-11-20T10:03:44.849395Z"
    }
   },
   "outputs": [],
   "source": [
    "class Solution(object):\n",
    "    def maxProduct(self, nums):\n",
    "        \"\"\"\n",
    "        :type nums: List[int]\n",
    "        :rtype: int\n",
    "        author: Chong\n",
    "        \"\"\"\n",
    "        dp = [[]]*len(nums)\n",
    "        max_product = [0]*len(nums)\n",
    "        max_product[0] = nums[0]\n",
    "        for i in range(1, len(nums)):\n",
    "            if nums[i] == 0:\n",
    "                max_product[i] = 0\n",
    "            elif nums[i-1] == 0:\n",
    "                max_product[i] = nums[i]\n",
    "            elif len(dp[i-1]) == 0 and nums[i]*(nums[i]*max_product[i-1]) < 0:\n",
    "                dp[i] = [nums[i]*max_product[i-1], nums[i]]\n",
    "                max_product[i] = max(nums[i]*max_product[i-1], nums[i])\n",
    "            elif len(dp[i-1]) == 0:\n",
    "                max_product[i] = max_product[i-1]*nums[i]\n",
    "            elif len(dp[i-1]) != 0:\n",
    "                dp[i] = [nums[i]*dp[i-1][0], nums[i]*dp[i-1][1]]\n",
    "                max_product[i] = max(dp[i])\n",
    "        return max(max_product)"
   ]
  },
  {
   "cell_type": "markdown",
   "metadata": {},
   "source": [
    "### Solution 2 动态规划\n",
    "\n",
    "> dp_max记录当前最大正积<br>\n",
    "dp_min记录当前最小负积<br>\n",
    "\n",
    "Runtime: **32 ms**, faster than 97.03% of Python online submissions for Maximum Product Subarray.<br>\n",
    "Memory Usage: **13.1 MB**, less than 5.26% of Python online submissions for Maximum Product Subarray."
   ]
  },
  {
   "cell_type": "code",
   "execution_count": 5,
   "metadata": {
    "ExecuteTime": {
     "end_time": "2019-11-20T14:16:29.525190Z",
     "start_time": "2019-11-20T14:16:29.521198Z"
    }
   },
   "outputs": [],
   "source": [
    "class Solution(object):\n",
    "    def maxProduct(self, nums):\n",
    "        \"\"\"\n",
    "        :type nums: List[int]\n",
    "        :rtype: int\n",
    "        author: Chong\n",
    "        \"\"\"\n",
    "        dp_max= [0]*len(nums)\n",
    "        dp_min= [0]*len(nums)\n",
    "        dp_max[0]=nums[0]\n",
    "        dp_min[0]=nums[0]\n",
    "        for i in range(1,len(nums)):\n",
    "            dp_max[i]=max(nums[i],nums[i]*dp_max[i-1],nums[i]*dp_min[i-1])\n",
    "            dp_min[i]=min(nums[i],nums[i]*dp_max[i-1],nums[i]*dp_min[i-1])\n",
    "        return max(dp_max)"
   ]
  },
  {
   "cell_type": "code",
   "execution_count": 8,
   "metadata": {
    "ExecuteTime": {
     "end_time": "2019-11-20T14:16:45.763802Z",
     "start_time": "2019-11-20T14:16:45.758805Z"
    }
   },
   "outputs": [
    {
     "data": {
      "text/plain": [
       "12"
      ]
     },
     "execution_count": 8,
     "metadata": {},
     "output_type": "execute_result"
    }
   ],
   "source": [
    "nums = [-3,-2,-1, -2]\n",
    "a = Solution()\n",
    "a.maxProduct(nums)"
   ]
  }
 ],
 "metadata": {
  "kernelspec": {
   "display_name": "Python 3",
   "language": "python",
   "name": "python3"
  },
  "language_info": {
   "codemirror_mode": {
    "name": "ipython",
    "version": 3
   },
   "file_extension": ".py",
   "mimetype": "text/x-python",
   "name": "python",
   "nbconvert_exporter": "python",
   "pygments_lexer": "ipython3",
   "version": "3.6.5"
  },
  "varInspector": {
   "cols": {
    "lenName": 16,
    "lenType": 16,
    "lenVar": 40
   },
   "kernels_config": {
    "python": {
     "delete_cmd_postfix": "",
     "delete_cmd_prefix": "del ",
     "library": "var_list.py",
     "varRefreshCmd": "print(var_dic_list())"
    },
    "r": {
     "delete_cmd_postfix": ") ",
     "delete_cmd_prefix": "rm(",
     "library": "var_list.r",
     "varRefreshCmd": "cat(var_dic_list()) "
    }
   },
   "types_to_exclude": [
    "module",
    "function",
    "builtin_function_or_method",
    "instance",
    "_Feature"
   ],
   "window_display": false
  }
 },
 "nbformat": 4,
 "nbformat_minor": 2
}
