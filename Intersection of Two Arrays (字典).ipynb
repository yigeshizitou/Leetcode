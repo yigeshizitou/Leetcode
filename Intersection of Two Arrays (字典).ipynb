{
 "cells": [
  {
   "cell_type": "markdown",
   "metadata": {},
   "source": [
    "Given two arrays, write a function to compute their intersection.\n",
    "\n",
    "**Example 1:**\n",
    "\n",
    "Input: nums1 = [1,2,2,1], nums2 = [2,2]<br>\n",
    "Output: [2]\n",
    "\n",
    "\n",
    "**Example 2:**\n",
    "\n",
    "Input: nums1 = [4,9,5], nums2 = [9,4,9,8,4]<br>\n",
    "Output: [9,4]\n",
    "\n",
    "\n",
    "**Note:**\n",
    "\n",
    "<li>Each element in the result must be unique.\n",
    "<li>The result can be in any order.\n",
    " "
   ]
  },
  {
   "cell_type": "markdown",
   "metadata": {},
   "source": [
    "### Solution 1\n",
    "\n",
    "Runtime: **40 ms**, faster than 29.25% of Python online submissions for Intersection of Two Arrays.<br>\n",
    "Memory Usage: **11.9 MB**, less than 52.78% of Python online submissions for Intersection of Two Arrays."
   ]
  },
  {
   "cell_type": "code",
   "execution_count": 1,
   "metadata": {
    "ExecuteTime": {
     "end_time": "2019-09-20T08:29:46.801334Z",
     "start_time": "2019-09-20T08:29:46.796349Z"
    }
   },
   "outputs": [],
   "source": [
    "def intersection(nums1, nums2):\n",
    "    nums1 = list(set(nums1))\n",
    "    nums2 = list(set(nums2))\n",
    "    inser = []\n",
    "    for i in nums1:\n",
    "        if i in nums2 and i not in inser:\n",
    "            inser.append(i)\n",
    "    return inser"
   ]
  },
  {
   "cell_type": "markdown",
   "metadata": {},
   "source": [
    "### Solution 2 字典\n",
    ">现将nums1存入字典\n",
    "\n",
    "Runtime: **32 ms**, faster than 70.60% of Python online submissions for Intersection of Two Arrays.<br>\n",
    "Memory Usage: **11.9 MB**, less than 69.44% of Python online submissions for Intersection of Two Arrays."
   ]
  },
  {
   "cell_type": "code",
   "execution_count": 3,
   "metadata": {
    "ExecuteTime": {
     "end_time": "2019-09-20T08:36:01.871956Z",
     "start_time": "2019-09-20T08:36:01.864979Z"
    }
   },
   "outputs": [],
   "source": [
    "def intersection(nums1, nums2):\n",
    "    inser = {}\n",
    "    result = []\n",
    "    for i in nums1:\n",
    "        inser[i] = 1\n",
    "    for j in nums2:\n",
    "        if j in inser:\n",
    "            result.append(j)\n",
    "    return list(set(result))"
   ]
  },
  {
   "cell_type": "markdown",
   "metadata": {},
   "source": [
    "### Solution 3\n",
    ">set后取集合\n",
    "\n",
    "Runtime: **32 ms**, faster than 70.60% of Python online submissions for Intersection of Two Arrays.<br>\n",
    "Memory Usage: **11.9 MB**, less than 36.11% of Python online submissions for Intersection of Two Arrays."
   ]
  },
  {
   "cell_type": "code",
   "execution_count": 2,
   "metadata": {
    "ExecuteTime": {
     "end_time": "2019-09-20T08:35:59.231837Z",
     "start_time": "2019-09-20T08:35:59.227846Z"
    }
   },
   "outputs": [],
   "source": [
    "def intersection(nums1, nums2):\n",
    "    return set(nums1) & set(nums2)"
   ]
  },
  {
   "cell_type": "code",
   "execution_count": 5,
   "metadata": {
    "ExecuteTime": {
     "end_time": "2019-09-20T08:36:23.132247Z",
     "start_time": "2019-09-20T08:36:23.121276Z"
    }
   },
   "outputs": [
    {
     "data": {
      "text/plain": [
       "[2]"
      ]
     },
     "execution_count": 5,
     "metadata": {},
     "output_type": "execute_result"
    }
   ],
   "source": [
    "nums1 = [1, 2, 3, 4]\n",
    "nums2 = [2, 2]\n",
    "intersection(nums1, nums2)"
   ]
  }
 ],
 "metadata": {
  "kernelspec": {
   "display_name": "Python 3",
   "language": "python",
   "name": "python3"
  },
  "language_info": {
   "codemirror_mode": {
    "name": "ipython",
    "version": 3
   },
   "file_extension": ".py",
   "mimetype": "text/x-python",
   "name": "python",
   "nbconvert_exporter": "python",
   "pygments_lexer": "ipython3",
   "version": "3.6.5"
  },
  "varInspector": {
   "cols": {
    "lenName": 16,
    "lenType": 16,
    "lenVar": 40
   },
   "kernels_config": {
    "python": {
     "delete_cmd_postfix": "",
     "delete_cmd_prefix": "del ",
     "library": "var_list.py",
     "varRefreshCmd": "print(var_dic_list())"
    },
    "r": {
     "delete_cmd_postfix": ") ",
     "delete_cmd_prefix": "rm(",
     "library": "var_list.r",
     "varRefreshCmd": "cat(var_dic_list()) "
    }
   },
   "types_to_exclude": [
    "module",
    "function",
    "builtin_function_or_method",
    "instance",
    "_Feature"
   ],
   "window_display": false
  }
 },
 "nbformat": 4,
 "nbformat_minor": 2
}
