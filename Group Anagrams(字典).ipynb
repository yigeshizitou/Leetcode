{
 "cells": [
  {
   "cell_type": "markdown",
   "metadata": {},
   "source": [
    "https://leetcode.com/problems/group-anagrams/description/\n",
    "\n",
    "https://github.com/azl397985856/leetcode/blob/master/problems/49.group-anagrams.md\n",
    "\n",
    "Given an array of strings, group anagrams together.\n",
    "\n",
    "Example:\n",
    "\n",
    "Input: [\"eat\", \"tea\", \"tan\", \"ate\", \"nat\", \"bat\"],<br>\n",
    "Output:<br>\n",
    "[<br>\n",
    "  [\"ate\",\"eat\",\"tea\"],<br>\n",
    "  [\"nat\",\"tan\"],<br>\n",
    "  [\"bat\"]<br>\n",
    "]\n",
    "\n",
    "Note:\n",
    "\n",
    "<li>All inputs will be in lowercase.\n",
    "<li>The order of your output does not matter."
   ]
  },
  {
   "cell_type": "markdown",
   "metadata": {},
   "source": [
    "### Solution 1\n",
    ">dict\n",
    "\n",
    "Runtime: **88 ms**, faster than 59.77% of Python online submissions for Group Anagrams.<br>\n",
    "Memory Usage: **15.5 MB**, less than 87.50% of Python online submissions for Group Anagrams."
   ]
  },
  {
   "cell_type": "code",
   "execution_count": 28,
   "metadata": {
    "ExecuteTime": {
     "end_time": "2019-10-10T08:08:09.828399Z",
     "start_time": "2019-10-10T08:08:09.823442Z"
    }
   },
   "outputs": [],
   "source": [
    "class Solution(object):\n",
    "    def groupAnagrams(self, strs):\n",
    "        \"\"\"\n",
    "        :type strs: List[str]\n",
    "        :rtype: List[List[str]]\n",
    "        author:Chong\n",
    "        \"\"\"\n",
    "        dict_strs = {}\n",
    "        for i in strs:\n",
    "            if \"\".join(sorted(i)) not in dict_strs:\n",
    "                dict_strs[\"\".join(sorted(i))] = [i]\n",
    "            else:\n",
    "                dict_strs[\"\".join(sorted(i))].append(i)\n",
    "        return list(dict_strs.values())"
   ]
  },
  {
   "cell_type": "markdown",
   "metadata": {
    "ExecuteTime": {
     "end_time": "2019-10-10T08:24:31.336089Z",
     "start_time": "2019-10-10T08:24:31.331201Z"
    }
   },
   "source": [
    "### Solution 2\n",
    ">itertools\n",
    "\n",
    "Runtime: **112 ms**, faster than 18.17% of Python online submissions for Group Anagrams.<br>\n",
    "Memory Usage: **15.5 MB**, less than 87.50% of Python online submissions for Group Anagrams."
   ]
  },
  {
   "cell_type": "code",
   "execution_count": 101,
   "metadata": {
    "ExecuteTime": {
     "end_time": "2019-10-10T09:36:38.793425Z",
     "start_time": "2019-10-10T09:36:38.789553Z"
    }
   },
   "outputs": [],
   "source": [
    "class Solution(object):\n",
    "    def groupAnagrams(self, strs):\n",
    "        import itertools\n",
    "        \"\"\"\n",
    "        :type strs: List[str]\n",
    "        :rtype: List[List[str]]\n",
    "        \"\"\"\n",
    "        return [sorted(g) for _, g in itertools.groupby(sorted(strs, key=sorted), sorted)]"
   ]
  },
  {
   "cell_type": "markdown",
   "metadata": {},
   "source": [
    "### Solution 3\n",
    ">tuple a list as key<br>\n",
    "dict 的 get 方法\n",
    "\n",
    "Runtime: **84 ms**, faster than 75.59% of Python online submissions for Group Anagrams.<br>\n",
    "Memory Usage: **15.9 MB**, less than 62.50% of Python online submissions for Group Anagrams."
   ]
  },
  {
   "cell_type": "code",
   "execution_count": 104,
   "metadata": {
    "ExecuteTime": {
     "end_time": "2019-10-10T09:38:23.430665Z",
     "start_time": "2019-10-10T09:38:23.422058Z"
    }
   },
   "outputs": [],
   "source": [
    "class Solution(object):\n",
    "    def groupAnagrams(self, strs):\n",
    "        \"\"\"\n",
    "        :type strs: List[str]\n",
    "        :rtype: List[List[str]]\n",
    "        \"\"\"\n",
    "        d = {}\n",
    "        for w in sorted(strs):\n",
    "            key = tuple(sorted(w))\n",
    "            d[key] = d.get(key, []) + [w]\n",
    "        return d.values()"
   ]
  },
  {
   "cell_type": "code",
   "execution_count": 105,
   "metadata": {
    "ExecuteTime": {
     "end_time": "2019-10-10T09:38:23.732175Z",
     "start_time": "2019-10-10T09:38:23.723641Z"
    }
   },
   "outputs": [
    {
     "name": "stdout",
     "output_type": "stream",
     "text": [
      "('a', 'e', 't')\n",
      "('a', 'b', 't')\n",
      "('a', 'e', 't')\n",
      "('a', 'n', 't')\n",
      "('a', 'n', 't')\n",
      "('a', 'e', 't')\n"
     ]
    },
    {
     "data": {
      "text/plain": [
       "dict_values([['ate', 'eat', 'tea'], ['bat'], ['nat', 'tan']])"
      ]
     },
     "execution_count": 105,
     "metadata": {},
     "output_type": "execute_result"
    }
   ],
   "source": [
    "a = Solution()\n",
    "strs = [\"eat\", \"tea\", \"tan\", \"ate\", \"nat\", \"bat\"]\n",
    "a.groupAnagrams(strs)"
   ]
  }
 ],
 "metadata": {
  "kernelspec": {
   "display_name": "Python 3",
   "language": "python",
   "name": "python3"
  },
  "language_info": {
   "codemirror_mode": {
    "name": "ipython",
    "version": 3
   },
   "file_extension": ".py",
   "mimetype": "text/x-python",
   "name": "python",
   "nbconvert_exporter": "python",
   "pygments_lexer": "ipython3",
   "version": "3.6.5"
  },
  "varInspector": {
   "cols": {
    "lenName": 16,
    "lenType": 16,
    "lenVar": 40
   },
   "kernels_config": {
    "python": {
     "delete_cmd_postfix": "",
     "delete_cmd_prefix": "del ",
     "library": "var_list.py",
     "varRefreshCmd": "print(var_dic_list())"
    },
    "r": {
     "delete_cmd_postfix": ") ",
     "delete_cmd_prefix": "rm(",
     "library": "var_list.r",
     "varRefreshCmd": "cat(var_dic_list()) "
    }
   },
   "types_to_exclude": [
    "module",
    "function",
    "builtin_function_or_method",
    "instance",
    "_Feature"
   ],
   "window_display": false
  }
 },
 "nbformat": 4,
 "nbformat_minor": 2
}
