{
 "cells": [
  {
   "cell_type": "markdown",
   "metadata": {},
   "source": [
    "https://leetcode.com/problems/binary-tree-inorder-traversal/description/\n",
    "    \n",
    "https://github.com/azl397985856/leetcode/blob/master/problems/94.binary-tree-inorder-traversal.md\n",
    "\n",
    "Given a binary tree, return the inorder traversal of its nodes' values.\n",
    "\n",
    "Example:\n",
    "\n",
    "Input: [1,null,2,3]\n",
    "\n",
    "Output: [1,3,2]"
   ]
  },
  {
   "cell_type": "markdown",
   "metadata": {},
   "source": [
    "树的遍历：https://blog.csdn.net/My_Jobs/article/details/43451187"
   ]
  },
  {
   "cell_type": "markdown",
   "metadata": {},
   "source": [
    "### Solution 1\n",
    ">递归<br>\n",
    "ans = left + root + right\n",
    "\n",
    "Runtime: **12 ms**, faster than 92.67% of Python online submissions for Binary Tree Inorder Traversal.<br>\n",
    "Memory Usage: **11.8 MB**, less than 23.75% of Python online submissions for Binary Tree Inorder Traversal."
   ]
  },
  {
   "cell_type": "code",
   "execution_count": 1,
   "metadata": {
    "ExecuteTime": {
     "end_time": "2019-10-28T15:52:46.951815Z",
     "start_time": "2019-10-28T15:52:46.946856Z"
    }
   },
   "outputs": [],
   "source": [
    "class Solution(object):\n",
    "    def inorderTraversal(self, root):\n",
    "        \"\"\"\n",
    "        :type root: TreeNode\n",
    "        :rtype: List[int]\n",
    "        author: Chong\n",
    "        \"\"\"\n",
    "        if not root:\n",
    "            return []\n",
    "\n",
    "        def traverasl(root):\n",
    "            left = root.left\n",
    "            right = root.right\n",
    "            if left:\n",
    "                left_ans = traverasl(left)\n",
    "            else:\n",
    "                left_ans = []\n",
    "            if right:\n",
    "                right_ans = traverasl(right)\n",
    "            else:\n",
    "                right_ans = []\n",
    "            ans = left_ans + [root.val] + right_ans\n",
    "            return ans\n",
    "\n",
    "        ans = traverasl(root)\n",
    "        return ans"
   ]
  },
  {
   "cell_type": "markdown",
   "metadata": {},
   "source": [
    "### Solution 2\n",
    ">递归 改进\n",
    "\n",
    "Runtime: **12 ms**, faster than 92.67% of Python online submissions for Binary Tree Inorder Traversal.<br>\n",
    "Memory Usage: **11.8 MB**, less than 46.25% of Python online submissions for Binary Tree Inorder Traversal."
   ]
  },
  {
   "cell_type": "code",
   "execution_count": 2,
   "metadata": {
    "ExecuteTime": {
     "end_time": "2019-10-28T16:05:06.695311Z",
     "start_time": "2019-10-28T16:05:06.691314Z"
    }
   },
   "outputs": [],
   "source": [
    "class Solution(object):\n",
    "    def inorderTraversal(self, root):\n",
    "        \"\"\"\n",
    "        :type root: TreeNode\n",
    "        :rtype: List[int]\n",
    "        \"\"\"\n",
    "        if root is None:\n",
    "            return []\n",
    "        return self.inorderTraversal(root.left)\\\n",
    "            + [root.val]\\\n",
    "            + self.inorderTraversal(root.right)"
   ]
  },
  {
   "cell_type": "markdown",
   "metadata": {},
   "source": [
    "### Solution 3\n",
    ">堆栈<br>\n",
    "可深入(1, node), 已遍历左右的节点(0, node)<br>\n",
    "堆栈初始化: (1,root)<br>\n",
    "堆栈设计：压入(1, right), (0, root), (1, left)<br>\n",
    "依次取出：如果(0, node)存值， 如果 node =None 跳过\n",
    "\n",
    "Runtime: **16 ms**, faster than 73.34% of Python online submissions for Binary Tree Inorder Traversal.<br>\n",
    "Memory Usage: **11.9 MB**, less than 20.00% of Python online submissions for Binary Tree Inorder Traversal."
   ]
  },
  {
   "cell_type": "code",
   "execution_count": 3,
   "metadata": {
    "ExecuteTime": {
     "end_time": "2019-10-28T16:10:06.274324Z",
     "start_time": "2019-10-28T16:10:06.268330Z"
    }
   },
   "outputs": [],
   "source": [
    "class Solution(object):\n",
    "    def inorderTraversal(self, root):\n",
    "        \"\"\"\n",
    "        :type root: TreeNode\n",
    "        :rtype: List[int]\n",
    "        \"\"\"\n",
    "        result = []\n",
    "        stack = [(1, root)]\n",
    "        while stack:\n",
    "            go_deeper, node = stack.pop()\n",
    "            if node is None:\n",
    "                continue\n",
    "            if go_deeper:\n",
    "                # 左右节点还需继续深化，并且入栈是先右后左\n",
    "                stack.append((1, node.right))\n",
    "                # 节点自身已遍历，回头可以直接取值\n",
    "                stack.append((0, node))\n",
    "                stack.append((1, node.left))\n",
    "            else:\n",
    "                result.append(node.val)\n",
    "        return result"
   ]
  },
  {
   "cell_type": "code",
   "execution_count": null,
   "metadata": {},
   "outputs": [],
   "source": []
  }
 ],
 "metadata": {
  "kernelspec": {
   "display_name": "Python 3",
   "language": "python",
   "name": "python3"
  },
  "language_info": {
   "codemirror_mode": {
    "name": "ipython",
    "version": 3
   },
   "file_extension": ".py",
   "mimetype": "text/x-python",
   "name": "python",
   "nbconvert_exporter": "python",
   "pygments_lexer": "ipython3",
   "version": "3.6.5"
  },
  "varInspector": {
   "cols": {
    "lenName": 16,
    "lenType": 16,
    "lenVar": 40
   },
   "kernels_config": {
    "python": {
     "delete_cmd_postfix": "",
     "delete_cmd_prefix": "del ",
     "library": "var_list.py",
     "varRefreshCmd": "print(var_dic_list())"
    },
    "r": {
     "delete_cmd_postfix": ") ",
     "delete_cmd_prefix": "rm(",
     "library": "var_list.r",
     "varRefreshCmd": "cat(var_dic_list()) "
    }
   },
   "types_to_exclude": [
    "module",
    "function",
    "builtin_function_or_method",
    "instance",
    "_Feature"
   ],
   "window_display": false
  }
 },
 "nbformat": 4,
 "nbformat_minor": 2
}
