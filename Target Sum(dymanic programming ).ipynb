{
 "cells": [
  {
   "cell_type": "markdown",
   "metadata": {},
   "source": [
    "https://leetcode.com/problems/target-sum/description/\n",
    "\n",
    "\n",
    "You are given a list of non-negative integers, a1, a2, ..., an, and a target, S. Now you have 2 symbols + and -. For each integer, you should choose one from + and - as its new symbol.\n",
    "\n",
    "Find out how many ways to assign symbols to make sum of integers equal to target S.\n",
    "\n",
    "Example 1:<br>\n",
    "Input: nums is [1, 1, 1, 1, 1], S is 3. <br>\n",
    "Output: 5<br>\n",
    "Explanation: \n",
    "\n",
    "-1+1+1+1+1 = 3<br>\n",
    "+1-1+1+1+1 = 3<br>\n",
    "+1+1-1+1+1 = 3<br>\n",
    "+1+1+1-1+1 = 3<br>\n",
    "+1+1+1+1-1 = 3\n",
    "\n",
    "There are 5 ways to assign symbols to make the sum of nums be target 3.<br>\n",
    "Note:<br>\n",
    "The length of the given array is positive and will not exceed 20.<br>\n",
    "The sum of elements in the given array will not exceed 1000.<br>\n",
    "Your output answer is guaranteed to be fitted in a 32-bit integer."
   ]
  },
  {
   "cell_type": "markdown",
   "metadata": {},
   "source": [
    "### Solution 1 dynamic programming\n",
    "\n",
    "> sum(k) - sum(nums - k) = S, so, sum(k) = (sum(nums) + S) // 2<br>\n",
    "The problem now is to find the number of combinations of using numbers in nums to make up target <br>\n",
    "for every num in nums, dp[i] += dp[i-num] when i in ranged from target to num(using num can only make up to number > num)\n",
    "\n",
    "\n",
    "Runtime: 56 ms, faster than **98.44%** of Python online submissions for Target Sum.<br>\n",
    "Memory Usage: 11.8 MB, less than **100.00%** of Python online submissions for Target Sum."
   ]
  },
  {
   "cell_type": "code",
   "execution_count": 135,
   "metadata": {},
   "outputs": [],
   "source": [
    "class Solution(object):\n",
    "    def findTargetSumWays(self, nums, S):\n",
    "        \"\"\"\n",
    "        :type nums: List[int]\n",
    "        :type S: int\n",
    "        :rtype: int\n",
    "        author: Chong \n",
    "        \"\"\"\n",
    "        if sum(nums)<S:\n",
    "            return 0\n",
    "        if (sum(nums)+S)%2 == 1:\n",
    "            return 0\n",
    "        target = (sum(nums)+S)//2\n",
    "        dp = [0]*(target + 1)\n",
    "        dp[0] = 1\n",
    "        for num in nums:\n",
    "            for i in range(target, num-1, -1):\n",
    "                dp[i] += dp[i-num]\n",
    "        return dp[-1]"
   ]
  },
  {
   "cell_type": "code",
   "execution_count": 137,
   "metadata": {},
   "outputs": [
    {
     "data": {
      "text/plain": [
       "8"
      ]
     },
     "execution_count": 137,
     "metadata": {},
     "output_type": "execute_result"
    }
   ],
   "source": [
    "a = Solution()\n",
    "nums = [0,0,0,1]\n",
    "S = 1\n",
    "a.findTargetSumWays(nums, S)"
   ]
  },
  {
   "cell_type": "markdown",
   "metadata": {},
   "source": [
    "**dfs**\n",
    "\n",
    "problem: takes too long time"
   ]
  },
  {
   "cell_type": "code",
   "execution_count": 69,
   "metadata": {},
   "outputs": [],
   "source": [
    "class Solution(object):\n",
    "    def findTargetSumWays(self, nums, S):\n",
    "        \"\"\"\n",
    "        :type nums: List[int]\n",
    "        :type S: int\n",
    "        :rtype: int\n",
    "        \"\"\"\n",
    "        self.ans = 0\n",
    "        def dfs(nums, amount, S):\n",
    "            if S - amount > sum(nums) or S - amount < -sum(nums):\n",
    "                return\n",
    "            if len(nums) == 0:\n",
    "                if amount == S:\n",
    "                    self.ans += 1\n",
    "                    return \n",
    "            else:\n",
    "                dfs(nums[1:], amount+nums[0], S)\n",
    "                dfs(nums[1:], amount-nums[0], S)\n",
    "        dfs(nums, 0, S)\n",
    "        return self.ans"
   ]
  }
 ],
 "metadata": {
  "kernelspec": {
   "display_name": "Python 3",
   "language": "python",
   "name": "python3"
  },
  "language_info": {
   "codemirror_mode": {
    "name": "ipython",
    "version": 3
   },
   "file_extension": ".py",
   "mimetype": "text/x-python",
   "name": "python",
   "nbconvert_exporter": "python",
   "pygments_lexer": "ipython3",
   "version": "3.6.5"
  }
 },
 "nbformat": 4,
 "nbformat_minor": 2
}
