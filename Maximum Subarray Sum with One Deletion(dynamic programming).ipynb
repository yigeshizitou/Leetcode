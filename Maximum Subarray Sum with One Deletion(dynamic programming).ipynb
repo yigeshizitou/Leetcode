{
 "cells": [
  {
   "cell_type": "markdown",
   "metadata": {},
   "source": [
    "https://leetcode.com/problems/maximum-subarray-sum-with-one-deletion/\n",
    "    \n",
    "Given an array of integers, return the maximum sum for a non-empty subarray (contiguous elements) with at most one element deletion. In other words, you want to choose a subarray and optionally delete one element from it so that there is still at least one element left and the sum of the remaining elements is maximum possible.\n",
    "\n",
    "Note that the subarray needs to be non-empty after deleting one element.\n",
    "\n",
    " \n",
    "\n",
    "Example 1:\n",
    "\n",
    "Input: arr = [1,-2,0,3]<br>\n",
    "Output: 4<br>\n",
    "Explanation: Because we can choose [1, -2, 0, 3] and drop -2, thus the subarray [1, 0, 3] becomes the maximum value.<br>\n",
    "Example 2:\n",
    "\n",
    "Input: arr = [1,-2,-2,3]<br>\n",
    "Output: 3<br>\n",
    "Explanation: We just choose [3] and it's the maximum sum.<br>\n",
    "Example 3:\n",
    "\n",
    "Input: arr = [-1,-1,-1,-1]<br>\n",
    "Output: -1<br>\n",
    "Explanation: The final subarray needs to be non-empty. You can't choose [-1] and delete -1 from it, then get an empty subarray to make the sum equals to 0."
   ]
  },
  {
   "cell_type": "markdown",
   "metadata": {},
   "source": [
    "### Solution 1 dynamic programming \n",
    ">定义max0，表示以arr[i]结尾且一个都不漏的最大子数组和<br>\n",
    "定义max1，表示以arr[i]或者arr[i - 1]结尾，可以漏一个的最大子数组和<br>\n",
    "遍历数组，更新max1和max0（注意先更新max1，因为max1用到了上一个max0）<br>\n",
    "其中 max1 = max(max1 + arr[i], max0), 即删除arr[i - 1]或者删除arr[i]<br>\n",
    "其中 max0 = max(max0 + arr[i], arr[i])， 一个都不删除\n",
    "\n",
    "Runtime: **220 ms**, faster than 89.80% of Python online submissions for Maximum Subarray Sum with One Deletion.<br>\n",
    "Memory Usage: **19.7 MB**, less than 100.00% of Python online submissions for Maximum Subarray Sum with One Deletion."
   ]
  },
  {
   "cell_type": "code",
   "execution_count": 21,
   "metadata": {},
   "outputs": [],
   "source": [
    "class Solution(object):\n",
    "    def maximumSum(self, arr):\n",
    "        \"\"\"\n",
    "        :type arr: List[int]\n",
    "        :rtype: int\n",
    "        \"\"\"\n",
    "        max0 = arr[0]\n",
    "        max1 = arr[0]\n",
    "        res = arr[0]\n",
    "        n = len(arr)\n",
    "        if n == 1:\n",
    "            return max0\n",
    "\n",
    "        for i in range(1, n):\n",
    "            max1 = max(max1 + arr[i], max0)\n",
    "            max0 = max(max0 + arr[i], arr[i])\n",
    "            res = max(res, max0, max1)\n",
    "        return res"
   ]
  },
  {
   "cell_type": "code",
   "execution_count": 22,
   "metadata": {},
   "outputs": [
    {
     "data": {
      "text/plain": [
       "17"
      ]
     },
     "execution_count": 22,
     "metadata": {},
     "output_type": "execute_result"
    }
   ],
   "source": [
    "a = Solution()\n",
    "arr = [8,-1,6,-7,-4,5,-4,7,-6]\n",
    "a.maximumSum(arr)"
   ]
  }
 ],
 "metadata": {
  "kernelspec": {
   "display_name": "Python 3",
   "language": "python",
   "name": "python3"
  },
  "language_info": {
   "codemirror_mode": {
    "name": "ipython",
    "version": 3
   },
   "file_extension": ".py",
   "mimetype": "text/x-python",
   "name": "python",
   "nbconvert_exporter": "python",
   "pygments_lexer": "ipython3",
   "version": "3.6.5"
  }
 },
 "nbformat": 4,
 "nbformat_minor": 2
}
