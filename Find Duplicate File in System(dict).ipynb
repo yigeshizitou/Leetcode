{
 "cells": [
  {
   "cell_type": "markdown",
   "metadata": {},
   "source": [
    "https://leetcode.com/problems/find-duplicate-file-in-system/\n",
    "\n",
    "Given a list of directory info including directory path, and all the files with contents in this directory, you need to find out all the groups of duplicate files in the file system in terms of their paths.\n",
    "\n",
    "A group of duplicate files consists of at least two files that have exactly the same content.\n",
    "\n",
    "A single directory info string in the input list has the following format:\n",
    "\n",
    "\"root/d1/d2/.../dm f1.txt(f1_content) f2.txt(f2_content) ... fn.txt(fn_content)\"\n",
    "\n",
    "It means there are n files (f1.txt, f2.txt ... fn.txt with content f1_content, f2_content ... fn_content, respectively) in directory root/d1/d2/.../dm. Note that n >= 1 and m >= 0. If m = 0, it means the directory is just the root directory.\n",
    "\n",
    "The output is a list of group of duplicate file paths. For each group, it contains all the file paths of the files that have the same content. A file path is a string that has the following format:\n",
    "\n",
    "\"directory_path/file_name.txt\"\n",
    "\n",
    "Example 1:\n",
    "\n",
    "Input:<br>\n",
    "[\"root/a 1.txt(abcd) 2.txt(efgh)\", \"root/c 3.txt(abcd)\", \"root/c/d 4.txt(efgh)\", \"root 4.txt(efgh)\"]<br>\n",
    "Output:  <br>\n",
    "[[\"root/a/2.txt\",\"root/c/d/4.txt\",\"root/4.txt\"],[\"root/a/1.txt\",\"root/c/3.txt\"]]"
   ]
  },
  {
   "cell_type": "markdown",
   "metadata": {},
   "source": [
    "### Solution 1 \n",
    "> string operation to seperate root, path, content.<br>\n",
    "collect root + path according to content\n",
    "\n",
    "Runtime: **76 ms**, faster than 97.22% of Python online submissions for Find Duplicate File in System.<br>\n",
    "Memory Usage: **28.1 MB**, less than 50.00% of Python online submissions for Find Duplicate File in System."
   ]
  },
  {
   "cell_type": "code",
   "execution_count": 42,
   "metadata": {},
   "outputs": [],
   "source": [
    "class Solution(object):\n",
    "    def findDuplicate(self, paths):\n",
    "        \"\"\"\n",
    "        :type paths: List[str]\n",
    "        :rtype: List[List[str]]\n",
    "        author: Chong\n",
    "        \"\"\"\n",
    "        dict_paths = {}\n",
    "        for path in paths:\n",
    "            path_split = path.split()\n",
    "            root = path_split[0]\n",
    "            for i in range(1, len(path_split)):\n",
    "                loc = path_split[i].find('(')\n",
    "                p = path_split[i][:loc]\n",
    "                content = path_split[i][loc+1:-1]\n",
    "                if content not in dict_paths:\n",
    "                    dict_paths[content] = [root+'/'+p]\n",
    "                else:\n",
    "                    dict_paths[content].append(root+'/'+p)\n",
    "        values = sorted(list(dict_paths.values()), key = len, reverse = True) \n",
    "        ans = []\n",
    "        for value in values:\n",
    "            if len(value) > 1:\n",
    "                ans.append(value)\n",
    "        return  ans"
   ]
  },
  {
   "cell_type": "code",
   "execution_count": 44,
   "metadata": {},
   "outputs": [
    {
     "data": {
      "text/plain": [
       "[['root/a/2.txt', 'root/c/d/4.txt', 'root/4.txt'],\n",
       " ['root/a/1.txt', 'root/c/3.txt']]"
      ]
     },
     "execution_count": 44,
     "metadata": {},
     "output_type": "execute_result"
    }
   ],
   "source": [
    "a= Solution()\n",
    "paths = [\"root/a 1.txt(abcd) 2.txt(efgh)\",\"root/c 3.txt(abcd)\",\"root/c/d 4.txt(efgh)\",\"root 4.txt(efgh)\"]\n",
    "a.findDuplicate(paths)"
   ]
  }
 ],
 "metadata": {
  "kernelspec": {
   "display_name": "Python 3",
   "language": "python",
   "name": "python3"
  },
  "language_info": {
   "codemirror_mode": {
    "name": "ipython",
    "version": 3
   },
   "file_extension": ".py",
   "mimetype": "text/x-python",
   "name": "python",
   "nbconvert_exporter": "python",
   "pygments_lexer": "ipython3",
   "version": "3.6.5"
  }
 },
 "nbformat": 4,
 "nbformat_minor": 2
}
