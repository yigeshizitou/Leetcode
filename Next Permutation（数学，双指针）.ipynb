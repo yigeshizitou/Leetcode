{
 "cells": [
  {
   "cell_type": "markdown",
   "metadata": {},
   "source": [
    "https://leetcode.com/problems/next-permutation/description/\n",
    "\n",
    "https://github.com/azl397985856/leetcode/blob/master/problems/31.next-permutation.md\n",
    "\n",
    "Implement next permutation, which rearranges numbers into the lexicographically next greater permutation of numbers.\n",
    "\n",
    "If such arrangement is not possible, it must rearrange it as the lowest possible order (ie, sorted in ascending order).\n",
    "\n",
    "The replacement must be in-place and use only constant extra memory.\n",
    "\n",
    "Here are some examples. Inputs are in the left-hand column and its corresponding outputs are in the right-hand column.\n",
    "\n",
    "1,2,3 → 1,3,2<br>\n",
    "3,2,1 → 1,2,3<br>\n",
    "1,1,5 → 1,5,1<br>"
   ]
  },
  {
   "cell_type": "markdown",
   "metadata": {},
   "source": [
    "### Solution 1\n",
    ">判断降序直接返回<br>\n",
    "选定交换点p,q<br>\n",
    "首位交换p后的序列\n",
    "\n",
    "\n",
    "Runtime: **40 ms**, faster than 5.68% of Python online submissions for Next Permutation.<br>\n",
    "Memory Usage: **11.8 MB**, less than 43.40% of Python online submissions for Next Permutation."
   ]
  },
  {
   "cell_type": "code",
   "execution_count": 40,
   "metadata": {
    "ExecuteTime": {
     "end_time": "2019-10-03T21:01:53.945632Z",
     "start_time": "2019-10-03T21:01:53.937655Z"
    }
   },
   "outputs": [],
   "source": [
    "def nextPermutation(nums):\n",
    "    \"\"\"\n",
    "    :type nums: List[int]\n",
    "    :rtype: None Do not return anything, modify nums in-place instead.\n",
    "    author: Chong\n",
    "    \"\"\"\n",
    "    if sorted(nums) == nums[::-1]:\n",
    "        return nums.reverse()\n",
    "    p, q = len(nums)-1, len(nums)-1\n",
    "    while p > 0:\n",
    "        if nums[p] > nums[p-1]:\n",
    "            p -= 1\n",
    "            break\n",
    "        p -= 1\n",
    "    for i in range(len(nums)-1, p, -1):\n",
    "        if nums[i] > nums[p]:\n",
    "            print(i)\n",
    "            q = i\n",
    "            break\n",
    "    print(p, q)\n",
    "    nums[p], nums[q] = nums[q], nums[p]\n",
    "    print(nums)\n",
    "    s, t = p+1, len(nums)-1\n",
    "    while s < t:\n",
    "        nums[s], nums[t] = nums[t], nums[s]\n",
    "        s += 1\n",
    "        t -= 1\n",
    "    return nums"
   ]
  },
  {
   "cell_type": "markdown",
   "metadata": {},
   "source": [
    "### Solution 2\n",
    ">交换点p提前设置为None,方便判断是否为降序\n",
    "\n",
    "\n",
    "Runtime: **32 ms**, faster than 37.07% of Python online submissions for Next Permutation.<br>\n",
    "Memory Usage: **11.6 MB**, less than 100.00% of Python online submissions for Next Permutation."
   ]
  },
  {
   "cell_type": "code",
   "execution_count": 43,
   "metadata": {
    "ExecuteTime": {
     "end_time": "2019-10-03T21:07:03.960496Z",
     "start_time": "2019-10-03T21:07:03.955509Z"
    }
   },
   "outputs": [],
   "source": [
    "def nextPermutation(nums):\n",
    "    \"\"\"\n",
    "    :type nums: List[int]\n",
    "    :rtype: None Do not return anything, modify nums in-place instead.\n",
    "    \"\"\"\n",
    "    down_index = None\n",
    "    for i in range(len(nums)-2, -1, -1):\n",
    "        if nums[i] < nums[i+1]:\n",
    "            down_index = i\n",
    "            break\n",
    "    # 如果没有下降点，重新排列\n",
    "    if down_index is None:\n",
    "        nums.reverse()\n",
    "    # 如果有下降点\n",
    "    else:\n",
    "        # 第二步，从后往前，找到比下降点大的数，对换位置\n",
    "        for i in range(len(nums)-1, i, -1):\n",
    "            if nums[down_index] < nums[i]:\n",
    "                nums[down_index], nums[i] = nums[i], nums[down_index]\n",
    "                break\n",
    "        # 第三步，重新排列下降点之后的数\n",
    "        i, j = down_index+1, len(nums)-1\n",
    "        while i < j:\n",
    "            nums[i], nums[j] = nums[j], nums[i]\n",
    "            i += 1\n",
    "            j -= 1"
   ]
  },
  {
   "cell_type": "markdown",
   "metadata": {},
   "source": [
    "### Solution 3\n",
    ">双指针\n",
    "\n",
    "\n",
    "Runtime: **24 ms**, faster than 87.32% of Python online submissions for Next Permutation.<br>\n",
    "Memory Usage: **11.8 MB**, less than 43.40% of Python online submissions for Next Permutation."
   ]
  },
  {
   "cell_type": "code",
   "execution_count": 47,
   "metadata": {
    "ExecuteTime": {
     "end_time": "2019-10-03T21:10:50.520468Z",
     "start_time": "2019-10-03T21:10:50.516476Z"
    }
   },
   "outputs": [],
   "source": [
    "def nextPermutation(nums):\n",
    "    \"\"\"\n",
    "    :type nums: List[int]\n",
    "    :rtype: None Do not return anything, modify nums in-place instead.\n",
    "    \"\"\"\n",
    "    i = j = len(nums)-1\n",
    "    while i > 0 and nums[i-1] >= nums[i]:\n",
    "        i -= 1\n",
    "    if i == 0:   # nums are in descending order\n",
    "        nums.reverse()\n",
    "        return\n",
    "    k = i - 1    # find the last \"ascending\" position\n",
    "    while nums[j] <= nums[k]:\n",
    "        j -= 1\n",
    "    nums[k], nums[j] = nums[j], nums[k]\n",
    "    l, r = k+1, len(nums)-1  # reverse the second part\n",
    "    while l < r:\n",
    "        nums[l], nums[r] = nums[r], nums[l]\n",
    "        l += 1\n",
    "        r -= 1"
   ]
  },
  {
   "cell_type": "code",
   "execution_count": 48,
   "metadata": {
    "ExecuteTime": {
     "end_time": "2019-10-03T21:10:51.799475Z",
     "start_time": "2019-10-03T21:10:51.794491Z"
    },
    "scrolled": true
   },
   "outputs": [
    {
     "data": {
      "text/plain": [
       "[2, 1, 1]"
      ]
     },
     "execution_count": 48,
     "metadata": {},
     "output_type": "execute_result"
    }
   ],
   "source": [
    "nums = [1,2,1]\n",
    "nextPermutation(nums)\n",
    "nums"
   ]
  }
 ],
 "metadata": {
  "kernelspec": {
   "display_name": "Python 3",
   "language": "python",
   "name": "python3"
  },
  "language_info": {
   "codemirror_mode": {
    "name": "ipython",
    "version": 3
   },
   "file_extension": ".py",
   "mimetype": "text/x-python",
   "name": "python",
   "nbconvert_exporter": "python",
   "pygments_lexer": "ipython3",
   "version": "3.6.5"
  },
  "varInspector": {
   "cols": {
    "lenName": 16,
    "lenType": 16,
    "lenVar": 40
   },
   "kernels_config": {
    "python": {
     "delete_cmd_postfix": "",
     "delete_cmd_prefix": "del ",
     "library": "var_list.py",
     "varRefreshCmd": "print(var_dic_list())"
    },
    "r": {
     "delete_cmd_postfix": ") ",
     "delete_cmd_prefix": "rm(",
     "library": "var_list.r",
     "varRefreshCmd": "cat(var_dic_list()) "
    }
   },
   "types_to_exclude": [
    "module",
    "function",
    "builtin_function_or_method",
    "instance",
    "_Feature"
   ],
   "window_display": false
  }
 },
 "nbformat": 4,
 "nbformat_minor": 2
}
