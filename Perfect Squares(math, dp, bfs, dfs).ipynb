{
 "cells": [
  {
   "cell_type": "markdown",
   "metadata": {},
   "source": [
    "https://leetcode.com/problems/perfect-squares/\n",
    "\n",
    "Given a positive integer n, find the least number of perfect square numbers (for example, 1, 4, 9, 16, ...) which sum to n.\n",
    "\n",
    "Example 1:\n",
    "\n",
    "Input: n = 12<br>\n",
    "Output: 3 <br>\n",
    "Explanation: 12 = 4 + 4 + 4.<br>\n",
    "Example 2:\n",
    "\n",
    "Input: n = 13<br>\n",
    "Output: 2<br>\n",
    "Explanation: 13 = 4 + 9."
   ]
  },
  {
   "cell_type": "markdown",
   "metadata": {},
   "source": [
    "### Solution 1 dynamic programming\n",
    "> i 为整数的平方时， dp[i] = 1<br>\n",
    "否则，dp[i] = dp[j\\*j] + dp[i-j*j]\n",
    "\n",
    "\n",
    "Runtime: **4168 ms**, faster than 25.02% of Python online submissions for Perfect Squares.<br>\n",
    "Memory Usage: **11.9 MB**, less than 56.00% of Python online submissions for Perfect Squares."
   ]
  },
  {
   "cell_type": "code",
   "execution_count": 1,
   "metadata": {
    "ExecuteTime": {
     "end_time": "2019-12-17T22:55:53.352568Z",
     "start_time": "2019-12-17T22:55:53.347568Z"
    }
   },
   "outputs": [],
   "source": [
    "class Solution(object):\n",
    "    def numSquares(self, n):\n",
    "        \"\"\"\n",
    "        :type n: int\n",
    "        :rtype: int\n",
    "        author: Chong\n",
    "        \"\"\"\n",
    "        dp = [n]*(n+1)\n",
    "        dp[0] = 1\n",
    "        dp[1] = 1\n",
    "        for i in range(2, n+1):\n",
    "            if int((i)**0.5) == (i)**0.5:\n",
    "                dp[i] = 1\n",
    "            else:\n",
    "                for j in range(int((i)**0.5), 0, -1):\n",
    "                    dp[i] = min(dp[i], dp[j*j]+dp[i-j*j])\n",
    "        return dp[-1]"
   ]
  },
  {
   "cell_type": "markdown",
   "metadata": {},
   "source": [
    "### Solution 2 math\n",
    "> if n\\*\\*(0.5) == int(n\\*\\*0.5): return 1<br>\n",
    "四平方和定理： 满足 $4^k(8m+7)$ return 4<br>\n",
    "满足 $ i^2+j^2 = n $ return 2<br>\n",
    "其余 return 3\n",
    "\n",
    "Runtime: **20 ms**, faster than 99.44% of Python online submissions for Perfect Squares.<br>\n",
    "Memory Usage: **11.8 MB**, less than 68.00% of Python online submissions for Perfect Squares."
   ]
  },
  {
   "cell_type": "code",
   "execution_count": 2,
   "metadata": {
    "ExecuteTime": {
     "end_time": "2019-12-17T22:55:53.367573Z",
     "start_time": "2019-12-17T22:55:53.354568Z"
    }
   },
   "outputs": [],
   "source": [
    "class Solution:\n",
    "    def numSquares(self, n):\n",
    "        if n**(0.5) == int(n**0.5):\n",
    "            return 1\n",
    "\n",
    "        while (n & 3 == 0):\n",
    "            n >>= 2\n",
    "        if n & 7 == 7:\n",
    "            return 4\n",
    "\n",
    "        for i in range(1, int(n**(0.5))+1):\n",
    "            if (n-i*i)**(0.5) == int((n-i*i)**(0.5)):\n",
    "                return 2\n",
    "        return 3"
   ]
  },
  {
   "cell_type": "markdown",
   "metadata": {},
   "source": [
    "### Solution 3 dfs\n",
    "\n",
    ">$nums[i] = i^2$ <br>\n",
    "dfs: 对 nums 里的每个数，dfs(nums[i:])\n",
    "\n",
    "Runtime: **220 ms**, faster than 84.85% of Python online submissions for Perfect Squares.<br>\n",
    "Memory Usage: **11.7 MB**, less than 88.00% of Python online submissions for Perfect Squares."
   ]
  },
  {
   "cell_type": "code",
   "execution_count": 3,
   "metadata": {
    "ExecuteTime": {
     "end_time": "2019-12-17T22:55:53.377571Z",
     "start_time": "2019-12-17T22:55:53.369572Z"
    }
   },
   "outputs": [],
   "source": [
    "class Solution:\n",
    "    def numSquares(self, n):\n",
    "        mm = 2**32-1\n",
    "        squarenums = []\n",
    "        x = 1\n",
    "        while x*x < mm and x*x < n:\n",
    "            squarenums.append(x*x)\n",
    "            x += 1\n",
    "\n",
    "        if x*x == n:\n",
    "            return 1\n",
    "        squarenums = sorted(squarenums, reverse=True)\n",
    "        self.result = n\n",
    "        self.dfs(squarenums, 0, 0, n)\n",
    "        return self.result\n",
    "\n",
    "    def dfs(self, nums, cursum, cnt, n):\n",
    "        if cursum == n:\n",
    "            self.result = cnt\n",
    "\n",
    "        for i, x in enumerate(nums):\n",
    "            if cursum+x <= n and cursum+x*(self.result-cnt) > n:\n",
    "                self.dfs(nums[i:], cursum+x, cnt+1, n)"
   ]
  },
  {
   "cell_type": "markdown",
   "metadata": {},
   "source": [
    "### Solution 4 dynamic programming\n",
    "> dp[i] = min(dp[i-j\\*j]) +1\n",
    "\n",
    "Runtime: **2056 ms**, faster than 67.21% of Python online submissions for Perfect Squares.<br>\n",
    "Memory Usage: **11.9 MB**, less than 56.00% of Python online submissions for Perfect Squares."
   ]
  },
  {
   "cell_type": "code",
   "execution_count": 4,
   "metadata": {
    "ExecuteTime": {
     "end_time": "2019-12-17T22:55:53.385570Z",
     "start_time": "2019-12-17T22:55:53.379568Z"
    }
   },
   "outputs": [],
   "source": [
    "class Solution:\n",
    "    def numSquares(self, n):\n",
    "        dp = [0] + [float('inf')]*n\n",
    "        for i in range(1, n+1):\n",
    "            dp[i] = min(dp[i-j*j] for j in range(1, int(i**0.5)+1)) + 1\n",
    "        return dp[n]"
   ]
  },
  {
   "cell_type": "markdown",
   "metadata": {},
   "source": [
    "### Solution 5 bfs\n",
    ">可以看作从根节点出发，往下搜索子节点，找到匹配则返回深度即可，相当于最短路径，当然是广度优先搜索BFS.<br>\n",
    "每次遍历前先获取当层节点数，即队列长度。然后依次遍历该节点子节点，如果长度符合则返回，不符合且是第一次访问，则添加到队列中去，如果已经访问过，则不需要添加。\n",
    "\n",
    "![avatar](https://pic.leetcode-cn.com/d97573239c82014d675e25e406748a1301a3de655c3e5a5e0566dabeb5e33b0d.png)\n",
    "Runtime: **172 ms**, faster than 92.69% of Python online submissions for Perfect Squares.<br>\n",
    "Memory Usage: **12.8 MB**, less than 28.00% of Python online submissions for Perfect Squares"
   ]
  },
  {
   "cell_type": "code",
   "execution_count": 5,
   "metadata": {
    "ExecuteTime": {
     "end_time": "2019-12-17T22:55:53.392601Z",
     "start_time": "2019-12-17T22:55:53.386570Z"
    }
   },
   "outputs": [],
   "source": [
    "class Solution:\n",
    "    def numSquares(self, n):\n",
    "        squares = [i**2 for i in range(1, int(n**0.5)+1)]\n",
    "        d, q, nq = 1, {n}, set()\n",
    "        while q:\n",
    "            for node in q:\n",
    "                for square in squares:\n",
    "                    if node == square: return d\n",
    "                    if node < square: break\n",
    "                    nq.add(node-square)\n",
    "            q, nq, d = nq, set(), d+1"
   ]
  },
  {
   "cell_type": "code",
   "execution_count": 6,
   "metadata": {
    "ExecuteTime": {
     "end_time": "2019-12-17T22:55:53.403573Z",
     "start_time": "2019-12-17T22:55:53.394572Z"
    },
    "scrolled": false
   },
   "outputs": [
    {
     "data": {
      "text/plain": [
       "4"
      ]
     },
     "execution_count": 6,
     "metadata": {},
     "output_type": "execute_result"
    }
   ],
   "source": [
    "a = Solution()\n",
    "a.numSquares(15)"
   ]
  }
 ],
 "metadata": {
  "kernelspec": {
   "display_name": "Python 3",
   "language": "python",
   "name": "python3"
  },
  "language_info": {
   "codemirror_mode": {
    "name": "ipython",
    "version": 3
   },
   "file_extension": ".py",
   "mimetype": "text/x-python",
   "name": "python",
   "nbconvert_exporter": "python",
   "pygments_lexer": "ipython3",
   "version": "3.6.5"
  },
  "varInspector": {
   "cols": {
    "lenName": 16,
    "lenType": 16,
    "lenVar": 40
   },
   "kernels_config": {
    "python": {
     "delete_cmd_postfix": "",
     "delete_cmd_prefix": "del ",
     "library": "var_list.py",
     "varRefreshCmd": "print(var_dic_list())"
    },
    "r": {
     "delete_cmd_postfix": ") ",
     "delete_cmd_prefix": "rm(",
     "library": "var_list.r",
     "varRefreshCmd": "cat(var_dic_list()) "
    }
   },
   "types_to_exclude": [
    "module",
    "function",
    "builtin_function_or_method",
    "instance",
    "_Feature"
   ],
   "window_display": false
  }
 },
 "nbformat": 4,
 "nbformat_minor": 2
}
