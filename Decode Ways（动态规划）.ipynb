{
 "cells": [
  {
   "cell_type": "markdown",
   "metadata": {},
   "source": [
    "https://leetcode.com/problems/decode-ways/description/\n",
    "\n",
    "https://github.com/azl397985856/leetcode/blob/master/problems/91.decode-ways.md\n",
    "\n",
    "A message containing letters from A-Z is being encoded to numbers using the following mapping:\n",
    "\n",
    "'A' -> 1<br>\n",
    "'B' -> 2<br>\n",
    "...<br>\n",
    "'Z' -> 26<br>\n",
    "Given a non-empty string containing only digits, determine the total number of ways to decode it.\n",
    "\n",
    "Example 1:\n",
    "\n",
    "Input: \"12\"<br>\n",
    "Output: 2<br>\n",
    "Explanation: It could be decoded as \"AB\" (1 2) or \"L\" (12).<br>\n",
    "Example 2:\n",
    "\n",
    "Input: \"226\"<br>\n",
    "Output: 3<br>\n",
    "Explanation: It could be decoded as \"BZ\" (2 26), \"VF\" (22 6), or \"BBF\" (2 2 6).<br>"
   ]
  },
  {
   "cell_type": "markdown",
   "metadata": {
    "ExecuteTime": {
     "end_time": "2019-10-23T12:14:57.828487Z",
     "start_time": "2019-10-23T12:14:57.823484Z"
    }
   },
   "source": [
    "### Solution 1 动态规划\n",
    ">计算 dp[0] 和 dp[1]<br>\n",
    "如果 s[i]！=0 ，dp[i] += dp[i-1]<br>\n",
    "如果 s[i] 可以和 s[i-1] 组合合适数字， dp[i] += dp[i-2]\n",
    "\n",
    "Runtime: **16 ms**, faster than 92.02% of Python online submissions for Decode Ways.<br>\n",
    "Memory Usage: **12 MB**, less than 17.39% of Python online submissions for Decode Ways."
   ]
  },
  {
   "cell_type": "code",
   "execution_count": 67,
   "metadata": {
    "ExecuteTime": {
     "end_time": "2019-10-23T20:58:35.500399Z",
     "start_time": "2019-10-23T20:58:35.489381Z"
    }
   },
   "outputs": [],
   "source": [
    "class Solution(object):\n",
    "    def numDecodings(self, s):\n",
    "        \"\"\"\n",
    "        :type s: str\n",
    "        :rtype: int\n",
    "        author: Chong\n",
    "        \"\"\"\n",
    "        if s[0] == '0':\n",
    "            return 0\n",
    "        if len(s) == 1:\n",
    "            ans = 0 if s == '0' else 1\n",
    "            return ans\n",
    "        dp = [0]*len(s)\n",
    "        dp[0] = 1\n",
    "        if s[:2] in ['11', '12', '13', '14', '15', '16', '17', '18', '19', '21', '22', '23', '24', '25', '26']:\n",
    "            dp[1] = 2\n",
    "        elif s[0] > '2' and s[1] == '0':\n",
    "            return 0\n",
    "        else:\n",
    "            dp[1] = 1\n",
    "        for i in range(2, len(s)):\n",
    "            if s[i] > '0':\n",
    "                dp[i] += dp[i-1]\n",
    "            if s[i-1:i+1] in ['10', '11', '12', '13', '14', '15', '16', '17', '18', '19', '20', '21', '22', '23', '24', '25', '26']:\n",
    "                dp[i] += dp[i-2]\n",
    "            elif dp[i] == 0:\n",
    "                return 0\n",
    "        return dp[-1]"
   ]
  },
  {
   "cell_type": "markdown",
   "metadata": {},
   "source": [
    "### Solution 2 动态规划\n",
    ">优化\n",
    "\n",
    "Runtime: **8 ms**, faster than 99.74% of Python online submissions for Decode Ways.<br>\n",
    "Memory Usage: **11.8 MB**, less than 69.57% of Python online submissions for Decode Ways."
   ]
  },
  {
   "cell_type": "code",
   "execution_count": 76,
   "metadata": {
    "ExecuteTime": {
     "end_time": "2019-10-23T21:02:13.236175Z",
     "start_time": "2019-10-23T21:02:13.232081Z"
    }
   },
   "outputs": [],
   "source": [
    "class Solution(object):\n",
    "    def numDecodings(self, s):\n",
    "        if not s:\n",
    "            return 0\n",
    "\n",
    "        dp = [0 for x in range(len(s) + 1)]\n",
    "\n",
    "        # base case initialization\n",
    "        dp[0] = 1\n",
    "        dp[1] = 0 if s[0] == \"0\" else 1  # (1)\n",
    "\n",
    "        for i in range(2, len(s) + 1):\n",
    "            # One step jump\n",
    "            if 0 < int(s[i-1:i]) <= 9:  # (2)\n",
    "                dp[i] += dp[i - 1]\n",
    "            # Two step jump\n",
    "            if 10 <= int(s[i-2:i]) <= 26:  # (3)\n",
    "                dp[i] += dp[i - 2]\n",
    "        return dp[len(s)]"
   ]
  },
  {
   "cell_type": "code",
   "execution_count": 65,
   "metadata": {
    "ExecuteTime": {
     "end_time": "2019-10-23T20:58:32.736594Z",
     "start_time": "2019-10-23T20:58:32.731556Z"
    }
   },
   "outputs": [],
   "source": [
    "s=\"9371597631128776948387197132267188677349946742344217846154932859125134924241649584251978418763151253\""
   ]
  },
  {
   "cell_type": "code",
   "execution_count": 75,
   "metadata": {
    "ExecuteTime": {
     "end_time": "2019-10-23T21:00:57.767840Z",
     "start_time": "2019-10-23T21:00:57.762881Z"
    }
   },
   "outputs": [
    {
     "name": "stdout",
     "output_type": "stream",
     "text": [
      "[1, 1, 0, 0, 0, 0, 0]\n",
      "[1, 1, 1, 0, 0, 0, 0]\n",
      "[1, 1, 1, 0, 0, 0, 0]\n",
      "[1, 1, 1, 0, 0, 0, 0]\n",
      "[1, 1, 1, 0, 0, 0, 0]\n"
     ]
    },
    {
     "data": {
      "text/plain": [
       "0"
      ]
     },
     "execution_count": 75,
     "metadata": {},
     "output_type": "execute_result"
    }
   ],
   "source": [
    "s='200222'\n",
    "a=Solution()\n",
    "a.numDecodings(s)"
   ]
  },
  {
   "cell_type": "code",
   "execution_count": null,
   "metadata": {},
   "outputs": [],
   "source": []
  },
  {
   "cell_type": "code",
   "execution_count": null,
   "metadata": {},
   "outputs": [],
   "source": []
  }
 ],
 "metadata": {
  "kernelspec": {
   "display_name": "Python 3",
   "language": "python",
   "name": "python3"
  },
  "language_info": {
   "codemirror_mode": {
    "name": "ipython",
    "version": 3
   },
   "file_extension": ".py",
   "mimetype": "text/x-python",
   "name": "python",
   "nbconvert_exporter": "python",
   "pygments_lexer": "ipython3",
   "version": "3.6.5"
  },
  "varInspector": {
   "cols": {
    "lenName": 16,
    "lenType": 16,
    "lenVar": 40
   },
   "kernels_config": {
    "python": {
     "delete_cmd_postfix": "",
     "delete_cmd_prefix": "del ",
     "library": "var_list.py",
     "varRefreshCmd": "print(var_dic_list())"
    },
    "r": {
     "delete_cmd_postfix": ") ",
     "delete_cmd_prefix": "rm(",
     "library": "var_list.r",
     "varRefreshCmd": "cat(var_dic_list()) "
    }
   },
   "types_to_exclude": [
    "module",
    "function",
    "builtin_function_or_method",
    "instance",
    "_Feature"
   ],
   "window_display": false
  }
 },
 "nbformat": 4,
 "nbformat_minor": 2
}
