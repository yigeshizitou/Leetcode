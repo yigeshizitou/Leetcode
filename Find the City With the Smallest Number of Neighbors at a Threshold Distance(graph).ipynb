{
 "cells": [
  {
   "cell_type": "markdown",
   "metadata": {},
   "source": [
    "https://leetcode.com/problems/find-the-city-with-the-smallest-number-of-neighbors-at-a-threshold-distance/\n",
    "\n",
    "https://github.com/azl397985856/leetcode/blob/master/problems/1334.find-the-city-with-the-smallest-number-of-neighbors-at-a-threshold-distance.md\n",
    "\n",
    "There are n cities numbered from 0 to n-1. Given the array edges where edges[i] = [fromi, toi, weighti] represents a bidirectional and weighted edge between cities fromi and toi, and given the integer distanceThreshold.\n",
    "\n",
    "Return the city with the smallest number of cities that are reachable through some path and whose distance is at most distanceThreshold, If there are multiple such cities, return the city with the greatest number.\n",
    "\n",
    "Notice that the distance of a path connecting cities i and j is equal to the sum of the edges' weights along that path.\n",
    "\n",
    " \n",
    "\n",
    "Example 1:\n",
    "![avatar](https://assets.leetcode.com/uploads/2020/01/16/find_the_city_01.png)\n",
    "\n",
    "\n",
    "Input: n = 4, edges = [[0,1,3],[1,2,1],[1,3,4],[2,3,1]], distanceThreshold = 4<br>\n",
    "Output: 3<br>\n",
    "Explanation: The figure above describes the graph. <br>\n",
    "The neighboring cities at a distanceThreshold = 4 for each city are:<br>\n",
    "City 0 -> [City 1, City 2] <br>\n",
    "City 1 -> [City 0, City 2, City 3] <br>\n",
    "City 2 -> [City 0, City 1, City 3] <br>\n",
    "City 3 -> [City 1, City 2] <br>\n",
    "Cities 0 and 3 have 2 neighboring cities at a distanceThreshold = 4, but we have to return city 3 since it has the greatest number.<br>\n",
    "Example 2:\n",
    "![avatar](https://assets.leetcode.com/uploads/2020/01/16/find_the_city_02.png)\n",
    "\n",
    "\n",
    "Input: n = 5, edges = [[0,1,2],[0,4,8],[1,2,3],[1,4,2],[2,3,1],[3,4,1]], distanceThreshold = 2<br>\n",
    "Output: 0<br>\n",
    "Explanation: The figure above describes the graph. <br>\n",
    "The neighboring cities at a distanceThreshold = 2 for each city are:<br>\n",
    "City 0 -> [City 1] <br>\n",
    "City 1 -> [City 0, City 4] <br>\n",
    "City 2 -> [City 3, City 4] <br>\n",
    "City 3 -> [City 2, City 4]<br>\n",
    "City 4 -> [City 1, City 2, City 3] <br>\n",
    "The city 0 has 1 neighboring city at a distanceThreshold = 2.\n",
    " "
   ]
  },
  {
   "cell_type": "markdown",
   "metadata": {},
   "source": [
    "### Solution 1 graph\n",
    "> Floyd-Warshall algorithm\n",
    "\n",
    "Runtime: **700 ms**, faster than 69.31% of Python online submissions for Find the City With the Smallest Number of Neighbors at a Threshold Distance.<br>\n",
    "Memory Usage: **12.9 MB**, less than 100.00% of Python online submissions for Find the City With the Smallest Number of Neighbors at a Threshold Distance."
   ]
  },
  {
   "cell_type": "code",
   "execution_count": 47,
   "metadata": {},
   "outputs": [],
   "source": [
    "class Solution(object):\n",
    "    def findTheCity(self, n, edges, distanceThreshold):\n",
    "        \"\"\"\n",
    "        :type n: int\n",
    "        :type edges: List[List[int]]\n",
    "        :type distanceThreshold: int\n",
    "        :rtype: int\n",
    "        \"\"\"\n",
    "        dist = [[float('inf') for i in range(n)] for i in range(n)]\n",
    "        for i, j, k in edges:\n",
    "            dist[i][j] = k\n",
    "            dist[j][i] = k\n",
    "        for i in range(n):\n",
    "            dist[i][i] = 0\n",
    "        for k in range(n):\n",
    "            for i in range(n):\n",
    "                for j in range(n):\n",
    "                    dist[i][j] = min(dist[i][j], dist[i][k]+dist[k][j]) \n",
    "        min_count = float('inf')\n",
    "        ans = 0\n",
    "        for i in range(n):\n",
    "            count = 0\n",
    "            for d in dist[i]:\n",
    "                if d <= distanceThreshold:\n",
    "                    count += 1\n",
    "            if count <= min_count:\n",
    "                min_count, ans = count, i\n",
    "        return ans"
   ]
  },
  {
   "cell_type": "code",
   "execution_count": 48,
   "metadata": {},
   "outputs": [
    {
     "data": {
      "text/plain": [
       "0"
      ]
     },
     "execution_count": 48,
     "metadata": {},
     "output_type": "execute_result"
    }
   ],
   "source": [
    "a = Solution()\n",
    "n = 5\n",
    "edges = [[0,1,2],[0,4,8],[1,2,3],[1,4,2],[2,3,1],[3,4,1]]\n",
    "distanceThreshold = 2\n",
    "a.findTheCity(n, edges, distanceThreshold)"
   ]
  }
 ],
 "metadata": {
  "kernelspec": {
   "display_name": "Python 3",
   "language": "python",
   "name": "python3"
  },
  "language_info": {
   "codemirror_mode": {
    "name": "ipython",
    "version": 3
   },
   "file_extension": ".py",
   "mimetype": "text/x-python",
   "name": "python",
   "nbconvert_exporter": "python",
   "pygments_lexer": "ipython3",
   "version": "3.6.5"
  }
 },
 "nbformat": 4,
 "nbformat_minor": 2
}
