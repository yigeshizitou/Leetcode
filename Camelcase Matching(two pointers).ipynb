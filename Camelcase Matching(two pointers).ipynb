{
 "cells": [
  {
   "cell_type": "markdown",
   "metadata": {},
   "source": [
    "https://leetcode.com/problems/camelcase-matching/\n",
    "\n",
    "A query word matches a given pattern if we can insert lowercase letters to the pattern word so that it equals the query. (We may insert each character at any position, and may insert 0 characters.)\n",
    "\n",
    "Given a list of queries, and a pattern, return an answer list of booleans, where answer[i] is true if and only if queries[i] matches the pattern.\n",
    "\n",
    " \n",
    "\n",
    "Example 1:\n",
    "\n",
    "Input: queries = [\"FooBar\",\"FooBarTest\",\"FootBall\",\"FrameBuffer\",\"ForceFeedBack\"], pattern = \"FB\"<br>\n",
    "Output: [true,false,true,true,false]<br>\n",
    "Explanation: <br>\n",
    "\"FooBar\" can be generated like this \"F\" + \"oo\" + \"B\" + \"ar\".<br>\n",
    "\"FootBall\" can be generated like this \"F\" + \"oot\" + \"B\" + \"all\".<br>\n",
    "\"FrameBuffer\" can be generated like this \"F\" + \"rame\" + \"B\" + \"uffer\".<br>\n",
    "Example 2:\n",
    "\n",
    "Input: queries = [\"FooBar\",\"FooBarTest\",\"FootBall\",\"FrameBuffer\",\"ForceFeedBack\"], pattern = \"FoBa\"<br>\n",
    "Output: [true,false,true,false,false]<br>\n",
    "Explanation: <br>\n",
    "\"FooBar\" can be generated like this \"Fo\" + \"o\" + \"Ba\" + \"r\".<br>\n",
    "\"FootBall\" can be generated like this \"Fo\" + \"ot\" + \"Ba\" + \"ll\".<br>\n",
    "Example 3:\n",
    "\n",
    "Input: queries = [\"FooBar\",\"FooBarTest\",\"FootBall\",\"FrameBuffer\",\"ForceFeedBack\"], pattern = \"FoBaT\"<br>\n",
    "Output: [false,true,false,false,false]<br>\n",
    "Explanation: <br>\n",
    "\"FooBarTest\" can be generated like this \"Fo\" + \"o\" + \"Ba\" + \"r\" + \"T\" + \"est\"."
   ]
  },
  {
   "cell_type": "markdown",
   "metadata": {},
   "source": [
    "### Solution 1 two pointers\n",
    "> one pointer 'down' for query, the other 'up' for pattern.<br>\n",
    "\n",
    "Runtime: **12 ms**, faster than 90.91% of Python online submissions for Camelcase Matching.<br>\n",
    "Memory Usage: **11.9 MB**, less than 16.67% of Python online submissions for Camelcase Matching."
   ]
  },
  {
   "cell_type": "code",
   "execution_count": 25,
   "metadata": {},
   "outputs": [],
   "source": [
    "class Solution(object):\n",
    "    def camelMatch(self, queries, pattern):\n",
    "        \"\"\"\n",
    "        :type queries: List[str]\n",
    "        :type pattern: str\n",
    "        :rtype: List[bool]\n",
    "        author: Chong\n",
    "        \"\"\"\n",
    "        res = []\n",
    "        for query in queries:\n",
    "            up, down, ans = 0, 0, True\n",
    "            while down < len(query) and up < len(pattern):\n",
    "                if query[down] == pattern[up]:\n",
    "                    up += 1\n",
    "                elif query[down].isupper() and query[down] != pattern[up]:\n",
    "                    ans = False\n",
    "                    break\n",
    "                down += 1\n",
    "            if up < len(pattern) and ans:\n",
    "                ans = False\n",
    "            elif query[down:].lower() != query[down:] and ans:\n",
    "                ans = False\n",
    "            res.append(ans)\n",
    "        return res"
   ]
  },
  {
   "cell_type": "code",
   "execution_count": 29,
   "metadata": {},
   "outputs": [
    {
     "name": "stdout",
     "output_type": "stream",
     "text": [
      "query 2 4 True\n",
      "query 2 4 True\n",
      "query 2 5 True\n",
      "query 2 6 True\n",
      "query 1 5 False\n"
     ]
    },
    {
     "data": {
      "text/plain": [
       "[True, False, True, True, False]"
      ]
     },
     "execution_count": 29,
     "metadata": {},
     "output_type": "execute_result"
    }
   ],
   "source": [
    "a = Solution()\n",
    "queries = [\"FooBar\",\"FooBarTest\",\"FootBall\",\"FrameBuffer\",\"ForceFeedBack\"]\n",
    "pattern = \"FB\"\n",
    "a.camelMatch(queries, pattern)"
   ]
  }
 ],
 "metadata": {
  "kernelspec": {
   "display_name": "Python 3",
   "language": "python",
   "name": "python3"
  },
  "language_info": {
   "codemirror_mode": {
    "name": "ipython",
    "version": 3
   },
   "file_extension": ".py",
   "mimetype": "text/x-python",
   "name": "python",
   "nbconvert_exporter": "python",
   "pygments_lexer": "ipython3",
   "version": "3.6.5"
  }
 },
 "nbformat": 4,
 "nbformat_minor": 2
}
