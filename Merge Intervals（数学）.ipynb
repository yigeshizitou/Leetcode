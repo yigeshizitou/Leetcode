{
 "cells": [
  {
   "cell_type": "markdown",
   "metadata": {},
   "source": [
    "https://leetcode.com/problems/merge-intervals/description/\n",
    "\n",
    "https://github.com/azl397985856/leetcode/blob/master/problems/56.merge-intervals.md\n",
    "\n",
    "Given a collection of intervals, merge all overlapping intervals.\n",
    "\n",
    "Example 1:\n",
    "\n",
    "Input: [[1,3],[2,6],[8,10],[15,18]]<br>\n",
    "Output: [[1,6],[8,10],[15,18]]<br>\n",
    "Explanation: Since intervals [1,3] and [2,6] overlaps, merge them into [1,6].<br>\n",
    "Example 2:<br>\n",
    "\n",
    "Input: [[1,4],[4,5]]<br>\n",
    "Output: [[1,5]]<br>\n",
    "Explanation: Intervals [1,4] and [4,5] are considered overlapping.<br>\n",
    "NOTE: input types have been changed on April 15, 2019. Please reset to default code definition to get new method signature.<br>"
   ]
  },
  {
   "cell_type": "markdown",
   "metadata": {},
   "source": [
    "### Solution 1\n",
    ">先排序，后合并重合区域\n",
    "\n",
    "Runtime: **60 ms**, faster than 97.65% of Python online submissions for Merge Intervals.<br>\n",
    "Memory Usage: **14.1 MB**, less than 32.73% of Python online submissions for Merge Intervals."
   ]
  },
  {
   "cell_type": "code",
   "execution_count": 65,
   "metadata": {
    "ExecuteTime": {
     "end_time": "2019-10-14T08:48:47.953687Z",
     "start_time": "2019-10-14T08:48:47.945693Z"
    }
   },
   "outputs": [],
   "source": [
    "class Solution(object):\n",
    "    def merge(self, intervals):\n",
    "        \"\"\"\n",
    "        :type intervals: List[List[int]]\n",
    "        :rtype: List[List[int]]\n",
    "        author:chong\n",
    "        \"\"\"\n",
    "        if not intervals:\n",
    "            return intervals\n",
    "        intervals = sorted(intervals)\n",
    "        intervals.append([0, 0])\n",
    "\n",
    "        i = 0\n",
    "        tail = 0\n",
    "        ans = []\n",
    "        while i < len(intervals):\n",
    "            start = i\n",
    "            tail = max(tail, intervals[i][1])\n",
    "            while i < len(intervals)-1 and tail >= intervals[i+1][0]:\n",
    "                i += 1\n",
    "                tail = max(tail, intervals[i][1])\n",
    "            ans.append([intervals[start][0], max(tail, intervals[i][1])])\n",
    "            i += 1\n",
    "        return ans"
   ]
  },
  {
   "cell_type": "markdown",
   "metadata": {},
   "source": [
    "### Solution 2\n",
    ">先排序，后合并重合区域，改进\n",
    "\n",
    "Runtime: **60 ms**, faster than 97.65% of Python online submissions for Merge Intervals.<br>\n",
    "Memory Usage: **14 MB**, less than 83.64% of Python online submissions for Merge Intervals."
   ]
  },
  {
   "cell_type": "code",
   "execution_count": 68,
   "metadata": {
    "ExecuteTime": {
     "end_time": "2019-10-14T09:29:34.448886Z",
     "start_time": "2019-10-14T09:29:34.441680Z"
    }
   },
   "outputs": [],
   "source": [
    "class Solution(object):\n",
    "    def merge(self, intervals):\n",
    "        \"\"\"\n",
    "        :type intervals: List[List[int]]\n",
    "        :rtype: List[List[int]]\n",
    "        \"\"\"\n",
    "        if len(intervals) <= 1:\n",
    "            return intervals\n",
    "\n",
    "        intervals = sorted(intervals)\n",
    "\n",
    "        res = [intervals[0]]\n",
    "        for i in range(1, len(intervals)):\n",
    "            if intervals[i][0] <= res[-1][1]:\n",
    "                res[-1] = [res[-1][0], max(res[-1][1], intervals[i][1])]\n",
    "            else:\n",
    "                res.append(intervals[i])\n",
    "\n",
    "        return res"
   ]
  },
  {
   "cell_type": "code",
   "execution_count": 67,
   "metadata": {
    "ExecuteTime": {
     "end_time": "2019-10-14T08:49:11.590160Z",
     "start_time": "2019-10-14T08:49:11.583005Z"
    }
   },
   "outputs": [
    {
     "data": {
      "text/plain": [
       "[[0, 5]]"
      ]
     },
     "execution_count": 67,
     "metadata": {},
     "output_type": "execute_result"
    }
   ],
   "source": [
    "nums = [[1, 4], [0, 3], [1, 5]]\n",
    "a = Solution()\n",
    "a.merge(nums)"
   ]
  }
 ],
 "metadata": {
  "kernelspec": {
   "display_name": "Python 3",
   "language": "python",
   "name": "python3"
  },
  "language_info": {
   "codemirror_mode": {
    "name": "ipython",
    "version": 3
   },
   "file_extension": ".py",
   "mimetype": "text/x-python",
   "name": "python",
   "nbconvert_exporter": "python",
   "pygments_lexer": "ipython3",
   "version": "3.6.5"
  },
  "varInspector": {
   "cols": {
    "lenName": 16,
    "lenType": 16,
    "lenVar": 40
   },
   "kernels_config": {
    "python": {
     "delete_cmd_postfix": "",
     "delete_cmd_prefix": "del ",
     "library": "var_list.py",
     "varRefreshCmd": "print(var_dic_list())"
    },
    "r": {
     "delete_cmd_postfix": ") ",
     "delete_cmd_prefix": "rm(",
     "library": "var_list.r",
     "varRefreshCmd": "cat(var_dic_list()) "
    }
   },
   "types_to_exclude": [
    "module",
    "function",
    "builtin_function_or_method",
    "instance",
    "_Feature"
   ],
   "window_display": false
  }
 },
 "nbformat": 4,
 "nbformat_minor": 2
}
