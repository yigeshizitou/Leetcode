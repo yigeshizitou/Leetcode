{
 "cells": [
  {
   "cell_type": "markdown",
   "metadata": {},
   "source": [
    "https://leetcode.com/problems/super-egg-drop/\n",
    "\n",
    "You are given K eggs, and you have access to a building with N floors from 1 to N. \n",
    "\n",
    "Each egg is identical in function, and if an egg breaks, you cannot drop it again.\n",
    "\n",
    "You know that there exists a floor F with 0 <= F <= N such that any egg dropped at a floor higher than F will break, and any egg dropped at or below floor F will not break.\n",
    "\n",
    "Each move, you may take an egg (if you have an unbroken one) and drop it from any floor X (with 1 <= X <= N). \n",
    "\n",
    "Your goal is to know with certainty what the value of F is.\n",
    "\n",
    "What is the minimum number of moves that you need to know with certainty what F is, regardless of the initial value of F?\n",
    "\n",
    " \n",
    "\n",
    "Example 1:\n",
    "\n",
    "Input: K = 1, N = 2<br>\n",
    "Output: 2<br>\n",
    "Explanation: <br>\n",
    "Drop the egg from floor 1.  If it breaks, we know with certainty that F = 0.<br>\n",
    "Otherwise, drop the egg from floor 2.  If it breaks, we know with certainty that F = 1.<br>\n",
    "If it didn't break, then we know with certainty F = 2.<br>\n",
    "Hence, we needed 2 moves in the worst case to know what F is with certainty.<br>\n",
    "Example 2:\n",
    "\n",
    "Input: K = 2, N = 6<br>\n",
    "Output: 3<br>\n",
    "Example 3:\n",
    "\n",
    "Input: K = 3, N = 14<br>\n",
    "Output: 4"
   ]
  },
  {
   "cell_type": "markdown",
   "metadata": {},
   "source": [
    "### Solution 1 dynamic programming \n",
    "\n",
    "> dp[i][j] is the maximum floor we can explore with i moves and j eggs. <br>\n",
    "if the egg breaks, we have i-1 moves and j-1 eggs.<br>\n",
    "if not, we have i-1 moves and j eggs. <br>\n",
    "so dp[i][j] = dp[i-1][j-1] + dp[i-1][j] + 1\n",
    "\n",
    "Runtime: **36 ms**, faster than 80.43% of Python online submissions for Super Egg Drop.\n",
    "Memory Usage: **11.9 MB**, less than 100.00% of Python online submissions for Super Egg Drop."
   ]
  },
  {
   "cell_type": "code",
   "execution_count": 102,
   "metadata": {},
   "outputs": [],
   "source": [
    "class Solution(object):\n",
    "    def superEggDrop(self, K, N):\n",
    "        \"\"\"\n",
    "        :type K: int\n",
    "        :type N: int\n",
    "        :rtype: int\n",
    "        \"\"\"\n",
    "        M = 300\n",
    "        dp = [[0 for j in range(K+1)] for i in range(M+1)]\n",
    "        for i in range(1, M+1):\n",
    "            for j in range(1, K+1):\n",
    "                dp[i][j] = dp[i-1][j-1] + dp[i-1][j] + 1\n",
    "                if dp[i][j] >= N:\n",
    "                    return i"
   ]
  },
  {
   "cell_type": "code",
   "execution_count": 103,
   "metadata": {},
   "outputs": [
    {
     "data": {
      "text/plain": [
       "6"
      ]
     },
     "execution_count": 103,
     "metadata": {},
     "output_type": "execute_result"
    }
   ],
   "source": [
    "a = Solution()\n",
    "K = 3\n",
    "N = 40\n",
    "a.superEggDrop(K, N)"
   ]
  }
 ],
 "metadata": {
  "kernelspec": {
   "display_name": "Python 3",
   "language": "python",
   "name": "python3"
  },
  "language_info": {
   "codemirror_mode": {
    "name": "ipython",
    "version": 3
   },
   "file_extension": ".py",
   "mimetype": "text/x-python",
   "name": "python",
   "nbconvert_exporter": "python",
   "pygments_lexer": "ipython3",
   "version": "3.6.5"
  }
 },
 "nbformat": 4,
 "nbformat_minor": 2
}
