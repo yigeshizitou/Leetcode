{
 "cells": [
  {
   "cell_type": "markdown",
   "metadata": {},
   "source": [
    "https://leetcode.com/problems/kth-largest-element-in-an-array/\n",
    "\n",
    "Find the kth largest element in an unsorted array. Note that it is the kth largest element in the sorted order, not the kth distinct element.\n",
    "\n",
    "Example 1:\n",
    "\n",
    "Input: [3,2,1,5,6,4] and k = 2<br>\n",
    "Output: 5<br>\n",
    "Example 2:\n",
    "\n",
    "Input: [3,2,3,1,2,4,5,5,6] and k = 4<br>\n",
    "Output: 4<br>\n",
    "Note:<br>\n",
    "You may assume k is always valid, 1 ≤ k ≤ array's length."
   ]
  },
  {
   "cell_type": "markdown",
   "metadata": {},
   "source": [
    "### Solution 1\n",
    "> sort 函数\n",
    "\n",
    "Runtime: **48 ms**, faster than 89.32% of Python online submissions for Kth Largest Element in an Array.<br>\n",
    "Memory Usage: **12.3 MB**, less than 60.38% of Python online submissions for Kth Largest Element in an Array."
   ]
  },
  {
   "cell_type": "code",
   "execution_count": 1,
   "metadata": {
    "ExecuteTime": {
     "end_time": "2019-12-09T10:09:57.250878Z",
     "start_time": "2019-12-09T10:09:57.247364Z"
    }
   },
   "outputs": [],
   "source": [
    "class Solution(object):\n",
    "    def findKthLargest(self, nums, k):\n",
    "        \"\"\"\n",
    "        :type nums: List[int]\n",
    "        :type k: int\n",
    "        :rtype: int\n",
    "        author: Chong\n",
    "        \"\"\"\n",
    "        nums = sorted(nums)\n",
    "        return nums[::-1][k-1]"
   ]
  },
  {
   "cell_type": "markdown",
   "metadata": {},
   "source": [
    "### Solution 2\n",
    "> 把 nums 的前 k-1 个最大值删除后返回 nums 最大值\n",
    "\n",
    "Runtime: **600 ms**, faster than 19.59% of Python online submissions for Kth Largest Element in an Array.<br>\n",
    "Memory Usage: **12.3 MB**, less than 60.38% of Python online submissions for Kth Largest Element in an Array."
   ]
  },
  {
   "cell_type": "code",
   "execution_count": 2,
   "metadata": {
    "ExecuteTime": {
     "end_time": "2019-12-09T10:09:57.263880Z",
     "start_time": "2019-12-09T10:09:57.252363Z"
    }
   },
   "outputs": [],
   "source": [
    "class Solution(object):\n",
    "    def findKthLargest(self, nums, k):\n",
    "        \"\"\"\n",
    "        :type nums: List[int]\n",
    "        :type k: int\n",
    "        :rtype: int\n",
    "        author: Chong\n",
    "        \"\"\"\n",
    "        while k-1:\n",
    "            index = nums.index(max(nums))\n",
    "            nums.pop(index)\n",
    "            k -= 1\n",
    "        return max(nums)"
   ]
  },
  {
   "cell_type": "markdown",
   "metadata": {},
   "source": [
    "### Solution 3 快排\n",
    ">快速排序\n",
    "\n",
    "Runtime: **3016 ms**, faster than 5.00% of Python online submissions for Kth Largest Element in an Array.<br>\n",
    "Memory Usage: **17.3 MB**, less than 5.66% of Python online submissions for Kth Largest Element in an Array."
   ]
  },
  {
   "cell_type": "code",
   "execution_count": 3,
   "metadata": {
    "ExecuteTime": {
     "end_time": "2019-12-09T10:09:57.271880Z",
     "start_time": "2019-12-09T10:09:57.265876Z"
    }
   },
   "outputs": [],
   "source": [
    "class Solution(object):\n",
    "    def findKthLargest(self, nums, k):\n",
    "        \"\"\"\n",
    "        :type nums: List[int]\n",
    "        :type k: int\n",
    "        :rtype: int\n",
    "        author: Chong\n",
    "        \"\"\"\n",
    "\n",
    "        def quick_sort(nums, i, j):\n",
    "            if i >= j:\n",
    "                return\n",
    "            low, high = i, j\n",
    "            key = nums[low]\n",
    "            while i < j:\n",
    "                while i < j and nums[j] <= key:\n",
    "                    j -= 1\n",
    "                nums[i], nums[j] = nums[j], nums[i]\n",
    "                while i < j and nums[i] >= key:\n",
    "                    i += 1\n",
    "                nums[i], nums[j] = nums[j], nums[i]\n",
    "            quick_sort(nums, low, i)\n",
    "            quick_sort(nums, i+1, high)\n",
    "\n",
    "        quick_sort(nums, 0, len(nums)-1)\n",
    "        return nums[k-1]"
   ]
  },
  {
   "cell_type": "markdown",
   "metadata": {},
   "source": [
    "### Solution 4 堆\n",
    "\n",
    "> [堆](https://zhuanlan.zhihu.com/p/65520009)\n",
    "\n",
    "Runtime: **56 ms**, faster than 63.15% of Python online submissions for Kth Largest Element in an Array.<br>\n",
    "Memory Usage: **12.6 MB**, less than 30.19% of Python online submissions for Kth Largest Element in an Array."
   ]
  },
  {
   "cell_type": "code",
   "execution_count": 4,
   "metadata": {
    "ExecuteTime": {
     "end_time": "2019-12-09T10:09:57.276881Z",
     "start_time": "2019-12-09T10:09:57.272875Z"
    }
   },
   "outputs": [],
   "source": [
    "import heapq\n",
    "\n",
    "class Solution(object):\n",
    "    def findKthLargest(self, nums, k):\n",
    "        heapq.heapify(nums)\n",
    "        return heapq.nlargest(k, nums)[-1]"
   ]
  },
  {
   "cell_type": "code",
   "execution_count": 5,
   "metadata": {
    "ExecuteTime": {
     "end_time": "2019-12-09T10:09:57.290879Z",
     "start_time": "2019-12-09T10:09:57.278876Z"
    }
   },
   "outputs": [
    {
     "data": {
      "text/plain": [
       "5"
      ]
     },
     "execution_count": 5,
     "metadata": {},
     "output_type": "execute_result"
    }
   ],
   "source": [
    "a = Solution()\n",
    "nums = [3, 2, 1, 5, 6, 4]\n",
    "a.findKthLargest(nums, 2)"
   ]
  }
 ],
 "metadata": {
  "kernelspec": {
   "display_name": "Python 3",
   "language": "python",
   "name": "python3"
  },
  "language_info": {
   "codemirror_mode": {
    "name": "ipython",
    "version": 3
   },
   "file_extension": ".py",
   "mimetype": "text/x-python",
   "name": "python",
   "nbconvert_exporter": "python",
   "pygments_lexer": "ipython3",
   "version": "3.6.5"
  },
  "varInspector": {
   "cols": {
    "lenName": 16,
    "lenType": 16,
    "lenVar": 40
   },
   "kernels_config": {
    "python": {
     "delete_cmd_postfix": "",
     "delete_cmd_prefix": "del ",
     "library": "var_list.py",
     "varRefreshCmd": "print(var_dic_list())"
    },
    "r": {
     "delete_cmd_postfix": ") ",
     "delete_cmd_prefix": "rm(",
     "library": "var_list.r",
     "varRefreshCmd": "cat(var_dic_list()) "
    }
   },
   "types_to_exclude": [
    "module",
    "function",
    "builtin_function_or_method",
    "instance",
    "_Feature"
   ],
   "window_display": false
  }
 },
 "nbformat": 4,
 "nbformat_minor": 2
}
