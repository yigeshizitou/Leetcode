{
 "cells": [
  {
   "cell_type": "markdown",
   "metadata": {},
   "source": [
    "https://leetcode.com/problems/remove-nth-node-from-end-of-list/\n",
    "\n",
    "https://github.com/azl397985856/leetcode/blob/master/problems/19.removeNthNodeFromEndofList.md\n",
    "\n",
    "Given a linked list, remove the n-th node from the end of list and return its head.\n",
    "\n",
    "Example:\n",
    "\n",
    "Given linked list: 1->2->3->4->5, and n = 2.\n",
    "\n",
    "After removing the second node from the end, the linked list becomes 1->2->3->5.<br>\n",
    "Note:\n",
    "\n",
    "Given n will always be valid."
   ]
  },
  {
   "cell_type": "markdown",
   "metadata": {},
   "source": [
    "### Solution 1\n",
    ">双指针start, end<br>\n",
    "end 右移动到和start相距n<br>\n",
    "start 移动到 end.next=None\n",
    "\n",
    "\n",
    "Runtime: **20 ms**, faster than 63.46% of Python online submissions for Remove Nth Node From End of List.<br>\n",
    "Memory Usage: **11.8 MB**, less than 38.78% of Python online submissions for Remove Nth Node From End of List."
   ]
  },
  {
   "cell_type": "code",
   "execution_count": 1,
   "metadata": {
    "ExecuteTime": {
     "end_time": "2019-09-27T14:53:00.175859Z",
     "start_time": "2019-09-27T14:53:00.172562Z"
    }
   },
   "outputs": [],
   "source": [
    "def removeNthFromEnd(self, head, n):\n",
    "    \"\"\"\n",
    "    :type head: ListNode\n",
    "    :type n: int\n",
    "    :rtype: ListNode\n",
    "    author: Chong\n",
    "    \"\"\"\n",
    "    p = q = head\n",
    "    for i in range(n):\n",
    "        q = q.next\n",
    "    if q is None:\n",
    "        return p.next\n",
    "    while q.next:\n",
    "        p = p.next\n",
    "        q = q.next\n",
    "    p.next = p.next.next\n",
    "    return head"
   ]
  },
  {
   "cell_type": "markdown",
   "metadata": {},
   "source": [
    "### Solution 2\n",
    ">双指针改进\n",
    "\n",
    "Runtime: **12 ms**, faster than 96.31% of Python online submissions for Remove Nth Node From End of List.<br>\n",
    "Memory Usage: **11.7 MB**, less than 59.18% of Python online submissions for Remove Nth Node From End of List."
   ]
  },
  {
   "cell_type": "code",
   "execution_count": 2,
   "metadata": {
    "ExecuteTime": {
     "end_time": "2019-09-27T14:58:41.027345Z",
     "start_time": "2019-09-27T14:58:41.023345Z"
    }
   },
   "outputs": [],
   "source": [
    "def removeNthFromEnd(self, head, n):\n",
    "    \"\"\"\n",
    "    :type head: ListNode\n",
    "    :type n: int\n",
    "    :rtype: ListNode\n",
    "    \"\"\"\n",
    "    fast = slow = head\n",
    "    for _ in range(n):\n",
    "        fast = fast.next\n",
    "    if not fast:\n",
    "        return head.next\n",
    "    while fast.next:\n",
    "        fast = fast.next\n",
    "        slow = slow.next\n",
    "    slow.next = slow.next.next\n",
    "    return head"
   ]
  },
  {
   "cell_type": "code",
   "execution_count": null,
   "metadata": {},
   "outputs": [],
   "source": []
  }
 ],
 "metadata": {
  "kernelspec": {
   "display_name": "Python 3",
   "language": "python",
   "name": "python3"
  },
  "language_info": {
   "codemirror_mode": {
    "name": "ipython",
    "version": 3
   },
   "file_extension": ".py",
   "mimetype": "text/x-python",
   "name": "python",
   "nbconvert_exporter": "python",
   "pygments_lexer": "ipython3",
   "version": "3.6.5"
  },
  "varInspector": {
   "cols": {
    "lenName": 16,
    "lenType": 16,
    "lenVar": 40
   },
   "kernels_config": {
    "python": {
     "delete_cmd_postfix": "",
     "delete_cmd_prefix": "del ",
     "library": "var_list.py",
     "varRefreshCmd": "print(var_dic_list())"
    },
    "r": {
     "delete_cmd_postfix": ") ",
     "delete_cmd_prefix": "rm(",
     "library": "var_list.r",
     "varRefreshCmd": "cat(var_dic_list()) "
    }
   },
   "types_to_exclude": [
    "module",
    "function",
    "builtin_function_or_method",
    "instance",
    "_Feature"
   ],
   "window_display": false
  }
 },
 "nbformat": 4,
 "nbformat_minor": 2
}
