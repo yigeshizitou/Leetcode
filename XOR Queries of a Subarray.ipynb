{
 "cells": [
  {
   "cell_type": "markdown",
   "metadata": {},
   "source": [
    "https://leetcode.com/problems/xor-queries-of-a-subarray/\n",
    "\n",
    "https://github.com/azl397985856/leetcode/blob/master/problems/1310.xor-queries-of-a-subarray.md\n",
    "\n",
    "Given the array arr of positive integers and the array queries where queries[i] = [Li, Ri], for each query i compute the XOR of elements from Li to Ri (that is, arr[Li] xor arr[Li+1] xor ... xor arr[Ri] ). Return an array containing the result for the given queries.\n",
    " \n",
    "\n",
    "Example 1:\n",
    "\n",
    "Input: arr = [1,3,4,8], queries = [[0,1],[1,2],[0,3],[3,3]]<br>\n",
    "Output: [2,7,14,8] <br>\n",
    "Explanation: <br>\n",
    "The binary representation of the elements in the array are:<br>\n",
    "1 = 0001 <br>\n",
    "3 = 0011 <br>\n",
    "4 = 0100 <br>\n",
    "8 = 1000 <br>\n",
    "The XOR values for queries are:<br>\n",
    "[0,1] = 1 xor 3 = 2 <br>\n",
    "[1,2] = 3 xor 4 = 7 <br>\n",
    "[0,3] = 1 xor 3 xor 4 xor 8 = 14 <br>\n",
    "[3,3] = 8<br>\n",
    "Example 2:\n",
    "\n",
    "Input: arr = [4,8,2,10], queries = [[2,3],[1,3],[0,0],[0,3]]<br>\n",
    "Output: [8,0,4,4]"
   ]
  },
  {
   "cell_type": "markdown",
   "metadata": {},
   "source": [
    "### Solution 1\n",
    ">比较常见的是前缀和，这个概念其实很容易理解，即一个数组中，第 n 位存储的是数组前 n 个数字的和。<br>\n",
    "对 [1,2,3,4,5,6] 来说，其前缀和可以是 pre=[1,3,6,10,15,21]。我们可以使用公式 pre[𝑖]=pre[𝑖−1]+nums[𝑖]得到每一位前缀和的值，从而通过前缀和进行相应的计算和解题。其实前缀和的概念很简单，但困难的是如何在题目中使用前缀和以及如何使用前缀和的关系来进行解题。<br>\n",
    "这道题是前缀对前缀异或，我们利用了异或的性质 x ^ y ^ x = y。\n",
    "\n",
    "Runtime: **356 ms**, faster than 80.35% of Python online submissions for XOR Queries of a Subarray.<br>\n",
    "Memory Usage: **26.4 MB**, less than 100.00% of Python online submissions for XOR Queries of a Subarray."
   ]
  },
  {
   "cell_type": "code",
   "execution_count": 25,
   "metadata": {},
   "outputs": [],
   "source": [
    "class Solution(object):\n",
    "    def xorQueries(self, arr, queries):\n",
    "        \"\"\"\n",
    "        :type arr: List[int]\n",
    "        :type queries: List[List[int]]\n",
    "        :rtype: List[int]\n",
    "        \"\"\"\n",
    "        pre = [0]\n",
    "        res = []\n",
    "        for i in range(len(arr)):\n",
    "            pre.append(pre[i] ^ arr[i])\n",
    "        for (L, R) in queries:\n",
    "            res.append(pre[L] ^ pre[R + 1])\n",
    "        return res"
   ]
  },
  {
   "cell_type": "code",
   "execution_count": 26,
   "metadata": {},
   "outputs": [
    {
     "data": {
      "text/plain": [
       "[2, 7, 14, 8]"
      ]
     },
     "execution_count": 26,
     "metadata": {},
     "output_type": "execute_result"
    }
   ],
   "source": [
    "a = Solution()\n",
    "arr = [1,3,4,8]\n",
    "queries = [[0,1],[1,2],[0,3],[3,3]]\n",
    "a.xorQueries(arr, queries)"
   ]
  },
  {
   "cell_type": "code",
   "execution_count": null,
   "metadata": {},
   "outputs": [],
   "source": []
  }
 ],
 "metadata": {
  "kernelspec": {
   "display_name": "Python 3",
   "language": "python",
   "name": "python3"
  },
  "language_info": {
   "codemirror_mode": {
    "name": "ipython",
    "version": 3
   },
   "file_extension": ".py",
   "mimetype": "text/x-python",
   "name": "python",
   "nbconvert_exporter": "python",
   "pygments_lexer": "ipython3",
   "version": "3.6.5"
  }
 },
 "nbformat": 4,
 "nbformat_minor": 2
}
